{
 "cells": [
  {
   "cell_type": "markdown",
   "metadata": {},
   "source": [
    "# Author advantage and swaps (test data)"
   ]
  },
  {
   "cell_type": "markdown",
   "metadata": {
    "tags": []
   },
   "source": [
    "## Import packages"
   ]
  },
  {
   "cell_type": "code",
   "execution_count": 1,
   "metadata": {
    "tags": []
   },
   "outputs": [],
   "source": [
    "import pandas as pd\n",
    "import math\n",
    "\n",
    "import numpy as np\n",
    "\n",
    "import seaborn as sns\n",
    "import matplotlib.pyplot as plt\n",
    "\n",
    "from elasticsearch import Elasticsearch\n",
    "\n",
    "import warnings\n",
    "import matplotlib\n",
    "warnings.filterwarnings(\"ignore\",category=matplotlib.cbook.mplDeprecation)\n",
    "warnings.filterwarnings(\"ignore\")\n",
    "\n",
    "from enum import IntEnum\n",
    "\n",
    "import json\n"
   ]
  },
  {
   "cell_type": "markdown",
   "metadata": {
    "tags": []
   },
   "source": [
    "## Set filepaths"
   ]
  },
  {
   "cell_type": "code",
   "execution_count": 2,
   "metadata": {
    "tags": []
   },
   "outputs": [],
   "source": [
    "ranking = '../evaluation/resources/2020/jsonruns/p_controller_train_nle_meta_9_1_train.json'\n",
    "eval_result_hlevel = '../evaluation/resources/2020/eval_results/p_controller_train_nle_meta_9_1_train_hlevel.tsv'\n",
    "eval_result_level = '../evaluation/resources/2020/eval_results/p_controller_train_nle_meta_9_1_train_level.tsv'\n",
    "gt = '../pre_processing/resources/training/2020/TREC-Fair-Ranking-training-sample.json'\n",
    "est_rel_meta_p = '../reranking/resources/relevances/Training_rel_scores_model_A.csv'\n",
    "annotations = '../pre_pre_processing/resources/merged-annotations.json'\n",
    "mapping = '../reranking/resources/mappings/training_doc_to_author.json'"
   ]
  },
  {
   "cell_type": "markdown",
   "metadata": {
    "tags": []
   },
   "source": [
    "## Prepare dataframes"
   ]
  },
  {
   "cell_type": "code",
   "execution_count": 190,
   "metadata": {
    "tags": []
   },
   "outputs": [],
   "source": [
    "# ranking df\n",
    "rdf = pd.read_json(ranking, lines=True)\n",
    "\n",
    "# ground truth df\n",
    "gtdf = pd.read_json(gt, lines=True).explode('documents')\n",
    "gtdf['doc_id'] = gtdf.documents.apply(lambda row: row.get('doc_id'))\n",
    "gtdf['doc_rel'] = gtdf.documents.apply(lambda row: row.get('relevance'))\n",
    "\n",
    "# paired down relevances df\n",
    "reldf = gtdf[['qid','query','doc_id','doc_rel']]\n",
    "\n",
    "# eval result dfs\n",
    "ehldf = pd.read_csv(eval_result_hlevel, sep='\\t', names=['key', 'qid', 'value'])\n",
    "ehldf = ehldf.pivot(index='qid', columns='key', values='value')\n",
    "\n",
    "eldf = pd.read_csv(eval_result_level, sep='\\t', names=['key', 'qid', 'value'])\n",
    "eldf = eldf.pivot(index='qid', columns='key', values='value')\n",
    "\n",
    "\n",
    "# est rel df\n",
    "est_rel_meta = pd.read_csv(est_rel_meta_p)\n",
    "est_rel_meta.head()\n",
    "\n",
    "# annotations\n",
    "adf = pd.read_json(annotations,lines=True)\n",
    "adf = adf.explode('authors')\n",
    "adf[['name','wiki','country','type','valid','auth_id', 'h_index','level','region']] = adf.authors.apply(pd.Series).rename({'id':'auth_id'},axis=1)\n",
    "\n",
    "# doc to author and reverse mapping\n",
    "with open(mapping) as fp:\n",
    "    doc_to_author = json.load(fp)\n",
    "alldocs = rdf.explode('ranking')['ranking'].drop_duplicates().to_list()\n",
    "for doc in alldocs:\n",
    "    if not doc in doc_to_author:\n",
    "        doc_to_author[doc] = []\n",
    "    \n",
    "author_to_doc = {}\n",
    "for doc, aulist in doc_to_author.items():\n",
    "    for au in aulist:\n",
    "        if not au in author_to_doc:\n",
    "            author_to_doc[au] = []\n",
    "        author_to_doc[au] = author_to_doc[au] + [doc]"
   ]
  },
  {
   "cell_type": "code",
   "execution_count": 4,
   "metadata": {},
   "outputs": [
    {
     "data": {
      "text/plain": [
       "['1402911985', '82779085', '96547788']"
      ]
     },
     "execution_count": 4,
     "metadata": {},
     "output_type": "execute_result"
    }
   ],
   "source": [
    "doc_to_author['2423ea8cf66765d79363988086bf0f6066a13872']"
   ]
  },
  {
   "cell_type": "code",
   "execution_count": 5,
   "metadata": {},
   "outputs": [
    {
     "data": {
      "text/plain": [
       "['2423ea8cf66765d79363988086bf0f6066a13872']"
      ]
     },
     "execution_count": 5,
     "metadata": {},
     "output_type": "execute_result"
    }
   ],
   "source": [
    "author_to_doc['82779085']"
   ]
  },
  {
   "cell_type": "code",
   "execution_count": 6,
   "metadata": {},
   "outputs": [
    {
     "data": {
      "text/html": [
       "<div>\n",
       "<style scoped>\n",
       "    .dataframe tbody tr th:only-of-type {\n",
       "        vertical-align: middle;\n",
       "    }\n",
       "\n",
       "    .dataframe tbody tr th {\n",
       "        vertical-align: top;\n",
       "    }\n",
       "\n",
       "    .dataframe thead th {\n",
       "        text-align: right;\n",
       "    }\n",
       "</style>\n",
       "<table border=\"1\" class=\"dataframe\">\n",
       "  <thead>\n",
       "    <tr style=\"text-align: right;\">\n",
       "      <th></th>\n",
       "      <th>q_num</th>\n",
       "      <th>qid</th>\n",
       "      <th>ranking</th>\n",
       "    </tr>\n",
       "  </thead>\n",
       "  <tbody>\n",
       "    <tr>\n",
       "      <th>0</th>\n",
       "      <td>0.0</td>\n",
       "      <td>5438</td>\n",
       "      <td>[b2fdee22aa02477292b858fbafcb418932732bce, 993...</td>\n",
       "    </tr>\n",
       "    <tr>\n",
       "      <th>1</th>\n",
       "      <td>0.1</td>\n",
       "      <td>5438</td>\n",
       "      <td>[70f3a58b0fc6916c2e6616bfbae5758c00408894, ec1...</td>\n",
       "    </tr>\n",
       "  </tbody>\n",
       "</table>\n",
       "</div>"
      ],
      "text/plain": [
       "   q_num   qid                                            ranking\n",
       "0    0.0  5438  [b2fdee22aa02477292b858fbafcb418932732bce, 993...\n",
       "1    0.1  5438  [70f3a58b0fc6916c2e6616bfbae5758c00408894, ec1..."
      ]
     },
     "execution_count": 6,
     "metadata": {},
     "output_type": "execute_result"
    }
   ],
   "source": [
    "rdf.head(2)"
   ]
  },
  {
   "cell_type": "code",
   "execution_count": 7,
   "metadata": {},
   "outputs": [
    {
     "data": {
      "text/html": [
       "<div>\n",
       "<style scoped>\n",
       "    .dataframe tbody tr th:only-of-type {\n",
       "        vertical-align: middle;\n",
       "    }\n",
       "\n",
       "    .dataframe tbody tr th {\n",
       "        vertical-align: top;\n",
       "    }\n",
       "\n",
       "    .dataframe thead th {\n",
       "        text-align: right;\n",
       "    }\n",
       "</style>\n",
       "<table border=\"1\" class=\"dataframe\">\n",
       "  <thead>\n",
       "    <tr style=\"text-align: right;\">\n",
       "      <th></th>\n",
       "      <th>qid</th>\n",
       "      <th>query</th>\n",
       "      <th>frequency</th>\n",
       "      <th>documents</th>\n",
       "      <th>doc_id</th>\n",
       "      <th>doc_rel</th>\n",
       "    </tr>\n",
       "  </thead>\n",
       "  <tbody>\n",
       "    <tr>\n",
       "      <th>0</th>\n",
       "      <td>5438</td>\n",
       "      <td>cloud computing</td>\n",
       "      <td>0.000057</td>\n",
       "      <td>{'doc_id': '3e19046c665867bbe557685da60738a407...</td>\n",
       "      <td>3e19046c665867bbe557685da60738a40738010a</td>\n",
       "      <td>0</td>\n",
       "    </tr>\n",
       "    <tr>\n",
       "      <th>0</th>\n",
       "      <td>5438</td>\n",
       "      <td>cloud computing</td>\n",
       "      <td>0.000057</td>\n",
       "      <td>{'doc_id': '7ef08f1fa127af817cdfd9d3bd00bdf60e...</td>\n",
       "      <td>7ef08f1fa127af817cdfd9d3bd00bdf60e32143b</td>\n",
       "      <td>0</td>\n",
       "    </tr>\n",
       "  </tbody>\n",
       "</table>\n",
       "</div>"
      ],
      "text/plain": [
       "    qid            query  frequency  \\\n",
       "0  5438  cloud computing   0.000057   \n",
       "0  5438  cloud computing   0.000057   \n",
       "\n",
       "                                           documents  \\\n",
       "0  {'doc_id': '3e19046c665867bbe557685da60738a407...   \n",
       "0  {'doc_id': '7ef08f1fa127af817cdfd9d3bd00bdf60e...   \n",
       "\n",
       "                                     doc_id  doc_rel  \n",
       "0  3e19046c665867bbe557685da60738a40738010a        0  \n",
       "0  7ef08f1fa127af817cdfd9d3bd00bdf60e32143b        0  "
      ]
     },
     "execution_count": 7,
     "metadata": {},
     "output_type": "execute_result"
    }
   ],
   "source": [
    "gtdf.head(2)"
   ]
  },
  {
   "cell_type": "code",
   "execution_count": 8,
   "metadata": {},
   "outputs": [
    {
     "data": {
      "text/html": [
       "<div>\n",
       "<style scoped>\n",
       "    .dataframe tbody tr th:only-of-type {\n",
       "        vertical-align: middle;\n",
       "    }\n",
       "\n",
       "    .dataframe tbody tr th {\n",
       "        vertical-align: top;\n",
       "    }\n",
       "\n",
       "    .dataframe thead th {\n",
       "        text-align: right;\n",
       "    }\n",
       "</style>\n",
       "<table border=\"1\" class=\"dataframe\">\n",
       "  <thead>\n",
       "    <tr style=\"text-align: right;\">\n",
       "      <th></th>\n",
       "      <th>qid</th>\n",
       "      <th>query</th>\n",
       "      <th>doc_id</th>\n",
       "      <th>doc_rel</th>\n",
       "    </tr>\n",
       "  </thead>\n",
       "  <tbody>\n",
       "    <tr>\n",
       "      <th>0</th>\n",
       "      <td>5438</td>\n",
       "      <td>cloud computing</td>\n",
       "      <td>3e19046c665867bbe557685da60738a40738010a</td>\n",
       "      <td>0</td>\n",
       "    </tr>\n",
       "    <tr>\n",
       "      <th>0</th>\n",
       "      <td>5438</td>\n",
       "      <td>cloud computing</td>\n",
       "      <td>7ef08f1fa127af817cdfd9d3bd00bdf60e32143b</td>\n",
       "      <td>0</td>\n",
       "    </tr>\n",
       "  </tbody>\n",
       "</table>\n",
       "</div>"
      ],
      "text/plain": [
       "    qid            query                                    doc_id  doc_rel\n",
       "0  5438  cloud computing  3e19046c665867bbe557685da60738a40738010a        0\n",
       "0  5438  cloud computing  7ef08f1fa127af817cdfd9d3bd00bdf60e32143b        0"
      ]
     },
     "execution_count": 8,
     "metadata": {},
     "output_type": "execute_result"
    }
   ],
   "source": [
    "reldf.head(2)"
   ]
  },
  {
   "cell_type": "code",
   "execution_count": 9,
   "metadata": {},
   "outputs": [
    {
     "data": {
      "text/html": [
       "<div>\n",
       "<style scoped>\n",
       "    .dataframe tbody tr th:only-of-type {\n",
       "        vertical-align: middle;\n",
       "    }\n",
       "\n",
       "    .dataframe tbody tr th {\n",
       "        vertical-align: top;\n",
       "    }\n",
       "\n",
       "    .dataframe thead th {\n",
       "        text-align: right;\n",
       "    }\n",
       "</style>\n",
       "<table border=\"1\" class=\"dataframe\">\n",
       "  <thead>\n",
       "    <tr style=\"text-align: right;\">\n",
       "      <th>key</th>\n",
       "      <th>difference</th>\n",
       "      <th>disparity</th>\n",
       "      <th>relevance</th>\n",
       "    </tr>\n",
       "    <tr>\n",
       "      <th>qid</th>\n",
       "      <th></th>\n",
       "      <th></th>\n",
       "      <th></th>\n",
       "    </tr>\n",
       "  </thead>\n",
       "  <tbody>\n",
       "    <tr>\n",
       "      <th>69</th>\n",
       "      <td>0.146308</td>\n",
       "      <td>2.820826</td>\n",
       "      <td>2.254359</td>\n",
       "    </tr>\n",
       "    <tr>\n",
       "      <th>258</th>\n",
       "      <td>0.549351</td>\n",
       "      <td>1.043557</td>\n",
       "      <td>0.679082</td>\n",
       "    </tr>\n",
       "  </tbody>\n",
       "</table>\n",
       "</div>"
      ],
      "text/plain": [
       "key  difference  disparity  relevance\n",
       "qid                                  \n",
       "69     0.146308   2.820826   2.254359\n",
       "258    0.549351   1.043557   0.679082"
      ]
     },
     "execution_count": 9,
     "metadata": {},
     "output_type": "execute_result"
    }
   ],
   "source": [
    "ehldf.head(2)"
   ]
  },
  {
   "cell_type": "code",
   "execution_count": 10,
   "metadata": {},
   "outputs": [
    {
     "data": {
      "text/html": [
       "<div>\n",
       "<style scoped>\n",
       "    .dataframe tbody tr th:only-of-type {\n",
       "        vertical-align: middle;\n",
       "    }\n",
       "\n",
       "    .dataframe tbody tr th {\n",
       "        vertical-align: top;\n",
       "    }\n",
       "\n",
       "    .dataframe thead th {\n",
       "        text-align: right;\n",
       "    }\n",
       "</style>\n",
       "<table border=\"1\" class=\"dataframe\">\n",
       "  <thead>\n",
       "    <tr style=\"text-align: right;\">\n",
       "      <th>key</th>\n",
       "      <th>difference</th>\n",
       "      <th>disparity</th>\n",
       "      <th>relevance</th>\n",
       "    </tr>\n",
       "    <tr>\n",
       "      <th>qid</th>\n",
       "      <th></th>\n",
       "      <th></th>\n",
       "      <th></th>\n",
       "    </tr>\n",
       "  </thead>\n",
       "  <tbody>\n",
       "    <tr>\n",
       "      <th>69</th>\n",
       "      <td>0.211649</td>\n",
       "      <td>3.322678</td>\n",
       "      <td>2.491326</td>\n",
       "    </tr>\n",
       "    <tr>\n",
       "      <th>258</th>\n",
       "      <td>0.479589</td>\n",
       "      <td>2.230424</td>\n",
       "      <td>1.349051</td>\n",
       "    </tr>\n",
       "  </tbody>\n",
       "</table>\n",
       "</div>"
      ],
      "text/plain": [
       "key  difference  disparity  relevance\n",
       "qid                                  \n",
       "69     0.211649   3.322678   2.491326\n",
       "258    0.479589   2.230424   1.349051"
      ]
     },
     "execution_count": 10,
     "metadata": {},
     "output_type": "execute_result"
    }
   ],
   "source": [
    "eldf.head(2)"
   ]
  },
  {
   "cell_type": "code",
   "execution_count": 11,
   "metadata": {},
   "outputs": [
    {
     "data": {
      "text/html": [
       "<div>\n",
       "<style scoped>\n",
       "    .dataframe tbody tr th:only-of-type {\n",
       "        vertical-align: middle;\n",
       "    }\n",
       "\n",
       "    .dataframe tbody tr th {\n",
       "        vertical-align: top;\n",
       "    }\n",
       "\n",
       "    .dataframe thead th {\n",
       "        text-align: right;\n",
       "    }\n",
       "</style>\n",
       "<table border=\"1\" class=\"dataframe\">\n",
       "  <thead>\n",
       "    <tr style=\"text-align: right;\">\n",
       "      <th></th>\n",
       "      <th>id</th>\n",
       "      <th>missing_authors</th>\n",
       "      <th>authors</th>\n",
       "      <th>name</th>\n",
       "      <th>wiki</th>\n",
       "      <th>country</th>\n",
       "      <th>type</th>\n",
       "      <th>valid</th>\n",
       "      <th>auth_id</th>\n",
       "      <th>h_index</th>\n",
       "      <th>level</th>\n",
       "      <th>region</th>\n",
       "    </tr>\n",
       "  </thead>\n",
       "  <tbody>\n",
       "    <tr>\n",
       "      <th>0</th>\n",
       "      <td>f3b7db81ee8642cf2deab7a9834e07b8df54185b</td>\n",
       "      <td>False</td>\n",
       "      <td>{'name': 'David M. Szymanski', 'wiki': 'Texas ...</td>\n",
       "      <td>David M. Szymanski</td>\n",
       "      <td>Texas A&amp;M University</td>\n",
       "      <td>US</td>\n",
       "      <td>academic</td>\n",
       "      <td>True</td>\n",
       "      <td>50215565.0</td>\n",
       "      <td>9.0</td>\n",
       "      <td>Advanced</td>\n",
       "      <td>Americas</td>\n",
       "    </tr>\n",
       "    <tr>\n",
       "      <th>0</th>\n",
       "      <td>f3b7db81ee8642cf2deab7a9834e07b8df54185b</td>\n",
       "      <td>False</td>\n",
       "      <td>{'name': 'David H. Henard', 'wiki': 'North Car...</td>\n",
       "      <td>David H. Henard</td>\n",
       "      <td>North Carolina State University</td>\n",
       "      <td>US</td>\n",
       "      <td>academic</td>\n",
       "      <td>True</td>\n",
       "      <td>115002169.0</td>\n",
       "      <td>8.0</td>\n",
       "      <td>Advanced</td>\n",
       "      <td>Americas</td>\n",
       "    </tr>\n",
       "  </tbody>\n",
       "</table>\n",
       "</div>"
      ],
      "text/plain": [
       "                                         id  missing_authors  \\\n",
       "0  f3b7db81ee8642cf2deab7a9834e07b8df54185b            False   \n",
       "0  f3b7db81ee8642cf2deab7a9834e07b8df54185b            False   \n",
       "\n",
       "                                             authors                name  \\\n",
       "0  {'name': 'David M. Szymanski', 'wiki': 'Texas ...  David M. Szymanski   \n",
       "0  {'name': 'David H. Henard', 'wiki': 'North Car...     David H. Henard   \n",
       "\n",
       "                              wiki country      type  valid      auth_id  \\\n",
       "0             Texas A&M University      US  academic   True   50215565.0   \n",
       "0  North Carolina State University      US  academic   True  115002169.0   \n",
       "\n",
       "   h_index     level    region  \n",
       "0      9.0  Advanced  Americas  \n",
       "0      8.0  Advanced  Americas  "
      ]
     },
     "execution_count": 11,
     "metadata": {},
     "output_type": "execute_result"
    }
   ],
   "source": [
    "adf.head(2)"
   ]
  },
  {
   "cell_type": "markdown",
   "metadata": {},
   "source": [
    "We order the queries from lowest to highest DGEE according to each grouping. Then we plot the \"difficulty rank\" of each query according to the \"hlevel\" grouping against its difficulty according to the \"level\" grouping. This allows us to see if the DGEE for both groupings is generally in accordance or not."
   ]
  },
  {
   "cell_type": "code",
   "execution_count": 24,
   "metadata": {},
   "outputs": [
    {
     "data": {
      "text/html": [
       "<div>\n",
       "<style scoped>\n",
       "    .dataframe tbody tr th:only-of-type {\n",
       "        vertical-align: middle;\n",
       "    }\n",
       "\n",
       "    .dataframe tbody tr th {\n",
       "        vertical-align: top;\n",
       "    }\n",
       "\n",
       "    .dataframe thead th {\n",
       "        text-align: right;\n",
       "    }\n",
       "</style>\n",
       "<table border=\"1\" class=\"dataframe\">\n",
       "  <thead>\n",
       "    <tr style=\"text-align: right;\">\n",
       "      <th>key</th>\n",
       "      <th>difficulty hlevel</th>\n",
       "      <th>qid</th>\n",
       "      <th>difference_x</th>\n",
       "      <th>disparity_x</th>\n",
       "      <th>relevance_x</th>\n",
       "      <th>difficulty econ level</th>\n",
       "      <th>difference_y</th>\n",
       "      <th>disparity_y</th>\n",
       "      <th>relevance_y</th>\n",
       "    </tr>\n",
       "  </thead>\n",
       "  <tbody>\n",
       "    <tr>\n",
       "      <th>0</th>\n",
       "      <td>0</td>\n",
       "      <td>132049</td>\n",
       "      <td>0.002713</td>\n",
       "      <td>1.421254</td>\n",
       "      <td>1.403715</td>\n",
       "      <td>0</td>\n",
       "      <td>0.002713</td>\n",
       "      <td>1.421254</td>\n",
       "      <td>1.403715</td>\n",
       "    </tr>\n",
       "    <tr>\n",
       "      <th>1</th>\n",
       "      <td>1</td>\n",
       "      <td>71096</td>\n",
       "      <td>0.029287</td>\n",
       "      <td>1.975807</td>\n",
       "      <td>1.862498</td>\n",
       "      <td>1</td>\n",
       "      <td>0.026328</td>\n",
       "      <td>1.972820</td>\n",
       "      <td>1.862484</td>\n",
       "    </tr>\n",
       "    <tr>\n",
       "      <th>2</th>\n",
       "      <td>2</td>\n",
       "      <td>21984</td>\n",
       "      <td>0.032334</td>\n",
       "      <td>1.367385</td>\n",
       "      <td>1.271935</td>\n",
       "      <td>6</td>\n",
       "      <td>0.071535</td>\n",
       "      <td>1.515766</td>\n",
       "      <td>1.326630</td>\n",
       "    </tr>\n",
       "    <tr>\n",
       "      <th>3</th>\n",
       "      <td>3</td>\n",
       "      <td>15395</td>\n",
       "      <td>0.040510</td>\n",
       "      <td>2.053024</td>\n",
       "      <td>1.890567</td>\n",
       "      <td>2</td>\n",
       "      <td>0.026948</td>\n",
       "      <td>2.035232</td>\n",
       "      <td>1.888323</td>\n",
       "    </tr>\n",
       "    <tr>\n",
       "      <th>4</th>\n",
       "      <td>4</td>\n",
       "      <td>52728</td>\n",
       "      <td>0.057478</td>\n",
       "      <td>1.047360</td>\n",
       "      <td>0.839632</td>\n",
       "      <td>13</td>\n",
       "      <td>0.098930</td>\n",
       "      <td>1.011948</td>\n",
       "      <td>0.728643</td>\n",
       "    </tr>\n",
       "  </tbody>\n",
       "</table>\n",
       "</div>"
      ],
      "text/plain": [
       "key  difficulty hlevel     qid  difference_x  disparity_x  relevance_x  \\\n",
       "0                    0  132049      0.002713     1.421254     1.403715   \n",
       "1                    1   71096      0.029287     1.975807     1.862498   \n",
       "2                    2   21984      0.032334     1.367385     1.271935   \n",
       "3                    3   15395      0.040510     2.053024     1.890567   \n",
       "4                    4   52728      0.057478     1.047360     0.839632   \n",
       "\n",
       "key  difficulty econ level  difference_y  disparity_y  relevance_y  \n",
       "0                        0      0.002713     1.421254     1.403715  \n",
       "1                        1      0.026328     1.972820     1.862484  \n",
       "2                        6      0.071535     1.515766     1.326630  \n",
       "3                        2      0.026948     2.035232     1.888323  \n",
       "4                       13      0.098930     1.011948     0.728643  "
      ]
     },
     "execution_count": 24,
     "metadata": {},
     "output_type": "execute_result"
    }
   ],
   "source": [
    "edf_m = pd.merge(ehldf.sort_values(by='difference').reset_index().reset_index(),eldf.sort_values(by='difference').reset_index().reset_index(),on='qid')\n",
    "edf_m = edf_m.rename({'index_x':'difficulty hlevel', 'index_y':'difficulty econ level'},axis=1)\n",
    "edf_m.head()"
   ]
  },
  {
   "cell_type": "code",
   "execution_count": 25,
   "metadata": {},
   "outputs": [
    {
     "data": {
      "text/plain": [
       "Text(0.5, 0.98, 'Difficulty for H-index grouping versus econ level grouping')"
      ]
     },
     "execution_count": 25,
     "metadata": {},
     "output_type": "execute_result"
    },
    {
     "data": {
      "image/png": "[encoded data removed]",
      "text/plain": [
       "<Figure size 1296x864 with 1 Axes>"
      ]
     },
     "metadata": {
      "needs_background": "light"
     },
     "output_type": "display_data"
    }
   ],
   "source": [
    "fig, ax = plt.subplots(1,1,figsize=(18,12))\n",
    "\n",
    "sns.scatterplot(data=edf_m, x='difficulty hlevel', y='difficulty econ level',ax=ax)\n",
    "fig.suptitle('Difficulty for H-index grouping versus econ level grouping')"
   ]
  },
  {
   "cell_type": "markdown",
   "metadata": {},
   "source": [
    "We see a clear upward trend in the plot above. This tells us that in general, the DGEE according to the two groupings is similar. We would not expect great differences in the analysis results for different groupings."
   ]
  },
  {
   "cell_type": "code",
   "execution_count": 26,
   "metadata": {},
   "outputs": [
    {
     "data": {
      "text/html": [
       "<div>\n",
       "<style scoped>\n",
       "    .dataframe tbody tr th:only-of-type {\n",
       "        vertical-align: middle;\n",
       "    }\n",
       "\n",
       "    .dataframe tbody tr th {\n",
       "        vertical-align: top;\n",
       "    }\n",
       "\n",
       "    .dataframe thead th {\n",
       "        text-align: right;\n",
       "    }\n",
       "</style>\n",
       "<table border=\"1\" class=\"dataframe\">\n",
       "  <thead>\n",
       "    <tr style=\"text-align: right;\">\n",
       "      <th>key</th>\n",
       "      <th>qid</th>\n",
       "      <th>difference</th>\n",
       "      <th>disparity</th>\n",
       "      <th>relevance</th>\n",
       "    </tr>\n",
       "  </thead>\n",
       "  <tbody>\n",
       "    <tr>\n",
       "      <th>0</th>\n",
       "      <td>132049</td>\n",
       "      <td>0.002713</td>\n",
       "      <td>1.421254</td>\n",
       "      <td>1.403715</td>\n",
       "    </tr>\n",
       "    <tr>\n",
       "      <th>1</th>\n",
       "      <td>71096</td>\n",
       "      <td>0.027807</td>\n",
       "      <td>1.974314</td>\n",
       "      <td>1.862491</td>\n",
       "    </tr>\n",
       "    <tr>\n",
       "      <th>3</th>\n",
       "      <td>15395</td>\n",
       "      <td>0.033729</td>\n",
       "      <td>2.044128</td>\n",
       "      <td>1.889445</td>\n",
       "    </tr>\n",
       "    <tr>\n",
       "      <th>2</th>\n",
       "      <td>21984</td>\n",
       "      <td>0.051934</td>\n",
       "      <td>1.441575</td>\n",
       "      <td>1.299282</td>\n",
       "    </tr>\n",
       "    <tr>\n",
       "      <th>4</th>\n",
       "      <td>52728</td>\n",
       "      <td>0.078204</td>\n",
       "      <td>1.029654</td>\n",
       "      <td>0.784137</td>\n",
       "    </tr>\n",
       "  </tbody>\n",
       "</table>\n",
       "</div>"
      ],
      "text/plain": [
       "key     qid  difference  disparity  relevance\n",
       "0    132049    0.002713   1.421254   1.403715\n",
       "1     71096    0.027807   1.974314   1.862491\n",
       "3     15395    0.033729   2.044128   1.889445\n",
       "2     21984    0.051934   1.441575   1.299282\n",
       "4     52728    0.078204   1.029654   0.784137"
      ]
     },
     "execution_count": 26,
     "metadata": {},
     "output_type": "execute_result"
    }
   ],
   "source": [
    "edf = edf_m.copy()\n",
    "edf['difference'] = edf.apply(lambda row: (row.difference_x + row.difference_y)/2, axis=1)\n",
    "edf['disparity'] = edf.apply(lambda row: (row.disparity_x + row.disparity_y)/2, axis=1)\n",
    "edf['relevance'] = edf.apply(lambda row: (row.relevance_x + row.relevance_y)/2, axis=1)\n",
    "\n",
    "edf = edf.sort_values(by='difference')[['qid','difference', 'disparity', 'relevance']]\n",
    "edf.head()"
   ]
  }
 ],
 "metadata": {
  "kernelspec": {
   "display_name": "Python 3 (ipykernel)",
   "language": "python",
   "name": "python3"
  },
  "language_info": {
   "codemirror_mode": {
    "name": "ipython",
    "version": 3
   },
   "file_extension": ".py",
   "mimetype": "text/x-python",
   "name": "python",
   "nbconvert_exporter": "python",
   "pygments_lexer": "ipython3",
   "version": "3.7.12"
  }
 },
 "nbformat": 4,
 "nbformat_minor": 4
}
