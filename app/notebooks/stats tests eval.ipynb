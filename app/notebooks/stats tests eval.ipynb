{
 "cells": [
  {
   "cell_type": "markdown",
   "id": "f4039d64-b6e6-4d13-80e9-f7b88fec0345",
   "metadata": {},
   "source": [
    "# Statistical analysis eval runs"
   ]
  },
  {
   "cell_type": "markdown",
   "id": "a0a745d0-4bdf-4788-841f-42469caa4f8c",
   "metadata": {},
   "source": [
    "## Setup"
   ]
  },
  {
   "cell_type": "code",
   "execution_count": 1,
   "id": "d5ad3767",
   "metadata": {},
   "outputs": [],
   "source": [
    "%matplotlib inline"
   ]
  },
  {
   "cell_type": "code",
   "execution_count": 2,
   "id": "e68f75ad",
   "metadata": {},
   "outputs": [],
   "source": [
    "import pandas as pd\n",
    "pd.set_option(\"display.width\", 100)\n",
    "import matplotlib.pyplot as plt\n",
    "from statsmodels.formula.api import ols\n",
    "from statsmodels.graphics.api import interaction_plot, abline_plot\n",
    "from statsmodels.stats.anova import anova_lm\n",
    "import seaborn as sns\n",
    "\n",
    "from scipy import stats\n",
    "import math\n",
    "\n",
    "from collections import Counter\n",
    "\n",
    "pd.set_option('precision', 5)\n",
    "pd.set_option('display.float_format', lambda x: '%.5f' % x)\n",
    "\n",
    "\n"
   ]
  },
  {
   "cell_type": "markdown",
   "id": "95b52fd2-bd64-4523-90fe-14b98cade80c",
   "metadata": {},
   "source": [
    "### Load files"
   ]
  },
  {
   "cell_type": "code",
   "execution_count": 3,
   "id": "89313794",
   "metadata": {},
   "outputs": [
    {
     "data": {
      "text/html": [
       "<div>\n",
       "<style scoped>\n",
       "    .dataframe tbody tr th:only-of-type {\n",
       "        vertical-align: middle;\n",
       "    }\n",
       "\n",
       "    .dataframe tbody tr th {\n",
       "        vertical-align: top;\n",
       "    }\n",
       "\n",
       "    .dataframe thead th {\n",
       "        text-align: right;\n",
       "    }\n",
       "</style>\n",
       "<table border=\"1\" class=\"dataframe\">\n",
       "  <thead>\n",
       "    <tr style=\"text-align: right;\">\n",
       "      <th></th>\n",
       "      <th>difference</th>\n",
       "      <th>disparity</th>\n",
       "      <th>relevance</th>\n",
       "      <th>difference_ind</th>\n",
       "      <th>disparity_ind</th>\n",
       "      <th>relevance_ind</th>\n",
       "      <th>qid</th>\n",
       "      <th>source</th>\n",
       "      <th>system</th>\n",
       "    </tr>\n",
       "  </thead>\n",
       "  <tbody>\n",
       "    <tr>\n",
       "      <th>0</th>\n",
       "      <td>0.35200</td>\n",
       "      <td>2.93676</td>\n",
       "      <td>1.94984</td>\n",
       "      <td>1.11692</td>\n",
       "      <td>0.98604</td>\n",
       "      <td>0.00293</td>\n",
       "      <td>95</td>\n",
       "      <td>ac_controller_default_meta_9_eval_old_config</td>\n",
       "      <td>META+AC_auth_ignore</td>\n",
       "    </tr>\n",
       "    <tr>\n",
       "      <th>1</th>\n",
       "      <td>0.99169</td>\n",
       "      <td>1.73147</td>\n",
       "      <td>1.25625</td>\n",
       "      <td>0.37762</td>\n",
       "      <td>0.12248</td>\n",
       "      <td>0.09292</td>\n",
       "      <td>612</td>\n",
       "      <td>ac_controller_default_meta_9_eval_old_config</td>\n",
       "      <td>META+AC_auth_ignore</td>\n",
       "    </tr>\n",
       "    <tr>\n",
       "      <th>2</th>\n",
       "      <td>3.70055</td>\n",
       "      <td>2.63171</td>\n",
       "      <td>0.25572</td>\n",
       "      <td>0.93072</td>\n",
       "      <td>0.21487</td>\n",
       "      <td>0.03291</td>\n",
       "      <td>657</td>\n",
       "      <td>ac_controller_default_meta_9_eval_old_config</td>\n",
       "      <td>META+AC_auth_ignore</td>\n",
       "    </tr>\n",
       "    <tr>\n",
       "      <th>3</th>\n",
       "      <td>0.29945</td>\n",
       "      <td>1.98737</td>\n",
       "      <td>1.31715</td>\n",
       "      <td>0.67458</td>\n",
       "      <td>0.17690</td>\n",
       "      <td>0.14219</td>\n",
       "      <td>771</td>\n",
       "      <td>ac_controller_default_meta_9_eval_old_config</td>\n",
       "      <td>META+AC_auth_ignore</td>\n",
       "    </tr>\n",
       "    <tr>\n",
       "      <th>4</th>\n",
       "      <td>0.71517</td>\n",
       "      <td>1.65668</td>\n",
       "      <td>1.35692</td>\n",
       "      <td>0.57742</td>\n",
       "      <td>0.34905</td>\n",
       "      <td>0.17297</td>\n",
       "      <td>822</td>\n",
       "      <td>ac_controller_default_meta_9_eval_old_config</td>\n",
       "      <td>META+AC_auth_ignore</td>\n",
       "    </tr>\n",
       "    <tr>\n",
       "      <th>...</th>\n",
       "      <td>...</td>\n",
       "      <td>...</td>\n",
       "      <td>...</td>\n",
       "      <td>...</td>\n",
       "      <td>...</td>\n",
       "      <td>...</td>\n",
       "      <td>...</td>\n",
       "      <td>...</td>\n",
       "      <td>...</td>\n",
       "    </tr>\n",
       "    <tr>\n",
       "      <th>1795</th>\n",
       "      <td>0.05434</td>\n",
       "      <td>1.86368</td>\n",
       "      <td>1.61798</td>\n",
       "      <td>0.88898</td>\n",
       "      <td>1.06764</td>\n",
       "      <td>0.18810</td>\n",
       "      <td>119231</td>\n",
       "      <td>relevance_ranker_eval_TEXT_eval</td>\n",
       "      <td>TEXT</td>\n",
       "    </tr>\n",
       "    <tr>\n",
       "      <th>1796</th>\n",
       "      <td>0.01025</td>\n",
       "      <td>2.05438</td>\n",
       "      <td>1.91161</td>\n",
       "      <td>0.59300</td>\n",
       "      <td>1.08332</td>\n",
       "      <td>0.63665</td>\n",
       "      <td>123512</td>\n",
       "      <td>relevance_ranker_eval_TEXT_eval</td>\n",
       "      <td>TEXT</td>\n",
       "    </tr>\n",
       "    <tr>\n",
       "      <th>1797</th>\n",
       "      <td>0.28198</td>\n",
       "      <td>1.23715</td>\n",
       "      <td>0.85092</td>\n",
       "      <td>0.98350</td>\n",
       "      <td>1.08307</td>\n",
       "      <td>0.13868</td>\n",
       "      <td>126740</td>\n",
       "      <td>relevance_ranker_eval_TEXT_eval</td>\n",
       "      <td>TEXT</td>\n",
       "    </tr>\n",
       "    <tr>\n",
       "      <th>1798</th>\n",
       "      <td>0.03991</td>\n",
       "      <td>1.18031</td>\n",
       "      <td>1.05937</td>\n",
       "      <td>0.54097</td>\n",
       "      <td>1.06769</td>\n",
       "      <td>0.55050</td>\n",
       "      <td>128050</td>\n",
       "      <td>relevance_ranker_eval_TEXT_eval</td>\n",
       "      <td>TEXT</td>\n",
       "    </tr>\n",
       "    <tr>\n",
       "      <th>1799</th>\n",
       "      <td>0.23805</td>\n",
       "      <td>2.47062</td>\n",
       "      <td>2.00797</td>\n",
       "      <td>2.07788</td>\n",
       "      <td>1.33327</td>\n",
       "      <td>0.01860</td>\n",
       "      <td>128604</td>\n",
       "      <td>relevance_ranker_eval_TEXT_eval</td>\n",
       "      <td>TEXT</td>\n",
       "    </tr>\n",
       "  </tbody>\n",
       "</table>\n",
       "<p>1800 rows × 9 columns</p>\n",
       "</div>"
      ],
      "text/plain": [
       "      difference  disparity  relevance  difference_ind  disparity_ind  relevance_ind     qid  \\\n",
       "0        0.35200    2.93676    1.94984         1.11692        0.98604        0.00293      95   \n",
       "1        0.99169    1.73147    1.25625         0.37762        0.12248        0.09292     612   \n",
       "2        3.70055    2.63171    0.25572         0.93072        0.21487        0.03291     657   \n",
       "3        0.29945    1.98737    1.31715         0.67458        0.17690        0.14219     771   \n",
       "4        0.71517    1.65668    1.35692         0.57742        0.34905        0.17297     822   \n",
       "...          ...        ...        ...             ...            ...            ...     ...   \n",
       "1795     0.05434    1.86368    1.61798         0.88898        1.06764        0.18810  119231   \n",
       "1796     0.01025    2.05438    1.91161         0.59300        1.08332        0.63665  123512   \n",
       "1797     0.28198    1.23715    0.85092         0.98350        1.08307        0.13868  126740   \n",
       "1798     0.03991    1.18031    1.05937         0.54097        1.06769        0.55050  128050   \n",
       "1799     0.23805    2.47062    2.00797         2.07788        1.33327        0.01860  128604   \n",
       "\n",
       "                                            source               system  \n",
       "0     ac_controller_default_meta_9_eval_old_config  META+AC_auth_ignore  \n",
       "1     ac_controller_default_meta_9_eval_old_config  META+AC_auth_ignore  \n",
       "2     ac_controller_default_meta_9_eval_old_config  META+AC_auth_ignore  \n",
       "3     ac_controller_default_meta_9_eval_old_config  META+AC_auth_ignore  \n",
       "4     ac_controller_default_meta_9_eval_old_config  META+AC_auth_ignore  \n",
       "...                                            ...                  ...  \n",
       "1795               relevance_ranker_eval_TEXT_eval                 TEXT  \n",
       "1796               relevance_ranker_eval_TEXT_eval                 TEXT  \n",
       "1797               relevance_ranker_eval_TEXT_eval                 TEXT  \n",
       "1798               relevance_ranker_eval_TEXT_eval                 TEXT  \n",
       "1799               relevance_ranker_eval_TEXT_eval                 TEXT  \n",
       "\n",
       "[1800 rows x 9 columns]"
      ]
     },
     "execution_count": 3,
     "metadata": {},
     "output_type": "execute_result"
    }
   ],
   "source": [
    "experiments = pd.read_csv('../evaluation/resources/2020/all_experiments_eval.csv')\n",
    "experiments.source = experiments.source.apply(lambda row: row.replace('_TREC-Fair-Ranking-eval-sample-full-annotations-DocLevel-mixed_group-qrels_EEL',''))\n",
    "experiments"
   ]
  },
  {
   "cell_type": "code",
   "execution_count": 4,
   "id": "d7435411-b0bc-40ce-8bef-a8cd696f15c5",
   "metadata": {},
   "outputs": [
    {
     "data": {
      "text/html": [
       "<div>\n",
       "<style scoped>\n",
       "    .dataframe tbody tr th:only-of-type {\n",
       "        vertical-align: middle;\n",
       "    }\n",
       "\n",
       "    .dataframe tbody tr th {\n",
       "        vertical-align: top;\n",
       "    }\n",
       "\n",
       "    .dataframe thead th {\n",
       "        text-align: right;\n",
       "    }\n",
       "</style>\n",
       "<table border=\"1\" class=\"dataframe\">\n",
       "  <thead>\n",
       "    <tr style=\"text-align: right;\">\n",
       "      <th></th>\n",
       "      <th>difference</th>\n",
       "      <th>disparity</th>\n",
       "      <th>relevance</th>\n",
       "      <th>difference_ind</th>\n",
       "      <th>disparity_ind</th>\n",
       "      <th>relevance_ind</th>\n",
       "      <th>qid</th>\n",
       "      <th>source</th>\n",
       "      <th>system</th>\n",
       "    </tr>\n",
       "  </thead>\n",
       "  <tbody>\n",
       "    <tr>\n",
       "      <th>0</th>\n",
       "      <td>1.51007</td>\n",
       "      <td>1.34901</td>\n",
       "      <td>0.57693</td>\n",
       "      <td>1.37280</td>\n",
       "      <td>1.25664</td>\n",
       "      <td>0.01030</td>\n",
       "      <td>95</td>\n",
       "      <td>trec_run.Deltr-gammas</td>\n",
       "      <td>TREC mean</td>\n",
       "    </tr>\n",
       "    <tr>\n",
       "      <th>1</th>\n",
       "      <td>0.07098</td>\n",
       "      <td>1.98317</td>\n",
       "      <td>1.84246</td>\n",
       "      <td>0.93773</td>\n",
       "      <td>0.96372</td>\n",
       "      <td>0.23349</td>\n",
       "      <td>612</td>\n",
       "      <td>trec_run.Deltr-gammas</td>\n",
       "      <td>TREC mean</td>\n",
       "    </tr>\n",
       "    <tr>\n",
       "      <th>2</th>\n",
       "      <td>3.05426</td>\n",
       "      <td>1.75627</td>\n",
       "      <td>0.14114</td>\n",
       "      <td>2.07657</td>\n",
       "      <td>1.31770</td>\n",
       "      <td>0.01139</td>\n",
       "      <td>657</td>\n",
       "      <td>trec_run.Deltr-gammas</td>\n",
       "      <td>TREC mean</td>\n",
       "    </tr>\n",
       "    <tr>\n",
       "      <th>3</th>\n",
       "      <td>0.66066</td>\n",
       "      <td>2.41739</td>\n",
       "      <td>1.35155</td>\n",
       "      <td>2.08090</td>\n",
       "      <td>1.33319</td>\n",
       "      <td>0.01718</td>\n",
       "      <td>771</td>\n",
       "      <td>trec_run.Deltr-gammas</td>\n",
       "      <td>TREC mean</td>\n",
       "    </tr>\n",
       "    <tr>\n",
       "      <th>4</th>\n",
       "      <td>0.01574</td>\n",
       "      <td>2.10948</td>\n",
       "      <td>1.93304</td>\n",
       "      <td>0.63216</td>\n",
       "      <td>0.93686</td>\n",
       "      <td>0.43951</td>\n",
       "      <td>822</td>\n",
       "      <td>trec_run.Deltr-gammas</td>\n",
       "      <td>TREC mean</td>\n",
       "    </tr>\n",
       "    <tr>\n",
       "      <th>...</th>\n",
       "      <td>...</td>\n",
       "      <td>...</td>\n",
       "      <td>...</td>\n",
       "      <td>...</td>\n",
       "      <td>...</td>\n",
       "      <td>...</td>\n",
       "      <td>...</td>\n",
       "      <td>...</td>\n",
       "      <td>...</td>\n",
       "    </tr>\n",
       "    <tr>\n",
       "      <th>4595</th>\n",
       "      <td>0.26294</td>\n",
       "      <td>2.81128</td>\n",
       "      <td>1.98748</td>\n",
       "      <td>1.27396</td>\n",
       "      <td>1.26686</td>\n",
       "      <td>0.09522</td>\n",
       "      <td>119231</td>\n",
       "      <td>trec_run.UW_Kr_r60g20c20</td>\n",
       "      <td>TREC mean</td>\n",
       "    </tr>\n",
       "    <tr>\n",
       "      <th>4596</th>\n",
       "      <td>0.25114</td>\n",
       "      <td>3.36546</td>\n",
       "      <td>2.44670</td>\n",
       "      <td>1.72420</td>\n",
       "      <td>1.31765</td>\n",
       "      <td>0.18821</td>\n",
       "      <td>123512</td>\n",
       "      <td>trec_run.UW_Kr_r60g20c20</td>\n",
       "      <td>TREC mean</td>\n",
       "    </tr>\n",
       "    <tr>\n",
       "      <th>4597</th>\n",
       "      <td>0.98612</td>\n",
       "      <td>1.65765</td>\n",
       "      <td>0.70910</td>\n",
       "      <td>0.94758</td>\n",
       "      <td>1.07918</td>\n",
       "      <td>0.15469</td>\n",
       "      <td>126740</td>\n",
       "      <td>trec_run.UW_Kr_r60g20c20</td>\n",
       "      <td>TREC mean</td>\n",
       "    </tr>\n",
       "    <tr>\n",
       "      <th>4598</th>\n",
       "      <td>0.61913</td>\n",
       "      <td>1.11836</td>\n",
       "      <td>0.73879</td>\n",
       "      <td>0.54767</td>\n",
       "      <td>1.06771</td>\n",
       "      <td>0.54716</td>\n",
       "      <td>128050</td>\n",
       "      <td>trec_run.UW_Kr_r60g20c20</td>\n",
       "      <td>TREC mean</td>\n",
       "    </tr>\n",
       "    <tr>\n",
       "      <th>4599</th>\n",
       "      <td>1.14843</td>\n",
       "      <td>2.00346</td>\n",
       "      <td>1.31920</td>\n",
       "      <td>2.09698</td>\n",
       "      <td>1.33333</td>\n",
       "      <td>0.00908</td>\n",
       "      <td>128604</td>\n",
       "      <td>trec_run.UW_Kr_r60g20c20</td>\n",
       "      <td>TREC mean</td>\n",
       "    </tr>\n",
       "  </tbody>\n",
       "</table>\n",
       "<p>4600 rows × 9 columns</p>\n",
       "</div>"
      ],
      "text/plain": [
       "      difference  disparity  relevance  difference_ind  disparity_ind  relevance_ind     qid  \\\n",
       "0        1.51007    1.34901    0.57693         1.37280        1.25664        0.01030      95   \n",
       "1        0.07098    1.98317    1.84246         0.93773        0.96372        0.23349     612   \n",
       "2        3.05426    1.75627    0.14114         2.07657        1.31770        0.01139     657   \n",
       "3        0.66066    2.41739    1.35155         2.08090        1.33319        0.01718     771   \n",
       "4        0.01574    2.10948    1.93304         0.63216        0.93686        0.43951     822   \n",
       "...          ...        ...        ...             ...            ...            ...     ...   \n",
       "4595     0.26294    2.81128    1.98748         1.27396        1.26686        0.09522  119231   \n",
       "4596     0.25114    3.36546    2.44670         1.72420        1.31765        0.18821  123512   \n",
       "4597     0.98612    1.65765    0.70910         0.94758        1.07918        0.15469  126740   \n",
       "4598     0.61913    1.11836    0.73879         0.54767        1.06771        0.54716  128050   \n",
       "4599     1.14843    2.00346    1.31920         2.09698        1.33333        0.00908  128604   \n",
       "\n",
       "                        source     system  \n",
       "0        trec_run.Deltr-gammas  TREC mean  \n",
       "1        trec_run.Deltr-gammas  TREC mean  \n",
       "2        trec_run.Deltr-gammas  TREC mean  \n",
       "3        trec_run.Deltr-gammas  TREC mean  \n",
       "4        trec_run.Deltr-gammas  TREC mean  \n",
       "...                        ...        ...  \n",
       "4595  trec_run.UW_Kr_r60g20c20  TREC mean  \n",
       "4596  trec_run.UW_Kr_r60g20c20  TREC mean  \n",
       "4597  trec_run.UW_Kr_r60g20c20  TREC mean  \n",
       "4598  trec_run.UW_Kr_r60g20c20  TREC mean  \n",
       "4599  trec_run.UW_Kr_r60g20c20  TREC mean  \n",
       "\n",
       "[4600 rows x 9 columns]"
      ]
     },
     "execution_count": 4,
     "metadata": {},
     "output_type": "execute_result"
    }
   ],
   "source": [
    "trec_runs = pd.read_csv('../evaluation/resources/2020/all_experiments_eval_tr.csv')\n",
    "trec_runs.source = trec_runs.source.apply(lambda row: row.replace('_TREC-Fair-Ranking-eval-sample-full-annotations-DocLevel-mixed_group-qrels_EEL',''))\n",
    "trec_runs['system'] = 'TREC mean'\n",
    "trec_runs"
   ]
  },
  {
   "cell_type": "code",
   "execution_count": 5,
   "id": "b70d6e9f-e38a-4126-a931-e16a1d635913",
   "metadata": {},
   "outputs": [
    {
     "data": {
      "text/html": [
       "<div>\n",
       "<style scoped>\n",
       "    .dataframe tbody tr th:only-of-type {\n",
       "        vertical-align: middle;\n",
       "    }\n",
       "\n",
       "    .dataframe tbody tr th {\n",
       "        vertical-align: top;\n",
       "    }\n",
       "\n",
       "    .dataframe thead th {\n",
       "        text-align: right;\n",
       "    }\n",
       "</style>\n",
       "<table border=\"1\" class=\"dataframe\">\n",
       "  <thead>\n",
       "    <tr style=\"text-align: right;\">\n",
       "      <th></th>\n",
       "      <th>qid</th>\n",
       "      <th>difference</th>\n",
       "      <th>disparity</th>\n",
       "      <th>relevance</th>\n",
       "      <th>difference_ind</th>\n",
       "      <th>disparity_ind</th>\n",
       "      <th>relevance_ind</th>\n",
       "      <th>system</th>\n",
       "    </tr>\n",
       "  </thead>\n",
       "  <tbody>\n",
       "    <tr>\n",
       "      <th>0</th>\n",
       "      <td>95</td>\n",
       "      <td>0.60857</td>\n",
       "      <td>2.74279</td>\n",
       "      <td>1.72457</td>\n",
       "      <td>1.06185</td>\n",
       "      <td>0.93675</td>\n",
       "      <td>0.00582</td>\n",
       "      <td>TREC mean</td>\n",
       "    </tr>\n",
       "    <tr>\n",
       "      <th>1</th>\n",
       "      <td>612</td>\n",
       "      <td>1.01391</td>\n",
       "      <td>2.43918</td>\n",
       "      <td>1.59900</td>\n",
       "      <td>1.22390</td>\n",
       "      <td>0.91528</td>\n",
       "      <td>0.06618</td>\n",
       "      <td>TREC mean</td>\n",
       "    </tr>\n",
       "    <tr>\n",
       "      <th>2</th>\n",
       "      <td>657</td>\n",
       "      <td>3.40445</td>\n",
       "      <td>2.35234</td>\n",
       "      <td>0.26407</td>\n",
       "      <td>1.55008</td>\n",
       "      <td>0.86590</td>\n",
       "      <td>0.04874</td>\n",
       "      <td>TREC mean</td>\n",
       "    </tr>\n",
       "    <tr>\n",
       "      <th>3</th>\n",
       "      <td>771</td>\n",
       "      <td>1.00722</td>\n",
       "      <td>2.72797</td>\n",
       "      <td>1.33356</td>\n",
       "      <td>1.51243</td>\n",
       "      <td>0.98721</td>\n",
       "      <td>0.12842</td>\n",
       "      <td>TREC mean</td>\n",
       "    </tr>\n",
       "    <tr>\n",
       "      <th>4</th>\n",
       "      <td>822</td>\n",
       "      <td>0.65296</td>\n",
       "      <td>2.20431</td>\n",
       "      <td>1.66184</td>\n",
       "      <td>1.25084</td>\n",
       "      <td>0.99320</td>\n",
       "      <td>0.15834</td>\n",
       "      <td>TREC mean</td>\n",
       "    </tr>\n",
       "    <tr>\n",
       "      <th>...</th>\n",
       "      <td>...</td>\n",
       "      <td>...</td>\n",
       "      <td>...</td>\n",
       "      <td>...</td>\n",
       "      <td>...</td>\n",
       "      <td>...</td>\n",
       "      <td>...</td>\n",
       "      <td>...</td>\n",
       "    </tr>\n",
       "    <tr>\n",
       "      <th>195</th>\n",
       "      <td>119231</td>\n",
       "      <td>0.35149</td>\n",
       "      <td>2.34169</td>\n",
       "      <td>1.70841</td>\n",
       "      <td>0.77897</td>\n",
       "      <td>0.83099</td>\n",
       "      <td>0.12478</td>\n",
       "      <td>TREC mean</td>\n",
       "    </tr>\n",
       "    <tr>\n",
       "      <th>196</th>\n",
       "      <td>123512</td>\n",
       "      <td>0.42510</td>\n",
       "      <td>2.49884</td>\n",
       "      <td>1.92640</td>\n",
       "      <td>1.21086</td>\n",
       "      <td>0.93900</td>\n",
       "      <td>0.25556</td>\n",
       "      <td>TREC mean</td>\n",
       "    </tr>\n",
       "    <tr>\n",
       "      <th>197</th>\n",
       "      <td>126740</td>\n",
       "      <td>0.48605</td>\n",
       "      <td>1.60679</td>\n",
       "      <td>0.93370</td>\n",
       "      <td>0.85543</td>\n",
       "      <td>0.83660</td>\n",
       "      <td>0.07948</td>\n",
       "      <td>TREC mean</td>\n",
       "    </tr>\n",
       "    <tr>\n",
       "      <th>198</th>\n",
       "      <td>128050</td>\n",
       "      <td>0.80032</td>\n",
       "      <td>1.39898</td>\n",
       "      <td>0.78851</td>\n",
       "      <td>0.78801</td>\n",
       "      <td>0.85329</td>\n",
       "      <td>0.31978</td>\n",
       "      <td>TREC mean</td>\n",
       "    </tr>\n",
       "    <tr>\n",
       "      <th>199</th>\n",
       "      <td>128604</td>\n",
       "      <td>0.71558</td>\n",
       "      <td>2.33087</td>\n",
       "      <td>1.69932</td>\n",
       "      <td>1.65391</td>\n",
       "      <td>0.95043</td>\n",
       "      <td>0.03916</td>\n",
       "      <td>TREC mean</td>\n",
       "    </tr>\n",
       "  </tbody>\n",
       "</table>\n",
       "<p>200 rows × 8 columns</p>\n",
       "</div>"
      ],
      "text/plain": [
       "        qid  difference  disparity  relevance  difference_ind  disparity_ind  relevance_ind  \\\n",
       "0        95     0.60857    2.74279    1.72457         1.06185        0.93675        0.00582   \n",
       "1       612     1.01391    2.43918    1.59900         1.22390        0.91528        0.06618   \n",
       "2       657     3.40445    2.35234    0.26407         1.55008        0.86590        0.04874   \n",
       "3       771     1.00722    2.72797    1.33356         1.51243        0.98721        0.12842   \n",
       "4       822     0.65296    2.20431    1.66184         1.25084        0.99320        0.15834   \n",
       "..      ...         ...        ...        ...             ...            ...            ...   \n",
       "195  119231     0.35149    2.34169    1.70841         0.77897        0.83099        0.12478   \n",
       "196  123512     0.42510    2.49884    1.92640         1.21086        0.93900        0.25556   \n",
       "197  126740     0.48605    1.60679    0.93370         0.85543        0.83660        0.07948   \n",
       "198  128050     0.80032    1.39898    0.78851         0.78801        0.85329        0.31978   \n",
       "199  128604     0.71558    2.33087    1.69932         1.65391        0.95043        0.03916   \n",
       "\n",
       "        system  \n",
       "0    TREC mean  \n",
       "1    TREC mean  \n",
       "2    TREC mean  \n",
       "3    TREC mean  \n",
       "4    TREC mean  \n",
       "..         ...  \n",
       "195  TREC mean  \n",
       "196  TREC mean  \n",
       "197  TREC mean  \n",
       "198  TREC mean  \n",
       "199  TREC mean  \n",
       "\n",
       "[200 rows x 8 columns]"
      ]
     },
     "execution_count": 5,
     "metadata": {},
     "output_type": "execute_result"
    }
   ],
   "source": [
    "trec_means = pd.merge(trec_runs.groupby('qid').mean().reset_index(), trec_runs[['qid','system']].drop_duplicates(), on='qid',how='left')\n",
    "trec_means"
   ]
  },
  {
   "cell_type": "code",
   "execution_count": 6,
   "id": "39f96450-a308-4101-99da-b0f23dda968d",
   "metadata": {},
   "outputs": [
    {
     "name": "stderr",
     "output_type": "stream",
     "text": [
      "/home/pilmus/thesis/venv37/lib/python3.7/site-packages/ipykernel_launcher.py:1: FutureWarning: Dropping of nuisance columns in DataFrame reductions (with 'numeric_only=None') is deprecated; in a future version this will raise TypeError.  Select only valid columns before calling the reduction.\n",
      "  \"\"\"Entry point for launching an IPython kernel.\n"
     ]
    },
    {
     "data": {
      "text/plain": [
       "qid              43107.52500\n",
       "difference           0.74901\n",
       "disparity            2.16609\n",
       "relevance            1.32899\n",
       "difference_ind       1.17066\n",
       "disparity_ind        0.90616\n",
       "relevance_ind        0.16966\n",
       "dtype: float64"
      ]
     },
     "execution_count": 6,
     "metadata": {},
     "output_type": "execute_result"
    }
   ],
   "source": [
    "trec_means.mean()"
   ]
  },
  {
   "cell_type": "markdown",
   "id": "bb5e0d98-3089-4fe5-b228-8320ff69a22d",
   "metadata": {},
   "source": [
    "### effect size methods"
   ]
  },
  {
   "cell_type": "code",
   "execution_count": 7,
   "id": "ad6ee184-affb-4513-b36d-8421337bd0d4",
   "metadata": {},
   "outputs": [],
   "source": [
    "def omega_squared(ms_effect, ms_error, df_effect, ss_total, roundd=True):\n",
    "    wsq = (df_effect * (ms_effect - ms_error)) / (ss_total - ms_error)\n",
    "    if roundd:\n",
    "        return round(wsq,5)\n",
    "    return wsq\n",
    "    "
   ]
  },
  {
   "cell_type": "code",
   "execution_count": 8,
   "id": "855b88ed-fdae-47fb-87eb-3f5896e2fce6",
   "metadata": {},
   "outputs": [],
   "source": [
    "def omega_squared_partial(ms_effect, ms_error, df_effect, total_observations, roundd=True):\n",
    "    wsqp = (df_effect * (ms_effect - ms_error)) / (df_effect * ms_effect + (total_observations - df_effect) * ms_error)\n",
    "    if roundd:\n",
    "        return round(wsqp,5)\n",
    "    return wsqp"
   ]
  },
  {
   "cell_type": "code",
   "execution_count": 9,
   "id": "f484f516-6cfe-47d2-b0a0-3e02b8674595",
   "metadata": {},
   "outputs": [],
   "source": [
    "def eta_squared(ss_effect, ss_total, roundd=True):\n",
    "    if roundd:\n",
    "        return round(ss_effect/ss_total,5)\n",
    "    else:\n",
    "        return ss_effect/ss_total"
   ]
  },
  {
   "cell_type": "code",
   "execution_count": 10,
   "id": "5f296484-209a-41c4-97f4-9ece73d7f025",
   "metadata": {},
   "outputs": [],
   "source": [
    "def eta_squared_partial(ss_effect, ss_error, roundd=True):\n",
    "    if roundd:\n",
    "        return round(ss_effect/(ss_effect + ss_error),5)\n",
    "    else:\n",
    "        return ss_effect/(ss_effect + ss_error)"
   ]
  },
  {
   "cell_type": "code",
   "execution_count": 11,
   "id": "f1f5112f-d1f5-4daf-873c-0942a63eec40",
   "metadata": {},
   "outputs": [],
   "source": [
    "def cohens_d(m1, m2, ms_error):\n",
    "    return abs(m1 - m2) / math.sqrt(ms_error)"
   ]
  },
  {
   "cell_type": "code",
   "execution_count": 12,
   "id": "7d962952-a8f5-4bd7-861f-4a4670cfed64",
   "metadata": {},
   "outputs": [],
   "source": [
    "def ci(m, num_observations, ms_error):\n",
    "    t = stats.t.ppf(1-0.025, num_observations)\n",
    "    return t*math.sqrt(ms_error/num_observations)"
   ]
  },
  {
   "cell_type": "code",
   "execution_count": 13,
   "id": "7bbfd8b1-3e14-4c5f-b1fa-41f5c319140c",
   "metadata": {},
   "outputs": [],
   "source": [
    "def print_etasq(factor):\n",
    "    ss_effect = anova_lm(lm).sum_sq.loc[f'C({factor})']\n",
    "    ss_error = anova_lm(lm).sum_sq.loc['Residual']\n",
    "    ss_total = anova_lm(lm).sum_sq.sum()\n",
    "\n",
    "    print(factor)\n",
    "    \n",
    "    print(f\"eta-squared\\teta-squared partial\")\n",
    "    print(f\"{eta_squared(ss_effect, ss_total)}\\t\\t\\t{eta_squared_partial(ss_effect, ss_error)}\")\n",
    "    print()"
   ]
  },
  {
   "cell_type": "code",
   "execution_count": 14,
   "id": "dc78da32-55f7-44b0-ba6f-2a05f87d9cd8",
   "metadata": {},
   "outputs": [],
   "source": [
    "def print_omegasq(factor, data, roundd=True):\n",
    "    ms_effect = anova_lm(lm).mean_sq.loc[f'C({factor})']\n",
    "    ms_error = anova_lm(lm).mean_sq.loc['Residual']\n",
    "    df_effect = anova_lm(lm).df.loc[f'C({factor})']\n",
    "    ss_total = anova_lm(lm).sum_sq.sum()\n",
    "    N = len(data)\n",
    "    \n",
    "    print(ss_total - ms_error)\n",
    "    print(df_effect * ms_effect + (N - df_effect) * ms_error)\n",
    "    \n",
    "    print(factor)\n",
    "    \n",
    "    print(f\"omega-squared\\tomega-squared partial\")\n",
    "    print(f\"{omega_squared(ms_effect, ms_error, df_effect, ss_total,roundd)}\\t\\t\\t{omega_squared_partial(ms_effect, ms_error, df_effect, N,roundd)}\")\n",
    "    print()"
   ]
  },
  {
   "cell_type": "code",
   "execution_count": 28,
   "id": "d49e38d5-8c75-42a0-b0da-aaf18d1b22c0",
   "metadata": {},
   "outputs": [],
   "source": [
    "def effect_size_t_test(a,b,roundd=2):\n",
    "    differences = a - b\n",
    "    sample_mean = differences.sum()/len(differences)\n",
    "    sample_variance = (differences - sample_mean).apply(lambda x: x*x).sum()/len(differences - 1)\n",
    "    return round(abs(sample_mean) / math.sqrt(sample_variance),roundd)"
   ]
  },
  {
   "cell_type": "code",
   "execution_count": 46,
   "id": "ec7be155-3c6d-4b7f-b8a5-dcb929d92f61",
   "metadata": {},
   "outputs": [
    {
     "data": {
      "text/plain": [
       "Ttest_relResult(statistic=1.788084384591603, pvalue=0.07528385360281753)"
      ]
     },
     "execution_count": 46,
     "metadata": {},
     "output_type": "execute_result"
    }
   ],
   "source": [
    "stats.ttest_rel(experiments.query('system == \"TEXT\"')['difference'].reset_index(drop=True), experiments.query('system == \"META\"')['difference'].reset_index(drop=True))"
   ]
  },
  {
   "cell_type": "markdown",
   "id": "861549c2-3621-4558-917f-dd64db5c4530",
   "metadata": {},
   "source": [
    "The difference in scores is significant, p = 0.00000 < 0.05."
   ]
  },
  {
   "cell_type": "code",
   "execution_count": 47,
   "id": "f18a1760-f138-434d-988b-38fd8939aa9a",
   "metadata": {},
   "outputs": [
    {
     "data": {
      "text/plain": [
       "0.127"
      ]
     },
     "execution_count": 47,
     "metadata": {},
     "output_type": "execute_result"
    }
   ],
   "source": [
    "effect_size_t_test(experiments.query('system == \"TEXT\"')['difference'].reset_index(drop=True), experiments.query('system == \"META\"')['difference'].reset_index(drop=True),roundd=3)"
   ]
  },
  {
   "cell_type": "code",
   "execution_count": 43,
   "id": "0ecdb013-3ab1-4658-9258-731d0b53fc60",
   "metadata": {},
   "outputs": [],
   "source": [
    "differences = experiments.query('system == \"TEXT\"')['difference'].reset_index(drop=True) - experiments.query('system == \"META\"')['difference'].reset_index(drop=True)\n",
    "sample_mean = differences.sum()/len(differences)\n",
    "sample_variance = (differences - sample_mean).apply(lambda x: x*x).sum()/len(differences - 1)"
   ]
  },
  {
   "cell_type": "code",
   "execution_count": 44,
   "id": "ab6f36dd-e385-4067-8da7-8e7ad87ef264",
   "metadata": {},
   "outputs": [
    {
     "data": {
      "text/plain": [
       "(-0.01, 0.14)"
      ]
     },
     "execution_count": 44,
     "metadata": {},
     "output_type": "execute_result"
    }
   ],
   "source": [
    "c = ci(sample_mean,len(differences), sample_variance)\n",
    "cl, ch = (sample_mean - c, sample_mean + c)\n",
    "round(cl,2), round(ch,2)"
   ]
  },
  {
   "cell_type": "code",
   "execution_count": 45,
   "id": "3e14dd72-c334-442b-a95a-2ce3460bb318",
   "metadata": {},
   "outputs": [
    {
     "data": {
      "text/plain": [
       "0.066"
      ]
     },
     "execution_count": 45,
     "metadata": {},
     "output_type": "execute_result"
    }
   ],
   "source": [
    "round(sample_mean,3)"
   ]
  },
  {
   "cell_type": "code",
   "execution_count": 34,
   "id": "1e28abf2-1305-48f3-a359-f445b01d5d63",
   "metadata": {},
   "outputs": [
    {
     "data": {
      "text/plain": [
       "0.27"
      ]
     },
     "execution_count": 34,
     "metadata": {},
     "output_type": "execute_result"
    }
   ],
   "source": [
    "round(sample_variance,2)"
   ]
  },
  {
   "cell_type": "code",
   "execution_count": 35,
   "id": "eab01dc2-45fe-4068-b0c3-87e84f04b086",
   "metadata": {},
   "outputs": [
    {
     "data": {
      "text/plain": [
       "Ttest_relResult(statistic=1.5044964503300546, pvalue=0.13403905334555483)"
      ]
     },
     "execution_count": 35,
     "metadata": {},
     "output_type": "execute_result"
    }
   ],
   "source": [
    "stats.ttest_rel(experiments.query('system == \"TEXT\"')['difference_ind'].reset_index(drop=True), experiments.query('system == \"META\"')['difference_ind'].reset_index(drop=True))"
   ]
  },
  {
   "cell_type": "markdown",
   "id": "af05e245-85bd-4059-818d-453381e69419",
   "metadata": {},
   "source": [
    "The difference in scores is significant, p = 0.00000 < 0.05."
   ]
  },
  {
   "cell_type": "code",
   "execution_count": 36,
   "id": "6d6d71a5-3e7d-4785-869e-e271d9760242",
   "metadata": {},
   "outputs": [
    {
     "data": {
      "text/plain": [
       "0.107"
      ]
     },
     "execution_count": 36,
     "metadata": {},
     "output_type": "execute_result"
    }
   ],
   "source": [
    "effect_size_t_test(experiments.query('system == \"TEXT\"')['difference_ind'].reset_index(drop=True), experiments.query('system == \"META\"')['difference_ind'].reset_index(drop=True),roundd=3)"
   ]
  },
  {
   "cell_type": "code",
   "execution_count": 37,
   "id": "856556f0-02d0-40d0-a131-21c918227e77",
   "metadata": {},
   "outputs": [],
   "source": [
    "differences = experiments.query('system == \"TEXT\"')['difference_ind'].reset_index(drop=True) - experiments.query('system == \"META\"')['difference_ind'].reset_index(drop=True)\n",
    "sample_mean = differences.sum()/len(differences)\n",
    "sample_variance = (differences - sample_mean).apply(lambda x: x*x).sum()/len(differences - 1)"
   ]
  },
  {
   "cell_type": "code",
   "execution_count": 38,
   "id": "4ef0846b-3e7a-480e-b42f-3ca866731a09",
   "metadata": {},
   "outputs": [
    {
     "data": {
      "text/plain": [
       "(-0.01, 0.06)"
      ]
     },
     "execution_count": 38,
     "metadata": {},
     "output_type": "execute_result"
    }
   ],
   "source": [
    "c = ci(sample_mean,len(differences), sample_variance)\n",
    "cl, ch = (sample_mean - c, sample_mean + c)\n",
    "round(cl,2), round(ch,2)"
   ]
  },
  {
   "cell_type": "code",
   "execution_count": 39,
   "id": "31727dba-15a0-4810-a517-51843879b3fa",
   "metadata": {},
   "outputs": [
    {
     "data": {
      "text/plain": [
       "0.03"
      ]
     },
     "execution_count": 39,
     "metadata": {},
     "output_type": "execute_result"
    }
   ],
   "source": [
    "round(sample_mean,2)"
   ]
  },
  {
   "cell_type": "code",
   "execution_count": 40,
   "id": "a0f54ee6-d526-4499-9c41-5c4f6ebd37a0",
   "metadata": {},
   "outputs": [
    {
     "data": {
      "text/plain": [
       "0.06"
      ]
     },
     "execution_count": 40,
     "metadata": {},
     "output_type": "execute_result"
    }
   ],
   "source": [
    "round(sample_variance,2)"
   ]
  },
  {
   "cell_type": "code",
   "execution_count": 6,
   "id": "b3530d7d-8723-4646-8993-ca4e67321bbc",
   "metadata": {},
   "outputs": [
    {
     "data": {
      "text/html": [
       "<div>\n",
       "<style scoped>\n",
       "    .dataframe tbody tr th:only-of-type {\n",
       "        vertical-align: middle;\n",
       "    }\n",
       "\n",
       "    .dataframe tbody tr th {\n",
       "        vertical-align: top;\n",
       "    }\n",
       "\n",
       "    .dataframe thead th {\n",
       "        text-align: right;\n",
       "    }\n",
       "</style>\n",
       "<table border=\"1\" class=\"dataframe\">\n",
       "  <thead>\n",
       "    <tr style=\"text-align: right;\">\n",
       "      <th></th>\n",
       "      <th>difference</th>\n",
       "      <th>disparity</th>\n",
       "      <th>relevance</th>\n",
       "      <th>difference_ind</th>\n",
       "      <th>disparity_ind</th>\n",
       "      <th>relevance_ind</th>\n",
       "      <th>qid</th>\n",
       "    </tr>\n",
       "    <tr>\n",
       "      <th>system</th>\n",
       "      <th></th>\n",
       "      <th></th>\n",
       "      <th></th>\n",
       "      <th></th>\n",
       "      <th></th>\n",
       "      <th></th>\n",
       "      <th></th>\n",
       "    </tr>\n",
       "  </thead>\n",
       "  <tbody>\n",
       "    <tr>\n",
       "      <th>META</th>\n",
       "      <td>0.84711</td>\n",
       "      <td>2.31496</td>\n",
       "      <td>1.35438</td>\n",
       "      <td>1.44820</td>\n",
       "      <td>1.25602</td>\n",
       "      <td>0.20582</td>\n",
       "      <td>43107.52500</td>\n",
       "    </tr>\n",
       "    <tr>\n",
       "      <th>TEXT</th>\n",
       "      <td>0.91308</td>\n",
       "      <td>2.35879</td>\n",
       "      <td>1.34331</td>\n",
       "      <td>1.47438</td>\n",
       "      <td>1.25879</td>\n",
       "      <td>0.19412</td>\n",
       "      <td>43107.52500</td>\n",
       "    </tr>\n",
       "  </tbody>\n",
       "</table>\n",
       "</div>"
      ],
      "text/plain": [
       "        difference  disparity  relevance  difference_ind  disparity_ind  relevance_ind         qid\n",
       "system                                                                                            \n",
       "META       0.84711    2.31496    1.35438         1.44820        1.25602        0.20582 43107.52500\n",
       "TEXT       0.91308    2.35879    1.34331         1.47438        1.25879        0.19412 43107.52500"
      ]
     },
     "execution_count": 6,
     "metadata": {},
     "output_type": "execute_result"
    }
   ],
   "source": [
    "experiments.query('system == \"TEXT\" or system  == \"META\"').groupby('system').mean()"
   ]
  },
  {
   "cell_type": "markdown",
   "id": "38259c17-a412-4aec-bc95-cb1b7eff7cb4",
   "metadata": {},
   "source": [
    "## Overall performance"
   ]
  },
  {
   "cell_type": "code",
   "execution_count": null,
   "id": "7794c367",
   "metadata": {},
   "outputs": [],
   "source": [
    "experiments.drop('qid',axis=1).groupby('system').mean()"
   ]
  },
  {
   "cell_type": "markdown",
   "id": "d4ce4f36",
   "metadata": {},
   "source": [
    "## Is there a significant improvement in the performance of LambdaMart_base + vs LambdaMart_mpt_15_0.9?"
   ]
  },
  {
   "cell_type": "markdown",
   "id": "593bdf74",
   "metadata": {},
   "source": [
    "### Select data"
   ]
  },
  {
   "cell_type": "code",
   "execution_count": null,
   "id": "061990f4-ded4-42ef-b1f7-4bdc36560484",
   "metadata": {},
   "outputs": [],
   "source": [
    "s1 = 'LM_base'\n",
    "s2 = 'LM_mpt_15_0.9'"
   ]
  },
  {
   "cell_type": "code",
   "execution_count": null,
   "id": "1b2d2d2e",
   "metadata": {},
   "outputs": [],
   "source": [
    "data = experiments.query(f'system == \"{s1}\" or system == \"{s2}\"')\n",
    "data = data.reset_index(drop=True)\n",
    "data"
   ]
  },
  {
   "cell_type": "code",
   "execution_count": null,
   "id": "87c300da-05f1-45b7-acc5-ccefe11c797a",
   "metadata": {},
   "outputs": [],
   "source": [
    "data.groupby('system').mean()"
   ]
  },
  {
   "cell_type": "markdown",
   "id": "2210f7f6-ebe3-414e-9199-cea308e3e0a6",
   "metadata": {},
   "source": [
    "Augmented version is worse lol."
   ]
  },
  {
   "cell_type": "code",
   "execution_count": null,
   "id": "f05a0759-e9d4-4bf0-acd6-7f9d2a23137c",
   "metadata": {},
   "outputs": [],
   "source": [
    "from scipy import stats\n",
    "a = data.query(f'system == \"{s1}\"').reset_index(drop=True)\n",
    "b = data.query(f'system == \"{s2}\"').reset_index(drop=True)"
   ]
  },
  {
   "cell_type": "markdown",
   "id": "2909af7f",
   "metadata": {},
   "source": [
    "### t-test eel"
   ]
  },
  {
   "cell_type": "code",
   "execution_count": null,
   "id": "8da755fd-cf4d-4eae-8921-f520bb799f56",
   "metadata": {},
   "outputs": [],
   "source": [
    "stats.ttest_rel(b['difference'], a['difference'])"
   ]
  },
  {
   "cell_type": "markdown",
   "id": "091d1581-0dfa-4bb0-be16-36d0756c185b",
   "metadata": {},
   "source": [
    "NOT significant!"
   ]
  },
  {
   "cell_type": "code",
   "execution_count": null,
   "id": "c514512a-114f-4c78-b263-1a3f39e24633",
   "metadata": {},
   "outputs": [],
   "source": [
    "differences = b['difference'] - a['difference']\n",
    "sample_mean = differences.sum()/len(differences)\n",
    "sample_variance = (differences - sample_mean).apply(lambda x: x*x).sum()/len(differences - 1)"
   ]
  },
  {
   "cell_type": "code",
   "execution_count": null,
   "id": "4d23e65a-05a9-473f-a8e3-046234571715",
   "metadata": {},
   "outputs": [],
   "source": [
    "c = ci(sample_mean, len(differences), sample_variance)\n",
    "cl, ch = (sample_mean - c, sample_mean + c)\n",
    "round(cl,2), round(ch,2)"
   ]
  },
  {
   "cell_type": "code",
   "execution_count": null,
   "id": "42957ee0-e4d3-495a-b97f-36f92ce8f7eb",
   "metadata": {},
   "outputs": [],
   "source": [
    "sample_mean"
   ]
  },
  {
   "cell_type": "code",
   "execution_count": null,
   "id": "4dd9b311-aa6c-42cd-a802-34185862aa52",
   "metadata": {},
   "outputs": [],
   "source": [
    "sample_variance"
   ]
  },
  {
   "cell_type": "markdown",
   "id": "1f37aef3-a19a-4963-afd8-c4a5ad725540",
   "metadata": {},
   "source": [
    "### t-test eel_ind"
   ]
  },
  {
   "cell_type": "code",
   "execution_count": null,
   "id": "efda9b87-429c-463a-8b6d-0f2e6c4400e0",
   "metadata": {},
   "outputs": [],
   "source": [
    "stats.ttest_rel(b['difference_ind'], a['difference_ind'])"
   ]
  },
  {
   "cell_type": "markdown",
   "id": "54c96e48-7cdb-4211-8e6a-08d64fb98fce",
   "metadata": {},
   "source": [
    "The difference in scores is significant, p = 0.020 < 0.05."
   ]
  },
  {
   "cell_type": "code",
   "execution_count": null,
   "id": "dd9c002c-5cb5-4f9c-b6b6-acaf0720ce0a",
   "metadata": {},
   "outputs": [],
   "source": [
    "round(effect_size_t_test(a['difference_ind'],b['difference_ind']),2)"
   ]
  },
  {
   "cell_type": "markdown",
   "id": "8caf18e5-e214-4bf8-addb-1dd3028c2930",
   "metadata": {},
   "source": [
    "The effect size is small."
   ]
  },
  {
   "cell_type": "code",
   "execution_count": null,
   "id": "0e0bc2ab-b0ff-420e-a80d-2b25f856780b",
   "metadata": {},
   "outputs": [],
   "source": [
    "differences = b['difference_ind'] - a['difference_ind']\n",
    "sample_mean = differences.sum()/len(differences)\n",
    "sample_variance = (differences - sample_mean).apply(lambda x: x*x).sum()/len(differences - 1)"
   ]
  },
  {
   "cell_type": "code",
   "execution_count": null,
   "id": "83f3f2f4-08b9-4f6b-941c-cf4a18d7e711",
   "metadata": {},
   "outputs": [],
   "source": [
    "c = ci(sample_mean, len(differences), sample_variance)\n",
    "cl, ch = (sample_mean - c, sample_mean + c)\n",
    "round(cl,3), round(ch,2)"
   ]
  },
  {
   "cell_type": "code",
   "execution_count": null,
   "id": "02b39f94-1673-49c3-b962-c71c20aeb4e2",
   "metadata": {},
   "outputs": [],
   "source": [
    "round(sample_mean,3)"
   ]
  },
  {
   "cell_type": "code",
   "execution_count": null,
   "id": "5735a4fe-35c8-43dd-b11c-95b444e40a78",
   "metadata": {},
   "outputs": [],
   "source": [
    "round(sample_variance,2)"
   ]
  },
  {
   "cell_type": "markdown",
   "id": "d6ee7eb7-b324-4ecc-a802-040199d2cede",
   "metadata": {},
   "source": [
    "### Visualize means of the samples"
   ]
  },
  {
   "cell_type": "code",
   "execution_count": null,
   "id": "19b04251-7d1d-452f-a294-edcfb1a44a54",
   "metadata": {},
   "outputs": [],
   "source": [
    "fig, axs = plt.subplots(1,1,figsize=(10,10))\n",
    "# for ax in axs:\n",
    "#     ax.set_ylim(0, ymax)\n",
    "\n",
    "# axs[0].set_title('Mean EEL (economic level)')\n",
    "# axs[1].set_title('Mean EEL (individual)')\n",
    "\n",
    "_ = sns.barplot(x='system', y='difference',data=data,ax=axs)\n",
    "# _ = sns.barplot(x='system', y='difference_ind',data=data,ax=axs)\n"
   ]
  },
  {
   "cell_type": "code",
   "execution_count": null,
   "id": "76ef4628-becb-44f8-b699-1b6f5a4cc5bd",
   "metadata": {},
   "outputs": [],
   "source": [
    "fig, axs = plt.subplots(1,1,figsize=(10,10))\n",
    "# for ax in axs:\n",
    "#     ax.set_ylim(0, ymax)\n",
    "\n",
    "# axs[0].set_title('Mean EEL (economic level)')\n",
    "# axs[1].set_title('Mean EEL (individual)')\n",
    "\n",
    "# _ = sns.barplot(x='system', y='difference',data=data,ax=axs)\n",
    "_ = sns.barplot(x='system', y='difference_ind',data=data,ax=axs)\n"
   ]
  },
  {
   "cell_type": "markdown",
   "id": "4507b5cf-be8c-4023-b78f-32b2cb77639a",
   "metadata": {},
   "source": [
    "## Is there a significant improvement in the performance of LambdaMart + RFR vs LambdaMart without RFR?"
   ]
  },
  {
   "cell_type": "markdown",
   "id": "165942d1-f7ed-4e71-85ff-f50de5b103d3",
   "metadata": {},
   "source": [
    "### Select data"
   ]
  },
  {
   "cell_type": "code",
   "execution_count": null,
   "id": "2b871173-4ff5-4447-80c5-52eb3951aedb",
   "metadata": {},
   "outputs": [],
   "source": [
    "s1 = 'LM_base'\n",
    "s2 = 'LM_base+RFR_doc'"
   ]
  },
  {
   "cell_type": "code",
   "execution_count": null,
   "id": "09650e75-a759-4a97-b071-c5a4b41d68ba",
   "metadata": {},
   "outputs": [],
   "source": [
    "data = experiments.query(f'system == \"{s1}\" or system == \"{s2}\"')\n",
    "data = data.reset_index(drop=True)\n",
    "data"
   ]
  },
  {
   "cell_type": "code",
   "execution_count": null,
   "id": "d9c64851-9a81-40ef-a912-9fd8090dfd64",
   "metadata": {},
   "outputs": [],
   "source": [
    "from scipy import stats\n",
    "a = data.query(f'system == \"{s1}\"').reset_index(drop=True)\n",
    "b = data.query(f'system == \"{s2}\"').reset_index(drop=True)"
   ]
  },
  {
   "cell_type": "markdown",
   "id": "752f0f33-9554-4857-ba3d-a1de147090bc",
   "metadata": {},
   "source": [
    "### t-test eel"
   ]
  },
  {
   "cell_type": "code",
   "execution_count": null,
   "id": "f1113ec9-af26-40ed-9404-a6114ce6f504",
   "metadata": {},
   "outputs": [],
   "source": [
    "stats.ttest_rel(a['difference'], b['difference'])"
   ]
  },
  {
   "cell_type": "markdown",
   "id": "a4317ad8-68db-4846-9f41-d492c7509d73",
   "metadata": {},
   "source": [
    "The difference in scores is significant, p = 0.00000 < 0.05."
   ]
  },
  {
   "cell_type": "code",
   "execution_count": null,
   "id": "2cfe6785-1cf3-45ce-8201-2638e767e6c6",
   "metadata": {},
   "outputs": [],
   "source": [
    "effect_size_t_test(a['difference'],b['difference'],roundd=3)"
   ]
  },
  {
   "cell_type": "markdown",
   "id": "356ea8ec-e9b1-4a78-b3ec-6493bed5813c",
   "metadata": {},
   "source": [
    "The effect size is moderate."
   ]
  },
  {
   "cell_type": "code",
   "execution_count": null,
   "id": "9321bae9-f279-4b76-bf70-46bf00efcfc4",
   "metadata": {},
   "outputs": [],
   "source": [
    "differences = a['difference'] - b['difference']\n",
    "sample_mean = differences.sum()/len(differences)\n",
    "sample_variance = (differences - sample_mean).apply(lambda x: x*x).sum()/len(differences - 1)"
   ]
  },
  {
   "cell_type": "code",
   "execution_count": null,
   "id": "e6ee33e9-9b02-4af2-82be-ec9fb31c2e3f",
   "metadata": {},
   "outputs": [],
   "source": [
    "c = ci(sample_mean,len(differences), sample_variance)\n",
    "cl, ch = (sample_mean - c, sample_mean + c)\n",
    "round(cl,2), round(ch,2)"
   ]
  },
  {
   "cell_type": "code",
   "execution_count": null,
   "id": "a75d4428-2182-4693-b07c-8893025c01b4",
   "metadata": {},
   "outputs": [],
   "source": [
    "round(sample_mean,2)"
   ]
  },
  {
   "cell_type": "code",
   "execution_count": null,
   "id": "f2e9b25e-cf9d-49d6-bb27-143f285d222f",
   "metadata": {},
   "outputs": [],
   "source": [
    "round(sample_variance,2)"
   ]
  },
  {
   "cell_type": "markdown",
   "id": "909c0439-6b5c-4e87-9583-9cb354f59867",
   "metadata": {},
   "source": [
    "### t-test eel_ind"
   ]
  },
  {
   "cell_type": "code",
   "execution_count": null,
   "id": "4bf565be-5215-4857-a93e-25d10d594846",
   "metadata": {},
   "outputs": [],
   "source": [
    "stats.ttest_rel(a['difference_ind'], b['difference_ind'])"
   ]
  },
  {
   "cell_type": "markdown",
   "id": "f072db4f-c149-4baa-b86f-09cfd9dc2467",
   "metadata": {},
   "source": [
    "The difference in scores is significant, p = 0.00000 < 0.05."
   ]
  },
  {
   "cell_type": "code",
   "execution_count": null,
   "id": "1dda09de-294d-4ff1-8553-1cf6cb13a3b4",
   "metadata": {},
   "outputs": [],
   "source": [
    "round(effect_size_t_test(a['difference_ind'],b['difference_ind']),2)"
   ]
  },
  {
   "cell_type": "code",
   "execution_count": null,
   "id": "b1627693-f1a1-4937-9f7b-b0c49aa25dc9",
   "metadata": {},
   "outputs": [],
   "source": [
    "differences = a['difference_ind'] - b['difference_ind']\n",
    "sample_mean = differences.sum()/len(differences)\n",
    "sample_variance = (differences - sample_mean).apply(lambda x: x*x).sum()/len(differences - 1)"
   ]
  },
  {
   "cell_type": "code",
   "execution_count": null,
   "id": "b3b11715-7587-48aa-9006-0f58c62605f3",
   "metadata": {},
   "outputs": [],
   "source": [
    "c = ci(sample_mean, len(differences), sample_variance)\n",
    "cl, ch = (sample_mean - c, sample_mean + c)\n",
    "round(cl,2), round(ch,2)"
   ]
  },
  {
   "cell_type": "code",
   "execution_count": null,
   "id": "f88c0c11-7dc5-49c8-bf5d-ec404bf4e34c",
   "metadata": {},
   "outputs": [],
   "source": [
    "round(sample_mean,2)"
   ]
  },
  {
   "cell_type": "code",
   "execution_count": null,
   "id": "f06076eb-d201-4aee-8a18-9849cc7639c1",
   "metadata": {},
   "outputs": [],
   "source": [
    "round(sample_variance,2)"
   ]
  },
  {
   "cell_type": "markdown",
   "id": "2f910ade-737f-45dd-8e83-cb91c363b207",
   "metadata": {},
   "source": [
    "### Visualize means of the samples"
   ]
  },
  {
   "cell_type": "code",
   "execution_count": null,
   "id": "444f4286-e912-4d64-a2ca-b340630f8f2f",
   "metadata": {},
   "outputs": [],
   "source": [
    "fig, axs = plt.subplots(1,2,figsize=(20,10))\n",
    "# for ax in axs:\n",
    "#     ax.set_ylim(0, ymax)\n",
    "\n",
    "axs[0].set_title('Mean EEL (economic level)')\n",
    "axs[1].set_title('Mean EEL (individual)')\n",
    "\n",
    "_ = sns.barplot(x='system', y='difference',data=data,ax=axs[0])\n",
    "_ = sns.barplot(x='system', y='difference_ind',data=data,ax=axs[1])\n"
   ]
  },
  {
   "cell_type": "markdown",
   "id": "af786233-12ba-459b-ad98-d13095b89622",
   "metadata": {},
   "source": [
    "## Is there a significant improvement in the performance of AC base vs AC doc to doc for META?"
   ]
  },
  {
   "cell_type": "markdown",
   "id": "927dd8f1-9ff2-45b6-998c-cbeffa71fe5f",
   "metadata": {},
   "source": [
    "### Select data"
   ]
  },
  {
   "cell_type": "code",
   "execution_count": null,
   "id": "802827ab-8d4c-4402-8454-0aa3a8ab1e51",
   "metadata": {},
   "outputs": [],
   "source": [
    "experiments.system.unique()"
   ]
  },
  {
   "cell_type": "code",
   "execution_count": null,
   "id": "efcc7f06-d485-4f20-9fe4-c3a745dd2230",
   "metadata": {},
   "outputs": [],
   "source": [
    "s1 = 'META+AC_auth_ignore'\n",
    "s2 = 'META+AC_doc'"
   ]
  },
  {
   "cell_type": "code",
   "execution_count": null,
   "id": "5c559da8-7d75-4cfa-9c40-165cd7eb8885",
   "metadata": {},
   "outputs": [],
   "source": [
    "data = experiments.query(f'system == \"{s1}\" or system == \"{s2}\"')\n",
    "data = data.reset_index(drop=True)\n",
    "data"
   ]
  },
  {
   "cell_type": "code",
   "execution_count": null,
   "id": "26369114-eb1c-4a95-a82d-8ce41c2dab1b",
   "metadata": {},
   "outputs": [],
   "source": [
    "from scipy import stats\n",
    "a = data.query(f'system == \"{s1}\"').reset_index(drop=True)\n",
    "b = data.query(f'system == \"{s2}\"').reset_index(drop=True)"
   ]
  },
  {
   "cell_type": "markdown",
   "id": "46530f4f-a981-48f0-b808-e613cd0f4272",
   "metadata": {},
   "source": [
    "### t-test eel"
   ]
  },
  {
   "cell_type": "code",
   "execution_count": null,
   "id": "9a8f5873-51c9-4e20-bad7-60d9f3d53e3f",
   "metadata": {},
   "outputs": [],
   "source": [
    "stats.ttest_rel(a['difference'], b['difference'])"
   ]
  },
  {
   "cell_type": "markdown",
   "id": "41acef96-767e-4b82-b70c-1ed124f8233b",
   "metadata": {},
   "source": [
    "The difference in scores is NOT significant, p = 0.059 > 0.05."
   ]
  },
  {
   "cell_type": "code",
   "execution_count": null,
   "id": "24da5cc1-d629-4c3b-82d1-1538bb872710",
   "metadata": {},
   "outputs": [],
   "source": [
    "differences = a['difference'] - b['difference']\n",
    "sample_mean = differences.sum()/len(differences)\n",
    "sample_variance = (differences - sample_mean).apply(lambda x: x*x).sum()/len(differences - 1)"
   ]
  },
  {
   "cell_type": "code",
   "execution_count": null,
   "id": "c5bafb79-8b84-4af1-8a84-23b68d573090",
   "metadata": {},
   "outputs": [],
   "source": [
    "effect_size_t_test(a['difference'], b['difference'])"
   ]
  },
  {
   "cell_type": "code",
   "execution_count": null,
   "id": "30a03d38-07a8-4bdb-a132-d861bdf1cad0",
   "metadata": {},
   "outputs": [],
   "source": [
    "c = ci(sample_mean, len(differences), sample_variance)\n",
    "cl, ch = (sample_mean - c, sample_mean + c)\n",
    "round(cl,5), round(ch,3)"
   ]
  },
  {
   "cell_type": "code",
   "execution_count": null,
   "id": "741ef16a-4e8d-4aaf-bb2f-f0cca961f842",
   "metadata": {},
   "outputs": [],
   "source": [
    "round(sample_mean,3)"
   ]
  },
  {
   "cell_type": "code",
   "execution_count": null,
   "id": "1c6fa34d-d49e-42f9-bbc7-a2f287015347",
   "metadata": {},
   "outputs": [],
   "source": [
    "round(sample_variance,3)"
   ]
  },
  {
   "cell_type": "markdown",
   "id": "ad7a43a8-bf33-42bd-8853-ceca3d007ef1",
   "metadata": {},
   "source": [
    "### t-test eel_ind"
   ]
  },
  {
   "cell_type": "code",
   "execution_count": null,
   "id": "fde6cd19-538f-4aaa-afed-e1afc6299d98",
   "metadata": {},
   "outputs": [],
   "source": [
    "stats.ttest_rel(a['difference_ind'], b['difference_ind'])"
   ]
  },
  {
   "cell_type": "markdown",
   "id": "d0674e54-d857-4e5b-9450-7bd02ef583ed",
   "metadata": {},
   "source": [
    "The difference in scores is significant, p = 0.00000 < 0.05."
   ]
  },
  {
   "cell_type": "code",
   "execution_count": null,
   "id": "7b7a9a5b-d68d-46ba-8796-0a93ea86459b",
   "metadata": {},
   "outputs": [],
   "source": [
    "effect_size_t_test(a['difference_ind'], b['difference_ind'])"
   ]
  },
  {
   "cell_type": "markdown",
   "id": "d012cbc6-ff79-4306-9e2a-052597b96fd6",
   "metadata": {},
   "source": [
    "The effect size is moderate."
   ]
  },
  {
   "cell_type": "code",
   "execution_count": null,
   "id": "95906cea-d889-4de3-8fea-5bb5fee55efc",
   "metadata": {},
   "outputs": [],
   "source": [
    "differences = a['difference_ind']- b['difference_ind']\n",
    "sample_mean = differences.sum()/len(differences)\n",
    "sample_variance = (differences - sample_mean).apply(lambda x: x*x).sum()/len(differences - 1)"
   ]
  },
  {
   "cell_type": "code",
   "execution_count": null,
   "id": "a5bb98e0-221b-4cfa-bd55-604bb733cb42",
   "metadata": {},
   "outputs": [],
   "source": [
    "c = ci(sample_mean, len(differences), sample_variance)\n",
    "cl, ch = (sample_mean - c, sample_mean + c)\n",
    "round(cl,3), round(ch,3)"
   ]
  },
  {
   "cell_type": "code",
   "execution_count": null,
   "id": "8acad32c-0251-4af0-8baf-0dd826c8d391",
   "metadata": {},
   "outputs": [],
   "source": [
    "round(sample_mean,3)"
   ]
  },
  {
   "cell_type": "code",
   "execution_count": null,
   "id": "6be806c8-9464-44a9-93b9-81f3a2d56899",
   "metadata": {},
   "outputs": [],
   "source": [
    "round(sample_variance,3)"
   ]
  },
  {
   "cell_type": "code",
   "execution_count": null,
   "id": "faedd907-2081-4d25-a1ee-53dfd42d6e99",
   "metadata": {},
   "outputs": [],
   "source": [
    "data.groupby('system').mean()"
   ]
  },
  {
   "cell_type": "markdown",
   "id": "e3262e5e-2007-4296-bad7-ca564a44646f",
   "metadata": {},
   "source": [
    "### Visualize means of the samples"
   ]
  },
  {
   "cell_type": "code",
   "execution_count": null,
   "id": "97d94b4f-7bf6-477f-9868-0c9fc636f03c",
   "metadata": {},
   "outputs": [],
   "source": [
    "fig, axs = plt.subplots(1,2,figsize=(20,10))\n",
    "\n",
    "axs[0].set_title('Mean EEL (economic level)')\n",
    "axs[1].set_title('Mean EEL (individual)')\n",
    "\n",
    "sns.barplot(x='system', y='difference',data=data,ax=axs[0])\n",
    "sns.barplot(x='system', y='difference_ind',data=data,ax=axs[1])\n"
   ]
  },
  {
   "cell_type": "markdown",
   "id": "537708fa-0a18-42c0-afcf-ba702aa78892",
   "metadata": {
    "tags": []
   },
   "source": [
    "## Is there a significant improvement in the performance of AC base vs AC doc to doc for TEXT?"
   ]
  },
  {
   "cell_type": "markdown",
   "id": "d1bf54d7-49ef-4c68-b9ff-d344f76a37f2",
   "metadata": {},
   "source": [
    "### Select data"
   ]
  },
  {
   "cell_type": "code",
   "execution_count": null,
   "id": "22cd1e7c-398e-4a63-95b1-3b0abd264cba",
   "metadata": {},
   "outputs": [],
   "source": [
    "experiments.system.unique()"
   ]
  },
  {
   "cell_type": "code",
   "execution_count": null,
   "id": "7aa30be3-48ae-4003-88bc-3b0fc6960441",
   "metadata": {},
   "outputs": [],
   "source": [
    "s1 = 'TEXT+AC_auth_ignore'\n",
    "s2 = 'TEXT+AC_doc'"
   ]
  },
  {
   "cell_type": "code",
   "execution_count": null,
   "id": "75feef8c-2e43-4f68-8c7e-d671af9a46d7",
   "metadata": {},
   "outputs": [],
   "source": [
    "data = experiments.query(f'system == \"{s1}\" or system == \"{s2}\"')\n",
    "data = data.reset_index(drop=True)\n",
    "data"
   ]
  },
  {
   "cell_type": "code",
   "execution_count": null,
   "id": "88acea69-d5e2-4ba8-a23d-94cc35b8c7ec",
   "metadata": {},
   "outputs": [],
   "source": [
    "from scipy import stats\n",
    "a = data.query(f'system == \"{s1}\"').reset_index(drop=True)\n",
    "b = data.query(f'system == \"{s2}\"').reset_index(drop=True)"
   ]
  },
  {
   "cell_type": "markdown",
   "id": "126dcb56-4246-4d0d-8f02-c4c63c8d5e4e",
   "metadata": {},
   "source": [
    "### t-test eel"
   ]
  },
  {
   "cell_type": "code",
   "execution_count": null,
   "id": "d5d0fef3-31c3-4d8e-a072-84378b299936",
   "metadata": {},
   "outputs": [],
   "source": [
    "stats.ttest_rel(a['difference'],b['difference'])"
   ]
  },
  {
   "cell_type": "markdown",
   "id": "13eaaf59-042c-484c-9f47-64e2450d090b",
   "metadata": {},
   "source": [
    "The difference in scores is significant, p = 0.00000 < 0.05."
   ]
  },
  {
   "cell_type": "code",
   "execution_count": null,
   "id": "2554e3e1-7173-4309-a585-551b3733794c",
   "metadata": {},
   "outputs": [],
   "source": [
    "effect_size_t_test(a['difference'],b['difference'])"
   ]
  },
  {
   "cell_type": "markdown",
   "id": "919154eb-6477-4a15-a6ae-4c71da169bf2",
   "metadata": {},
   "source": [
    "The effect size is moderate."
   ]
  },
  {
   "cell_type": "code",
   "execution_count": null,
   "id": "fee30274-76ac-4c5a-b8a6-307f7174a368",
   "metadata": {},
   "outputs": [],
   "source": [
    "differences = a['difference'] - b['difference']\n",
    "sample_mean = differences.sum()/len(differences)\n",
    "sample_variance = (differences - sample_mean).apply(lambda x: x*x).sum()/len(differences - 1)"
   ]
  },
  {
   "cell_type": "code",
   "execution_count": null,
   "id": "e9f70f47-6abc-4184-b965-8d2b2238ef76",
   "metadata": {},
   "outputs": [],
   "source": [
    "c = ci(sample_mean,len(differences), sample_variance)\n",
    "cl, ch = (sample_mean - c, sample_mean + c)\n",
    "round(cl,4), round(ch,4)"
   ]
  },
  {
   "cell_type": "code",
   "execution_count": null,
   "id": "317ef11e-f159-46b3-a335-e1947bbd6878",
   "metadata": {},
   "outputs": [],
   "source": [
    "round(sample_mean,3)"
   ]
  },
  {
   "cell_type": "code",
   "execution_count": null,
   "id": "621aa237-26b6-4d6b-9ce7-302ad5b6b946",
   "metadata": {},
   "outputs": [],
   "source": [
    "round(sample_variance,3)"
   ]
  },
  {
   "cell_type": "markdown",
   "id": "7207a0b2-3bd5-4d51-bd3e-4c1b86458016",
   "metadata": {},
   "source": [
    "### t-test eel_ind"
   ]
  },
  {
   "cell_type": "code",
   "execution_count": null,
   "id": "cf31f9f9-f71f-4f64-9b03-799d60071476",
   "metadata": {},
   "outputs": [],
   "source": [
    "stats.ttest_rel(a['difference_ind'],b['difference_ind'])"
   ]
  },
  {
   "cell_type": "markdown",
   "id": "f3c722d7-26fd-496e-b2c8-fd6a5d93f268",
   "metadata": {},
   "source": [
    "The difference in scores is significant, p = 0.00000 < 0.05."
   ]
  },
  {
   "cell_type": "code",
   "execution_count": null,
   "id": "f4a436e6-2271-4d3b-8369-c9a995b0bade",
   "metadata": {},
   "outputs": [],
   "source": [
    "effect_size_t_test(a['difference_ind'],b['difference_ind'],roundd=3)"
   ]
  },
  {
   "cell_type": "markdown",
   "id": "5e858722-8100-4f3e-a690-8cde5d0bb2ce",
   "metadata": {},
   "source": [
    "The effect size is moderate."
   ]
  },
  {
   "cell_type": "code",
   "execution_count": null,
   "id": "975ff5bb-85c3-41db-9038-3745e11e3ab6",
   "metadata": {},
   "outputs": [],
   "source": [
    "differences = a['difference_ind']-b['difference_ind']\n",
    "sample_mean = differences.sum()/len(differences)\n",
    "sample_variance = (differences - sample_mean).apply(lambda x: x*x).sum()/len(differences - 1)"
   ]
  },
  {
   "cell_type": "code",
   "execution_count": null,
   "id": "6cf7ab17-6f48-4021-8d68-a86b30387ba8",
   "metadata": {},
   "outputs": [],
   "source": [
    "c = ci(sample_mean,len(differences), sample_variance)\n",
    "cl, ch = (sample_mean - c, sample_mean + c)\n",
    "round(cl,3), round(ch,2)"
   ]
  },
  {
   "cell_type": "code",
   "execution_count": null,
   "id": "b34278e3-462f-4c70-af9e-44a4a4cf24dc",
   "metadata": {},
   "outputs": [],
   "source": [
    "round(sample_mean,4)"
   ]
  },
  {
   "cell_type": "code",
   "execution_count": null,
   "id": "d87d12d9-336e-4a42-b8aa-f76bf880b302",
   "metadata": {},
   "outputs": [],
   "source": [
    "round(sample_variance,3)"
   ]
  },
  {
   "cell_type": "markdown",
   "id": "64b39c63-4363-4f5c-80ee-6e86cddb4995",
   "metadata": {},
   "source": [
    "### Visualize means of the samples"
   ]
  },
  {
   "cell_type": "code",
   "execution_count": null,
   "id": "ff265ab3-154b-4e8e-8319-8a24c1fc92ea",
   "metadata": {},
   "outputs": [],
   "source": [
    "fig, axs = plt.subplots(1,2,figsize=(20,10))\n",
    "\n",
    "axs[0].set_title('Mean EEL (economic level)')\n",
    "axs[1].set_title('Mean EEL (individual)')\n",
    "\n",
    "sns.barplot(x='system', y='difference',data=data,ax=axs[0])\n",
    "sns.barplot(x='system', y='difference_ind',data=data,ax=axs[1])\n"
   ]
  },
  {
   "cell_type": "markdown",
   "id": "0209fda7-dbdd-475e-a198-9f9b3c748ee4",
   "metadata": {
    "tags": []
   },
   "source": [
    "## Is there a significant difference between the TREC mean and AC(dtd) or RFR(dtd)?"
   ]
  },
  {
   "cell_type": "markdown",
   "id": "1283dd70-d904-4c37-9ee2-71fc78ac6661",
   "metadata": {},
   "source": [
    "### Select data"
   ]
  },
  {
   "cell_type": "code",
   "execution_count": null,
   "id": "e38d35c2-ee44-4efb-869e-6083c931a238",
   "metadata": {},
   "outputs": [],
   "source": [
    "experiments.system.unique()"
   ]
  },
  {
   "cell_type": "code",
   "execution_count": null,
   "id": "283994b4-4387-423f-b86e-75109a79aa3a",
   "metadata": {},
   "outputs": [],
   "source": [
    "experiments.groupby('system').mean()"
   ]
  },
  {
   "cell_type": "code",
   "execution_count": null,
   "id": "bb521bb5-4d36-46b0-acd5-30335920c6b1",
   "metadata": {},
   "outputs": [],
   "source": [
    "s1 = 'LM_mpt_15_0.9'\n",
    "s2 = 'LM_base+RFR_doc'\n",
    "s3 = 'META+AC_doc'\n",
    "s4 = 'TEXT+AC_doc'\n",
    "s5 = 'TREC mean'"
   ]
  },
  {
   "cell_type": "code",
   "execution_count": null,
   "id": "ea81dfdc-8ffe-4014-9b3a-eb31d1510819",
   "metadata": {},
   "outputs": [],
   "source": [
    "data = experiments.query(f'system == \"{s1}\" or system == \"{s2}\" or system == \"{s3}\" or system == \"{s4}\"')\n",
    "data = pd.concat([data,trec_means])\n",
    "data = data.reset_index(drop=True)\n",
    "\n",
    "data"
   ]
  },
  {
   "cell_type": "code",
   "execution_count": null,
   "id": "2d97d2fd-f5ef-4afd-a4ed-745e73ff953f",
   "metadata": {},
   "outputs": [],
   "source": [
    "data.groupby('system').mean()"
   ]
  },
  {
   "cell_type": "code",
   "execution_count": null,
   "id": "1718e5b2-d89d-4b86-93ed-fc174872de27",
   "metadata": {},
   "outputs": [],
   "source": [
    "from scipy import stats\n",
    "a = data.query(f'system == \"{s1}\"').reset_index(drop=True)\n",
    "b = data.query(f'system == \"{s2}\"').reset_index(drop=True)\n",
    "c = data.query(f'system == \"{s3}\"').reset_index(drop=True)\n",
    "d = data.query(f'system == \"{s4}\"').reset_index(drop=True)\n",
    "e = data.query(f'system == \"{s5}\"').reset_index(drop=True)"
   ]
  },
  {
   "cell_type": "markdown",
   "id": "97075f7d-b217-4515-99ea-ff0c3fc45cee",
   "metadata": {},
   "source": [
    "#### t-test eel"
   ]
  },
  {
   "cell_type": "code",
   "execution_count": null,
   "id": "ddd9354a-4308-4172-8208-7bde313101ee",
   "metadata": {},
   "outputs": [],
   "source": [
    "stats.ttest_rel(e['difference'], a['difference'])"
   ]
  },
  {
   "cell_type": "code",
   "execution_count": null,
   "id": "013cb1dd-2db6-4dd0-9e55-fe0796859099",
   "metadata": {},
   "outputs": [],
   "source": [
    "stats.ttest_rel(e['difference'], b['difference'])"
   ]
  },
  {
   "cell_type": "code",
   "execution_count": null,
   "id": "125ecdb2-b6ec-4246-8c44-ec1c13354c0a",
   "metadata": {},
   "outputs": [],
   "source": [
    "stats.ttest_rel(e['difference'], c['difference'])"
   ]
  },
  {
   "cell_type": "code",
   "execution_count": null,
   "id": "5485b5d8-e603-42d4-90f3-40b763e551b2",
   "metadata": {},
   "outputs": [],
   "source": [
    "stats.ttest_rel(e['difference'], d['difference'])"
   ]
  },
  {
   "cell_type": "markdown",
   "id": "e2791b94-83b3-48bf-a926-0c162385d5fd",
   "metadata": {},
   "source": [
    "The difference in scores is significant, p = 0.00000 < 0.05."
   ]
  },
  {
   "cell_type": "code",
   "execution_count": null,
   "id": "67f9da9a-b7ad-49e2-9ac8-9061c21ea1b8",
   "metadata": {},
   "outputs": [],
   "source": [
    "effect_size_t_test(a['difference'], e['difference'])"
   ]
  },
  {
   "cell_type": "code",
   "execution_count": null,
   "id": "8cd60137-64c1-40eb-ba75-826f8c552b6f",
   "metadata": {},
   "outputs": [],
   "source": [
    "effect_size_t_test(b['difference'], e['difference'])"
   ]
  },
  {
   "cell_type": "code",
   "execution_count": null,
   "id": "ceb09da5-bd72-49a7-ba92-d5fdb2b22f4d",
   "metadata": {},
   "outputs": [],
   "source": [
    "effect_size_t_test(c['difference'], e['difference'])"
   ]
  },
  {
   "cell_type": "code",
   "execution_count": null,
   "id": "9af8dc21-4fee-4ae0-b508-8a1843c8a398",
   "metadata": {},
   "outputs": [],
   "source": [
    "effect_size_t_test(d['difference'], e['difference'])"
   ]
  },
  {
   "cell_type": "markdown",
   "id": "a93dc265-fb7f-4883-8c5f-0975a20218aa",
   "metadata": {},
   "source": [
    "The effect size is LARGE."
   ]
  },
  {
   "cell_type": "code",
   "execution_count": null,
   "id": "8939536a-0bb7-4250-992d-b5f4a87f4c96",
   "metadata": {},
   "outputs": [],
   "source": [
    "differences = e['difference'] - a['difference']\n",
    "sample_mean = differences.sum()/len(differences)\n",
    "sample_variance = (differences - sample_mean).apply(lambda x: x*x).sum()/len(differences - 1)\n",
    "cc = ci(sample_mean, len(differences), sample_variance)\n",
    "cl, ch = (sample_mean - cc, sample_mean + cc)\n",
    "\n",
    "print(round(cl,4),',', round(ch,4))\n",
    "print(round(sample_mean,3))\n",
    "print(round(sample_variance,3))"
   ]
  },
  {
   "cell_type": "code",
   "execution_count": null,
   "id": "9b29a688-07b9-425a-8c1a-0b33258c2577",
   "metadata": {},
   "outputs": [],
   "source": [
    "differences = e['difference'] - b['difference']\n",
    "sample_mean = differences.sum()/len(differences)\n",
    "sample_variance = (differences - sample_mean).apply(lambda x: x*x).sum()/len(differences - 1)\n",
    "cc = ci(sample_mean, len(differences), sample_variance)\n",
    "cl, ch = (sample_mean - cc, sample_mean + cc)\n",
    "\n",
    "print(round(cl,4),',', round(ch,4))\n",
    "print(round(sample_mean,3))\n",
    "print(round(sample_variance,3))"
   ]
  },
  {
   "cell_type": "code",
   "execution_count": null,
   "id": "6ea5b6d4-4289-4143-af8c-084b7ac3b953",
   "metadata": {},
   "outputs": [],
   "source": [
    "differences = e['difference'] - c['difference']\n",
    "sample_mean = differences.sum()/len(differences)\n",
    "sample_variance = (differences - sample_mean).apply(lambda x: x*x).sum()/len(differences - 1)\n",
    "cc = ci(sample_mean, len(differences), sample_variance)\n",
    "cl, ch = (sample_mean - cc, sample_mean + cc)\n",
    "\n",
    "print(round(cl,4),',', round(ch,4))\n",
    "print(round(sample_mean,3))\n",
    "print(round(sample_variance,3))"
   ]
  },
  {
   "cell_type": "code",
   "execution_count": null,
   "id": "15a007e6-2062-4570-b6ef-e5a5a1e5f493",
   "metadata": {},
   "outputs": [],
   "source": [
    "differences = e['difference'] - d['difference']\n",
    "sample_mean = differences.sum()/len(differences)\n",
    "sample_variance = (differences - sample_mean).apply(lambda x: x*x).sum()/len(differences - 1)\n",
    "cc = ci(sample_mean, len(differences), sample_variance)\n",
    "cl, ch = (sample_mean - cc, sample_mean + cc)\n",
    "\n",
    "print(round(cl,4),',', round(ch,4))\n",
    "print(round(sample_mean,3))\n",
    "print(round(sample_variance,3))"
   ]
  },
  {
   "cell_type": "markdown",
   "id": "a5208d7f-65b7-4499-8900-2cd8102ea61b",
   "metadata": {},
   "source": [
    "#### t-test eel ind"
   ]
  },
  {
   "cell_type": "code",
   "execution_count": null,
   "id": "23a46758-ad86-4f8c-9269-758ca0f3267d",
   "metadata": {},
   "outputs": [],
   "source": [
    "stats.ttest_rel(a['difference_ind'], e['difference_ind'])"
   ]
  },
  {
   "cell_type": "code",
   "execution_count": null,
   "id": "81e09083-bba0-4041-a61c-ac0406a72817",
   "metadata": {},
   "outputs": [],
   "source": [
    "stats.ttest_rel(b['difference_ind'], e['difference_ind'])"
   ]
  },
  {
   "cell_type": "code",
   "execution_count": null,
   "id": "4c2159f3-6b1c-412a-82f4-e2e43d4ba001",
   "metadata": {},
   "outputs": [],
   "source": [
    "stats.ttest_rel(c['difference_ind'], e['difference_ind'])"
   ]
  },
  {
   "cell_type": "code",
   "execution_count": null,
   "id": "f7a03971-f78f-4cfa-ada7-4e15057701bd",
   "metadata": {},
   "outputs": [],
   "source": [
    "stats.ttest_rel(d['difference_ind'], e['difference_ind'])"
   ]
  },
  {
   "cell_type": "markdown",
   "id": "48889a27-50d2-4218-8bef-6b6030b3e4a7",
   "metadata": {},
   "source": [
    "The difference_ind in scores is significant, p = 0.00000 < 0.05."
   ]
  },
  {
   "cell_type": "code",
   "execution_count": null,
   "id": "850d2d5a-dd72-4f8f-9ce9-bbb052a91300",
   "metadata": {},
   "outputs": [],
   "source": [
    "effect_size_t_test(a['difference_ind'], e['difference_ind'])"
   ]
  },
  {
   "cell_type": "code",
   "execution_count": null,
   "id": "e3a33168-2522-4a3b-b95d-32b15bb067ae",
   "metadata": {},
   "outputs": [],
   "source": [
    "effect_size_t_test(b['difference_ind'], e['difference_ind'])"
   ]
  },
  {
   "cell_type": "code",
   "execution_count": null,
   "id": "492a700e-35c4-4b5a-b54d-8a4f24da6f02",
   "metadata": {},
   "outputs": [],
   "source": [
    "effect_size_t_test(c['difference_ind'], e['difference_ind'])"
   ]
  },
  {
   "cell_type": "code",
   "execution_count": null,
   "id": "9339293d-4995-4dbd-928a-c8797cb91d9c",
   "metadata": {},
   "outputs": [],
   "source": [
    "effect_size_t_test(d['difference_ind'], e['difference_ind'])"
   ]
  },
  {
   "cell_type": "markdown",
   "id": "b3b59142-19ea-46b9-9161-161a635800ea",
   "metadata": {},
   "source": [
    "The effect size is LARGE."
   ]
  },
  {
   "cell_type": "code",
   "execution_count": null,
   "id": "edf8492c-a42b-4896-93f3-029d53ad4de6",
   "metadata": {},
   "outputs": [],
   "source": [
    "differences = e['difference_ind'] - a['difference_ind']\n",
    "sample_mean = differences.sum()/len(differences)\n",
    "sample_variance = (differences - sample_mean).apply(lambda x: x*x).sum()/len(differences - 1)\n",
    "cc = ci(sample_mean, len(differences), sample_variance)\n",
    "cl, ch = (sample_mean - cc, sample_mean + cc)\n",
    "\n",
    "print(round(cl,4),',', round(ch,4))\n",
    "print(round(sample_mean,3))\n",
    "print(round(sample_variance,3))"
   ]
  },
  {
   "cell_type": "code",
   "execution_count": null,
   "id": "d347bcb7-fc3b-4de3-8183-8c5dbc2a2d9e",
   "metadata": {},
   "outputs": [],
   "source": [
    "differences = e['difference_ind'] - b['difference_ind']\n",
    "sample_mean = differences.sum()/len(differences)\n",
    "sample_variance = (differences - sample_mean).apply(lambda x: x*x).sum()/len(differences - 1)\n",
    "cc = ci(sample_mean, len(differences), sample_variance)\n",
    "cl, ch = (sample_mean - cc, sample_mean + cc)\n",
    "\n",
    "print(round(cl,4),',', round(ch,4))\n",
    "print(round(sample_mean,3))\n",
    "print(round(sample_variance,3))"
   ]
  },
  {
   "cell_type": "code",
   "execution_count": null,
   "id": "3c86f4d0-f4b6-42dc-80a8-23b3ac6b7054",
   "metadata": {},
   "outputs": [],
   "source": [
    "differences = e['difference_ind'] - c['difference_ind']\n",
    "sample_mean = differences.sum()/len(differences)\n",
    "sample_variance = (differences - sample_mean).apply(lambda x: x*x).sum()/len(differences - 1)\n",
    "cc = ci(sample_mean, len(differences), sample_variance)\n",
    "cl, ch = (sample_mean - cc, sample_mean + cc)\n",
    "\n",
    "print(round(cl,4),',', round(ch,4))\n",
    "print(round(sample_mean,3))\n",
    "print(round(sample_variance,3))"
   ]
  },
  {
   "cell_type": "code",
   "execution_count": null,
   "id": "8581941e-f30e-411d-abb8-e5b072d52f5f",
   "metadata": {},
   "outputs": [],
   "source": [
    "differences = e['difference_ind'] - d['difference_ind']\n",
    "sample_mean = differences.sum()/len(differences)\n",
    "sample_variance = (differences - sample_mean).apply(lambda x: x*x).sum()/len(differences - 1)\n",
    "cc = ci(sample_mean, len(differences), sample_variance)\n",
    "cl, ch = (sample_mean - cc, sample_mean + cc)\n",
    "\n",
    "print(round(cl,4),',', round(ch,4))\n",
    "print(round(sample_mean,3))\n",
    "print(round(sample_variance,3))"
   ]
  }
 ],
 "metadata": {
  "kernelspec": {
   "display_name": "Python 3 (ipykernel)",
   "language": "python",
   "name": "python3"
  },
  "language_info": {
   "codemirror_mode": {
    "name": "ipython",
    "version": 3
   },
   "file_extension": ".py",
   "mimetype": "text/x-python",
   "name": "python",
   "nbconvert_exporter": "python",
   "pygments_lexer": "ipython3",
   "version": "3.7.12"
  }
 },
 "nbformat": 4,
 "nbformat_minor": 5
}
