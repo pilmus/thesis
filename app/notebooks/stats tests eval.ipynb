{
 "cells": [
  {
   "cell_type": "markdown",
   "id": "f4039d64-b6e6-4d13-80e9-f7b88fec0345",
   "metadata": {},
   "source": [
    "# Statistical analysis eval runs"
   ]
  },
  {
   "cell_type": "markdown",
   "id": "a0a745d0-4bdf-4788-841f-42469caa4f8c",
   "metadata": {},
   "source": [
    "## Setup"
   ]
  },
  {
   "cell_type": "code",
   "execution_count": 1,
   "id": "d5ad3767",
   "metadata": {},
   "outputs": [],
   "source": [
    "%matplotlib inline"
   ]
  },
  {
   "cell_type": "code",
   "execution_count": 2,
   "id": "e68f75ad",
   "metadata": {},
   "outputs": [],
   "source": [
    "import pandas as pd\n",
    "pd.set_option(\"display.width\", 100)\n",
    "import matplotlib.pyplot as plt\n",
    "from statsmodels.formula.api import ols\n",
    "from statsmodels.graphics.api import interaction_plot, abline_plot\n",
    "from statsmodels.stats.anova import anova_lm\n",
    "import seaborn as sns\n",
    "\n",
    "from scipy import stats\n",
    "import math\n",
    "\n",
    "from collections import Counter\n",
    "\n",
    "pd.set_option('precision', 5)\n",
    "pd.set_option('display.float_format', lambda x: '%.5f' % x)\n",
    "\n",
    "\n"
   ]
  },
  {
   "cell_type": "markdown",
   "id": "95b52fd2-bd64-4523-90fe-14b98cade80c",
   "metadata": {},
   "source": [
    "### Load files"
   ]
  },
  {
   "cell_type": "code",
   "execution_count": 3,
   "id": "89313794",
   "metadata": {},
   "outputs": [
    {
     "data": {
      "text/html": [
       "<div>\n",
       "<style scoped>\n",
       "    .dataframe tbody tr th:only-of-type {\n",
       "        vertical-align: middle;\n",
       "    }\n",
       "\n",
       "    .dataframe tbody tr th {\n",
       "        vertical-align: top;\n",
       "    }\n",
       "\n",
       "    .dataframe thead th {\n",
       "        text-align: right;\n",
       "    }\n",
       "</style>\n",
       "<table border=\"1\" class=\"dataframe\">\n",
       "  <thead>\n",
       "    <tr style=\"text-align: right;\">\n",
       "      <th></th>\n",
       "      <th>difference</th>\n",
       "      <th>disparity</th>\n",
       "      <th>relevance</th>\n",
       "      <th>difference_ind</th>\n",
       "      <th>disparity_ind</th>\n",
       "      <th>relevance_ind</th>\n",
       "      <th>qid</th>\n",
       "      <th>source</th>\n",
       "      <th>system</th>\n",
       "    </tr>\n",
       "  </thead>\n",
       "  <tbody>\n",
       "    <tr>\n",
       "      <th>0</th>\n",
       "      <td>0.23910</td>\n",
       "      <td>1.42244</td>\n",
       "      <td>1.24913</td>\n",
       "      <td>0.14971</td>\n",
       "      <td>0.03529</td>\n",
       "      <td>0.01117</td>\n",
       "      <td>95</td>\n",
       "      <td>ac_controller_default_lm</td>\n",
       "      <td>LM + AC_dtd</td>\n",
       "    </tr>\n",
       "    <tr>\n",
       "      <th>1</th>\n",
       "      <td>0.76381</td>\n",
       "      <td>1.77053</td>\n",
       "      <td>1.38972</td>\n",
       "      <td>0.44681</td>\n",
       "      <td>0.17976</td>\n",
       "      <td>0.08696</td>\n",
       "      <td>612</td>\n",
       "      <td>ac_controller_default_lm</td>\n",
       "      <td>LM + AC_dtd</td>\n",
       "    </tr>\n",
       "    <tr>\n",
       "      <th>2</th>\n",
       "      <td>2.69675</td>\n",
       "      <td>1.76200</td>\n",
       "      <td>0.32276</td>\n",
       "      <td>0.77073</td>\n",
       "      <td>0.11388</td>\n",
       "      <td>0.06241</td>\n",
       "      <td>657</td>\n",
       "      <td>ac_controller_default_lm</td>\n",
       "      <td>LM + AC_dtd</td>\n",
       "    </tr>\n",
       "    <tr>\n",
       "      <th>3</th>\n",
       "      <td>0.17600</td>\n",
       "      <td>1.81185</td>\n",
       "      <td>1.29111</td>\n",
       "      <td>0.67444</td>\n",
       "      <td>0.25027</td>\n",
       "      <td>0.17895</td>\n",
       "      <td>771</td>\n",
       "      <td>ac_controller_default_lm</td>\n",
       "      <td>LM + AC_dtd</td>\n",
       "    </tr>\n",
       "    <tr>\n",
       "      <th>4</th>\n",
       "      <td>0.37616</td>\n",
       "      <td>1.73422</td>\n",
       "      <td>1.56520</td>\n",
       "      <td>0.48771</td>\n",
       "      <td>0.31650</td>\n",
       "      <td>0.20156</td>\n",
       "      <td>822</td>\n",
       "      <td>ac_controller_default_lm</td>\n",
       "      <td>LM + AC_dtd</td>\n",
       "    </tr>\n",
       "    <tr>\n",
       "      <th>...</th>\n",
       "      <td>...</td>\n",
       "      <td>...</td>\n",
       "      <td>...</td>\n",
       "      <td>...</td>\n",
       "      <td>...</td>\n",
       "      <td>...</td>\n",
       "      <td>...</td>\n",
       "      <td>...</td>\n",
       "      <td>...</td>\n",
       "    </tr>\n",
       "    <tr>\n",
       "      <th>1395</th>\n",
       "      <td>0.06794</td>\n",
       "      <td>2.07851</td>\n",
       "      <td>1.71860</td>\n",
       "      <td>0.07524</td>\n",
       "      <td>0.15761</td>\n",
       "      <td>0.13995</td>\n",
       "      <td>119231</td>\n",
       "      <td>mrfr_default_lm_eval</td>\n",
       "      <td>LM + RFR_dtd</td>\n",
       "    </tr>\n",
       "    <tr>\n",
       "      <th>1396</th>\n",
       "      <td>0.10978</td>\n",
       "      <td>2.17396</td>\n",
       "      <td>1.92162</td>\n",
       "      <td>0.57496</td>\n",
       "      <td>0.35774</td>\n",
       "      <td>0.28288</td>\n",
       "      <td>123512</td>\n",
       "      <td>mrfr_default_lm_eval</td>\n",
       "      <td>LM + RFR_dtd</td>\n",
       "    </tr>\n",
       "    <tr>\n",
       "      <th>1397</th>\n",
       "      <td>0.27117</td>\n",
       "      <td>1.42900</td>\n",
       "      <td>0.95225</td>\n",
       "      <td>0.16322</td>\n",
       "      <td>0.19395</td>\n",
       "      <td>0.10425</td>\n",
       "      <td>126740</td>\n",
       "      <td>mrfr_default_lm_eval</td>\n",
       "      <td>LM + RFR_dtd</td>\n",
       "    </tr>\n",
       "    <tr>\n",
       "      <th>1398</th>\n",
       "      <td>0.48640</td>\n",
       "      <td>1.10121</td>\n",
       "      <td>0.79658</td>\n",
       "      <td>0.40619</td>\n",
       "      <td>0.19921</td>\n",
       "      <td>0.18365</td>\n",
       "      <td>128050</td>\n",
       "      <td>mrfr_default_lm_eval</td>\n",
       "      <td>LM + RFR_dtd</td>\n",
       "    </tr>\n",
       "    <tr>\n",
       "      <th>1399</th>\n",
       "      <td>0.25877</td>\n",
       "      <td>2.16132</td>\n",
       "      <td>1.84296</td>\n",
       "      <td>0.72059</td>\n",
       "      <td>0.17377</td>\n",
       "      <td>0.11749</td>\n",
       "      <td>128604</td>\n",
       "      <td>mrfr_default_lm_eval</td>\n",
       "      <td>LM + RFR_dtd</td>\n",
       "    </tr>\n",
       "  </tbody>\n",
       "</table>\n",
       "<p>1400 rows × 9 columns</p>\n",
       "</div>"
      ],
      "text/plain": [
       "      difference  disparity  relevance  difference_ind  disparity_ind  relevance_ind     qid  \\\n",
       "0        0.23910    1.42244    1.24913         0.14971        0.03529        0.01117      95   \n",
       "1        0.76381    1.77053    1.38972         0.44681        0.17976        0.08696     612   \n",
       "2        2.69675    1.76200    0.32276         0.77073        0.11388        0.06241     657   \n",
       "3        0.17600    1.81185    1.29111         0.67444        0.25027        0.17895     771   \n",
       "4        0.37616    1.73422    1.56520         0.48771        0.31650        0.20156     822   \n",
       "...          ...        ...        ...             ...            ...            ...     ...   \n",
       "1395     0.06794    2.07851    1.71860         0.07524        0.15761        0.13995  119231   \n",
       "1396     0.10978    2.17396    1.92162         0.57496        0.35774        0.28288  123512   \n",
       "1397     0.27117    1.42900    0.95225         0.16322        0.19395        0.10425  126740   \n",
       "1398     0.48640    1.10121    0.79658         0.40619        0.19921        0.18365  128050   \n",
       "1399     0.25877    2.16132    1.84296         0.72059        0.17377        0.11749  128604   \n",
       "\n",
       "                        source        system  \n",
       "0     ac_controller_default_lm   LM + AC_dtd  \n",
       "1     ac_controller_default_lm   LM + AC_dtd  \n",
       "2     ac_controller_default_lm   LM + AC_dtd  \n",
       "3     ac_controller_default_lm   LM + AC_dtd  \n",
       "4     ac_controller_default_lm   LM + AC_dtd  \n",
       "...                        ...           ...  \n",
       "1395      mrfr_default_lm_eval  LM + RFR_dtd  \n",
       "1396      mrfr_default_lm_eval  LM + RFR_dtd  \n",
       "1397      mrfr_default_lm_eval  LM + RFR_dtd  \n",
       "1398      mrfr_default_lm_eval  LM + RFR_dtd  \n",
       "1399      mrfr_default_lm_eval  LM + RFR_dtd  \n",
       "\n",
       "[1400 rows x 9 columns]"
      ]
     },
     "execution_count": 3,
     "metadata": {},
     "output_type": "execute_result"
    }
   ],
   "source": [
    "experiments = pd.read_csv('../evaluation/resources/2020/all_experiments_eval.csv')\n",
    "experiments.source = experiments.source.apply(lambda row: row.replace('_TREC-Fair-Ranking-eval-sample-full-annotations-DocLevel-mixed_group-qrels_EEL',''))\n",
    "experiments"
   ]
  },
  {
   "cell_type": "code",
   "execution_count": 4,
   "id": "d7435411-b0bc-40ce-8bef-a8cd696f15c5",
   "metadata": {},
   "outputs": [
    {
     "data": {
      "text/html": [
       "<div>\n",
       "<style scoped>\n",
       "    .dataframe tbody tr th:only-of-type {\n",
       "        vertical-align: middle;\n",
       "    }\n",
       "\n",
       "    .dataframe tbody tr th {\n",
       "        vertical-align: top;\n",
       "    }\n",
       "\n",
       "    .dataframe thead th {\n",
       "        text-align: right;\n",
       "    }\n",
       "</style>\n",
       "<table border=\"1\" class=\"dataframe\">\n",
       "  <thead>\n",
       "    <tr style=\"text-align: right;\">\n",
       "      <th></th>\n",
       "      <th>difference</th>\n",
       "      <th>disparity</th>\n",
       "      <th>relevance</th>\n",
       "      <th>difference_ind</th>\n",
       "      <th>disparity_ind</th>\n",
       "      <th>relevance_ind</th>\n",
       "      <th>qid</th>\n",
       "      <th>source</th>\n",
       "      <th>system</th>\n",
       "    </tr>\n",
       "  </thead>\n",
       "  <tbody>\n",
       "    <tr>\n",
       "      <th>0</th>\n",
       "      <td>1.51007</td>\n",
       "      <td>1.34901</td>\n",
       "      <td>0.57693</td>\n",
       "      <td>1.37280</td>\n",
       "      <td>1.25664</td>\n",
       "      <td>0.01030</td>\n",
       "      <td>95</td>\n",
       "      <td>trec_run.Deltr-gammas</td>\n",
       "      <td>TREC mean</td>\n",
       "    </tr>\n",
       "    <tr>\n",
       "      <th>1</th>\n",
       "      <td>0.07098</td>\n",
       "      <td>1.98317</td>\n",
       "      <td>1.84246</td>\n",
       "      <td>0.93773</td>\n",
       "      <td>0.96372</td>\n",
       "      <td>0.23349</td>\n",
       "      <td>612</td>\n",
       "      <td>trec_run.Deltr-gammas</td>\n",
       "      <td>TREC mean</td>\n",
       "    </tr>\n",
       "    <tr>\n",
       "      <th>2</th>\n",
       "      <td>3.05426</td>\n",
       "      <td>1.75627</td>\n",
       "      <td>0.14114</td>\n",
       "      <td>2.07657</td>\n",
       "      <td>1.31770</td>\n",
       "      <td>0.01139</td>\n",
       "      <td>657</td>\n",
       "      <td>trec_run.Deltr-gammas</td>\n",
       "      <td>TREC mean</td>\n",
       "    </tr>\n",
       "    <tr>\n",
       "      <th>3</th>\n",
       "      <td>0.66066</td>\n",
       "      <td>2.41739</td>\n",
       "      <td>1.35155</td>\n",
       "      <td>2.08090</td>\n",
       "      <td>1.33319</td>\n",
       "      <td>0.01718</td>\n",
       "      <td>771</td>\n",
       "      <td>trec_run.Deltr-gammas</td>\n",
       "      <td>TREC mean</td>\n",
       "    </tr>\n",
       "    <tr>\n",
       "      <th>4</th>\n",
       "      <td>0.01574</td>\n",
       "      <td>2.10948</td>\n",
       "      <td>1.93304</td>\n",
       "      <td>0.63216</td>\n",
       "      <td>0.93686</td>\n",
       "      <td>0.43951</td>\n",
       "      <td>822</td>\n",
       "      <td>trec_run.Deltr-gammas</td>\n",
       "      <td>TREC mean</td>\n",
       "    </tr>\n",
       "    <tr>\n",
       "      <th>...</th>\n",
       "      <td>...</td>\n",
       "      <td>...</td>\n",
       "      <td>...</td>\n",
       "      <td>...</td>\n",
       "      <td>...</td>\n",
       "      <td>...</td>\n",
       "      <td>...</td>\n",
       "      <td>...</td>\n",
       "      <td>...</td>\n",
       "    </tr>\n",
       "    <tr>\n",
       "      <th>4595</th>\n",
       "      <td>0.26294</td>\n",
       "      <td>2.81128</td>\n",
       "      <td>1.98748</td>\n",
       "      <td>1.27396</td>\n",
       "      <td>1.26686</td>\n",
       "      <td>0.09522</td>\n",
       "      <td>119231</td>\n",
       "      <td>trec_run.UW_Kr_r60g20c20</td>\n",
       "      <td>TREC mean</td>\n",
       "    </tr>\n",
       "    <tr>\n",
       "      <th>4596</th>\n",
       "      <td>0.25114</td>\n",
       "      <td>3.36546</td>\n",
       "      <td>2.44670</td>\n",
       "      <td>1.72420</td>\n",
       "      <td>1.31765</td>\n",
       "      <td>0.18821</td>\n",
       "      <td>123512</td>\n",
       "      <td>trec_run.UW_Kr_r60g20c20</td>\n",
       "      <td>TREC mean</td>\n",
       "    </tr>\n",
       "    <tr>\n",
       "      <th>4597</th>\n",
       "      <td>0.98612</td>\n",
       "      <td>1.65765</td>\n",
       "      <td>0.70910</td>\n",
       "      <td>0.94758</td>\n",
       "      <td>1.07918</td>\n",
       "      <td>0.15469</td>\n",
       "      <td>126740</td>\n",
       "      <td>trec_run.UW_Kr_r60g20c20</td>\n",
       "      <td>TREC mean</td>\n",
       "    </tr>\n",
       "    <tr>\n",
       "      <th>4598</th>\n",
       "      <td>0.61913</td>\n",
       "      <td>1.11836</td>\n",
       "      <td>0.73879</td>\n",
       "      <td>0.54767</td>\n",
       "      <td>1.06771</td>\n",
       "      <td>0.54716</td>\n",
       "      <td>128050</td>\n",
       "      <td>trec_run.UW_Kr_r60g20c20</td>\n",
       "      <td>TREC mean</td>\n",
       "    </tr>\n",
       "    <tr>\n",
       "      <th>4599</th>\n",
       "      <td>1.14843</td>\n",
       "      <td>2.00346</td>\n",
       "      <td>1.31920</td>\n",
       "      <td>2.09698</td>\n",
       "      <td>1.33333</td>\n",
       "      <td>0.00908</td>\n",
       "      <td>128604</td>\n",
       "      <td>trec_run.UW_Kr_r60g20c20</td>\n",
       "      <td>TREC mean</td>\n",
       "    </tr>\n",
       "  </tbody>\n",
       "</table>\n",
       "<p>4600 rows × 9 columns</p>\n",
       "</div>"
      ],
      "text/plain": [
       "      difference  disparity  relevance  difference_ind  disparity_ind  relevance_ind     qid  \\\n",
       "0        1.51007    1.34901    0.57693         1.37280        1.25664        0.01030      95   \n",
       "1        0.07098    1.98317    1.84246         0.93773        0.96372        0.23349     612   \n",
       "2        3.05426    1.75627    0.14114         2.07657        1.31770        0.01139     657   \n",
       "3        0.66066    2.41739    1.35155         2.08090        1.33319        0.01718     771   \n",
       "4        0.01574    2.10948    1.93304         0.63216        0.93686        0.43951     822   \n",
       "...          ...        ...        ...             ...            ...            ...     ...   \n",
       "4595     0.26294    2.81128    1.98748         1.27396        1.26686        0.09522  119231   \n",
       "4596     0.25114    3.36546    2.44670         1.72420        1.31765        0.18821  123512   \n",
       "4597     0.98612    1.65765    0.70910         0.94758        1.07918        0.15469  126740   \n",
       "4598     0.61913    1.11836    0.73879         0.54767        1.06771        0.54716  128050   \n",
       "4599     1.14843    2.00346    1.31920         2.09698        1.33333        0.00908  128604   \n",
       "\n",
       "                        source     system  \n",
       "0        trec_run.Deltr-gammas  TREC mean  \n",
       "1        trec_run.Deltr-gammas  TREC mean  \n",
       "2        trec_run.Deltr-gammas  TREC mean  \n",
       "3        trec_run.Deltr-gammas  TREC mean  \n",
       "4        trec_run.Deltr-gammas  TREC mean  \n",
       "...                        ...        ...  \n",
       "4595  trec_run.UW_Kr_r60g20c20  TREC mean  \n",
       "4596  trec_run.UW_Kr_r60g20c20  TREC mean  \n",
       "4597  trec_run.UW_Kr_r60g20c20  TREC mean  \n",
       "4598  trec_run.UW_Kr_r60g20c20  TREC mean  \n",
       "4599  trec_run.UW_Kr_r60g20c20  TREC mean  \n",
       "\n",
       "[4600 rows x 9 columns]"
      ]
     },
     "execution_count": 4,
     "metadata": {},
     "output_type": "execute_result"
    }
   ],
   "source": [
    "trec_runs = pd.read_csv('../evaluation/resources/2020/all_experiments_eval_tr.csv')\n",
    "trec_runs.source = trec_runs.source.apply(lambda row: row.replace('_TREC-Fair-Ranking-eval-sample-full-annotations-DocLevel-mixed_group-qrels_EEL',''))\n",
    "trec_runs['system'] = 'TREC mean'\n",
    "trec_runs"
   ]
  },
  {
   "cell_type": "code",
   "execution_count": 5,
   "id": "b70d6e9f-e38a-4126-a931-e16a1d635913",
   "metadata": {},
   "outputs": [
    {
     "data": {
      "text/html": [
       "<div>\n",
       "<style scoped>\n",
       "    .dataframe tbody tr th:only-of-type {\n",
       "        vertical-align: middle;\n",
       "    }\n",
       "\n",
       "    .dataframe tbody tr th {\n",
       "        vertical-align: top;\n",
       "    }\n",
       "\n",
       "    .dataframe thead th {\n",
       "        text-align: right;\n",
       "    }\n",
       "</style>\n",
       "<table border=\"1\" class=\"dataframe\">\n",
       "  <thead>\n",
       "    <tr style=\"text-align: right;\">\n",
       "      <th></th>\n",
       "      <th>qid</th>\n",
       "      <th>difference</th>\n",
       "      <th>disparity</th>\n",
       "      <th>relevance</th>\n",
       "      <th>difference_ind</th>\n",
       "      <th>disparity_ind</th>\n",
       "      <th>relevance_ind</th>\n",
       "      <th>system</th>\n",
       "    </tr>\n",
       "  </thead>\n",
       "  <tbody>\n",
       "    <tr>\n",
       "      <th>0</th>\n",
       "      <td>95</td>\n",
       "      <td>0.60857</td>\n",
       "      <td>2.74279</td>\n",
       "      <td>1.72457</td>\n",
       "      <td>1.06185</td>\n",
       "      <td>0.93675</td>\n",
       "      <td>0.00582</td>\n",
       "      <td>TREC mean</td>\n",
       "    </tr>\n",
       "    <tr>\n",
       "      <th>1</th>\n",
       "      <td>612</td>\n",
       "      <td>1.01391</td>\n",
       "      <td>2.43918</td>\n",
       "      <td>1.59900</td>\n",
       "      <td>1.22390</td>\n",
       "      <td>0.91528</td>\n",
       "      <td>0.06618</td>\n",
       "      <td>TREC mean</td>\n",
       "    </tr>\n",
       "    <tr>\n",
       "      <th>2</th>\n",
       "      <td>657</td>\n",
       "      <td>3.40445</td>\n",
       "      <td>2.35234</td>\n",
       "      <td>0.26407</td>\n",
       "      <td>1.55008</td>\n",
       "      <td>0.86590</td>\n",
       "      <td>0.04874</td>\n",
       "      <td>TREC mean</td>\n",
       "    </tr>\n",
       "    <tr>\n",
       "      <th>3</th>\n",
       "      <td>771</td>\n",
       "      <td>1.00722</td>\n",
       "      <td>2.72797</td>\n",
       "      <td>1.33356</td>\n",
       "      <td>1.51243</td>\n",
       "      <td>0.98721</td>\n",
       "      <td>0.12842</td>\n",
       "      <td>TREC mean</td>\n",
       "    </tr>\n",
       "    <tr>\n",
       "      <th>4</th>\n",
       "      <td>822</td>\n",
       "      <td>0.65296</td>\n",
       "      <td>2.20431</td>\n",
       "      <td>1.66184</td>\n",
       "      <td>1.25084</td>\n",
       "      <td>0.99320</td>\n",
       "      <td>0.15834</td>\n",
       "      <td>TREC mean</td>\n",
       "    </tr>\n",
       "    <tr>\n",
       "      <th>...</th>\n",
       "      <td>...</td>\n",
       "      <td>...</td>\n",
       "      <td>...</td>\n",
       "      <td>...</td>\n",
       "      <td>...</td>\n",
       "      <td>...</td>\n",
       "      <td>...</td>\n",
       "      <td>...</td>\n",
       "    </tr>\n",
       "    <tr>\n",
       "      <th>195</th>\n",
       "      <td>119231</td>\n",
       "      <td>0.35149</td>\n",
       "      <td>2.34169</td>\n",
       "      <td>1.70841</td>\n",
       "      <td>0.77897</td>\n",
       "      <td>0.83099</td>\n",
       "      <td>0.12478</td>\n",
       "      <td>TREC mean</td>\n",
       "    </tr>\n",
       "    <tr>\n",
       "      <th>196</th>\n",
       "      <td>123512</td>\n",
       "      <td>0.42510</td>\n",
       "      <td>2.49884</td>\n",
       "      <td>1.92640</td>\n",
       "      <td>1.21086</td>\n",
       "      <td>0.93900</td>\n",
       "      <td>0.25556</td>\n",
       "      <td>TREC mean</td>\n",
       "    </tr>\n",
       "    <tr>\n",
       "      <th>197</th>\n",
       "      <td>126740</td>\n",
       "      <td>0.48605</td>\n",
       "      <td>1.60679</td>\n",
       "      <td>0.93370</td>\n",
       "      <td>0.85543</td>\n",
       "      <td>0.83660</td>\n",
       "      <td>0.07948</td>\n",
       "      <td>TREC mean</td>\n",
       "    </tr>\n",
       "    <tr>\n",
       "      <th>198</th>\n",
       "      <td>128050</td>\n",
       "      <td>0.80032</td>\n",
       "      <td>1.39898</td>\n",
       "      <td>0.78851</td>\n",
       "      <td>0.78801</td>\n",
       "      <td>0.85329</td>\n",
       "      <td>0.31978</td>\n",
       "      <td>TREC mean</td>\n",
       "    </tr>\n",
       "    <tr>\n",
       "      <th>199</th>\n",
       "      <td>128604</td>\n",
       "      <td>0.71558</td>\n",
       "      <td>2.33087</td>\n",
       "      <td>1.69932</td>\n",
       "      <td>1.65391</td>\n",
       "      <td>0.95043</td>\n",
       "      <td>0.03916</td>\n",
       "      <td>TREC mean</td>\n",
       "    </tr>\n",
       "  </tbody>\n",
       "</table>\n",
       "<p>200 rows × 8 columns</p>\n",
       "</div>"
      ],
      "text/plain": [
       "        qid  difference  disparity  relevance  difference_ind  disparity_ind  relevance_ind  \\\n",
       "0        95     0.60857    2.74279    1.72457         1.06185        0.93675        0.00582   \n",
       "1       612     1.01391    2.43918    1.59900         1.22390        0.91528        0.06618   \n",
       "2       657     3.40445    2.35234    0.26407         1.55008        0.86590        0.04874   \n",
       "3       771     1.00722    2.72797    1.33356         1.51243        0.98721        0.12842   \n",
       "4       822     0.65296    2.20431    1.66184         1.25084        0.99320        0.15834   \n",
       "..      ...         ...        ...        ...             ...            ...            ...   \n",
       "195  119231     0.35149    2.34169    1.70841         0.77897        0.83099        0.12478   \n",
       "196  123512     0.42510    2.49884    1.92640         1.21086        0.93900        0.25556   \n",
       "197  126740     0.48605    1.60679    0.93370         0.85543        0.83660        0.07948   \n",
       "198  128050     0.80032    1.39898    0.78851         0.78801        0.85329        0.31978   \n",
       "199  128604     0.71558    2.33087    1.69932         1.65391        0.95043        0.03916   \n",
       "\n",
       "        system  \n",
       "0    TREC mean  \n",
       "1    TREC mean  \n",
       "2    TREC mean  \n",
       "3    TREC mean  \n",
       "4    TREC mean  \n",
       "..         ...  \n",
       "195  TREC mean  \n",
       "196  TREC mean  \n",
       "197  TREC mean  \n",
       "198  TREC mean  \n",
       "199  TREC mean  \n",
       "\n",
       "[200 rows x 8 columns]"
      ]
     },
     "execution_count": 5,
     "metadata": {},
     "output_type": "execute_result"
    }
   ],
   "source": [
    "trec_means = pd.merge(trec_runs.groupby('qid').mean().reset_index(), trec_runs[['qid','system']].drop_duplicates(), on='qid',how='left')\n",
    "trec_means"
   ]
  },
  {
   "cell_type": "code",
   "execution_count": 138,
   "id": "39f96450-a308-4101-99da-b0f23dda968d",
   "metadata": {},
   "outputs": [
    {
     "name": "stderr",
     "output_type": "stream",
     "text": [
      "/home/pilmus/thesis/venv37/lib/python3.7/site-packages/ipykernel_launcher.py:1: FutureWarning: Dropping of nuisance columns in DataFrame reductions (with 'numeric_only=None') is deprecated; in a future version this will raise TypeError.  Select only valid columns before calling the reduction.\n",
      "  \"\"\"Entry point for launching an IPython kernel.\n"
     ]
    },
    {
     "data": {
      "text/plain": [
       "qid              43107.52500\n",
       "difference           0.74901\n",
       "disparity            2.16609\n",
       "relevance            1.32899\n",
       "difference_ind       1.17066\n",
       "disparity_ind        0.90616\n",
       "relevance_ind        0.16966\n",
       "dtype: float64"
      ]
     },
     "execution_count": 138,
     "metadata": {},
     "output_type": "execute_result"
    }
   ],
   "source": [
    "trec_means.mean()"
   ]
  },
  {
   "cell_type": "markdown",
   "id": "bb5e0d98-3089-4fe5-b228-8320ff69a22d",
   "metadata": {},
   "source": [
    "### effect size methods"
   ]
  },
  {
   "cell_type": "code",
   "execution_count": 6,
   "id": "45d2d157",
   "metadata": {},
   "outputs": [],
   "source": [
    "def omega_squared(ms_effect, ms_error, df_effect, ss_total):\n",
    "    return (df_effect * (ms_effect - ms_error)) / (ss_total - ms_error)"
   ]
  },
  {
   "cell_type": "code",
   "execution_count": 7,
   "id": "37c1f3a9",
   "metadata": {},
   "outputs": [],
   "source": [
    "def omega_squared_partial(ms_effect, ms_error, df_effect, total_observations):\n",
    "    return (df_effect * (ms_effect - ms_error)) / ((total_observations - df_effect) * ms_error)"
   ]
  },
  {
   "cell_type": "code",
   "execution_count": 8,
   "id": "4dba732a-659a-4721-87b7-5494b1642518",
   "metadata": {},
   "outputs": [],
   "source": [
    "def eta_squared(ss_effect, ss_total, roundd=True):\n",
    "    if roundd:\n",
    "        return round(ss_effect/ss_total,5)\n",
    "    else:\n",
    "        return ss_effect/ss_total"
   ]
  },
  {
   "cell_type": "code",
   "execution_count": 9,
   "id": "c2904638-ca25-46c2-8b2c-ffd877adbe39",
   "metadata": {},
   "outputs": [],
   "source": [
    "def eta_squared_partial(ss_effect, ss_error, roundd=True):\n",
    "    if roundd:\n",
    "        return round(ss_effect/(ss_effect + ss_error),5)\n",
    "    else:\n",
    "        return ss_effect/(ss_effect + ss_error)"
   ]
  },
  {
   "cell_type": "code",
   "execution_count": 10,
   "id": "a606710b",
   "metadata": {},
   "outputs": [],
   "source": [
    "def cohens_d(m1, m2, ms_error):\n",
    "    return abs(m1 - m2) / math.sqrt(ms_error)"
   ]
  },
  {
   "cell_type": "code",
   "execution_count": 11,
   "id": "7af7b8fa",
   "metadata": {
    "tags": []
   },
   "outputs": [],
   "source": [
    "def ci(num_observations, ms_error):\n",
    "    t = stats.t.ppf(1-0.025, num_observations)\n",
    "    return t*math.sqrt(ms_error/num_observations)"
   ]
  },
  {
   "cell_type": "markdown",
   "id": "38259c17-a412-4aec-bc95-cb1b7eff7cb4",
   "metadata": {},
   "source": [
    "## Overall performance"
   ]
  },
  {
   "cell_type": "code",
   "execution_count": 12,
   "id": "7794c367",
   "metadata": {},
   "outputs": [
    {
     "data": {
      "text/html": [
       "<div>\n",
       "<style scoped>\n",
       "    .dataframe tbody tr th:only-of-type {\n",
       "        vertical-align: middle;\n",
       "    }\n",
       "\n",
       "    .dataframe tbody tr th {\n",
       "        vertical-align: top;\n",
       "    }\n",
       "\n",
       "    .dataframe thead th {\n",
       "        text-align: right;\n",
       "    }\n",
       "</style>\n",
       "<table border=\"1\" class=\"dataframe\">\n",
       "  <thead>\n",
       "    <tr style=\"text-align: right;\">\n",
       "      <th></th>\n",
       "      <th>difference</th>\n",
       "      <th>disparity</th>\n",
       "      <th>relevance</th>\n",
       "      <th>difference_ind</th>\n",
       "      <th>disparity_ind</th>\n",
       "      <th>relevance_ind</th>\n",
       "      <th>qid</th>\n",
       "    </tr>\n",
       "    <tr>\n",
       "      <th>source</th>\n",
       "      <th></th>\n",
       "      <th></th>\n",
       "      <th></th>\n",
       "      <th></th>\n",
       "      <th></th>\n",
       "      <th></th>\n",
       "      <th></th>\n",
       "    </tr>\n",
       "  </thead>\n",
       "  <tbody>\n",
       "    <tr>\n",
       "      <th>ac_controller_default_lm</th>\n",
       "      <td>0.41559</td>\n",
       "      <td>1.84050</td>\n",
       "      <td>1.33291</td>\n",
       "      <td>0.51367</td>\n",
       "      <td>0.23806</td>\n",
       "      <td>0.16411</td>\n",
       "      <td>43107.52500</td>\n",
       "    </tr>\n",
       "    <tr>\n",
       "      <th>ac_controller_default_meta_9_eval</th>\n",
       "      <td>0.40315</td>\n",
       "      <td>1.84397</td>\n",
       "      <td>1.34087</td>\n",
       "      <td>0.49501</td>\n",
       "      <td>0.19412</td>\n",
       "      <td>0.15147</td>\n",
       "      <td>43107.52500</td>\n",
       "    </tr>\n",
       "    <tr>\n",
       "      <th>ac_controller_default_meta_9_eval_old_config</th>\n",
       "      <td>0.42889</td>\n",
       "      <td>1.90082</td>\n",
       "      <td>1.35642</td>\n",
       "      <td>0.57185</td>\n",
       "      <td>0.26984</td>\n",
       "      <td>0.15091</td>\n",
       "      <td>43107.52500</td>\n",
       "    </tr>\n",
       "    <tr>\n",
       "      <th>ac_controller_default_text_9_eval</th>\n",
       "      <td>0.41089</td>\n",
       "      <td>1.85321</td>\n",
       "      <td>1.34161</td>\n",
       "      <td>0.49868</td>\n",
       "      <td>0.19300</td>\n",
       "      <td>0.14907</td>\n",
       "      <td>43107.52500</td>\n",
       "    </tr>\n",
       "    <tr>\n",
       "      <th>ac_controller_default_text_9_eval_old_config</th>\n",
       "      <td>0.44616</td>\n",
       "      <td>1.91961</td>\n",
       "      <td>1.35718</td>\n",
       "      <td>0.58846</td>\n",
       "      <td>0.27997</td>\n",
       "      <td>0.14766</td>\n",
       "      <td>43107.52500</td>\n",
       "    </tr>\n",
       "    <tr>\n",
       "      <th>lambdamart_mrfr_default_default_random_state=0</th>\n",
       "      <td>0.90086</td>\n",
       "      <td>2.25789</td>\n",
       "      <td>1.29897</td>\n",
       "      <td>1.46104</td>\n",
       "      <td>1.25760</td>\n",
       "      <td>0.20019</td>\n",
       "      <td>43107.52500</td>\n",
       "    </tr>\n",
       "    <tr>\n",
       "      <th>mrfr_default_lm_eval</th>\n",
       "      <td>0.43274</td>\n",
       "      <td>1.85077</td>\n",
       "      <td>1.32947</td>\n",
       "      <td>0.54498</td>\n",
       "      <td>0.28124</td>\n",
       "      <td>0.17004</td>\n",
       "      <td>43107.52500</td>\n",
       "    </tr>\n",
       "  </tbody>\n",
       "</table>\n",
       "</div>"
      ],
      "text/plain": [
       "                                                difference  disparity  relevance  difference_ind  \\\n",
       "source                                                                                             \n",
       "ac_controller_default_lm                           0.41559    1.84050    1.33291         0.51367   \n",
       "ac_controller_default_meta_9_eval                  0.40315    1.84397    1.34087         0.49501   \n",
       "ac_controller_default_meta_9_eval_old_config       0.42889    1.90082    1.35642         0.57185   \n",
       "ac_controller_default_text_9_eval                  0.41089    1.85321    1.34161         0.49868   \n",
       "ac_controller_default_text_9_eval_old_config       0.44616    1.91961    1.35718         0.58846   \n",
       "lambdamart_mrfr_default_default_random_state=0     0.90086    2.25789    1.29897         1.46104   \n",
       "mrfr_default_lm_eval                               0.43274    1.85077    1.32947         0.54498   \n",
       "\n",
       "                                                disparity_ind  relevance_ind         qid  \n",
       "source                                                                                    \n",
       "ac_controller_default_lm                              0.23806        0.16411 43107.52500  \n",
       "ac_controller_default_meta_9_eval                     0.19412        0.15147 43107.52500  \n",
       "ac_controller_default_meta_9_eval_old_config          0.26984        0.15091 43107.52500  \n",
       "ac_controller_default_text_9_eval                     0.19300        0.14907 43107.52500  \n",
       "ac_controller_default_text_9_eval_old_config          0.27997        0.14766 43107.52500  \n",
       "lambdamart_mrfr_default_default_random_state=0        1.25760        0.20019 43107.52500  \n",
       "mrfr_default_lm_eval                                  0.28124        0.17004 43107.52500  "
      ]
     },
     "execution_count": 12,
     "metadata": {},
     "output_type": "execute_result"
    }
   ],
   "source": [
    "experiments.groupby('source').mean()"
   ]
  },
  {
   "cell_type": "markdown",
   "id": "d4ce4f36",
   "metadata": {},
   "source": [
    "## Is there a significant improvement in the performance of LambdaMart + RFR vs LambdaMart without RFR?"
   ]
  },
  {
   "cell_type": "markdown",
   "id": "593bdf74",
   "metadata": {},
   "source": [
    "### Select data"
   ]
  },
  {
   "cell_type": "code",
   "execution_count": 13,
   "id": "1b2d2d2e",
   "metadata": {},
   "outputs": [
    {
     "data": {
      "text/html": [
       "<div>\n",
       "<style scoped>\n",
       "    .dataframe tbody tr th:only-of-type {\n",
       "        vertical-align: middle;\n",
       "    }\n",
       "\n",
       "    .dataframe tbody tr th {\n",
       "        vertical-align: top;\n",
       "    }\n",
       "\n",
       "    .dataframe thead th {\n",
       "        text-align: right;\n",
       "    }\n",
       "</style>\n",
       "<table border=\"1\" class=\"dataframe\">\n",
       "  <thead>\n",
       "    <tr style=\"text-align: right;\">\n",
       "      <th></th>\n",
       "      <th>difference</th>\n",
       "      <th>disparity</th>\n",
       "      <th>relevance</th>\n",
       "      <th>difference_ind</th>\n",
       "      <th>disparity_ind</th>\n",
       "      <th>relevance_ind</th>\n",
       "      <th>qid</th>\n",
       "      <th>source</th>\n",
       "      <th>system</th>\n",
       "    </tr>\n",
       "  </thead>\n",
       "  <tbody>\n",
       "    <tr>\n",
       "      <th>0</th>\n",
       "      <td>3.43921</td>\n",
       "      <td>2.37181</td>\n",
       "      <td>0.12376</td>\n",
       "      <td>1.47008</td>\n",
       "      <td>1.33333</td>\n",
       "      <td>0.00000</td>\n",
       "      <td>95</td>\n",
       "      <td>lambdamart_mrfr_default_default_random_state=0</td>\n",
       "      <td>LM</td>\n",
       "    </tr>\n",
       "    <tr>\n",
       "      <th>1</th>\n",
       "      <td>0.23849</td>\n",
       "      <td>3.17613</td>\n",
       "      <td>2.35518</td>\n",
       "      <td>1.76139</td>\n",
       "      <td>1.33327</td>\n",
       "      <td>0.00643</td>\n",
       "      <td>612</td>\n",
       "      <td>lambdamart_mrfr_default_default_random_state=0</td>\n",
       "      <td>LM</td>\n",
       "    </tr>\n",
       "    <tr>\n",
       "      <th>2</th>\n",
       "      <td>4.47004</td>\n",
       "      <td>3.04736</td>\n",
       "      <td>0.07879</td>\n",
       "      <td>2.10123</td>\n",
       "      <td>1.33333</td>\n",
       "      <td>0.00688</td>\n",
       "      <td>657</td>\n",
       "      <td>lambdamart_mrfr_default_default_random_state=0</td>\n",
       "      <td>LM</td>\n",
       "    </tr>\n",
       "    <tr>\n",
       "      <th>3</th>\n",
       "      <td>1.74291</td>\n",
       "      <td>3.45954</td>\n",
       "      <td>1.33150</td>\n",
       "      <td>1.76575</td>\n",
       "      <td>1.31771</td>\n",
       "      <td>0.16702</td>\n",
       "      <td>771</td>\n",
       "      <td>lambdamart_mrfr_default_default_random_state=0</td>\n",
       "      <td>LM</td>\n",
       "    </tr>\n",
       "    <tr>\n",
       "      <th>4</th>\n",
       "      <td>0.01132</td>\n",
       "      <td>1.63152</td>\n",
       "      <td>1.69627</td>\n",
       "      <td>0.54744</td>\n",
       "      <td>1.06771</td>\n",
       "      <td>0.54729</td>\n",
       "      <td>822</td>\n",
       "      <td>lambdamart_mrfr_default_default_random_state=0</td>\n",
       "      <td>LM</td>\n",
       "    </tr>\n",
       "    <tr>\n",
       "      <th>...</th>\n",
       "      <td>...</td>\n",
       "      <td>...</td>\n",
       "      <td>...</td>\n",
       "      <td>...</td>\n",
       "      <td>...</td>\n",
       "      <td>...</td>\n",
       "      <td>...</td>\n",
       "      <td>...</td>\n",
       "      <td>...</td>\n",
       "    </tr>\n",
       "    <tr>\n",
       "      <th>395</th>\n",
       "      <td>0.06794</td>\n",
       "      <td>2.07851</td>\n",
       "      <td>1.71860</td>\n",
       "      <td>0.07524</td>\n",
       "      <td>0.15761</td>\n",
       "      <td>0.13995</td>\n",
       "      <td>119231</td>\n",
       "      <td>mrfr_default_lm_eval</td>\n",
       "      <td>LM + RFR_dtd</td>\n",
       "    </tr>\n",
       "    <tr>\n",
       "      <th>396</th>\n",
       "      <td>0.10978</td>\n",
       "      <td>2.17396</td>\n",
       "      <td>1.92162</td>\n",
       "      <td>0.57496</td>\n",
       "      <td>0.35774</td>\n",
       "      <td>0.28288</td>\n",
       "      <td>123512</td>\n",
       "      <td>mrfr_default_lm_eval</td>\n",
       "      <td>LM + RFR_dtd</td>\n",
       "    </tr>\n",
       "    <tr>\n",
       "      <th>397</th>\n",
       "      <td>0.27117</td>\n",
       "      <td>1.42900</td>\n",
       "      <td>0.95225</td>\n",
       "      <td>0.16322</td>\n",
       "      <td>0.19395</td>\n",
       "      <td>0.10425</td>\n",
       "      <td>126740</td>\n",
       "      <td>mrfr_default_lm_eval</td>\n",
       "      <td>LM + RFR_dtd</td>\n",
       "    </tr>\n",
       "    <tr>\n",
       "      <th>398</th>\n",
       "      <td>0.48640</td>\n",
       "      <td>1.10121</td>\n",
       "      <td>0.79658</td>\n",
       "      <td>0.40619</td>\n",
       "      <td>0.19921</td>\n",
       "      <td>0.18365</td>\n",
       "      <td>128050</td>\n",
       "      <td>mrfr_default_lm_eval</td>\n",
       "      <td>LM + RFR_dtd</td>\n",
       "    </tr>\n",
       "    <tr>\n",
       "      <th>399</th>\n",
       "      <td>0.25877</td>\n",
       "      <td>2.16132</td>\n",
       "      <td>1.84296</td>\n",
       "      <td>0.72059</td>\n",
       "      <td>0.17377</td>\n",
       "      <td>0.11749</td>\n",
       "      <td>128604</td>\n",
       "      <td>mrfr_default_lm_eval</td>\n",
       "      <td>LM + RFR_dtd</td>\n",
       "    </tr>\n",
       "  </tbody>\n",
       "</table>\n",
       "<p>400 rows × 9 columns</p>\n",
       "</div>"
      ],
      "text/plain": [
       "     difference  disparity  relevance  difference_ind  disparity_ind  relevance_ind     qid  \\\n",
       "0       3.43921    2.37181    0.12376         1.47008        1.33333        0.00000      95   \n",
       "1       0.23849    3.17613    2.35518         1.76139        1.33327        0.00643     612   \n",
       "2       4.47004    3.04736    0.07879         2.10123        1.33333        0.00688     657   \n",
       "3       1.74291    3.45954    1.33150         1.76575        1.31771        0.16702     771   \n",
       "4       0.01132    1.63152    1.69627         0.54744        1.06771        0.54729     822   \n",
       "..          ...        ...        ...             ...            ...            ...     ...   \n",
       "395     0.06794    2.07851    1.71860         0.07524        0.15761        0.13995  119231   \n",
       "396     0.10978    2.17396    1.92162         0.57496        0.35774        0.28288  123512   \n",
       "397     0.27117    1.42900    0.95225         0.16322        0.19395        0.10425  126740   \n",
       "398     0.48640    1.10121    0.79658         0.40619        0.19921        0.18365  128050   \n",
       "399     0.25877    2.16132    1.84296         0.72059        0.17377        0.11749  128604   \n",
       "\n",
       "                                             source        system  \n",
       "0    lambdamart_mrfr_default_default_random_state=0            LM  \n",
       "1    lambdamart_mrfr_default_default_random_state=0            LM  \n",
       "2    lambdamart_mrfr_default_default_random_state=0            LM  \n",
       "3    lambdamart_mrfr_default_default_random_state=0            LM  \n",
       "4    lambdamart_mrfr_default_default_random_state=0            LM  \n",
       "..                                              ...           ...  \n",
       "395                            mrfr_default_lm_eval  LM + RFR_dtd  \n",
       "396                            mrfr_default_lm_eval  LM + RFR_dtd  \n",
       "397                            mrfr_default_lm_eval  LM + RFR_dtd  \n",
       "398                            mrfr_default_lm_eval  LM + RFR_dtd  \n",
       "399                            mrfr_default_lm_eval  LM + RFR_dtd  \n",
       "\n",
       "[400 rows x 9 columns]"
      ]
     },
     "execution_count": 13,
     "metadata": {},
     "output_type": "execute_result"
    }
   ],
   "source": [
    "data = experiments[(experiments.source == 'lambdamart_mrfr_default_default_random_state=0') | (experiments.source == 'mrfr_default_lm_eval')]\n",
    "data = data.reset_index(drop=True)\n",
    "data"
   ]
  },
  {
   "cell_type": "markdown",
   "id": "2909af7f",
   "metadata": {},
   "source": [
    "### t-test eel"
   ]
  },
  {
   "cell_type": "code",
   "execution_count": 14,
   "id": "f05a0759-e9d4-4bf0-acd6-7f9d2a23137c",
   "metadata": {},
   "outputs": [],
   "source": [
    "from scipy import stats\n",
    "a = data.query('source == \"lambdamart_mrfr_default_default_random_state=0\"')['difference'].reset_index(drop=True)\n",
    "b = data.query('source == \"mrfr_default_lm_eval\"')['difference'].reset_index(drop=True)"
   ]
  },
  {
   "cell_type": "code",
   "execution_count": 15,
   "id": "8da755fd-cf4d-4eae-8921-f520bb799f56",
   "metadata": {},
   "outputs": [
    {
     "data": {
      "text/plain": [
       "Ttest_relResult(statistic=8.407746186402683, pvalue=7.973218663966157e-15)"
      ]
     },
     "execution_count": 15,
     "metadata": {},
     "output_type": "execute_result"
    }
   ],
   "source": [
    "stats.ttest_rel(a, b)"
   ]
  },
  {
   "cell_type": "markdown",
   "id": "e754a054-35f3-46e4-b441-69a0ba1c4000",
   "metadata": {},
   "source": [
    "The difference in scores is significant, p = 0.00000 < 0.05."
   ]
  },
  {
   "cell_type": "code",
   "execution_count": 16,
   "id": "57e5a3a6-c382-422c-a33e-f849cdb6b8f0",
   "metadata": {},
   "outputs": [],
   "source": [
    "def effect_size_t_test(a,b):\n",
    "    differences = a - b\n",
    "    sample_mean = differences.sum()/len(differences)\n",
    "    sample_variance = (differences - sample_mean).apply(lambda x: x*x).sum()/len(differences)\n",
    "    return round(abs(sample_mean) / math.sqrt(sample_variance),2)"
   ]
  },
  {
   "cell_type": "code",
   "execution_count": 17,
   "id": "290bd574-31f7-41db-954b-9a5b440ef6f8",
   "metadata": {},
   "outputs": [
    {
     "data": {
      "text/plain": [
       "0.6"
      ]
     },
     "execution_count": 17,
     "metadata": {},
     "output_type": "execute_result"
    }
   ],
   "source": [
    "effect_size_t_test(a,b)"
   ]
  },
  {
   "cell_type": "markdown",
   "id": "f7c72d6b-3255-420f-9ae6-b23ba3ecb99e",
   "metadata": {},
   "source": [
    "The effect size is moderate."
   ]
  },
  {
   "cell_type": "code",
   "execution_count": 18,
   "id": "b801313f-a05c-400a-a0b5-f61f93a62bf3",
   "metadata": {},
   "outputs": [],
   "source": [
    "differences = a - b.reset_index(drop=True)\n",
    "sample_mean = differences.sum()/len(differences)\n",
    "sample_variance = (differences - sample_mean).apply(lambda x: x*x).sum()/len(differences)"
   ]
  },
  {
   "cell_type": "code",
   "execution_count": 19,
   "id": "af5585cc-e1dd-4f33-ae72-3406f511ebfc",
   "metadata": {},
   "outputs": [
    {
     "data": {
      "text/plain": [
       "(0.36, 0.58)"
      ]
     },
     "execution_count": 19,
     "metadata": {},
     "output_type": "execute_result"
    }
   ],
   "source": [
    "c = ci(len(differences), sample_variance)\n",
    "cl, ch = (sample_mean - c, sample_mean + c)\n",
    "round(cl,2), round(ch,2)"
   ]
  },
  {
   "cell_type": "code",
   "execution_count": 20,
   "id": "917a1d7f-e590-4aae-a266-42636320eb1a",
   "metadata": {},
   "outputs": [
    {
     "data": {
      "text/plain": [
       "0.47"
      ]
     },
     "execution_count": 20,
     "metadata": {},
     "output_type": "execute_result"
    }
   ],
   "source": [
    "round(sample_mean,2)"
   ]
  },
  {
   "cell_type": "code",
   "execution_count": 21,
   "id": "3f65d107-a47a-4e93-b9a5-67a6bc98eb4c",
   "metadata": {},
   "outputs": [
    {
     "data": {
      "text/plain": [
       "0.62"
      ]
     },
     "execution_count": 21,
     "metadata": {},
     "output_type": "execute_result"
    }
   ],
   "source": [
    "round(sample_variance,2)"
   ]
  },
  {
   "cell_type": "markdown",
   "id": "1f37aef3-a19a-4963-afd8-c4a5ad725540",
   "metadata": {},
   "source": [
    "### t-test eel_ind"
   ]
  },
  {
   "cell_type": "code",
   "execution_count": 22,
   "id": "581ec54a-cd31-4d4d-adf3-7a867e1dce33",
   "metadata": {},
   "outputs": [],
   "source": [
    "from scipy import stats\n",
    "a = data.query('source == \"lambdamart_mrfr_default_default_random_state=0\"')['difference_ind'].reset_index(drop=True).reset_index(drop=True)\n",
    "b = data.query('source == \"mrfr_default_lm_eval\"')['difference_ind'].reset_index(drop=True)"
   ]
  },
  {
   "cell_type": "code",
   "execution_count": 23,
   "id": "efda9b87-429c-463a-8b6d-0f2e6c4400e0",
   "metadata": {},
   "outputs": [
    {
     "data": {
      "text/plain": [
       "Ttest_relResult(statistic=28.91908219056641, pvalue=3.420139013977315e-73)"
      ]
     },
     "execution_count": 23,
     "metadata": {},
     "output_type": "execute_result"
    }
   ],
   "source": [
    "stats.ttest_rel(a, b)"
   ]
  },
  {
   "cell_type": "markdown",
   "id": "54c96e48-7cdb-4211-8e6a-08d64fb98fce",
   "metadata": {},
   "source": [
    "The difference in scores is significant, p = 0.00000 < 0.05."
   ]
  },
  {
   "cell_type": "code",
   "execution_count": 24,
   "id": "dd9c002c-5cb5-4f9c-b6b6-acaf0720ce0a",
   "metadata": {},
   "outputs": [
    {
     "data": {
      "text/plain": [
       "2.05"
      ]
     },
     "execution_count": 24,
     "metadata": {},
     "output_type": "execute_result"
    }
   ],
   "source": [
    "round(effect_size_t_test(a,b),2)"
   ]
  },
  {
   "cell_type": "markdown",
   "id": "8caf18e5-e214-4bf8-addb-1dd3028c2930",
   "metadata": {},
   "source": [
    "The effect size is moderate."
   ]
  },
  {
   "cell_type": "code",
   "execution_count": 25,
   "id": "0e0bc2ab-b0ff-420e-a80d-2b25f856780b",
   "metadata": {},
   "outputs": [],
   "source": [
    "differences = a - b.reset_index(drop=True)\n",
    "sample_mean = differences.sum()/len(differences)\n",
    "sample_variance = (differences - sample_mean).apply(lambda x: x*x).sum()/len(differences)"
   ]
  },
  {
   "cell_type": "code",
   "execution_count": 26,
   "id": "83f3f2f4-08b9-4f6b-941c-cf4a18d7e711",
   "metadata": {},
   "outputs": [
    {
     "data": {
      "text/plain": [
       "(0.85, 0.98)"
      ]
     },
     "execution_count": 26,
     "metadata": {},
     "output_type": "execute_result"
    }
   ],
   "source": [
    "c = ci(len(differences), sample_variance)\n",
    "cl, ch = (sample_mean - c, sample_mean + c)\n",
    "round(cl,2), round(ch,2)"
   ]
  },
  {
   "cell_type": "code",
   "execution_count": 27,
   "id": "02b39f94-1673-49c3-b962-c71c20aeb4e2",
   "metadata": {},
   "outputs": [
    {
     "data": {
      "text/plain": [
       "0.92"
      ]
     },
     "execution_count": 27,
     "metadata": {},
     "output_type": "execute_result"
    }
   ],
   "source": [
    "round(sample_mean,2)"
   ]
  },
  {
   "cell_type": "code",
   "execution_count": 28,
   "id": "5735a4fe-35c8-43dd-b11c-95b444e40a78",
   "metadata": {},
   "outputs": [
    {
     "data": {
      "text/plain": [
       "0.2"
      ]
     },
     "execution_count": 28,
     "metadata": {},
     "output_type": "execute_result"
    }
   ],
   "source": [
    "round(sample_variance,2)"
   ]
  },
  {
   "cell_type": "markdown",
   "id": "d6ee7eb7-b324-4ecc-a802-040199d2cede",
   "metadata": {},
   "source": [
    "### Visualize means of the samples"
   ]
  },
  {
   "cell_type": "code",
   "execution_count": 29,
   "id": "19b04251-7d1d-452f-a294-edcfb1a44a54",
   "metadata": {},
   "outputs": [
    {
     "data": {
      "image/png": "[encoded data removed]",
      "text/plain": [
       "<Figure size 1440x720 with 2 Axes>"
      ]
     },
     "metadata": {
      "needs_background": "light"
     },
     "output_type": "display_data"
    }
   ],
   "source": [
    "fig, axs = plt.subplots(1,2,figsize=(20,10))\n",
    "# for ax in axs:\n",
    "#     ax.set_ylim(0, ymax)\n",
    "\n",
    "axs[0].set_title('Mean EEL (economic level)')\n",
    "axs[1].set_title('Mean EEL (individual)')\n",
    "\n",
    "_ = sns.barplot(x='system', y='difference',data=data,ax=axs[0])\n",
    "_ = sns.barplot(x='system', y='difference_ind',data=data,ax=axs[1])\n"
   ]
  },
  {
   "cell_type": "markdown",
   "id": "914e4833-5b0c-46fe-9104-ecb29a62c09c",
   "metadata": {},
   "source": [
    "## Is there a significant improvement in the performance of LambdaMart + AC vs LambdaMart without AC?"
   ]
  },
  {
   "cell_type": "markdown",
   "id": "fb9ca147-c79f-48a3-9a2b-aed21929c3ea",
   "metadata": {},
   "source": [
    "### Select data"
   ]
  },
  {
   "cell_type": "code",
   "execution_count": 30,
   "id": "2cec3d32-0877-4bf8-8292-7d1e086c184d",
   "metadata": {},
   "outputs": [],
   "source": [
    "s1 = 'lambdamart_mrfr_default_default_random_state=0'\n",
    "s2 = 'ac_controller_default_lm'"
   ]
  },
  {
   "cell_type": "code",
   "execution_count": 31,
   "id": "f6581e9c-b22f-4f3a-ad67-d3771f5486d9",
   "metadata": {},
   "outputs": [
    {
     "data": {
      "text/html": [
       "<div>\n",
       "<style scoped>\n",
       "    .dataframe tbody tr th:only-of-type {\n",
       "        vertical-align: middle;\n",
       "    }\n",
       "\n",
       "    .dataframe tbody tr th {\n",
       "        vertical-align: top;\n",
       "    }\n",
       "\n",
       "    .dataframe thead th {\n",
       "        text-align: right;\n",
       "    }\n",
       "</style>\n",
       "<table border=\"1\" class=\"dataframe\">\n",
       "  <thead>\n",
       "    <tr style=\"text-align: right;\">\n",
       "      <th></th>\n",
       "      <th>difference</th>\n",
       "      <th>disparity</th>\n",
       "      <th>relevance</th>\n",
       "      <th>difference_ind</th>\n",
       "      <th>disparity_ind</th>\n",
       "      <th>relevance_ind</th>\n",
       "      <th>qid</th>\n",
       "      <th>source</th>\n",
       "      <th>system</th>\n",
       "    </tr>\n",
       "  </thead>\n",
       "  <tbody>\n",
       "    <tr>\n",
       "      <th>0</th>\n",
       "      <td>0.23910</td>\n",
       "      <td>1.42244</td>\n",
       "      <td>1.24913</td>\n",
       "      <td>0.14971</td>\n",
       "      <td>0.03529</td>\n",
       "      <td>0.01117</td>\n",
       "      <td>95</td>\n",
       "      <td>ac_controller_default_lm</td>\n",
       "      <td>LM + AC_dtd</td>\n",
       "    </tr>\n",
       "    <tr>\n",
       "      <th>1</th>\n",
       "      <td>0.76381</td>\n",
       "      <td>1.77053</td>\n",
       "      <td>1.38972</td>\n",
       "      <td>0.44681</td>\n",
       "      <td>0.17976</td>\n",
       "      <td>0.08696</td>\n",
       "      <td>612</td>\n",
       "      <td>ac_controller_default_lm</td>\n",
       "      <td>LM + AC_dtd</td>\n",
       "    </tr>\n",
       "    <tr>\n",
       "      <th>2</th>\n",
       "      <td>2.69675</td>\n",
       "      <td>1.76200</td>\n",
       "      <td>0.32276</td>\n",
       "      <td>0.77073</td>\n",
       "      <td>0.11388</td>\n",
       "      <td>0.06241</td>\n",
       "      <td>657</td>\n",
       "      <td>ac_controller_default_lm</td>\n",
       "      <td>LM + AC_dtd</td>\n",
       "    </tr>\n",
       "    <tr>\n",
       "      <th>3</th>\n",
       "      <td>0.17600</td>\n",
       "      <td>1.81185</td>\n",
       "      <td>1.29111</td>\n",
       "      <td>0.67444</td>\n",
       "      <td>0.25027</td>\n",
       "      <td>0.17895</td>\n",
       "      <td>771</td>\n",
       "      <td>ac_controller_default_lm</td>\n",
       "      <td>LM + AC_dtd</td>\n",
       "    </tr>\n",
       "    <tr>\n",
       "      <th>4</th>\n",
       "      <td>0.37616</td>\n",
       "      <td>1.73422</td>\n",
       "      <td>1.56520</td>\n",
       "      <td>0.48771</td>\n",
       "      <td>0.31650</td>\n",
       "      <td>0.20156</td>\n",
       "      <td>822</td>\n",
       "      <td>ac_controller_default_lm</td>\n",
       "      <td>LM + AC_dtd</td>\n",
       "    </tr>\n",
       "    <tr>\n",
       "      <th>...</th>\n",
       "      <td>...</td>\n",
       "      <td>...</td>\n",
       "      <td>...</td>\n",
       "      <td>...</td>\n",
       "      <td>...</td>\n",
       "      <td>...</td>\n",
       "      <td>...</td>\n",
       "      <td>...</td>\n",
       "      <td>...</td>\n",
       "    </tr>\n",
       "    <tr>\n",
       "      <th>395</th>\n",
       "      <td>0.08143</td>\n",
       "      <td>2.04229</td>\n",
       "      <td>1.69374</td>\n",
       "      <td>0.93860</td>\n",
       "      <td>1.07937</td>\n",
       "      <td>0.16915</td>\n",
       "      <td>119231</td>\n",
       "      <td>lambdamart_mrfr_default_default_random_state=0</td>\n",
       "      <td>LM</td>\n",
       "    </tr>\n",
       "    <tr>\n",
       "      <th>396</th>\n",
       "      <td>0.01894</td>\n",
       "      <td>2.14721</td>\n",
       "      <td>1.95367</td>\n",
       "      <td>0.52595</td>\n",
       "      <td>1.08236</td>\n",
       "      <td>0.66969</td>\n",
       "      <td>123512</td>\n",
       "      <td>lambdamart_mrfr_default_default_random_state=0</td>\n",
       "      <td>LM</td>\n",
       "    </tr>\n",
       "    <tr>\n",
       "      <th>397</th>\n",
       "      <td>0.14381</td>\n",
       "      <td>1.35630</td>\n",
       "      <td>0.97958</td>\n",
       "      <td>1.26812</td>\n",
       "      <td>1.26668</td>\n",
       "      <td>0.08817</td>\n",
       "      <td>126740</td>\n",
       "      <td>lambdamart_mrfr_default_default_random_state=0</td>\n",
       "      <td>LM</td>\n",
       "    </tr>\n",
       "    <tr>\n",
       "      <th>398</th>\n",
       "      <td>0.07780</td>\n",
       "      <td>1.59339</td>\n",
       "      <td>1.24696</td>\n",
       "      <td>1.26301</td>\n",
       "      <td>1.26668</td>\n",
       "      <td>0.28898</td>\n",
       "      <td>128050</td>\n",
       "      <td>lambdamart_mrfr_default_default_random_state=0</td>\n",
       "      <td>LM</td>\n",
       "    </tr>\n",
       "    <tr>\n",
       "      <th>399</th>\n",
       "      <td>0.28121</td>\n",
       "      <td>3.46839</td>\n",
       "      <td>2.48527</td>\n",
       "      <td>2.05839</td>\n",
       "      <td>1.33309</td>\n",
       "      <td>0.02825</td>\n",
       "      <td>128604</td>\n",
       "      <td>lambdamart_mrfr_default_default_random_state=0</td>\n",
       "      <td>LM</td>\n",
       "    </tr>\n",
       "  </tbody>\n",
       "</table>\n",
       "<p>400 rows × 9 columns</p>\n",
       "</div>"
      ],
      "text/plain": [
       "     difference  disparity  relevance  difference_ind  disparity_ind  relevance_ind     qid  \\\n",
       "0       0.23910    1.42244    1.24913         0.14971        0.03529        0.01117      95   \n",
       "1       0.76381    1.77053    1.38972         0.44681        0.17976        0.08696     612   \n",
       "2       2.69675    1.76200    0.32276         0.77073        0.11388        0.06241     657   \n",
       "3       0.17600    1.81185    1.29111         0.67444        0.25027        0.17895     771   \n",
       "4       0.37616    1.73422    1.56520         0.48771        0.31650        0.20156     822   \n",
       "..          ...        ...        ...             ...            ...            ...     ...   \n",
       "395     0.08143    2.04229    1.69374         0.93860        1.07937        0.16915  119231   \n",
       "396     0.01894    2.14721    1.95367         0.52595        1.08236        0.66969  123512   \n",
       "397     0.14381    1.35630    0.97958         1.26812        1.26668        0.08817  126740   \n",
       "398     0.07780    1.59339    1.24696         1.26301        1.26668        0.28898  128050   \n",
       "399     0.28121    3.46839    2.48527         2.05839        1.33309        0.02825  128604   \n",
       "\n",
       "                                             source       system  \n",
       "0                          ac_controller_default_lm  LM + AC_dtd  \n",
       "1                          ac_controller_default_lm  LM + AC_dtd  \n",
       "2                          ac_controller_default_lm  LM + AC_dtd  \n",
       "3                          ac_controller_default_lm  LM + AC_dtd  \n",
       "4                          ac_controller_default_lm  LM + AC_dtd  \n",
       "..                                              ...          ...  \n",
       "395  lambdamart_mrfr_default_default_random_state=0           LM  \n",
       "396  lambdamart_mrfr_default_default_random_state=0           LM  \n",
       "397  lambdamart_mrfr_default_default_random_state=0           LM  \n",
       "398  lambdamart_mrfr_default_default_random_state=0           LM  \n",
       "399  lambdamart_mrfr_default_default_random_state=0           LM  \n",
       "\n",
       "[400 rows x 9 columns]"
      ]
     },
     "execution_count": 31,
     "metadata": {},
     "output_type": "execute_result"
    }
   ],
   "source": [
    "data = experiments[(experiments.source == s1) | (experiments.source == s2)]\n",
    "data = data.reset_index(drop=True)\n",
    "data"
   ]
  },
  {
   "cell_type": "code",
   "execution_count": 32,
   "id": "60861fc4-2ec2-4ed2-b719-3d3f7ef3e1e2",
   "metadata": {},
   "outputs": [],
   "source": [
    "from scipy import stats\n",
    "a = data.query(f'source == \"{s1}\"').reset_index(drop=True)\n",
    "b = data.query(f'source == \"{s2}\"').reset_index(drop=True)"
   ]
  },
  {
   "cell_type": "markdown",
   "id": "dbfe480c-4cd7-4c3f-9c91-59bafbec163f",
   "metadata": {},
   "source": [
    "### t-test eel"
   ]
  },
  {
   "cell_type": "code",
   "execution_count": 33,
   "id": "87994c6a-dbb5-4400-b872-6f3af05aefd5",
   "metadata": {},
   "outputs": [],
   "source": [
    "asub = a['difference']\n",
    "bsub = b['difference']"
   ]
  },
  {
   "cell_type": "code",
   "execution_count": 34,
   "id": "f8ec00da-b9d3-4110-80f4-33c954636120",
   "metadata": {},
   "outputs": [
    {
     "data": {
      "text/plain": [
       "Ttest_relResult(statistic=8.44677447541935, pvalue=6.236384153314033e-15)"
      ]
     },
     "execution_count": 34,
     "metadata": {},
     "output_type": "execute_result"
    }
   ],
   "source": [
    "stats.ttest_rel(asub, bsub)"
   ]
  },
  {
   "cell_type": "markdown",
   "id": "523f1dec-9226-431d-9f44-8ab5adacee1e",
   "metadata": {},
   "source": [
    "The difference in scores is significant, p = 0.00000 < 0.05."
   ]
  },
  {
   "cell_type": "code",
   "execution_count": 35,
   "id": "b4f9f12f-417a-41e5-a366-3f4a047f914b",
   "metadata": {},
   "outputs": [
    {
     "data": {
      "text/plain": [
       "0.6"
      ]
     },
     "execution_count": 35,
     "metadata": {},
     "output_type": "execute_result"
    }
   ],
   "source": [
    "effect_size_t_test(asub,bsub)"
   ]
  },
  {
   "cell_type": "markdown",
   "id": "3e0aa948-6522-46f6-a950-45179735dd56",
   "metadata": {},
   "source": [
    "The effect size is moderate."
   ]
  },
  {
   "cell_type": "code",
   "execution_count": 36,
   "id": "b472cfbc-c8a9-4e9d-9adf-dc0d6293503b",
   "metadata": {},
   "outputs": [],
   "source": [
    "differences = asub - bsub\n",
    "sample_mean = differences.sum()/len(differences)\n",
    "sample_variance = (differences - sample_mean).apply(lambda x: x*x).sum()/len(differences)"
   ]
  },
  {
   "cell_type": "code",
   "execution_count": 37,
   "id": "26398e4e-a9ed-4972-904f-554933e12c21",
   "metadata": {},
   "outputs": [
    {
     "data": {
      "text/plain": [
       "(0.37, 0.6)"
      ]
     },
     "execution_count": 37,
     "metadata": {},
     "output_type": "execute_result"
    }
   ],
   "source": [
    "c = ci(len(differences), sample_variance)\n",
    "cl, ch = (sample_mean - c, sample_mean + c)\n",
    "round(cl,2), round(ch,2)"
   ]
  },
  {
   "cell_type": "code",
   "execution_count": 38,
   "id": "a0b7b7c8-98bd-43fb-b179-1d86e3bf4f8f",
   "metadata": {},
   "outputs": [
    {
     "data": {
      "text/plain": [
       "0.49"
      ]
     },
     "execution_count": 38,
     "metadata": {},
     "output_type": "execute_result"
    }
   ],
   "source": [
    "round(sample_mean,2)"
   ]
  },
  {
   "cell_type": "code",
   "execution_count": 39,
   "id": "ef255d7c-433e-407d-9146-4c022847edbd",
   "metadata": {},
   "outputs": [
    {
     "data": {
      "text/plain": [
       "0.66"
      ]
     },
     "execution_count": 39,
     "metadata": {},
     "output_type": "execute_result"
    }
   ],
   "source": [
    "round(sample_variance,2)"
   ]
  },
  {
   "cell_type": "markdown",
   "id": "a6171be6-6ffd-427e-a35c-f0d983be093d",
   "metadata": {},
   "source": [
    "### t-test eel_ind"
   ]
  },
  {
   "cell_type": "code",
   "execution_count": 40,
   "id": "8eb225b8-bc29-491e-bb42-24cd1f0fa478",
   "metadata": {},
   "outputs": [],
   "source": [
    "from scipy import stats\n",
    "asub = a['difference_ind']\n",
    "bsub = b['difference_ind']"
   ]
  },
  {
   "cell_type": "code",
   "execution_count": 41,
   "id": "d877fa71-a267-4d52-a0d6-953f7b0f0c44",
   "metadata": {},
   "outputs": [
    {
     "data": {
      "text/plain": [
       "Ttest_relResult(statistic=29.735506623400884, pvalue=3.7837131403965134e-75)"
      ]
     },
     "execution_count": 41,
     "metadata": {},
     "output_type": "execute_result"
    }
   ],
   "source": [
    "stats.ttest_rel(asub, bsub)"
   ]
  },
  {
   "cell_type": "markdown",
   "id": "05924520-aeca-4f49-8699-ded936913d06",
   "metadata": {},
   "source": [
    "The difference in scores is significant, p = 0.00000 < 0.05."
   ]
  },
  {
   "cell_type": "code",
   "execution_count": 42,
   "id": "76248b1c-b414-4e11-b722-e32f91fdf8a8",
   "metadata": {},
   "outputs": [
    {
     "data": {
      "text/plain": [
       "2.11"
      ]
     },
     "execution_count": 42,
     "metadata": {},
     "output_type": "execute_result"
    }
   ],
   "source": [
    "effect_size_t_test(asub,bsub)"
   ]
  },
  {
   "cell_type": "markdown",
   "id": "a6abe084-c1bb-4fa8-862c-09118f627803",
   "metadata": {},
   "source": [
    "The effect size is moderate."
   ]
  },
  {
   "cell_type": "code",
   "execution_count": 43,
   "id": "740322d4-08d9-4c16-957b-37e11e8e6f70",
   "metadata": {},
   "outputs": [],
   "source": [
    "differences = asub - bsub\n",
    "sample_mean = differences.sum()/len(differences)\n",
    "sample_variance = (differences - sample_mean).apply(lambda x: x*x).sum()/len(differences)"
   ]
  },
  {
   "cell_type": "code",
   "execution_count": 44,
   "id": "bdffbf61-d928-453e-9983-6467a2402bc4",
   "metadata": {},
   "outputs": [
    {
     "data": {
      "text/plain": [
       "(0.88, 1.01)"
      ]
     },
     "execution_count": 44,
     "metadata": {},
     "output_type": "execute_result"
    }
   ],
   "source": [
    "c = ci(len(differences), sample_variance)\n",
    "cl, ch = (sample_mean - c, sample_mean + c)\n",
    "round(cl,2), round(ch,2)"
   ]
  },
  {
   "cell_type": "code",
   "execution_count": 45,
   "id": "3200db40-0036-4989-9de9-5033cd5fa9b4",
   "metadata": {},
   "outputs": [
    {
     "data": {
      "text/plain": [
       "0.95"
      ]
     },
     "execution_count": 45,
     "metadata": {},
     "output_type": "execute_result"
    }
   ],
   "source": [
    "round(sample_mean,2)"
   ]
  },
  {
   "cell_type": "code",
   "execution_count": 46,
   "id": "664f9928-7f49-49b6-b818-ffe25ec37993",
   "metadata": {},
   "outputs": [
    {
     "data": {
      "text/plain": [
       "0.2"
      ]
     },
     "execution_count": 46,
     "metadata": {},
     "output_type": "execute_result"
    }
   ],
   "source": [
    "round(sample_variance,2)"
   ]
  },
  {
   "cell_type": "markdown",
   "id": "dd682262-6701-43d2-8207-40f851e3f4b2",
   "metadata": {},
   "source": [
    "### Visualize means of the samples"
   ]
  },
  {
   "cell_type": "code",
   "execution_count": 47,
   "id": "d3c4cd09-0c6a-427e-8d74-f41e038a13ab",
   "metadata": {},
   "outputs": [
    {
     "data": {
      "text/plain": [
       "<AxesSubplot:title={'center':'Mean EEL (individual)'}, xlabel='system', ylabel='difference_ind'>"
      ]
     },
     "execution_count": 47,
     "metadata": {},
     "output_type": "execute_result"
    },
    {
     "data": {
      "image/png": "[encoded data removed]",
      "text/plain": [
       "<Figure size 1440x720 with 2 Axes>"
      ]
     },
     "metadata": {
      "needs_background": "light"
     },
     "output_type": "display_data"
    }
   ],
   "source": [
    "fig, axs = plt.subplots(1,2,figsize=(20,10))\n",
    "# for ax in axs:\n",
    "#     ax.set_ylim(0, ymax)\n",
    "\n",
    "\n",
    "axs[0].set_title('Mean EEL (economic level)')\n",
    "axs[1].set_title('Mean EEL (individual)')\n",
    "\n",
    "sns.barplot(x='system', y='difference',data=data.sort_values(by='system',ascending=True),ax=axs[0])\n",
    "sns.barplot(x='system', y='difference_ind',data=data.sort_values(by='system',ascending=True),ax=axs[1])\n"
   ]
  },
  {
   "cell_type": "markdown",
   "id": "cf352a4f-b665-40f1-9cef-7b4f6a0285e8",
   "metadata": {},
   "source": [
    "## Is there a significant improvement in the performance of LambdaMart + RFR vs LambdaMart + AC?"
   ]
  },
  {
   "cell_type": "markdown",
   "id": "265903eb-7234-485e-aad4-0481d941bd45",
   "metadata": {},
   "source": [
    "### Select data"
   ]
  },
  {
   "cell_type": "code",
   "execution_count": 48,
   "id": "02a6a0f8-693d-48aa-ad39-839020962a04",
   "metadata": {},
   "outputs": [],
   "source": [
    "s1 = 'mrfr_default_lm_eval'\n",
    "s2 = 'ac_controller_default_lm'"
   ]
  },
  {
   "cell_type": "code",
   "execution_count": 49,
   "id": "6b9ba61b-8d68-4edd-9918-4ba6cae16799",
   "metadata": {},
   "outputs": [
    {
     "data": {
      "text/html": [
       "<div>\n",
       "<style scoped>\n",
       "    .dataframe tbody tr th:only-of-type {\n",
       "        vertical-align: middle;\n",
       "    }\n",
       "\n",
       "    .dataframe tbody tr th {\n",
       "        vertical-align: top;\n",
       "    }\n",
       "\n",
       "    .dataframe thead th {\n",
       "        text-align: right;\n",
       "    }\n",
       "</style>\n",
       "<table border=\"1\" class=\"dataframe\">\n",
       "  <thead>\n",
       "    <tr style=\"text-align: right;\">\n",
       "      <th></th>\n",
       "      <th>difference</th>\n",
       "      <th>disparity</th>\n",
       "      <th>relevance</th>\n",
       "      <th>difference_ind</th>\n",
       "      <th>disparity_ind</th>\n",
       "      <th>relevance_ind</th>\n",
       "      <th>qid</th>\n",
       "      <th>source</th>\n",
       "      <th>system</th>\n",
       "    </tr>\n",
       "  </thead>\n",
       "  <tbody>\n",
       "    <tr>\n",
       "      <th>0</th>\n",
       "      <td>0.23910</td>\n",
       "      <td>1.42244</td>\n",
       "      <td>1.24913</td>\n",
       "      <td>0.14971</td>\n",
       "      <td>0.03529</td>\n",
       "      <td>0.01117</td>\n",
       "      <td>95</td>\n",
       "      <td>ac_controller_default_lm</td>\n",
       "      <td>LM + AC_dtd</td>\n",
       "    </tr>\n",
       "    <tr>\n",
       "      <th>1</th>\n",
       "      <td>0.76381</td>\n",
       "      <td>1.77053</td>\n",
       "      <td>1.38972</td>\n",
       "      <td>0.44681</td>\n",
       "      <td>0.17976</td>\n",
       "      <td>0.08696</td>\n",
       "      <td>612</td>\n",
       "      <td>ac_controller_default_lm</td>\n",
       "      <td>LM + AC_dtd</td>\n",
       "    </tr>\n",
       "    <tr>\n",
       "      <th>2</th>\n",
       "      <td>2.69675</td>\n",
       "      <td>1.76200</td>\n",
       "      <td>0.32276</td>\n",
       "      <td>0.77073</td>\n",
       "      <td>0.11388</td>\n",
       "      <td>0.06241</td>\n",
       "      <td>657</td>\n",
       "      <td>ac_controller_default_lm</td>\n",
       "      <td>LM + AC_dtd</td>\n",
       "    </tr>\n",
       "    <tr>\n",
       "      <th>3</th>\n",
       "      <td>0.17600</td>\n",
       "      <td>1.81185</td>\n",
       "      <td>1.29111</td>\n",
       "      <td>0.67444</td>\n",
       "      <td>0.25027</td>\n",
       "      <td>0.17895</td>\n",
       "      <td>771</td>\n",
       "      <td>ac_controller_default_lm</td>\n",
       "      <td>LM + AC_dtd</td>\n",
       "    </tr>\n",
       "    <tr>\n",
       "      <th>4</th>\n",
       "      <td>0.37616</td>\n",
       "      <td>1.73422</td>\n",
       "      <td>1.56520</td>\n",
       "      <td>0.48771</td>\n",
       "      <td>0.31650</td>\n",
       "      <td>0.20156</td>\n",
       "      <td>822</td>\n",
       "      <td>ac_controller_default_lm</td>\n",
       "      <td>LM + AC_dtd</td>\n",
       "    </tr>\n",
       "    <tr>\n",
       "      <th>...</th>\n",
       "      <td>...</td>\n",
       "      <td>...</td>\n",
       "      <td>...</td>\n",
       "      <td>...</td>\n",
       "      <td>...</td>\n",
       "      <td>...</td>\n",
       "      <td>...</td>\n",
       "      <td>...</td>\n",
       "      <td>...</td>\n",
       "    </tr>\n",
       "    <tr>\n",
       "      <th>395</th>\n",
       "      <td>0.06794</td>\n",
       "      <td>2.07851</td>\n",
       "      <td>1.71860</td>\n",
       "      <td>0.07524</td>\n",
       "      <td>0.15761</td>\n",
       "      <td>0.13995</td>\n",
       "      <td>119231</td>\n",
       "      <td>mrfr_default_lm_eval</td>\n",
       "      <td>LM + RFR_dtd</td>\n",
       "    </tr>\n",
       "    <tr>\n",
       "      <th>396</th>\n",
       "      <td>0.10978</td>\n",
       "      <td>2.17396</td>\n",
       "      <td>1.92162</td>\n",
       "      <td>0.57496</td>\n",
       "      <td>0.35774</td>\n",
       "      <td>0.28288</td>\n",
       "      <td>123512</td>\n",
       "      <td>mrfr_default_lm_eval</td>\n",
       "      <td>LM + RFR_dtd</td>\n",
       "    </tr>\n",
       "    <tr>\n",
       "      <th>397</th>\n",
       "      <td>0.27117</td>\n",
       "      <td>1.42900</td>\n",
       "      <td>0.95225</td>\n",
       "      <td>0.16322</td>\n",
       "      <td>0.19395</td>\n",
       "      <td>0.10425</td>\n",
       "      <td>126740</td>\n",
       "      <td>mrfr_default_lm_eval</td>\n",
       "      <td>LM + RFR_dtd</td>\n",
       "    </tr>\n",
       "    <tr>\n",
       "      <th>398</th>\n",
       "      <td>0.48640</td>\n",
       "      <td>1.10121</td>\n",
       "      <td>0.79658</td>\n",
       "      <td>0.40619</td>\n",
       "      <td>0.19921</td>\n",
       "      <td>0.18365</td>\n",
       "      <td>128050</td>\n",
       "      <td>mrfr_default_lm_eval</td>\n",
       "      <td>LM + RFR_dtd</td>\n",
       "    </tr>\n",
       "    <tr>\n",
       "      <th>399</th>\n",
       "      <td>0.25877</td>\n",
       "      <td>2.16132</td>\n",
       "      <td>1.84296</td>\n",
       "      <td>0.72059</td>\n",
       "      <td>0.17377</td>\n",
       "      <td>0.11749</td>\n",
       "      <td>128604</td>\n",
       "      <td>mrfr_default_lm_eval</td>\n",
       "      <td>LM + RFR_dtd</td>\n",
       "    </tr>\n",
       "  </tbody>\n",
       "</table>\n",
       "<p>400 rows × 9 columns</p>\n",
       "</div>"
      ],
      "text/plain": [
       "     difference  disparity  relevance  difference_ind  disparity_ind  relevance_ind     qid  \\\n",
       "0       0.23910    1.42244    1.24913         0.14971        0.03529        0.01117      95   \n",
       "1       0.76381    1.77053    1.38972         0.44681        0.17976        0.08696     612   \n",
       "2       2.69675    1.76200    0.32276         0.77073        0.11388        0.06241     657   \n",
       "3       0.17600    1.81185    1.29111         0.67444        0.25027        0.17895     771   \n",
       "4       0.37616    1.73422    1.56520         0.48771        0.31650        0.20156     822   \n",
       "..          ...        ...        ...             ...            ...            ...     ...   \n",
       "395     0.06794    2.07851    1.71860         0.07524        0.15761        0.13995  119231   \n",
       "396     0.10978    2.17396    1.92162         0.57496        0.35774        0.28288  123512   \n",
       "397     0.27117    1.42900    0.95225         0.16322        0.19395        0.10425  126740   \n",
       "398     0.48640    1.10121    0.79658         0.40619        0.19921        0.18365  128050   \n",
       "399     0.25877    2.16132    1.84296         0.72059        0.17377        0.11749  128604   \n",
       "\n",
       "                       source        system  \n",
       "0    ac_controller_default_lm   LM + AC_dtd  \n",
       "1    ac_controller_default_lm   LM + AC_dtd  \n",
       "2    ac_controller_default_lm   LM + AC_dtd  \n",
       "3    ac_controller_default_lm   LM + AC_dtd  \n",
       "4    ac_controller_default_lm   LM + AC_dtd  \n",
       "..                        ...           ...  \n",
       "395      mrfr_default_lm_eval  LM + RFR_dtd  \n",
       "396      mrfr_default_lm_eval  LM + RFR_dtd  \n",
       "397      mrfr_default_lm_eval  LM + RFR_dtd  \n",
       "398      mrfr_default_lm_eval  LM + RFR_dtd  \n",
       "399      mrfr_default_lm_eval  LM + RFR_dtd  \n",
       "\n",
       "[400 rows x 9 columns]"
      ]
     },
     "execution_count": 49,
     "metadata": {},
     "output_type": "execute_result"
    }
   ],
   "source": [
    "data = experiments[(experiments.source == s1) | (experiments.source == s2)]\n",
    "data = data.reset_index(drop=True)\n",
    "data"
   ]
  },
  {
   "cell_type": "code",
   "execution_count": 50,
   "id": "1587e89d-c2d5-43b3-b41b-9db99e12bb64",
   "metadata": {},
   "outputs": [],
   "source": [
    "from scipy import stats\n",
    "a = data.query(f'source == \"{s1}\"').reset_index(drop=True)\n",
    "b = data.query(f'source == \"{s2}\"').reset_index(drop=True)"
   ]
  },
  {
   "cell_type": "markdown",
   "id": "6815e7e3-910e-4437-8058-463e46dd937f",
   "metadata": {},
   "source": [
    "### t-test eel"
   ]
  },
  {
   "cell_type": "code",
   "execution_count": 51,
   "id": "6943751e-89ef-412b-823c-4147b9e64665",
   "metadata": {},
   "outputs": [],
   "source": [
    "asub = a['difference']\n",
    "bsub = b['difference']"
   ]
  },
  {
   "cell_type": "code",
   "execution_count": 52,
   "id": "ebef58ce-6b29-40c4-8e7f-8ffa4e7eaa3d",
   "metadata": {},
   "outputs": [
    {
     "data": {
      "text/plain": [
       "Ttest_relResult(statistic=1.7950070184937754, pvalue=0.0741700961450265)"
      ]
     },
     "execution_count": 52,
     "metadata": {},
     "output_type": "execute_result"
    }
   ],
   "source": [
    "stats.ttest_rel(asub, bsub)"
   ]
  },
  {
   "cell_type": "markdown",
   "id": "a73a1e29-6cd6-4e07-9f1d-137677c2e569",
   "metadata": {},
   "source": [
    "The difference in scores is NOT significant, p = 0.074 > 0.05."
   ]
  },
  {
   "cell_type": "code",
   "execution_count": 53,
   "id": "0dc643d8-5147-4362-94de-d9f36c7233d9",
   "metadata": {},
   "outputs": [
    {
     "data": {
      "text/plain": [
       "0.13"
      ]
     },
     "execution_count": 53,
     "metadata": {},
     "output_type": "execute_result"
    }
   ],
   "source": [
    "effect_size_t_test(asub,bsub)"
   ]
  },
  {
   "cell_type": "markdown",
   "id": "32370918-1288-443c-8035-dd7b768fb2b2",
   "metadata": {},
   "source": [
    "The effect size is moderate."
   ]
  },
  {
   "cell_type": "code",
   "execution_count": 54,
   "id": "cc8fb398-fb30-4fa5-a531-990982d8c0cc",
   "metadata": {},
   "outputs": [],
   "source": [
    "differences = asub - bsub\n",
    "sample_mean = differences.sum()/len(differences)\n",
    "sample_variance = (differences - sample_mean).apply(lambda x: x*x).sum()/len(differences)"
   ]
  },
  {
   "cell_type": "code",
   "execution_count": 55,
   "id": "1313b823-c1d8-4829-802e-775d924adfbf",
   "metadata": {},
   "outputs": [
    {
     "data": {
      "text/plain": [
       "(-0.0016, 0.036)"
      ]
     },
     "execution_count": 55,
     "metadata": {},
     "output_type": "execute_result"
    }
   ],
   "source": [
    "c = ci(len(differences), sample_variance)\n",
    "cl, ch = (sample_mean - c, sample_mean + c)\n",
    "round(cl,4), round(ch,3)"
   ]
  },
  {
   "cell_type": "code",
   "execution_count": 56,
   "id": "fb11aff6-4d64-4a76-bf63-bdea26865aa3",
   "metadata": {},
   "outputs": [
    {
     "data": {
      "text/plain": [
       "0.017"
      ]
     },
     "execution_count": 56,
     "metadata": {},
     "output_type": "execute_result"
    }
   ],
   "source": [
    "round(sample_mean,3)"
   ]
  },
  {
   "cell_type": "code",
   "execution_count": 57,
   "id": "9b3a4b33-be00-4d53-9de0-40865cfcb700",
   "metadata": {},
   "outputs": [
    {
     "data": {
      "text/plain": [
       "0.018"
      ]
     },
     "execution_count": 57,
     "metadata": {},
     "output_type": "execute_result"
    }
   ],
   "source": [
    "round(sample_variance,3)"
   ]
  },
  {
   "cell_type": "markdown",
   "id": "a884f5aa-c7c8-48b6-830b-dd40a5a558a9",
   "metadata": {},
   "source": [
    "### t-test eel_ind"
   ]
  },
  {
   "cell_type": "code",
   "execution_count": 58,
   "id": "508e0ff3-d0e3-4954-83c8-0f438a9004d2",
   "metadata": {},
   "outputs": [],
   "source": [
    "from scipy import stats\n",
    "asub = a['difference_ind']\n",
    "bsub = b['difference_ind']"
   ]
  },
  {
   "cell_type": "code",
   "execution_count": 59,
   "id": "ba4f4807-02ea-47d0-9c14-91d60d3ae50b",
   "metadata": {},
   "outputs": [
    {
     "data": {
      "text/plain": [
       "Ttest_relResult(statistic=6.10780487621202, pvalue=5.214855259867564e-09)"
      ]
     },
     "execution_count": 59,
     "metadata": {},
     "output_type": "execute_result"
    }
   ],
   "source": [
    "stats.ttest_rel(asub, bsub)"
   ]
  },
  {
   "cell_type": "markdown",
   "id": "d9b21e2a-b6d1-4598-af38-92dd0048900a",
   "metadata": {},
   "source": [
    "The difference in scores is significant, p = 0.00000 < 0.05."
   ]
  },
  {
   "cell_type": "code",
   "execution_count": 60,
   "id": "415faf32-0af0-4c98-a429-957d50d8a188",
   "metadata": {},
   "outputs": [
    {
     "data": {
      "text/plain": [
       "0.43"
      ]
     },
     "execution_count": 60,
     "metadata": {},
     "output_type": "execute_result"
    }
   ],
   "source": [
    "effect_size_t_test(asub,bsub)"
   ]
  },
  {
   "cell_type": "markdown",
   "id": "8881ed57-4a24-47cc-aefd-158d0bff6b4d",
   "metadata": {},
   "source": [
    "The effect size is moderate."
   ]
  },
  {
   "cell_type": "code",
   "execution_count": 61,
   "id": "2811366b-6513-4c15-b993-702dd55a7540",
   "metadata": {},
   "outputs": [],
   "source": [
    "differences = asub - bsub\n",
    "sample_mean = differences.sum()/len(differences)\n",
    "sample_variance = (differences - sample_mean).apply(lambda x: x*x).sum()/len(differences)"
   ]
  },
  {
   "cell_type": "code",
   "execution_count": 62,
   "id": "0473e516-9501-4a43-a8aa-a32eabbfe5f7",
   "metadata": {},
   "outputs": [
    {
     "data": {
      "text/plain": [
       "(0.021, 0.041)"
      ]
     },
     "execution_count": 62,
     "metadata": {},
     "output_type": "execute_result"
    }
   ],
   "source": [
    "c = ci(len(differences), sample_variance)\n",
    "cl, ch = (sample_mean - c, sample_mean + c)\n",
    "round(cl,3), round(ch,3)"
   ]
  },
  {
   "cell_type": "code",
   "execution_count": 63,
   "id": "8b30d74f-4ede-4992-8e20-6d58abfde21a",
   "metadata": {},
   "outputs": [
    {
     "data": {
      "text/plain": [
       "0.0313"
      ]
     },
     "execution_count": 63,
     "metadata": {},
     "output_type": "execute_result"
    }
   ],
   "source": [
    "round(sample_mean,4)"
   ]
  },
  {
   "cell_type": "code",
   "execution_count": 64,
   "id": "9f53c072-cf04-4c38-bd4d-e8e5d669fb74",
   "metadata": {},
   "outputs": [
    {
     "data": {
      "text/plain": [
       "0.0052"
      ]
     },
     "execution_count": 64,
     "metadata": {},
     "output_type": "execute_result"
    }
   ],
   "source": [
    "round(sample_variance,4)"
   ]
  },
  {
   "cell_type": "markdown",
   "id": "8108e586-a0ea-4f3d-ab5a-0a5962817852",
   "metadata": {},
   "source": [
    "### Visualize means of the samples"
   ]
  },
  {
   "cell_type": "code",
   "execution_count": 65,
   "id": "dcfa93dd-040b-42a7-bfa2-faf6f3d7aee5",
   "metadata": {},
   "outputs": [
    {
     "data": {
      "text/plain": [
       "<AxesSubplot:title={'center':'Mean EEL (individual)'}, xlabel='system', ylabel='difference_ind'>"
      ]
     },
     "execution_count": 65,
     "metadata": {},
     "output_type": "execute_result"
    },
    {
     "data": {
      "image/png": "[encoded data removed]",
      "text/plain": [
       "<Figure size 1440x720 with 2 Axes>"
      ]
     },
     "metadata": {
      "needs_background": "light"
     },
     "output_type": "display_data"
    }
   ],
   "source": [
    "fig, axs = plt.subplots(1,2,figsize=(20,10))\n",
    "\n",
    "axs[0].set_title('Mean EEL (economic level)')\n",
    "axs[1].set_title('Mean EEL (individual)')\n",
    "\n",
    "sns.barplot(x='system', y='difference',data=data,ax=axs[0])\n",
    "sns.barplot(x='system', y='difference_ind',data=data,ax=axs[1])\n"
   ]
  },
  {
   "cell_type": "markdown",
   "id": "af786233-12ba-459b-ad98-d13095b89622",
   "metadata": {},
   "source": [
    "## Is there a significant improvement in the performance of AC base vs AC doc to doc for META?"
   ]
  },
  {
   "cell_type": "markdown",
   "id": "927dd8f1-9ff2-45b6-998c-cbeffa71fe5f",
   "metadata": {},
   "source": [
    "### Select data"
   ]
  },
  {
   "cell_type": "code",
   "execution_count": 66,
   "id": "802827ab-8d4c-4402-8454-0aa3a8ab1e51",
   "metadata": {},
   "outputs": [
    {
     "data": {
      "text/plain": [
       "array(['ac_controller_default_lm',\n",
       "       'ac_controller_default_meta_9_eval_old_config',\n",
       "       'ac_controller_default_meta_9_eval',\n",
       "       'ac_controller_default_text_9_eval_old_config',\n",
       "       'ac_controller_default_text_9_eval',\n",
       "       'lambdamart_mrfr_default_default_random_state=0',\n",
       "       'mrfr_default_lm_eval'], dtype=object)"
      ]
     },
     "execution_count": 66,
     "metadata": {},
     "output_type": "execute_result"
    }
   ],
   "source": [
    "experiments.source.unique()"
   ]
  },
  {
   "cell_type": "code",
   "execution_count": 67,
   "id": "efcc7f06-d485-4f20-9fe4-c3a745dd2230",
   "metadata": {},
   "outputs": [],
   "source": [
    "s2 = 'ac_controller_default_meta_9_eval'\n",
    "s1 = 'ac_controller_default_meta_9_eval_old_config'"
   ]
  },
  {
   "cell_type": "code",
   "execution_count": 68,
   "id": "5c559da8-7d75-4cfa-9c40-165cd7eb8885",
   "metadata": {},
   "outputs": [
    {
     "data": {
      "text/html": [
       "<div>\n",
       "<style scoped>\n",
       "    .dataframe tbody tr th:only-of-type {\n",
       "        vertical-align: middle;\n",
       "    }\n",
       "\n",
       "    .dataframe tbody tr th {\n",
       "        vertical-align: top;\n",
       "    }\n",
       "\n",
       "    .dataframe thead th {\n",
       "        text-align: right;\n",
       "    }\n",
       "</style>\n",
       "<table border=\"1\" class=\"dataframe\">\n",
       "  <thead>\n",
       "    <tr style=\"text-align: right;\">\n",
       "      <th></th>\n",
       "      <th>difference</th>\n",
       "      <th>disparity</th>\n",
       "      <th>relevance</th>\n",
       "      <th>difference_ind</th>\n",
       "      <th>disparity_ind</th>\n",
       "      <th>relevance_ind</th>\n",
       "      <th>qid</th>\n",
       "      <th>source</th>\n",
       "      <th>system</th>\n",
       "    </tr>\n",
       "  </thead>\n",
       "  <tbody>\n",
       "    <tr>\n",
       "      <th>0</th>\n",
       "      <td>0.35200</td>\n",
       "      <td>2.93676</td>\n",
       "      <td>1.94984</td>\n",
       "      <td>1.11692</td>\n",
       "      <td>0.98604</td>\n",
       "      <td>0.00293</td>\n",
       "      <td>95</td>\n",
       "      <td>ac_controller_default_meta_9_eval_old_config</td>\n",
       "      <td>META + AC_base</td>\n",
       "    </tr>\n",
       "    <tr>\n",
       "      <th>1</th>\n",
       "      <td>0.99169</td>\n",
       "      <td>1.73147</td>\n",
       "      <td>1.25625</td>\n",
       "      <td>0.37762</td>\n",
       "      <td>0.12248</td>\n",
       "      <td>0.09292</td>\n",
       "      <td>612</td>\n",
       "      <td>ac_controller_default_meta_9_eval_old_config</td>\n",
       "      <td>META + AC_base</td>\n",
       "    </tr>\n",
       "    <tr>\n",
       "      <th>2</th>\n",
       "      <td>3.70055</td>\n",
       "      <td>2.63171</td>\n",
       "      <td>0.25572</td>\n",
       "      <td>0.93072</td>\n",
       "      <td>0.21487</td>\n",
       "      <td>0.03291</td>\n",
       "      <td>657</td>\n",
       "      <td>ac_controller_default_meta_9_eval_old_config</td>\n",
       "      <td>META + AC_base</td>\n",
       "    </tr>\n",
       "    <tr>\n",
       "      <th>3</th>\n",
       "      <td>0.29945</td>\n",
       "      <td>1.98737</td>\n",
       "      <td>1.31715</td>\n",
       "      <td>0.67458</td>\n",
       "      <td>0.17690</td>\n",
       "      <td>0.14219</td>\n",
       "      <td>771</td>\n",
       "      <td>ac_controller_default_meta_9_eval_old_config</td>\n",
       "      <td>META + AC_base</td>\n",
       "    </tr>\n",
       "    <tr>\n",
       "      <th>4</th>\n",
       "      <td>0.71517</td>\n",
       "      <td>1.65668</td>\n",
       "      <td>1.35692</td>\n",
       "      <td>0.57742</td>\n",
       "      <td>0.34905</td>\n",
       "      <td>0.17297</td>\n",
       "      <td>822</td>\n",
       "      <td>ac_controller_default_meta_9_eval_old_config</td>\n",
       "      <td>META + AC_base</td>\n",
       "    </tr>\n",
       "    <tr>\n",
       "      <th>...</th>\n",
       "      <td>...</td>\n",
       "      <td>...</td>\n",
       "      <td>...</td>\n",
       "      <td>...</td>\n",
       "      <td>...</td>\n",
       "      <td>...</td>\n",
       "      <td>...</td>\n",
       "      <td>...</td>\n",
       "      <td>...</td>\n",
       "    </tr>\n",
       "    <tr>\n",
       "      <th>395</th>\n",
       "      <td>0.15056</td>\n",
       "      <td>2.44868</td>\n",
       "      <td>1.86237</td>\n",
       "      <td>0.10874</td>\n",
       "      <td>0.13291</td>\n",
       "      <td>0.11085</td>\n",
       "      <td>119231</td>\n",
       "      <td>ac_controller_default_meta_9_eval</td>\n",
       "      <td>META + AC_dtd</td>\n",
       "    </tr>\n",
       "    <tr>\n",
       "      <th>396</th>\n",
       "      <td>0.15217</td>\n",
       "      <td>2.10207</td>\n",
       "      <td>1.86449</td>\n",
       "      <td>0.58399</td>\n",
       "      <td>0.30692</td>\n",
       "      <td>0.25295</td>\n",
       "      <td>123512</td>\n",
       "      <td>ac_controller_default_meta_9_eval</td>\n",
       "      <td>META + AC_dtd</td>\n",
       "    </tr>\n",
       "    <tr>\n",
       "      <th>397</th>\n",
       "      <td>0.12025</td>\n",
       "      <td>1.31108</td>\n",
       "      <td>0.96875</td>\n",
       "      <td>0.11039</td>\n",
       "      <td>0.10157</td>\n",
       "      <td>0.08447</td>\n",
       "      <td>126740</td>\n",
       "      <td>ac_controller_default_meta_9_eval</td>\n",
       "      <td>META + AC_dtd</td>\n",
       "    </tr>\n",
       "    <tr>\n",
       "      <th>398</th>\n",
       "      <td>0.69143</td>\n",
       "      <td>1.23131</td>\n",
       "      <td>0.75911</td>\n",
       "      <td>0.46638</td>\n",
       "      <td>0.17588</td>\n",
       "      <td>0.14189</td>\n",
       "      <td>128050</td>\n",
       "      <td>ac_controller_default_meta_9_eval</td>\n",
       "      <td>META + AC_dtd</td>\n",
       "    </tr>\n",
       "    <tr>\n",
       "      <th>399</th>\n",
       "      <td>0.31396</td>\n",
       "      <td>2.14170</td>\n",
       "      <td>1.80555</td>\n",
       "      <td>0.73494</td>\n",
       "      <td>0.13155</td>\n",
       "      <td>0.08921</td>\n",
       "      <td>128604</td>\n",
       "      <td>ac_controller_default_meta_9_eval</td>\n",
       "      <td>META + AC_dtd</td>\n",
       "    </tr>\n",
       "  </tbody>\n",
       "</table>\n",
       "<p>400 rows × 9 columns</p>\n",
       "</div>"
      ],
      "text/plain": [
       "     difference  disparity  relevance  difference_ind  disparity_ind  relevance_ind     qid  \\\n",
       "0       0.35200    2.93676    1.94984         1.11692        0.98604        0.00293      95   \n",
       "1       0.99169    1.73147    1.25625         0.37762        0.12248        0.09292     612   \n",
       "2       3.70055    2.63171    0.25572         0.93072        0.21487        0.03291     657   \n",
       "3       0.29945    1.98737    1.31715         0.67458        0.17690        0.14219     771   \n",
       "4       0.71517    1.65668    1.35692         0.57742        0.34905        0.17297     822   \n",
       "..          ...        ...        ...             ...            ...            ...     ...   \n",
       "395     0.15056    2.44868    1.86237         0.10874        0.13291        0.11085  119231   \n",
       "396     0.15217    2.10207    1.86449         0.58399        0.30692        0.25295  123512   \n",
       "397     0.12025    1.31108    0.96875         0.11039        0.10157        0.08447  126740   \n",
       "398     0.69143    1.23131    0.75911         0.46638        0.17588        0.14189  128050   \n",
       "399     0.31396    2.14170    1.80555         0.73494        0.13155        0.08921  128604   \n",
       "\n",
       "                                           source          system  \n",
       "0    ac_controller_default_meta_9_eval_old_config  META + AC_base  \n",
       "1    ac_controller_default_meta_9_eval_old_config  META + AC_base  \n",
       "2    ac_controller_default_meta_9_eval_old_config  META + AC_base  \n",
       "3    ac_controller_default_meta_9_eval_old_config  META + AC_base  \n",
       "4    ac_controller_default_meta_9_eval_old_config  META + AC_base  \n",
       "..                                            ...             ...  \n",
       "395             ac_controller_default_meta_9_eval   META + AC_dtd  \n",
       "396             ac_controller_default_meta_9_eval   META + AC_dtd  \n",
       "397             ac_controller_default_meta_9_eval   META + AC_dtd  \n",
       "398             ac_controller_default_meta_9_eval   META + AC_dtd  \n",
       "399             ac_controller_default_meta_9_eval   META + AC_dtd  \n",
       "\n",
       "[400 rows x 9 columns]"
      ]
     },
     "execution_count": 68,
     "metadata": {},
     "output_type": "execute_result"
    }
   ],
   "source": [
    "data = experiments[(experiments.source == s1) | (experiments.source == s2)]\n",
    "data = data.reset_index(drop=True)\n",
    "data"
   ]
  },
  {
   "cell_type": "code",
   "execution_count": 69,
   "id": "26369114-eb1c-4a95-a82d-8ce41c2dab1b",
   "metadata": {},
   "outputs": [],
   "source": [
    "from scipy import stats\n",
    "a = data.query(f'source == \"{s1}\"').reset_index(drop=True)\n",
    "b = data.query(f'source == \"{s2}\"').reset_index(drop=True)"
   ]
  },
  {
   "cell_type": "markdown",
   "id": "46530f4f-a981-48f0-b808-e613cd0f4272",
   "metadata": {},
   "source": [
    "### t-test eel"
   ]
  },
  {
   "cell_type": "code",
   "execution_count": 70,
   "id": "f446fa32-d274-4f21-be80-e268e374cb6a",
   "metadata": {},
   "outputs": [],
   "source": [
    "asub = a['difference']\n",
    "bsub = b['difference']"
   ]
  },
  {
   "cell_type": "code",
   "execution_count": 71,
   "id": "9a8f5873-51c9-4e20-bad7-60d9f3d53e3f",
   "metadata": {},
   "outputs": [
    {
     "data": {
      "text/plain": [
       "Ttest_relResult(statistic=1.8990881102419774, pvalue=0.05899949442741354)"
      ]
     },
     "execution_count": 71,
     "metadata": {},
     "output_type": "execute_result"
    }
   ],
   "source": [
    "stats.ttest_rel(asub, bsub)"
   ]
  },
  {
   "cell_type": "markdown",
   "id": "41acef96-767e-4b82-b70c-1ed124f8233b",
   "metadata": {},
   "source": [
    "The difference in scores is NOT significant, p = 0.059 > 0.05."
   ]
  },
  {
   "cell_type": "code",
   "execution_count": 72,
   "id": "75717887-cb0d-4aa4-a7d6-b29983c7c09d",
   "metadata": {},
   "outputs": [
    {
     "data": {
      "text/plain": [
       "0.13"
      ]
     },
     "execution_count": 72,
     "metadata": {},
     "output_type": "execute_result"
    }
   ],
   "source": [
    "effect_size_t_test(asub,bsub)"
   ]
  },
  {
   "cell_type": "markdown",
   "id": "024e0453-3fa3-420c-8e23-dfbdd74dfa70",
   "metadata": {},
   "source": [
    "The effect size is moderate."
   ]
  },
  {
   "cell_type": "code",
   "execution_count": 73,
   "id": "24da5cc1-d629-4c3b-82d1-1538bb872710",
   "metadata": {},
   "outputs": [],
   "source": [
    "differences = asub - bsub\n",
    "sample_mean = differences.sum()/len(differences)\n",
    "sample_variance = (differences - sample_mean).apply(lambda x: x*x).sum()/len(differences)"
   ]
  },
  {
   "cell_type": "code",
   "execution_count": 74,
   "id": "dc0fafcf-9a6a-4e88-8799-4bdeeec6aa5e",
   "metadata": {},
   "outputs": [
    {
     "data": {
      "text/plain": [
       "(-0.001, 0.052)"
      ]
     },
     "execution_count": 74,
     "metadata": {},
     "output_type": "execute_result"
    }
   ],
   "source": [
    "c = ci(len(differences), sample_variance)\n",
    "cl, ch = (sample_mean - c, sample_mean + c)\n",
    "round(cl,3), round(ch,3)"
   ]
  },
  {
   "cell_type": "code",
   "execution_count": 75,
   "id": "6a59fc7c-4582-4411-a84d-59de673a5da5",
   "metadata": {},
   "outputs": [
    {
     "data": {
      "text/plain": [
       "0.026"
      ]
     },
     "execution_count": 75,
     "metadata": {},
     "output_type": "execute_result"
    }
   ],
   "source": [
    "round(sample_mean,3)"
   ]
  },
  {
   "cell_type": "code",
   "execution_count": 76,
   "id": "6fc6ab12-1652-4e6e-b9b3-7f161d9b1f5f",
   "metadata": {},
   "outputs": [
    {
     "data": {
      "text/plain": [
       "0.037"
      ]
     },
     "execution_count": 76,
     "metadata": {},
     "output_type": "execute_result"
    }
   ],
   "source": [
    "round(sample_variance,3)"
   ]
  },
  {
   "cell_type": "markdown",
   "id": "ad7a43a8-bf33-42bd-8853-ceca3d007ef1",
   "metadata": {},
   "source": [
    "### t-test eel_ind"
   ]
  },
  {
   "cell_type": "code",
   "execution_count": 77,
   "id": "76125007-8430-43ee-869b-71708635d0c7",
   "metadata": {},
   "outputs": [],
   "source": [
    "from scipy import stats\n",
    "asub = a['difference_ind']\n",
    "bsub = b['difference_ind']"
   ]
  },
  {
   "cell_type": "code",
   "execution_count": 78,
   "id": "fde6cd19-538f-4aaa-afed-e1afc6299d98",
   "metadata": {},
   "outputs": [
    {
     "data": {
      "text/plain": [
       "Ttest_relResult(statistic=6.8041298125525, pvalue=1.1663991747847864e-10)"
      ]
     },
     "execution_count": 78,
     "metadata": {},
     "output_type": "execute_result"
    }
   ],
   "source": [
    "stats.ttest_rel(asub, bsub)"
   ]
  },
  {
   "cell_type": "markdown",
   "id": "d0674e54-d857-4e5b-9450-7bd02ef583ed",
   "metadata": {},
   "source": [
    "The difference in scores is significant, p = 0.00000 < 0.05."
   ]
  },
  {
   "cell_type": "code",
   "execution_count": 79,
   "id": "7b7a9a5b-d68d-46ba-8796-0a93ea86459b",
   "metadata": {},
   "outputs": [
    {
     "data": {
      "text/plain": [
       "0.48"
      ]
     },
     "execution_count": 79,
     "metadata": {},
     "output_type": "execute_result"
    }
   ],
   "source": [
    "effect_size_t_test(asub,bsub)"
   ]
  },
  {
   "cell_type": "markdown",
   "id": "d012cbc6-ff79-4306-9e2a-052597b96fd6",
   "metadata": {},
   "source": [
    "The effect size is moderate."
   ]
  },
  {
   "cell_type": "code",
   "execution_count": 80,
   "id": "95906cea-d889-4de3-8fea-5bb5fee55efc",
   "metadata": {},
   "outputs": [],
   "source": [
    "differences = asub - bsub\n",
    "sample_mean = differences.sum()/len(differences)\n",
    "sample_variance = (differences - sample_mean).apply(lambda x: x*x).sum()/len(differences)"
   ]
  },
  {
   "cell_type": "code",
   "execution_count": 81,
   "id": "a5bb98e0-221b-4cfa-bd55-604bb733cb42",
   "metadata": {},
   "outputs": [
    {
     "data": {
      "text/plain": [
       "(0.055, 0.099)"
      ]
     },
     "execution_count": 81,
     "metadata": {},
     "output_type": "execute_result"
    }
   ],
   "source": [
    "c = ci(len(differences), sample_variance)\n",
    "cl, ch = (sample_mean - c, sample_mean + c)\n",
    "round(cl,3), round(ch,3)"
   ]
  },
  {
   "cell_type": "code",
   "execution_count": 82,
   "id": "8acad32c-0251-4af0-8baf-0dd826c8d391",
   "metadata": {},
   "outputs": [
    {
     "data": {
      "text/plain": [
       "0.077"
      ]
     },
     "execution_count": 82,
     "metadata": {},
     "output_type": "execute_result"
    }
   ],
   "source": [
    "round(sample_mean,3)"
   ]
  },
  {
   "cell_type": "code",
   "execution_count": 83,
   "id": "6be806c8-9464-44a9-93b9-81f3a2d56899",
   "metadata": {},
   "outputs": [
    {
     "data": {
      "text/plain": [
       "0.025"
      ]
     },
     "execution_count": 83,
     "metadata": {},
     "output_type": "execute_result"
    }
   ],
   "source": [
    "round(sample_variance,3)"
   ]
  },
  {
   "cell_type": "markdown",
   "id": "e3262e5e-2007-4296-bad7-ca564a44646f",
   "metadata": {},
   "source": [
    "### Visualize means of the samples"
   ]
  },
  {
   "cell_type": "code",
   "execution_count": 84,
   "id": "97d94b4f-7bf6-477f-9868-0c9fc636f03c",
   "metadata": {},
   "outputs": [
    {
     "data": {
      "text/plain": [
       "<AxesSubplot:title={'center':'Mean EEL (individual)'}, xlabel='system', ylabel='difference_ind'>"
      ]
     },
     "execution_count": 84,
     "metadata": {},
     "output_type": "execute_result"
    },
    {
     "data": {
      "image/png": "[encoded data removed]",
      "text/plain": [
       "<Figure size 1440x720 with 2 Axes>"
      ]
     },
     "metadata": {
      "needs_background": "light"
     },
     "output_type": "display_data"
    }
   ],
   "source": [
    "fig, axs = plt.subplots(1,2,figsize=(20,10))\n",
    "\n",
    "axs[0].set_title('Mean EEL (economic level)')\n",
    "axs[1].set_title('Mean EEL (individual)')\n",
    "\n",
    "sns.barplot(x='system', y='difference',data=data,ax=axs[0])\n",
    "sns.barplot(x='system', y='difference_ind',data=data,ax=axs[1])\n"
   ]
  },
  {
   "cell_type": "markdown",
   "id": "537708fa-0a18-42c0-afcf-ba702aa78892",
   "metadata": {
    "tags": []
   },
   "source": [
    "## Is there a significant improvement in the performance of AC base vs AC doc to doc for TEXT?"
   ]
  },
  {
   "cell_type": "markdown",
   "id": "d1bf54d7-49ef-4c68-b9ff-d344f76a37f2",
   "metadata": {},
   "source": [
    "### Select data"
   ]
  },
  {
   "cell_type": "code",
   "execution_count": 85,
   "id": "aab9063c-d324-4c47-ad96-0fb4551a4a1f",
   "metadata": {},
   "outputs": [],
   "source": [
    "s2 = 'ac_controller_default_text_9_eval'\n",
    "s1 = 'ac_controller_default_text_9_eval_old_config'"
   ]
  },
  {
   "cell_type": "code",
   "execution_count": 86,
   "id": "e10e90c3-709e-4f0c-8b83-9ebc7ec0269c",
   "metadata": {},
   "outputs": [
    {
     "data": {
      "text/html": [
       "<div>\n",
       "<style scoped>\n",
       "    .dataframe tbody tr th:only-of-type {\n",
       "        vertical-align: middle;\n",
       "    }\n",
       "\n",
       "    .dataframe tbody tr th {\n",
       "        vertical-align: top;\n",
       "    }\n",
       "\n",
       "    .dataframe thead th {\n",
       "        text-align: right;\n",
       "    }\n",
       "</style>\n",
       "<table border=\"1\" class=\"dataframe\">\n",
       "  <thead>\n",
       "    <tr style=\"text-align: right;\">\n",
       "      <th></th>\n",
       "      <th>difference</th>\n",
       "      <th>disparity</th>\n",
       "      <th>relevance</th>\n",
       "      <th>difference_ind</th>\n",
       "      <th>disparity_ind</th>\n",
       "      <th>relevance_ind</th>\n",
       "      <th>qid</th>\n",
       "      <th>source</th>\n",
       "      <th>system</th>\n",
       "    </tr>\n",
       "  </thead>\n",
       "  <tbody>\n",
       "    <tr>\n",
       "      <th>0</th>\n",
       "      <td>0.46567</td>\n",
       "      <td>3.25201</td>\n",
       "      <td>2.05063</td>\n",
       "      <td>0.97818</td>\n",
       "      <td>0.84548</td>\n",
       "      <td>0.00203</td>\n",
       "      <td>95</td>\n",
       "      <td>ac_controller_default_text_9_eval_old_config</td>\n",
       "      <td>TEXT + AC_base</td>\n",
       "    </tr>\n",
       "    <tr>\n",
       "      <th>1</th>\n",
       "      <td>1.06389</td>\n",
       "      <td>1.76208</td>\n",
       "      <td>1.23545</td>\n",
       "      <td>0.39826</td>\n",
       "      <td>0.12153</td>\n",
       "      <td>0.08212</td>\n",
       "      <td>612</td>\n",
       "      <td>ac_controller_default_text_9_eval_old_config</td>\n",
       "      <td>TEXT + AC_base</td>\n",
       "    </tr>\n",
       "    <tr>\n",
       "      <th>2</th>\n",
       "      <td>3.92328</td>\n",
       "      <td>2.83716</td>\n",
       "      <td>0.24707</td>\n",
       "      <td>1.00489</td>\n",
       "      <td>0.28676</td>\n",
       "      <td>0.03177</td>\n",
       "      <td>657</td>\n",
       "      <td>ac_controller_default_text_9_eval_old_config</td>\n",
       "      <td>TEXT + AC_base</td>\n",
       "    </tr>\n",
       "    <tr>\n",
       "      <th>3</th>\n",
       "      <td>0.33006</td>\n",
       "      <td>2.02984</td>\n",
       "      <td>1.32308</td>\n",
       "      <td>0.69114</td>\n",
       "      <td>0.17594</td>\n",
       "      <td>0.13344</td>\n",
       "      <td>771</td>\n",
       "      <td>ac_controller_default_text_9_eval_old_config</td>\n",
       "      <td>TEXT + AC_base</td>\n",
       "    </tr>\n",
       "    <tr>\n",
       "      <th>4</th>\n",
       "      <td>0.75494</td>\n",
       "      <td>1.65849</td>\n",
       "      <td>1.33794</td>\n",
       "      <td>0.59382</td>\n",
       "      <td>0.35730</td>\n",
       "      <td>0.16890</td>\n",
       "      <td>822</td>\n",
       "      <td>ac_controller_default_text_9_eval_old_config</td>\n",
       "      <td>TEXT + AC_base</td>\n",
       "    </tr>\n",
       "    <tr>\n",
       "      <th>...</th>\n",
       "      <td>...</td>\n",
       "      <td>...</td>\n",
       "      <td>...</td>\n",
       "      <td>...</td>\n",
       "      <td>...</td>\n",
       "      <td>...</td>\n",
       "      <td>...</td>\n",
       "      <td>...</td>\n",
       "      <td>...</td>\n",
       "    </tr>\n",
       "    <tr>\n",
       "      <th>395</th>\n",
       "      <td>0.13398</td>\n",
       "      <td>2.38984</td>\n",
       "      <td>1.84124</td>\n",
       "      <td>0.10291</td>\n",
       "      <td>0.13054</td>\n",
       "      <td>0.11258</td>\n",
       "      <td>119231</td>\n",
       "      <td>ac_controller_default_text_9_eval</td>\n",
       "      <td>TEXT + AC_dtd</td>\n",
       "    </tr>\n",
       "    <tr>\n",
       "      <th>396</th>\n",
       "      <td>0.14900</td>\n",
       "      <td>2.09805</td>\n",
       "      <td>1.86406</td>\n",
       "      <td>0.57226</td>\n",
       "      <td>0.30555</td>\n",
       "      <td>0.25813</td>\n",
       "      <td>123512</td>\n",
       "      <td>ac_controller_default_text_9_eval</td>\n",
       "      <td>TEXT + AC_dtd</td>\n",
       "    </tr>\n",
       "    <tr>\n",
       "      <th>397</th>\n",
       "      <td>0.12853</td>\n",
       "      <td>1.35327</td>\n",
       "      <td>0.98570</td>\n",
       "      <td>0.11874</td>\n",
       "      <td>0.10143</td>\n",
       "      <td>0.08023</td>\n",
       "      <td>126740</td>\n",
       "      <td>ac_controller_default_text_9_eval</td>\n",
       "      <td>TEXT + AC_dtd</td>\n",
       "    </tr>\n",
       "    <tr>\n",
       "      <th>398</th>\n",
       "      <td>0.67161</td>\n",
       "      <td>1.23895</td>\n",
       "      <td>0.77284</td>\n",
       "      <td>0.46805</td>\n",
       "      <td>0.17496</td>\n",
       "      <td>0.14059</td>\n",
       "      <td>128050</td>\n",
       "      <td>ac_controller_default_text_9_eval</td>\n",
       "      <td>TEXT + AC_dtd</td>\n",
       "    </tr>\n",
       "    <tr>\n",
       "      <th>399</th>\n",
       "      <td>0.30830</td>\n",
       "      <td>2.14136</td>\n",
       "      <td>1.80821</td>\n",
       "      <td>0.72473</td>\n",
       "      <td>0.12860</td>\n",
       "      <td>0.09284</td>\n",
       "      <td>128604</td>\n",
       "      <td>ac_controller_default_text_9_eval</td>\n",
       "      <td>TEXT + AC_dtd</td>\n",
       "    </tr>\n",
       "  </tbody>\n",
       "</table>\n",
       "<p>400 rows × 9 columns</p>\n",
       "</div>"
      ],
      "text/plain": [
       "     difference  disparity  relevance  difference_ind  disparity_ind  relevance_ind     qid  \\\n",
       "0       0.46567    3.25201    2.05063         0.97818        0.84548        0.00203      95   \n",
       "1       1.06389    1.76208    1.23545         0.39826        0.12153        0.08212     612   \n",
       "2       3.92328    2.83716    0.24707         1.00489        0.28676        0.03177     657   \n",
       "3       0.33006    2.02984    1.32308         0.69114        0.17594        0.13344     771   \n",
       "4       0.75494    1.65849    1.33794         0.59382        0.35730        0.16890     822   \n",
       "..          ...        ...        ...             ...            ...            ...     ...   \n",
       "395     0.13398    2.38984    1.84124         0.10291        0.13054        0.11258  119231   \n",
       "396     0.14900    2.09805    1.86406         0.57226        0.30555        0.25813  123512   \n",
       "397     0.12853    1.35327    0.98570         0.11874        0.10143        0.08023  126740   \n",
       "398     0.67161    1.23895    0.77284         0.46805        0.17496        0.14059  128050   \n",
       "399     0.30830    2.14136    1.80821         0.72473        0.12860        0.09284  128604   \n",
       "\n",
       "                                           source          system  \n",
       "0    ac_controller_default_text_9_eval_old_config  TEXT + AC_base  \n",
       "1    ac_controller_default_text_9_eval_old_config  TEXT + AC_base  \n",
       "2    ac_controller_default_text_9_eval_old_config  TEXT + AC_base  \n",
       "3    ac_controller_default_text_9_eval_old_config  TEXT + AC_base  \n",
       "4    ac_controller_default_text_9_eval_old_config  TEXT + AC_base  \n",
       "..                                            ...             ...  \n",
       "395             ac_controller_default_text_9_eval   TEXT + AC_dtd  \n",
       "396             ac_controller_default_text_9_eval   TEXT + AC_dtd  \n",
       "397             ac_controller_default_text_9_eval   TEXT + AC_dtd  \n",
       "398             ac_controller_default_text_9_eval   TEXT + AC_dtd  \n",
       "399             ac_controller_default_text_9_eval   TEXT + AC_dtd  \n",
       "\n",
       "[400 rows x 9 columns]"
      ]
     },
     "execution_count": 86,
     "metadata": {},
     "output_type": "execute_result"
    }
   ],
   "source": [
    "data = experiments[(experiments.source == s1) | (experiments.source == s2)]\n",
    "data = data.reset_index(drop=True)\n",
    "data"
   ]
  },
  {
   "cell_type": "code",
   "execution_count": 87,
   "id": "87b2c852-edf1-4d47-a921-c2f7c99b73ce",
   "metadata": {},
   "outputs": [],
   "source": [
    "from scipy import stats\n",
    "a = data.query(f'source == \"{s1}\"').reset_index(drop=True)\n",
    "b = data.query(f'source == \"{s2}\"').reset_index(drop=True)"
   ]
  },
  {
   "cell_type": "markdown",
   "id": "126dcb56-4246-4d0d-8f02-c4c63c8d5e4e",
   "metadata": {},
   "source": [
    "### t-test eel"
   ]
  },
  {
   "cell_type": "code",
   "execution_count": 88,
   "id": "b7517a8a-203c-4281-8f91-4ce3b32fe79a",
   "metadata": {},
   "outputs": [],
   "source": [
    "asub = a['difference']\n",
    "bsub = b['difference']"
   ]
  },
  {
   "cell_type": "code",
   "execution_count": 89,
   "id": "d5d0fef3-31c3-4d8e-a072-84378b299936",
   "metadata": {},
   "outputs": [
    {
     "data": {
      "text/plain": [
       "Ttest_relResult(statistic=2.395531305600646, pvalue=0.01752296958297589)"
      ]
     },
     "execution_count": 89,
     "metadata": {},
     "output_type": "execute_result"
    }
   ],
   "source": [
    "stats.ttest_rel(asub, bsub)"
   ]
  },
  {
   "cell_type": "markdown",
   "id": "13eaaf59-042c-484c-9f47-64e2450d090b",
   "metadata": {},
   "source": [
    "The difference in scores is significant, p = 0.00000 < 0.05."
   ]
  },
  {
   "cell_type": "code",
   "execution_count": 90,
   "id": "2554e3e1-7173-4309-a585-551b3733794c",
   "metadata": {},
   "outputs": [
    {
     "data": {
      "text/plain": [
       "0.17"
      ]
     },
     "execution_count": 90,
     "metadata": {},
     "output_type": "execute_result"
    }
   ],
   "source": [
    "effect_size_t_test(asub,bsub)"
   ]
  },
  {
   "cell_type": "markdown",
   "id": "919154eb-6477-4a15-a6ae-4c71da169bf2",
   "metadata": {},
   "source": [
    "The effect size is moderate."
   ]
  },
  {
   "cell_type": "code",
   "execution_count": 91,
   "id": "fee30274-76ac-4c5a-b8a6-307f7174a368",
   "metadata": {},
   "outputs": [],
   "source": [
    "differences = asub - bsub\n",
    "sample_mean = differences.sum()/len(differences)\n",
    "sample_variance = (differences - sample_mean).apply(lambda x: x*x).sum()/len(differences)"
   ]
  },
  {
   "cell_type": "code",
   "execution_count": 92,
   "id": "e9f70f47-6abc-4184-b965-8d2b2238ef76",
   "metadata": {},
   "outputs": [
    {
     "data": {
      "text/plain": [
       "(0.0063, 0.0642)"
      ]
     },
     "execution_count": 92,
     "metadata": {},
     "output_type": "execute_result"
    }
   ],
   "source": [
    "c = ci(len(differences), sample_variance)\n",
    "cl, ch = (sample_mean - c, sample_mean + c)\n",
    "round(cl,4), round(ch,4)"
   ]
  },
  {
   "cell_type": "code",
   "execution_count": 93,
   "id": "317ef11e-f159-46b3-a335-e1947bbd6878",
   "metadata": {},
   "outputs": [
    {
     "data": {
      "text/plain": [
       "0.035"
      ]
     },
     "execution_count": 93,
     "metadata": {},
     "output_type": "execute_result"
    }
   ],
   "source": [
    "round(sample_mean,3)"
   ]
  },
  {
   "cell_type": "code",
   "execution_count": 94,
   "id": "621aa237-26b6-4d6b-9ce7-302ad5b6b946",
   "metadata": {},
   "outputs": [
    {
     "data": {
      "text/plain": [
       "0.043"
      ]
     },
     "execution_count": 94,
     "metadata": {},
     "output_type": "execute_result"
    }
   ],
   "source": [
    "round(sample_variance,3)"
   ]
  },
  {
   "cell_type": "markdown",
   "id": "7207a0b2-3bd5-4d51-bd3e-4c1b86458016",
   "metadata": {},
   "source": [
    "### t-test eel_ind"
   ]
  },
  {
   "cell_type": "code",
   "execution_count": 95,
   "id": "573db9cd-9f99-4edb-8515-07e4f45dd584",
   "metadata": {},
   "outputs": [],
   "source": [
    "from scipy import stats\n",
    "asub = a['difference_ind']\n",
    "bsub = b['difference_ind']"
   ]
  },
  {
   "cell_type": "code",
   "execution_count": 96,
   "id": "cf31f9f9-f71f-4f64-9b03-799d60071476",
   "metadata": {},
   "outputs": [
    {
     "data": {
      "text/plain": [
       "Ttest_relResult(statistic=7.029660922505702, pvalue=3.2345039464592856e-11)"
      ]
     },
     "execution_count": 96,
     "metadata": {},
     "output_type": "execute_result"
    }
   ],
   "source": [
    "stats.ttest_rel(asub, bsub)"
   ]
  },
  {
   "cell_type": "markdown",
   "id": "f3c722d7-26fd-496e-b2c8-fd6a5d93f268",
   "metadata": {},
   "source": [
    "The difference in scores is significant, p = 0.00000 < 0.05."
   ]
  },
  {
   "cell_type": "code",
   "execution_count": 97,
   "id": "f4a436e6-2271-4d3b-8369-c9a995b0bade",
   "metadata": {},
   "outputs": [
    {
     "data": {
      "text/plain": [
       "0.5"
      ]
     },
     "execution_count": 97,
     "metadata": {},
     "output_type": "execute_result"
    }
   ],
   "source": [
    "effect_size_t_test(asub,bsub)"
   ]
  },
  {
   "cell_type": "markdown",
   "id": "5e858722-8100-4f3e-a690-8cde5d0bb2ce",
   "metadata": {},
   "source": [
    "The effect size is moderate."
   ]
  },
  {
   "cell_type": "code",
   "execution_count": 98,
   "id": "975ff5bb-85c3-41db-9038-3745e11e3ab6",
   "metadata": {},
   "outputs": [],
   "source": [
    "differences = asub - bsub\n",
    "sample_mean = differences.sum()/len(differences)\n",
    "sample_variance = (differences - sample_mean).apply(lambda x: x*x).sum()/len(differences)"
   ]
  },
  {
   "cell_type": "code",
   "execution_count": 99,
   "id": "6cf7ab17-6f48-4021-8d68-a86b30387ba8",
   "metadata": {},
   "outputs": [
    {
     "data": {
      "text/plain": [
       "(0.06466, 0.11489)"
      ]
     },
     "execution_count": 99,
     "metadata": {},
     "output_type": "execute_result"
    }
   ],
   "source": [
    "c = ci(len(differences), sample_variance)\n",
    "cl, ch = (sample_mean - c, sample_mean + c)\n",
    "round(cl,5), round(ch,5)"
   ]
  },
  {
   "cell_type": "code",
   "execution_count": 100,
   "id": "b34278e3-462f-4c70-af9e-44a4a4cf24dc",
   "metadata": {},
   "outputs": [
    {
     "data": {
      "text/plain": [
       "0.08978"
      ]
     },
     "execution_count": 100,
     "metadata": {},
     "output_type": "execute_result"
    }
   ],
   "source": [
    "round(sample_mean,5)"
   ]
  },
  {
   "cell_type": "code",
   "execution_count": 101,
   "id": "d87d12d9-336e-4a42-b8aa-f76bf880b302",
   "metadata": {},
   "outputs": [
    {
     "data": {
      "text/plain": [
       "0.03246"
      ]
     },
     "execution_count": 101,
     "metadata": {},
     "output_type": "execute_result"
    }
   ],
   "source": [
    "round(sample_variance,5)"
   ]
  },
  {
   "cell_type": "markdown",
   "id": "64b39c63-4363-4f5c-80ee-6e86cddb4995",
   "metadata": {},
   "source": [
    "### Visualize means of the samples"
   ]
  },
  {
   "cell_type": "code",
   "execution_count": 102,
   "id": "ff265ab3-154b-4e8e-8319-8a24c1fc92ea",
   "metadata": {},
   "outputs": [
    {
     "data": {
      "text/plain": [
       "<AxesSubplot:title={'center':'Mean EEL (individual)'}, xlabel='system', ylabel='difference_ind'>"
      ]
     },
     "execution_count": 102,
     "metadata": {},
     "output_type": "execute_result"
    },
    {
     "data": {
      "image/png": "[encoded data removed]",
      "text/plain": [
       "<Figure size 1440x720 with 2 Axes>"
      ]
     },
     "metadata": {
      "needs_background": "light"
     },
     "output_type": "display_data"
    }
   ],
   "source": [
    "fig, axs = plt.subplots(1,2,figsize=(20,10))\n",
    "\n",
    "axs[0].set_title('Mean EEL (economic level)')\n",
    "axs[1].set_title('Mean EEL (individual)')\n",
    "\n",
    "sns.barplot(x='system', y='difference',data=data,ax=axs[0])\n",
    "sns.barplot(x='system', y='difference_ind',data=data,ax=axs[1])\n"
   ]
  },
  {
   "cell_type": "markdown",
   "id": "0209fda7-dbdd-475e-a198-9f9b3c748ee4",
   "metadata": {
    "tags": []
   },
   "source": [
    "## Is there a significant difference between the TREC mean and AC(dtd) or RFR(dtd)?"
   ]
  },
  {
   "cell_type": "markdown",
   "id": "1283dd70-d904-4c37-9ee2-71fc78ac6661",
   "metadata": {},
   "source": [
    "### Select data"
   ]
  },
  {
   "cell_type": "code",
   "execution_count": 103,
   "id": "bb521bb5-4d36-46b0-acd5-30335920c6b1",
   "metadata": {},
   "outputs": [],
   "source": [
    "s1 = 'ac_controller_default_lm'\n",
    "s2 = 'mrfr_default_lm_eval'"
   ]
  },
  {
   "cell_type": "code",
   "execution_count": 104,
   "id": "2fbeaabc-da67-4050-aab2-5bf98c1c1b8a",
   "metadata": {},
   "outputs": [
    {
     "data": {
      "text/html": [
       "<div>\n",
       "<style scoped>\n",
       "    .dataframe tbody tr th:only-of-type {\n",
       "        vertical-align: middle;\n",
       "    }\n",
       "\n",
       "    .dataframe tbody tr th {\n",
       "        vertical-align: top;\n",
       "    }\n",
       "\n",
       "    .dataframe thead th {\n",
       "        text-align: right;\n",
       "    }\n",
       "</style>\n",
       "<table border=\"1\" class=\"dataframe\">\n",
       "  <thead>\n",
       "    <tr style=\"text-align: right;\">\n",
       "      <th></th>\n",
       "      <th>difference</th>\n",
       "      <th>disparity</th>\n",
       "      <th>relevance</th>\n",
       "      <th>difference_ind</th>\n",
       "      <th>disparity_ind</th>\n",
       "      <th>relevance_ind</th>\n",
       "      <th>qid</th>\n",
       "      <th>source</th>\n",
       "      <th>system</th>\n",
       "    </tr>\n",
       "  </thead>\n",
       "  <tbody>\n",
       "    <tr>\n",
       "      <th>0</th>\n",
       "      <td>0.23910</td>\n",
       "      <td>1.42244</td>\n",
       "      <td>1.24913</td>\n",
       "      <td>0.14971</td>\n",
       "      <td>0.03529</td>\n",
       "      <td>0.01117</td>\n",
       "      <td>95</td>\n",
       "      <td>ac_controller_default_lm</td>\n",
       "      <td>LM + AC_dtd</td>\n",
       "    </tr>\n",
       "    <tr>\n",
       "      <th>1</th>\n",
       "      <td>0.76381</td>\n",
       "      <td>1.77053</td>\n",
       "      <td>1.38972</td>\n",
       "      <td>0.44681</td>\n",
       "      <td>0.17976</td>\n",
       "      <td>0.08696</td>\n",
       "      <td>612</td>\n",
       "      <td>ac_controller_default_lm</td>\n",
       "      <td>LM + AC_dtd</td>\n",
       "    </tr>\n",
       "    <tr>\n",
       "      <th>2</th>\n",
       "      <td>2.69675</td>\n",
       "      <td>1.76200</td>\n",
       "      <td>0.32276</td>\n",
       "      <td>0.77073</td>\n",
       "      <td>0.11388</td>\n",
       "      <td>0.06241</td>\n",
       "      <td>657</td>\n",
       "      <td>ac_controller_default_lm</td>\n",
       "      <td>LM + AC_dtd</td>\n",
       "    </tr>\n",
       "    <tr>\n",
       "      <th>3</th>\n",
       "      <td>0.17600</td>\n",
       "      <td>1.81185</td>\n",
       "      <td>1.29111</td>\n",
       "      <td>0.67444</td>\n",
       "      <td>0.25027</td>\n",
       "      <td>0.17895</td>\n",
       "      <td>771</td>\n",
       "      <td>ac_controller_default_lm</td>\n",
       "      <td>LM + AC_dtd</td>\n",
       "    </tr>\n",
       "    <tr>\n",
       "      <th>4</th>\n",
       "      <td>0.37616</td>\n",
       "      <td>1.73422</td>\n",
       "      <td>1.56520</td>\n",
       "      <td>0.48771</td>\n",
       "      <td>0.31650</td>\n",
       "      <td>0.20156</td>\n",
       "      <td>822</td>\n",
       "      <td>ac_controller_default_lm</td>\n",
       "      <td>LM + AC_dtd</td>\n",
       "    </tr>\n",
       "    <tr>\n",
       "      <th>...</th>\n",
       "      <td>...</td>\n",
       "      <td>...</td>\n",
       "      <td>...</td>\n",
       "      <td>...</td>\n",
       "      <td>...</td>\n",
       "      <td>...</td>\n",
       "      <td>...</td>\n",
       "      <td>...</td>\n",
       "      <td>...</td>\n",
       "    </tr>\n",
       "    <tr>\n",
       "      <th>395</th>\n",
       "      <td>0.06794</td>\n",
       "      <td>2.07851</td>\n",
       "      <td>1.71860</td>\n",
       "      <td>0.07524</td>\n",
       "      <td>0.15761</td>\n",
       "      <td>0.13995</td>\n",
       "      <td>119231</td>\n",
       "      <td>mrfr_default_lm_eval</td>\n",
       "      <td>LM + RFR_dtd</td>\n",
       "    </tr>\n",
       "    <tr>\n",
       "      <th>396</th>\n",
       "      <td>0.10978</td>\n",
       "      <td>2.17396</td>\n",
       "      <td>1.92162</td>\n",
       "      <td>0.57496</td>\n",
       "      <td>0.35774</td>\n",
       "      <td>0.28288</td>\n",
       "      <td>123512</td>\n",
       "      <td>mrfr_default_lm_eval</td>\n",
       "      <td>LM + RFR_dtd</td>\n",
       "    </tr>\n",
       "    <tr>\n",
       "      <th>397</th>\n",
       "      <td>0.27117</td>\n",
       "      <td>1.42900</td>\n",
       "      <td>0.95225</td>\n",
       "      <td>0.16322</td>\n",
       "      <td>0.19395</td>\n",
       "      <td>0.10425</td>\n",
       "      <td>126740</td>\n",
       "      <td>mrfr_default_lm_eval</td>\n",
       "      <td>LM + RFR_dtd</td>\n",
       "    </tr>\n",
       "    <tr>\n",
       "      <th>398</th>\n",
       "      <td>0.48640</td>\n",
       "      <td>1.10121</td>\n",
       "      <td>0.79658</td>\n",
       "      <td>0.40619</td>\n",
       "      <td>0.19921</td>\n",
       "      <td>0.18365</td>\n",
       "      <td>128050</td>\n",
       "      <td>mrfr_default_lm_eval</td>\n",
       "      <td>LM + RFR_dtd</td>\n",
       "    </tr>\n",
       "    <tr>\n",
       "      <th>399</th>\n",
       "      <td>0.25877</td>\n",
       "      <td>2.16132</td>\n",
       "      <td>1.84296</td>\n",
       "      <td>0.72059</td>\n",
       "      <td>0.17377</td>\n",
       "      <td>0.11749</td>\n",
       "      <td>128604</td>\n",
       "      <td>mrfr_default_lm_eval</td>\n",
       "      <td>LM + RFR_dtd</td>\n",
       "    </tr>\n",
       "  </tbody>\n",
       "</table>\n",
       "<p>400 rows × 9 columns</p>\n",
       "</div>"
      ],
      "text/plain": [
       "     difference  disparity  relevance  difference_ind  disparity_ind  relevance_ind     qid  \\\n",
       "0       0.23910    1.42244    1.24913         0.14971        0.03529        0.01117      95   \n",
       "1       0.76381    1.77053    1.38972         0.44681        0.17976        0.08696     612   \n",
       "2       2.69675    1.76200    0.32276         0.77073        0.11388        0.06241     657   \n",
       "3       0.17600    1.81185    1.29111         0.67444        0.25027        0.17895     771   \n",
       "4       0.37616    1.73422    1.56520         0.48771        0.31650        0.20156     822   \n",
       "..          ...        ...        ...             ...            ...            ...     ...   \n",
       "395     0.06794    2.07851    1.71860         0.07524        0.15761        0.13995  119231   \n",
       "396     0.10978    2.17396    1.92162         0.57496        0.35774        0.28288  123512   \n",
       "397     0.27117    1.42900    0.95225         0.16322        0.19395        0.10425  126740   \n",
       "398     0.48640    1.10121    0.79658         0.40619        0.19921        0.18365  128050   \n",
       "399     0.25877    2.16132    1.84296         0.72059        0.17377        0.11749  128604   \n",
       "\n",
       "                       source        system  \n",
       "0    ac_controller_default_lm   LM + AC_dtd  \n",
       "1    ac_controller_default_lm   LM + AC_dtd  \n",
       "2    ac_controller_default_lm   LM + AC_dtd  \n",
       "3    ac_controller_default_lm   LM + AC_dtd  \n",
       "4    ac_controller_default_lm   LM + AC_dtd  \n",
       "..                        ...           ...  \n",
       "395      mrfr_default_lm_eval  LM + RFR_dtd  \n",
       "396      mrfr_default_lm_eval  LM + RFR_dtd  \n",
       "397      mrfr_default_lm_eval  LM + RFR_dtd  \n",
       "398      mrfr_default_lm_eval  LM + RFR_dtd  \n",
       "399      mrfr_default_lm_eval  LM + RFR_dtd  \n",
       "\n",
       "[400 rows x 9 columns]"
      ]
     },
     "execution_count": 104,
     "metadata": {},
     "output_type": "execute_result"
    }
   ],
   "source": [
    "data = experiments[(experiments.source == s1) | (experiments.source == s2)]\n",
    "data = data.reset_index(drop=True)\n",
    "data"
   ]
  },
  {
   "cell_type": "code",
   "execution_count": 105,
   "id": "db385dea-3b51-4ad7-9e46-7b5facf66546",
   "metadata": {},
   "outputs": [],
   "source": [
    "from scipy import stats\n",
    "a = data.query(f'source == \"{s1}\"').reset_index(drop=True)\n",
    "b = data.query(f'source == \"{s2}\"').reset_index(drop=True)\n"
   ]
  },
  {
   "cell_type": "markdown",
   "id": "6b61e5dc-09c6-4f48-98c4-486c6afb3349",
   "metadata": {},
   "source": [
    "### AC vs TREC mean"
   ]
  },
  {
   "cell_type": "markdown",
   "id": "97075f7d-b217-4515-99ea-ff0c3fc45cee",
   "metadata": {},
   "source": [
    "#### t-test eel"
   ]
  },
  {
   "cell_type": "code",
   "execution_count": 106,
   "id": "618fd574-383e-499d-80bf-7fc223ce4574",
   "metadata": {},
   "outputs": [],
   "source": [
    "bsub = a['difference']\n",
    "asub = trec_means['difference']"
   ]
  },
  {
   "cell_type": "code",
   "execution_count": 107,
   "id": "ddd9354a-4308-4172-8208-7bde313101ee",
   "metadata": {},
   "outputs": [
    {
     "data": {
      "text/plain": [
       "Ttest_relResult(statistic=16.78410588450395, pvalue=5.693036640327242e-40)"
      ]
     },
     "execution_count": 107,
     "metadata": {},
     "output_type": "execute_result"
    }
   ],
   "source": [
    "stats.ttest_rel(asub, bsub)"
   ]
  },
  {
   "cell_type": "markdown",
   "id": "e2791b94-83b3-48bf-a926-0c162385d5fd",
   "metadata": {},
   "source": [
    "The difference in scores is significant, p = 0.00000 < 0.05."
   ]
  },
  {
   "cell_type": "code",
   "execution_count": 108,
   "id": "67f9da9a-b7ad-49e2-9ac8-9061c21ea1b8",
   "metadata": {},
   "outputs": [
    {
     "data": {
      "text/plain": [
       "1.19"
      ]
     },
     "execution_count": 108,
     "metadata": {},
     "output_type": "execute_result"
    }
   ],
   "source": [
    "effect_size_t_test(asub,bsub)"
   ]
  },
  {
   "cell_type": "markdown",
   "id": "a93dc265-fb7f-4883-8c5f-0975a20218aa",
   "metadata": {},
   "source": [
    "The effect size is LARGE."
   ]
  },
  {
   "cell_type": "code",
   "execution_count": 109,
   "id": "8939536a-0bb7-4250-992d-b5f4a87f4c96",
   "metadata": {},
   "outputs": [],
   "source": [
    "differences = asub - bsub\n",
    "sample_mean = differences.sum()/len(differences)\n",
    "sample_variance = (differences - sample_mean).apply(lambda x: x*x).sum()/len(differences)"
   ]
  },
  {
   "cell_type": "code",
   "execution_count": 110,
   "id": "59fd89a4-bdef-4c51-ab6b-228b4c72b650",
   "metadata": {},
   "outputs": [
    {
     "data": {
      "text/plain": [
       "(0.2943, 0.3725)"
      ]
     },
     "execution_count": 110,
     "metadata": {},
     "output_type": "execute_result"
    }
   ],
   "source": [
    "c = ci(len(differences), sample_variance)\n",
    "cl, ch = (sample_mean - c, sample_mean + c)\n",
    "round(cl,4), round(ch,4)"
   ]
  },
  {
   "cell_type": "code",
   "execution_count": 111,
   "id": "47121814-302b-490c-9823-672ef8ddbcdd",
   "metadata": {},
   "outputs": [
    {
     "data": {
      "text/plain": [
       "0.333"
      ]
     },
     "execution_count": 111,
     "metadata": {},
     "output_type": "execute_result"
    }
   ],
   "source": [
    "round(sample_mean,3)"
   ]
  },
  {
   "cell_type": "code",
   "execution_count": 112,
   "id": "7daf8dfe-c743-4049-942e-112d3ea386a1",
   "metadata": {},
   "outputs": [
    {
     "data": {
      "text/plain": [
       "0.079"
      ]
     },
     "execution_count": 112,
     "metadata": {},
     "output_type": "execute_result"
    }
   ],
   "source": [
    "round(sample_variance,3)"
   ]
  },
  {
   "cell_type": "markdown",
   "id": "3fe20622-73a0-4a93-ae58-e5f4d67e2093",
   "metadata": {},
   "source": [
    "#### t-test eel_ind"
   ]
  },
  {
   "cell_type": "code",
   "execution_count": 113,
   "id": "18d089ce-7ca3-40d8-8f60-95fb09954188",
   "metadata": {},
   "outputs": [],
   "source": [
    "from scipy import stats\n",
    "bsub = a['difference_ind']\n",
    "asub = trec_means['difference_ind']"
   ]
  },
  {
   "cell_type": "code",
   "execution_count": 114,
   "id": "83f02018-8558-4cdc-a1c2-00444ee407a8",
   "metadata": {},
   "outputs": [
    {
     "data": {
      "text/plain": [
       "Ttest_relResult(statistic=54.023986838259866, pvalue=7.3623814442948135e-121)"
      ]
     },
     "execution_count": 114,
     "metadata": {},
     "output_type": "execute_result"
    }
   ],
   "source": [
    "stats.ttest_rel(asub, bsub)"
   ]
  },
  {
   "cell_type": "markdown",
   "id": "809c25c8-57e8-466d-9510-9d0d6443978b",
   "metadata": {},
   "source": [
    "The difference in scores is significant, p = 0.00000 < 0.05."
   ]
  },
  {
   "cell_type": "code",
   "execution_count": 115,
   "id": "72b2dd84-2284-4e42-9a96-66a366900d4b",
   "metadata": {},
   "outputs": [
    {
     "data": {
      "text/plain": [
       "3.83"
      ]
     },
     "execution_count": 115,
     "metadata": {},
     "output_type": "execute_result"
    }
   ],
   "source": [
    "effect_size_t_test(asub,bsub)"
   ]
  },
  {
   "cell_type": "markdown",
   "id": "4cf6cad0-d0b0-4431-94de-3c19bff6f874",
   "metadata": {},
   "source": [
    "The effect size is moderate."
   ]
  },
  {
   "cell_type": "code",
   "execution_count": 116,
   "id": "82c5bc9c-33e0-4476-882e-5128a886f6c4",
   "metadata": {},
   "outputs": [],
   "source": [
    "differences = asub - bsub\n",
    "sample_mean = differences.sum()/len(differences)\n",
    "sample_variance = (differences - sample_mean).apply(lambda x: x*x).sum()/len(differences)"
   ]
  },
  {
   "cell_type": "code",
   "execution_count": 117,
   "id": "3206c0bf-eb4f-4c23-91aa-ff861b01a598",
   "metadata": {},
   "outputs": [
    {
     "data": {
      "text/plain": [
       "(0.63307, 0.68092)"
      ]
     },
     "execution_count": 117,
     "metadata": {},
     "output_type": "execute_result"
    }
   ],
   "source": [
    "c = ci(len(differences), sample_variance)\n",
    "cl, ch = (sample_mean - c, sample_mean + c)\n",
    "round(cl,5), round(ch,5)"
   ]
  },
  {
   "cell_type": "code",
   "execution_count": 118,
   "id": "b6c6d6ef-1bf4-4827-9f5d-0a3c76706424",
   "metadata": {},
   "outputs": [
    {
     "data": {
      "text/plain": [
       "0.657"
      ]
     },
     "execution_count": 118,
     "metadata": {},
     "output_type": "execute_result"
    }
   ],
   "source": [
    "round(sample_mean,5)"
   ]
  },
  {
   "cell_type": "code",
   "execution_count": 119,
   "id": "ca5fbb59-4b44-49df-be74-b95c2de275fd",
   "metadata": {},
   "outputs": [
    {
     "data": {
      "text/plain": [
       "0.02943"
      ]
     },
     "execution_count": 119,
     "metadata": {},
     "output_type": "execute_result"
    }
   ],
   "source": [
    "round(sample_variance,5)"
   ]
  },
  {
   "cell_type": "markdown",
   "id": "5c7c1a47-3e1f-4abd-8dab-cc8bcc5ebb09",
   "metadata": {},
   "source": [
    "### RFR vs TREC mean"
   ]
  },
  {
   "cell_type": "markdown",
   "id": "891fab97-3c7b-48e2-8e80-0fbacd0ec184",
   "metadata": {},
   "source": [
    "#### t-test eel"
   ]
  },
  {
   "cell_type": "code",
   "execution_count": 122,
   "id": "748e4a64-8a72-4bb5-8f7f-fb4d1d88acf5",
   "metadata": {},
   "outputs": [],
   "source": [
    "bsub = b['difference']\n",
    "asub = trec_means['difference']"
   ]
  },
  {
   "cell_type": "code",
   "execution_count": 123,
   "id": "7442945b-223d-4265-84e7-be30ebbc1a69",
   "metadata": {},
   "outputs": [
    {
     "data": {
      "text/plain": [
       "Ttest_relResult(statistic=14.336322090270897, pvalue=1.742637089060394e-32)"
      ]
     },
     "execution_count": 123,
     "metadata": {},
     "output_type": "execute_result"
    }
   ],
   "source": [
    "stats.ttest_rel(asub, bsub)"
   ]
  },
  {
   "cell_type": "markdown",
   "id": "6068ddf6-6d5f-4587-9ccf-9d4ec1f553d2",
   "metadata": {},
   "source": [
    "The difference in scores is significant, p = 0.00000 < 0.05."
   ]
  },
  {
   "cell_type": "code",
   "execution_count": 124,
   "id": "bc98b88a-b9de-4044-8603-fde4af7f62e8",
   "metadata": {},
   "outputs": [
    {
     "data": {
      "text/plain": [
       "1.02"
      ]
     },
     "execution_count": 124,
     "metadata": {},
     "output_type": "execute_result"
    }
   ],
   "source": [
    "effect_size_t_test(asub,bsub)"
   ]
  },
  {
   "cell_type": "markdown",
   "id": "14bc7a3a-0485-4d79-8eb3-2b32836ab5b6",
   "metadata": {},
   "source": [
    "The effect size is LARGE."
   ]
  },
  {
   "cell_type": "code",
   "execution_count": 125,
   "id": "0ed5152e-4cfe-4f99-8afc-59e734276bac",
   "metadata": {},
   "outputs": [],
   "source": [
    "differences = asub - bsub\n",
    "sample_mean = differences.sum()/len(differences)\n",
    "sample_variance = (differences - sample_mean).apply(lambda x: x*x).sum()/len(differences)"
   ]
  },
  {
   "cell_type": "code",
   "execution_count": 126,
   "id": "119c0433-b7ce-466e-a591-47885201759e",
   "metadata": {},
   "outputs": [
    {
     "data": {
      "text/plain": [
       "(0.2729, 0.3597)"
      ]
     },
     "execution_count": 126,
     "metadata": {},
     "output_type": "execute_result"
    }
   ],
   "source": [
    "c = ci(len(differences), sample_variance)\n",
    "cl, ch = (sample_mean - c, sample_mean + c)\n",
    "round(cl,4), round(ch,4)"
   ]
  },
  {
   "cell_type": "code",
   "execution_count": 127,
   "id": "10f3e5b2-d250-4dde-9ab2-fbc6831bc660",
   "metadata": {},
   "outputs": [
    {
     "data": {
      "text/plain": [
       "0.316"
      ]
     },
     "execution_count": 127,
     "metadata": {},
     "output_type": "execute_result"
    }
   ],
   "source": [
    "round(sample_mean,3)"
   ]
  },
  {
   "cell_type": "code",
   "execution_count": 128,
   "id": "7cf0e1f9-5e5d-4e40-ae06-44dfa737df8f",
   "metadata": {},
   "outputs": [
    {
     "data": {
      "text/plain": [
       "0.097"
      ]
     },
     "execution_count": 128,
     "metadata": {},
     "output_type": "execute_result"
    }
   ],
   "source": [
    "round(sample_variance,3)"
   ]
  },
  {
   "cell_type": "markdown",
   "id": "cb1c6169-1362-486f-afb6-c9050253e0cc",
   "metadata": {},
   "source": [
    "#### t-test eel_ind"
   ]
  },
  {
   "cell_type": "code",
   "execution_count": 129,
   "id": "da7bdf6f-f1bb-4d73-952d-29afaa982afe",
   "metadata": {},
   "outputs": [],
   "source": [
    "from scipy import stats\n",
    "bsub = b['difference_ind']\n",
    "asub = trec_means['difference_ind']"
   ]
  },
  {
   "cell_type": "code",
   "execution_count": 130,
   "id": "68f1fccf-d97e-4efb-b87e-c1fe68068608",
   "metadata": {},
   "outputs": [
    {
     "data": {
      "text/plain": [
       "Ttest_relResult(statistic=45.26272568938296, pvalue=1.0221820503766304e-106)"
      ]
     },
     "execution_count": 130,
     "metadata": {},
     "output_type": "execute_result"
    }
   ],
   "source": [
    "stats.ttest_rel(asub, bsub)"
   ]
  },
  {
   "cell_type": "markdown",
   "id": "50e6fe97-6851-4cd4-9dd7-21f955671521",
   "metadata": {},
   "source": [
    "The difference in scores is significant, p = 0.00000 < 0.05."
   ]
  },
  {
   "cell_type": "code",
   "execution_count": 131,
   "id": "6bff2b3c-f272-4437-990f-c43abe57c0c5",
   "metadata": {},
   "outputs": [
    {
     "data": {
      "text/plain": [
       "3.21"
      ]
     },
     "execution_count": 131,
     "metadata": {},
     "output_type": "execute_result"
    }
   ],
   "source": [
    "effect_size_t_test(asub,bsub)"
   ]
  },
  {
   "cell_type": "markdown",
   "id": "524178da-4b3d-43ba-900d-740fce141cdd",
   "metadata": {},
   "source": [
    "The effect size is moderate."
   ]
  },
  {
   "cell_type": "code",
   "execution_count": 132,
   "id": "2b571717-fe96-44a3-b7ca-e78f772515df",
   "metadata": {},
   "outputs": [],
   "source": [
    "differences = asub - bsub\n",
    "sample_mean = differences.sum()/len(differences)\n",
    "sample_variance = (differences - sample_mean).apply(lambda x: x*x).sum()/len(differences)"
   ]
  },
  {
   "cell_type": "code",
   "execution_count": 133,
   "id": "be6c54d1-eb63-46bb-bc1f-094278fa02c4",
   "metadata": {},
   "outputs": [
    {
     "data": {
      "text/plain": [
       "(0.5985, 0.65288)"
      ]
     },
     "execution_count": 133,
     "metadata": {},
     "output_type": "execute_result"
    }
   ],
   "source": [
    "c = ci(len(differences), sample_variance)\n",
    "cl, ch = (sample_mean - c, sample_mean + c)\n",
    "round(cl,5), round(ch,5)"
   ]
  },
  {
   "cell_type": "code",
   "execution_count": 134,
   "id": "43e97e20-08de-4702-8019-f24bd36ad5a7",
   "metadata": {},
   "outputs": [
    {
     "data": {
      "text/plain": [
       "0.62569"
      ]
     },
     "execution_count": 134,
     "metadata": {},
     "output_type": "execute_result"
    }
   ],
   "source": [
    "round(sample_mean,5)"
   ]
  },
  {
   "cell_type": "code",
   "execution_count": 135,
   "id": "97f60962-59ca-4367-9334-87ad3c7e4707",
   "metadata": {},
   "outputs": [
    {
     "data": {
      "text/plain": [
       "0.03803"
      ]
     },
     "execution_count": 135,
     "metadata": {},
     "output_type": "execute_result"
    }
   ],
   "source": [
    "round(sample_variance,5)"
   ]
  },
  {
   "cell_type": "markdown",
   "id": "62de3db6-3a3d-430e-a46c-fa152b413bd2",
   "metadata": {},
   "source": [
    "### Visualize means of the samples"
   ]
  },
  {
   "cell_type": "code",
   "execution_count": 136,
   "id": "d6949e94-a58a-4803-b985-a01fa9501c6b",
   "metadata": {},
   "outputs": [
    {
     "data": {
      "text/html": [
       "<div>\n",
       "<style scoped>\n",
       "    .dataframe tbody tr th:only-of-type {\n",
       "        vertical-align: middle;\n",
       "    }\n",
       "\n",
       "    .dataframe tbody tr th {\n",
       "        vertical-align: top;\n",
       "    }\n",
       "\n",
       "    .dataframe thead th {\n",
       "        text-align: right;\n",
       "    }\n",
       "</style>\n",
       "<table border=\"1\" class=\"dataframe\">\n",
       "  <thead>\n",
       "    <tr style=\"text-align: right;\">\n",
       "      <th></th>\n",
       "      <th>difference</th>\n",
       "      <th>disparity</th>\n",
       "      <th>relevance</th>\n",
       "      <th>difference_ind</th>\n",
       "      <th>disparity_ind</th>\n",
       "      <th>relevance_ind</th>\n",
       "      <th>qid</th>\n",
       "      <th>source</th>\n",
       "      <th>system</th>\n",
       "    </tr>\n",
       "  </thead>\n",
       "  <tbody>\n",
       "    <tr>\n",
       "      <th>0</th>\n",
       "      <td>0.23910</td>\n",
       "      <td>1.42244</td>\n",
       "      <td>1.24913</td>\n",
       "      <td>0.14971</td>\n",
       "      <td>0.03529</td>\n",
       "      <td>0.01117</td>\n",
       "      <td>95</td>\n",
       "      <td>ac_controller_default_lm</td>\n",
       "      <td>LM + AC_dtd</td>\n",
       "    </tr>\n",
       "    <tr>\n",
       "      <th>1</th>\n",
       "      <td>0.76381</td>\n",
       "      <td>1.77053</td>\n",
       "      <td>1.38972</td>\n",
       "      <td>0.44681</td>\n",
       "      <td>0.17976</td>\n",
       "      <td>0.08696</td>\n",
       "      <td>612</td>\n",
       "      <td>ac_controller_default_lm</td>\n",
       "      <td>LM + AC_dtd</td>\n",
       "    </tr>\n",
       "    <tr>\n",
       "      <th>2</th>\n",
       "      <td>2.69675</td>\n",
       "      <td>1.76200</td>\n",
       "      <td>0.32276</td>\n",
       "      <td>0.77073</td>\n",
       "      <td>0.11388</td>\n",
       "      <td>0.06241</td>\n",
       "      <td>657</td>\n",
       "      <td>ac_controller_default_lm</td>\n",
       "      <td>LM + AC_dtd</td>\n",
       "    </tr>\n",
       "    <tr>\n",
       "      <th>3</th>\n",
       "      <td>0.17600</td>\n",
       "      <td>1.81185</td>\n",
       "      <td>1.29111</td>\n",
       "      <td>0.67444</td>\n",
       "      <td>0.25027</td>\n",
       "      <td>0.17895</td>\n",
       "      <td>771</td>\n",
       "      <td>ac_controller_default_lm</td>\n",
       "      <td>LM + AC_dtd</td>\n",
       "    </tr>\n",
       "    <tr>\n",
       "      <th>4</th>\n",
       "      <td>0.37616</td>\n",
       "      <td>1.73422</td>\n",
       "      <td>1.56520</td>\n",
       "      <td>0.48771</td>\n",
       "      <td>0.31650</td>\n",
       "      <td>0.20156</td>\n",
       "      <td>822</td>\n",
       "      <td>ac_controller_default_lm</td>\n",
       "      <td>LM + AC_dtd</td>\n",
       "    </tr>\n",
       "    <tr>\n",
       "      <th>...</th>\n",
       "      <td>...</td>\n",
       "      <td>...</td>\n",
       "      <td>...</td>\n",
       "      <td>...</td>\n",
       "      <td>...</td>\n",
       "      <td>...</td>\n",
       "      <td>...</td>\n",
       "      <td>...</td>\n",
       "      <td>...</td>\n",
       "    </tr>\n",
       "    <tr>\n",
       "      <th>195</th>\n",
       "      <td>0.35149</td>\n",
       "      <td>2.34169</td>\n",
       "      <td>1.70841</td>\n",
       "      <td>0.77897</td>\n",
       "      <td>0.83099</td>\n",
       "      <td>0.12478</td>\n",
       "      <td>119231</td>\n",
       "      <td>NaN</td>\n",
       "      <td>TREC mean</td>\n",
       "    </tr>\n",
       "    <tr>\n",
       "      <th>196</th>\n",
       "      <td>0.42510</td>\n",
       "      <td>2.49884</td>\n",
       "      <td>1.92640</td>\n",
       "      <td>1.21086</td>\n",
       "      <td>0.93900</td>\n",
       "      <td>0.25556</td>\n",
       "      <td>123512</td>\n",
       "      <td>NaN</td>\n",
       "      <td>TREC mean</td>\n",
       "    </tr>\n",
       "    <tr>\n",
       "      <th>197</th>\n",
       "      <td>0.48605</td>\n",
       "      <td>1.60679</td>\n",
       "      <td>0.93370</td>\n",
       "      <td>0.85543</td>\n",
       "      <td>0.83660</td>\n",
       "      <td>0.07948</td>\n",
       "      <td>126740</td>\n",
       "      <td>NaN</td>\n",
       "      <td>TREC mean</td>\n",
       "    </tr>\n",
       "    <tr>\n",
       "      <th>198</th>\n",
       "      <td>0.80032</td>\n",
       "      <td>1.39898</td>\n",
       "      <td>0.78851</td>\n",
       "      <td>0.78801</td>\n",
       "      <td>0.85329</td>\n",
       "      <td>0.31978</td>\n",
       "      <td>128050</td>\n",
       "      <td>NaN</td>\n",
       "      <td>TREC mean</td>\n",
       "    </tr>\n",
       "    <tr>\n",
       "      <th>199</th>\n",
       "      <td>0.71558</td>\n",
       "      <td>2.33087</td>\n",
       "      <td>1.69932</td>\n",
       "      <td>1.65391</td>\n",
       "      <td>0.95043</td>\n",
       "      <td>0.03916</td>\n",
       "      <td>128604</td>\n",
       "      <td>NaN</td>\n",
       "      <td>TREC mean</td>\n",
       "    </tr>\n",
       "  </tbody>\n",
       "</table>\n",
       "<p>600 rows × 9 columns</p>\n",
       "</div>"
      ],
      "text/plain": [
       "     difference  disparity  relevance  difference_ind  disparity_ind  relevance_ind     qid  \\\n",
       "0       0.23910    1.42244    1.24913         0.14971        0.03529        0.01117      95   \n",
       "1       0.76381    1.77053    1.38972         0.44681        0.17976        0.08696     612   \n",
       "2       2.69675    1.76200    0.32276         0.77073        0.11388        0.06241     657   \n",
       "3       0.17600    1.81185    1.29111         0.67444        0.25027        0.17895     771   \n",
       "4       0.37616    1.73422    1.56520         0.48771        0.31650        0.20156     822   \n",
       "..          ...        ...        ...             ...            ...            ...     ...   \n",
       "195     0.35149    2.34169    1.70841         0.77897        0.83099        0.12478  119231   \n",
       "196     0.42510    2.49884    1.92640         1.21086        0.93900        0.25556  123512   \n",
       "197     0.48605    1.60679    0.93370         0.85543        0.83660        0.07948  126740   \n",
       "198     0.80032    1.39898    0.78851         0.78801        0.85329        0.31978  128050   \n",
       "199     0.71558    2.33087    1.69932         1.65391        0.95043        0.03916  128604   \n",
       "\n",
       "                       source       system  \n",
       "0    ac_controller_default_lm  LM + AC_dtd  \n",
       "1    ac_controller_default_lm  LM + AC_dtd  \n",
       "2    ac_controller_default_lm  LM + AC_dtd  \n",
       "3    ac_controller_default_lm  LM + AC_dtd  \n",
       "4    ac_controller_default_lm  LM + AC_dtd  \n",
       "..                        ...          ...  \n",
       "195                       NaN    TREC mean  \n",
       "196                       NaN    TREC mean  \n",
       "197                       NaN    TREC mean  \n",
       "198                       NaN    TREC mean  \n",
       "199                       NaN    TREC mean  \n",
       "\n",
       "[600 rows x 9 columns]"
      ]
     },
     "execution_count": 136,
     "metadata": {},
     "output_type": "execute_result"
    }
   ],
   "source": [
    "plotdata = pd.concat([data,trec_means])\n",
    "plotdata"
   ]
  },
  {
   "cell_type": "code",
   "execution_count": 137,
   "id": "06414c46-cf59-4daf-abcf-f932c10339ff",
   "metadata": {},
   "outputs": [
    {
     "data": {
      "text/plain": [
       "<AxesSubplot:title={'center':'Mean EEL (individual)'}, xlabel='system', ylabel='difference_ind'>"
      ]
     },
     "execution_count": 137,
     "metadata": {},
     "output_type": "execute_result"
    },
    {
     "data": {
      "image/png": "[encoded data removed]",
      "text/plain": [
       "<Figure size 1440x720 with 2 Axes>"
      ]
     },
     "metadata": {
      "needs_background": "light"
     },
     "output_type": "display_data"
    }
   ],
   "source": [
    "fig, axs = plt.subplots(1,2,figsize=(20,10))\n",
    "\n",
    "axs[0].set_title('Mean EEL (economic level)')\n",
    "axs[1].set_title('Mean EEL (individual)')\n",
    "\n",
    "sns.barplot(x='system', y='difference',data=plotdata,ax=axs[0])\n",
    "sns.barplot(x='system', y='difference_ind',data=plotdata,ax=axs[1])\n"
   ]
  }
 ],
 "metadata": {
  "kernelspec": {
   "display_name": "Python 3 (ipykernel)",
   "language": "python",
   "name": "python3"
  },
  "language_info": {
   "codemirror_mode": {
    "name": "ipython",
    "version": 3
   },
   "file_extension": ".py",
   "mimetype": "text/x-python",
   "name": "python",
   "nbconvert_exporter": "python",
   "pygments_lexer": "ipython3",
   "version": "3.7.12"
  }
 },
 "nbformat": 4,
 "nbformat_minor": 5
}
