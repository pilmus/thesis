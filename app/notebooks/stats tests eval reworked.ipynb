{
 "cells": [
  {
   "cell_type": "markdown",
   "id": "f4039d64-b6e6-4d13-80e9-f7b88fec0345",
   "metadata": {},
   "source": [
    "# Statistical analysis eval runs"
   ]
  },
  {
   "cell_type": "markdown",
   "id": "a0a745d0-4bdf-4788-841f-42469caa4f8c",
   "metadata": {},
   "source": [
    "## Setup"
   ]
  },
  {
   "cell_type": "code",
   "execution_count": 79,
   "id": "d5ad3767",
   "metadata": {},
   "outputs": [],
   "source": [
    "%matplotlib inline"
   ]
  },
  {
   "cell_type": "code",
   "execution_count": 80,
   "id": "e68f75ad",
   "metadata": {},
   "outputs": [],
   "source": [
    "import pandas as pd\n",
    "pd.set_option(\"display.width\", 100)\n",
    "import matplotlib.pyplot as plt\n",
    "from statsmodels.formula.api import ols\n",
    "from statsmodels.graphics.api import interaction_plot, abline_plot\n",
    "from statsmodels.stats.anova import anova_lm\n",
    "import seaborn as sns\n",
    "\n",
    "from scipy import stats\n",
    "import math\n",
    "\n",
    "from collections import Counter\n",
    "\n",
    "pd.set_option('precision', 5)\n",
    "pd.set_option('display.float_format', lambda x: '%.5f' % x)\n",
    "\n",
    "\n"
   ]
  },
  {
   "cell_type": "code",
   "execution_count": 81,
   "id": "3fdb0a99-f8e0-45c9-b7ce-460e832433fd",
   "metadata": {},
   "outputs": [],
   "source": [
    "\n",
    "def pivot_table(table_path):\n",
    "    df = pd.read_csv(table_path, sep='\\t', names=['key', 'qid', 'value'])\n",
    "    df = df.pivot(index='qid', columns='key', values='value')\n",
    "    df = df.reset_index()\n",
    "    return df\n"
   ]
  },
  {
   "cell_type": "markdown",
   "id": "bb5e0d98-3089-4fe5-b228-8320ff69a22d",
   "metadata": {},
   "source": [
    "### effect size methods"
   ]
  },
  {
   "cell_type": "code",
   "execution_count": 82,
   "id": "ad6ee184-affb-4513-b36d-8421337bd0d4",
   "metadata": {},
   "outputs": [],
   "source": [
    "def omega_squared(df_effect, ms_effect, ms_error, ss_total):\n",
    "    wsq = (df_effect * (ms_effect - ms_error)) / (ss_total - ms_error)\n",
    "    return wsq\n",
    "    "
   ]
  },
  {
   "cell_type": "code",
   "execution_count": 83,
   "id": "855b88ed-fdae-47fb-87eb-3f5896e2fce6",
   "metadata": {},
   "outputs": [],
   "source": [
    "def omega_squared_partial(df_effect, ms_effect, ms_error, N):\n",
    "    wsqp = (df_effect *(ms_effect-ms_error))/(df_effect*ms_effect + (N-df_effect)*ms_error)\n",
    "    return wsqp"
   ]
  },
  {
   "cell_type": "code",
   "execution_count": 84,
   "id": "f1f5112f-d1f5-4daf-873c-0942a63eec40",
   "metadata": {},
   "outputs": [],
   "source": [
    "def cohens_d(m1, m2, ms_error):\n",
    "    return abs(m1 - m2) / math.sqrt(ms_error)"
   ]
  },
  {
   "cell_type": "code",
   "execution_count": 85,
   "id": "7d962952-a8f5-4bd7-861f-4a4670cfed64",
   "metadata": {},
   "outputs": [],
   "source": [
    "def ci(dfe, V, num_observations):\n",
    "    t = stats.t.ppf(1-0.025, dfe)\n",
    "    return t*math.sqrt(V/num_observations)"
   ]
  },
  {
   "cell_type": "code",
   "execution_count": 86,
   "id": "dc78da32-55f7-44b0-ba6f-2a05f87d9cd8",
   "metadata": {},
   "outputs": [],
   "source": [
    "def print_omegasq(anova, factor, N, roundd):\n",
    "    ms_effect = anova.mean_sq.loc[f'C({factor})']\n",
    "    ms_error = anova.mean_sq.loc['Residual']\n",
    "    df_effect = anova.df.loc[f'C({factor})']\n",
    "    ss_total = anova.sum_sq.sum()\n",
    "    \n",
    "    \n",
    "    print(f\"omega-squared\\tomega-squared partial\")\n",
    "    print(f\"{round(omega_squared(df_effect, ms_effect, ms_error, ss_total),roundd)}\\t\\t\\t{round(omega_squared_partial(df_effect, ms_effect, ms_error, N),roundd)}\")\n",
    "    print()"
   ]
  },
  {
   "cell_type": "code",
   "execution_count": 87,
   "id": "5f129f06-a350-4380-8ee1-d4f694f1464e",
   "metadata": {},
   "outputs": [],
   "source": [
    "def plot_levels_t(V, df, data, feature, dv,plotthese=['difference','disparity','relevance']):\n",
    "    plt.rcParams[\"axes.labelsize\"] = 13\n",
    "    \n",
    "    \n",
    "    datasorted = data.sort_values(by=feature)\n",
    "    \n",
    "    \n",
    "    \n",
    "    cis = [ci(df, V,20)]*2\n",
    " \n",
    "    \n",
    "    fig, axs = plt.subplots(1,len(plotthese),figsize=(20,10))\n",
    "\n",
    "    if 'ind' in dv:\n",
    "        addition = '_ind'\n",
    "    else:\n",
    "        addition = ''\n",
    "    \n",
    "    if len(plotthese) == 1:\n",
    "        _ = sns.barplot(x=feature, y=f'difference{addition}',ci=None, yerr=cis, data=datasorted,ax=axs)\n",
    "        _ = axs.bar_label(axs.containers[1], label_type = 'center', fmt=\"%.2f\", color='white', fontsize=13)\n",
    "    \n",
    "    else:\n",
    "        _ = sns.barplot(x=feature, y=f'difference{addition}',ci=None, yerr=cis, data=datasorted,ax=axs[0])\n",
    "        _ = axs[0].bar_label(axs[0].containers[1], label_type = 'center', fmt=\"%.2f\", color='white', fontsize=13)\n",
    "    if 'disparity' in plotthese:\n",
    "        _ = sns.barplot(x=feature, y=f'disparity{addition}', ci=None, data=datasorted, ax=axs[1])\n",
    "        _ = axs[1].bar_label(axs[1].containers[0], label_type = 'center', fmt=\"%.2f\", color='white', fontsize=13)\n",
    "    if 'relevance' in plotthese:\n",
    "        _ = sns.barplot(x=feature, y=f'relevance{addition}', ci=None, data=datasorted, ax=axs[2])\n",
    "        _ = axs[2].bar_label(axs[2].containers[0], label_type = 'center', fmt=\"%.2f\", color='white', fontsize=13)\n"
   ]
  },
  {
   "cell_type": "code",
   "execution_count": 88,
   "id": "95a62999-4506-45cd-8a49-054c2a18466f",
   "metadata": {},
   "outputs": [],
   "source": [
    "def sample_mean(a,b):\n",
    "    return (a-b).mean()"
   ]
  },
  {
   "cell_type": "code",
   "execution_count": 89,
   "id": "59159030-8b93-45f0-b92c-c60aeb2899eb",
   "metadata": {},
   "outputs": [],
   "source": [
    "def bigV(a,b):\n",
    "    sm = sample_mean(a,b)\n",
    "    return (((a-b) - sm)**2).sum()/(len(a) - 1)"
   ]
  },
  {
   "cell_type": "code",
   "execution_count": 90,
   "id": "d49e38d5-8c75-42a0-b0da-aaf18d1b22c0",
   "metadata": {},
   "outputs": [],
   "source": [
    "def effect_size_t_test(a,b,roundd=2):\n",
    "    differences = a - b\n",
    "    sm = sample_mean(a,b)\n",
    "    V = bigV(a,b)\n",
    "    return round(abs(sm) / math.sqrt(V),roundd)"
   ]
  },
  {
   "cell_type": "markdown",
   "id": "d4ce4f36",
   "metadata": {},
   "source": [
    "## LM with post-processing"
   ]
  },
  {
   "cell_type": "markdown",
   "id": "25c22cc4-2860-4c72-be1a-2076e363bd3c",
   "metadata": {},
   "source": [
    "### Load files"
   ]
  },
  {
   "cell_type": "code",
   "execution_count": 91,
   "id": "8ff787fd-05b2-40fc-a732-67dcbee37b3a",
   "metadata": {},
   "outputs": [],
   "source": [
    "base_eel = pivot_table('../evaluation/resources/2020/eval_results/eval/lambdamart_mrfr_eval_lm_ndcg_nofeat_random_state=0_TREC-Fair-Ranking-eval-sample-full-annotations-DocLevel-mixed_group-qrels_EEL.tsv')\n",
    "base_eel = base_eel.rename({'difference':'difference_e','disparity':'disparity_e','relevance':'relevance_e'},axis=1)\n",
    "base_err = pivot_table('../evaluation/resources/2020/eval_results/eval/lambdamart_mrfr_eval_lm_ndcg_nofeat_random_state=0_TREC-Fair-Ranking-eval-sample-full-annotations-DocLevel-mixed_group-qrels_EEL_ind.tsv')\n",
    "base_err = base_err.rename({'difference':'difference_i','disparity':'disparity_i','relevance':'relevance_i'},axis=1)\n",
    "base = pd.merge(base_err, base_eel, on = 'qid')\n",
    "base['system'] = 'base'\n",
    "\n",
    "                    \n",
    "rfr_eel = pivot_table('../evaluation/resources/2020/eval_results/eval/mrfr_default_lm_eval_auth_ignore_TREC-Fair-Ranking-eval-sample-full-annotations-DocLevel-mixed_group-qrels_EEL.tsv')\n",
    "rfr_eel = rfr_eel.rename({'difference':'difference_e','disparity':'disparity_e','relevance':'relevance_e'},axis=1)\n",
    "rfr_err = pivot_table('../evaluation/resources/2020/eval_results/eval/mrfr_default_lm_eval_auth_ignore_TREC-Fair-Ranking-eval-sample-full-annotations-DocLevel-mixed_group-qrels_EEL_ind.tsv')\n",
    "rfr_err = rfr_err.rename({'difference':'difference_i','disparity':'disparity_i','relevance':'relevance_i'},axis=1)\n",
    "rfr = pd.merge(rfr_err, rfr_eel, on = 'qid')\n",
    "rfr['system'] = 'rfre'\n",
    "\n",
    "\n",
    "                           \n",
    "ac_eel = pivot_table('../evaluation/resources/2020/eval_results/eval/ac_controller_default_lm_eval_auth_ignore_9_linear_TREC-Fair-Ranking-eval-sample-full-annotations-DocLevel-mixed_group-qrels_EEL.tsv')\n",
    "ac_eel = ac_eel.rename({'difference':'difference_e','disparity':'disparity_e','relevance':'relevance_e'},axis=1)\n",
    "ac_err = pivot_table('../evaluation/resources/2020/eval_results/eval/ac_controller_default_lm_eval_auth_ignore_9_linear_TREC-Fair-Ranking-eval-sample-full-annotations-DocLevel-mixed_group-qrels_EEL_ind.tsv')\n",
    "ac_err = ac_err.rename({'difference':'difference_i','disparity':'disparity_i','relevance':'relevance_i'},axis=1)\n",
    "ac = pd.merge(ac_err, ac_eel, on = 'qid')\n",
    "ac['system'] = 'ac'\n",
    "\n",
    "ppdata = pd.concat([base,rfr,ac])"
   ]
  },
  {
   "cell_type": "code",
   "execution_count": 92,
   "id": "24a0c580-b012-48b7-a53f-dda52e56462c",
   "metadata": {},
   "outputs": [
    {
     "data": {
      "text/html": [
       "<div>\n",
       "<style scoped>\n",
       "    .dataframe tbody tr th:only-of-type {\n",
       "        vertical-align: middle;\n",
       "    }\n",
       "\n",
       "    .dataframe tbody tr th {\n",
       "        vertical-align: top;\n",
       "    }\n",
       "\n",
       "    .dataframe thead th {\n",
       "        text-align: right;\n",
       "    }\n",
       "</style>\n",
       "<table border=\"1\" class=\"dataframe\">\n",
       "  <thead>\n",
       "    <tr style=\"text-align: right;\">\n",
       "      <th>key</th>\n",
       "      <th>qid</th>\n",
       "      <th>difference_i</th>\n",
       "      <th>disparity_i</th>\n",
       "      <th>relevance_i</th>\n",
       "      <th>difference_e</th>\n",
       "      <th>disparity_e</th>\n",
       "      <th>relevance_e</th>\n",
       "      <th>system</th>\n",
       "    </tr>\n",
       "  </thead>\n",
       "  <tbody>\n",
       "    <tr>\n",
       "      <th>0</th>\n",
       "      <td>95</td>\n",
       "      <td>1.47009</td>\n",
       "      <td>1.33333</td>\n",
       "      <td>0.00000</td>\n",
       "      <td>1.63203</td>\n",
       "      <td>1.70608</td>\n",
       "      <td>0.69449</td>\n",
       "      <td>base</td>\n",
       "    </tr>\n",
       "    <tr>\n",
       "      <th>1</th>\n",
       "      <td>612</td>\n",
       "      <td>1.73004</td>\n",
       "      <td>1.33236</td>\n",
       "      <td>0.02165</td>\n",
       "      <td>0.20394</td>\n",
       "      <td>2.94050</td>\n",
       "      <td>2.25464</td>\n",
       "      <td>base</td>\n",
       "    </tr>\n",
       "    <tr>\n",
       "      <th>2</th>\n",
       "      <td>657</td>\n",
       "      <td>2.10123</td>\n",
       "      <td>1.33333</td>\n",
       "      <td>0.00688</td>\n",
       "      <td>3.74959</td>\n",
       "      <td>2.36969</td>\n",
       "      <td>0.10019</td>\n",
       "      <td>base</td>\n",
       "    </tr>\n",
       "    <tr>\n",
       "      <th>3</th>\n",
       "      <td>771</td>\n",
       "      <td>1.93125</td>\n",
       "      <td>1.32943</td>\n",
       "      <td>0.09012</td>\n",
       "      <td>1.84176</td>\n",
       "      <td>3.64599</td>\n",
       "      <td>1.37530</td>\n",
       "      <td>base</td>\n",
       "    </tr>\n",
       "    <tr>\n",
       "      <th>4</th>\n",
       "      <td>822</td>\n",
       "      <td>0.66700</td>\n",
       "      <td>1.07943</td>\n",
       "      <td>0.49337</td>\n",
       "      <td>0.11004</td>\n",
       "      <td>1.40178</td>\n",
       "      <td>1.53204</td>\n",
       "      <td>base</td>\n",
       "    </tr>\n",
       "  </tbody>\n",
       "</table>\n",
       "</div>"
      ],
      "text/plain": [
       "key  qid  difference_i  disparity_i  relevance_i  difference_e  disparity_e  relevance_e system\n",
       "0     95       1.47009      1.33333      0.00000       1.63203      1.70608      0.69449   base\n",
       "1    612       1.73004      1.33236      0.02165       0.20394      2.94050      2.25464   base\n",
       "2    657       2.10123      1.33333      0.00688       3.74959      2.36969      0.10019   base\n",
       "3    771       1.93125      1.32943      0.09012       1.84176      3.64599      1.37530   base\n",
       "4    822       0.66700      1.07943      0.49337       0.11004      1.40178      1.53204   base"
      ]
     },
     "execution_count": 92,
     "metadata": {},
     "output_type": "execute_result"
    }
   ],
   "source": [
    "base.head()"
   ]
  },
  {
   "cell_type": "code",
   "execution_count": 93,
   "id": "5b77f286-d110-4758-9d2f-71fc88903c37",
   "metadata": {},
   "outputs": [
    {
     "data": {
      "text/html": [
       "<div>\n",
       "<style scoped>\n",
       "    .dataframe tbody tr th:only-of-type {\n",
       "        vertical-align: middle;\n",
       "    }\n",
       "\n",
       "    .dataframe tbody tr th {\n",
       "        vertical-align: top;\n",
       "    }\n",
       "\n",
       "    .dataframe thead th {\n",
       "        text-align: right;\n",
       "    }\n",
       "</style>\n",
       "<table border=\"1\" class=\"dataframe\">\n",
       "  <thead>\n",
       "    <tr style=\"text-align: right;\">\n",
       "      <th>key</th>\n",
       "      <th>qid</th>\n",
       "      <th>difference_i</th>\n",
       "      <th>disparity_i</th>\n",
       "      <th>relevance_i</th>\n",
       "      <th>difference_e</th>\n",
       "      <th>disparity_e</th>\n",
       "      <th>relevance_e</th>\n",
       "      <th>system</th>\n",
       "    </tr>\n",
       "  </thead>\n",
       "  <tbody>\n",
       "    <tr>\n",
       "      <th>0</th>\n",
       "      <td>95</td>\n",
       "      <td>0.15414</td>\n",
       "      <td>0.02596</td>\n",
       "      <td>0.00428</td>\n",
       "      <td>0.15507</td>\n",
       "      <td>1.97292</td>\n",
       "      <td>1.56638</td>\n",
       "      <td>rfre</td>\n",
       "    </tr>\n",
       "    <tr>\n",
       "      <th>1</th>\n",
       "      <td>612</td>\n",
       "      <td>0.56617</td>\n",
       "      <td>0.24380</td>\n",
       "      <td>0.05930</td>\n",
       "      <td>0.83268</td>\n",
       "      <td>1.84165</td>\n",
       "      <td>1.39085</td>\n",
       "      <td>rfre</td>\n",
       "    </tr>\n",
       "    <tr>\n",
       "      <th>2</th>\n",
       "      <td>657</td>\n",
       "      <td>0.80840</td>\n",
       "      <td>0.18259</td>\n",
       "      <td>0.07792</td>\n",
       "      <td>2.41469</td>\n",
       "      <td>1.54883</td>\n",
       "      <td>0.35721</td>\n",
       "      <td>rfre</td>\n",
       "    </tr>\n",
       "    <tr>\n",
       "      <th>3</th>\n",
       "      <td>771</td>\n",
       "      <td>0.72244</td>\n",
       "      <td>0.28937</td>\n",
       "      <td>0.17450</td>\n",
       "      <td>0.14628</td>\n",
       "      <td>1.76154</td>\n",
       "      <td>1.28082</td>\n",
       "      <td>rfre</td>\n",
       "    </tr>\n",
       "    <tr>\n",
       "      <th>4</th>\n",
       "      <td>822</td>\n",
       "      <td>0.47677</td>\n",
       "      <td>0.43898</td>\n",
       "      <td>0.26826</td>\n",
       "      <td>0.27543</td>\n",
       "      <td>1.66227</td>\n",
       "      <td>1.57959</td>\n",
       "      <td>rfre</td>\n",
       "    </tr>\n",
       "  </tbody>\n",
       "</table>\n",
       "</div>"
      ],
      "text/plain": [
       "key  qid  difference_i  disparity_i  relevance_i  difference_e  disparity_e  relevance_e system\n",
       "0     95       0.15414      0.02596      0.00428       0.15507      1.97292      1.56638   rfre\n",
       "1    612       0.56617      0.24380      0.05930       0.83268      1.84165      1.39085   rfre\n",
       "2    657       0.80840      0.18259      0.07792       2.41469      1.54883      0.35721   rfre\n",
       "3    771       0.72244      0.28937      0.17450       0.14628      1.76154      1.28082   rfre\n",
       "4    822       0.47677      0.43898      0.26826       0.27543      1.66227      1.57959   rfre"
      ]
     },
     "execution_count": 93,
     "metadata": {},
     "output_type": "execute_result"
    }
   ],
   "source": [
    "rfr.head()"
   ]
  },
  {
   "cell_type": "code",
   "execution_count": 94,
   "id": "68738ebe-bb9c-4b40-8d43-ab5fdbf3af6b",
   "metadata": {},
   "outputs": [
    {
     "data": {
      "text/html": [
       "<div>\n",
       "<style scoped>\n",
       "    .dataframe tbody tr th:only-of-type {\n",
       "        vertical-align: middle;\n",
       "    }\n",
       "\n",
       "    .dataframe tbody tr th {\n",
       "        vertical-align: top;\n",
       "    }\n",
       "\n",
       "    .dataframe thead th {\n",
       "        text-align: right;\n",
       "    }\n",
       "</style>\n",
       "<table border=\"1\" class=\"dataframe\">\n",
       "  <thead>\n",
       "    <tr style=\"text-align: right;\">\n",
       "      <th>key</th>\n",
       "      <th>qid</th>\n",
       "      <th>difference_i</th>\n",
       "      <th>disparity_i</th>\n",
       "      <th>relevance_i</th>\n",
       "      <th>difference_e</th>\n",
       "      <th>disparity_e</th>\n",
       "      <th>relevance_e</th>\n",
       "      <th>system</th>\n",
       "    </tr>\n",
       "  </thead>\n",
       "  <tbody>\n",
       "    <tr>\n",
       "      <th>0</th>\n",
       "      <td>95</td>\n",
       "      <td>0.99926</td>\n",
       "      <td>0.86250</td>\n",
       "      <td>0.00000</td>\n",
       "      <td>0.14837</td>\n",
       "      <td>2.03030</td>\n",
       "      <td>1.59842</td>\n",
       "      <td>ac</td>\n",
       "    </tr>\n",
       "    <tr>\n",
       "      <th>1</th>\n",
       "      <td>612</td>\n",
       "      <td>0.52184</td>\n",
       "      <td>0.26427</td>\n",
       "      <td>0.09171</td>\n",
       "      <td>0.77660</td>\n",
       "      <td>1.75416</td>\n",
       "      <td>1.37515</td>\n",
       "      <td>ac</td>\n",
       "    </tr>\n",
       "    <tr>\n",
       "      <th>2</th>\n",
       "      <td>657</td>\n",
       "      <td>0.84467</td>\n",
       "      <td>0.16673</td>\n",
       "      <td>0.05186</td>\n",
       "      <td>2.39120</td>\n",
       "      <td>1.45757</td>\n",
       "      <td>0.32332</td>\n",
       "      <td>ac</td>\n",
       "    </tr>\n",
       "    <tr>\n",
       "      <th>3</th>\n",
       "      <td>771</td>\n",
       "      <td>0.77716</td>\n",
       "      <td>0.30603</td>\n",
       "      <td>0.15548</td>\n",
       "      <td>0.22145</td>\n",
       "      <td>1.88787</td>\n",
       "      <td>1.30639</td>\n",
       "      <td>ac</td>\n",
       "    </tr>\n",
       "    <tr>\n",
       "      <th>4</th>\n",
       "      <td>822</td>\n",
       "      <td>0.50549</td>\n",
       "      <td>0.41273</td>\n",
       "      <td>0.24078</td>\n",
       "      <td>0.71759</td>\n",
       "      <td>1.51177</td>\n",
       "      <td>1.28326</td>\n",
       "      <td>ac</td>\n",
       "    </tr>\n",
       "  </tbody>\n",
       "</table>\n",
       "</div>"
      ],
      "text/plain": [
       "key  qid  difference_i  disparity_i  relevance_i  difference_e  disparity_e  relevance_e system\n",
       "0     95       0.99926      0.86250      0.00000       0.14837      2.03030      1.59842     ac\n",
       "1    612       0.52184      0.26427      0.09171       0.77660      1.75416      1.37515     ac\n",
       "2    657       0.84467      0.16673      0.05186       2.39120      1.45757      0.32332     ac\n",
       "3    771       0.77716      0.30603      0.15548       0.22145      1.88787      1.30639     ac\n",
       "4    822       0.50549      0.41273      0.24078       0.71759      1.51177      1.28326     ac"
      ]
     },
     "execution_count": 94,
     "metadata": {},
     "output_type": "execute_result"
    }
   ],
   "source": [
    "ac.head()"
   ]
  },
  {
   "cell_type": "markdown",
   "id": "b0e0888e-0945-427f-af68-b013231dff1c",
   "metadata": {},
   "source": [
    "### Performance"
   ]
  },
  {
   "cell_type": "code",
   "execution_count": 95,
   "id": "f98fe993-a9d8-40bb-996a-594196c6c861",
   "metadata": {},
   "outputs": [
    {
     "data": {
      "text/html": [
       "<div>\n",
       "<style scoped>\n",
       "    .dataframe tbody tr th:only-of-type {\n",
       "        vertical-align: middle;\n",
       "    }\n",
       "\n",
       "    .dataframe tbody tr th {\n",
       "        vertical-align: top;\n",
       "    }\n",
       "\n",
       "    .dataframe thead th {\n",
       "        text-align: right;\n",
       "    }\n",
       "</style>\n",
       "<table border=\"1\" class=\"dataframe\">\n",
       "  <thead>\n",
       "    <tr style=\"text-align: right;\">\n",
       "      <th>key</th>\n",
       "      <th>system</th>\n",
       "      <th>qid</th>\n",
       "      <th>difference_i</th>\n",
       "      <th>disparity_i</th>\n",
       "      <th>relevance_i</th>\n",
       "      <th>difference_e</th>\n",
       "      <th>disparity_e</th>\n",
       "      <th>relevance_e</th>\n",
       "    </tr>\n",
       "  </thead>\n",
       "  <tbody>\n",
       "    <tr>\n",
       "      <th>0</th>\n",
       "      <td>ac</td>\n",
       "      <td>43107.52500</td>\n",
       "      <td>0.57700</td>\n",
       "      <td>0.33600</td>\n",
       "      <td>0.18100</td>\n",
       "      <td>0.43700</td>\n",
       "      <td>1.86300</td>\n",
       "      <td>1.33400</td>\n",
       "    </tr>\n",
       "    <tr>\n",
       "      <th>1</th>\n",
       "      <td>base</td>\n",
       "      <td>43107.52500</td>\n",
       "      <td>1.42200</td>\n",
       "      <td>1.24800</td>\n",
       "      <td>0.21500</td>\n",
       "      <td>0.85500</td>\n",
       "      <td>2.20900</td>\n",
       "      <td>1.29700</td>\n",
       "    </tr>\n",
       "    <tr>\n",
       "      <th>2</th>\n",
       "      <td>rfre</td>\n",
       "      <td>43107.52500</td>\n",
       "      <td>0.61200</td>\n",
       "      <td>0.33600</td>\n",
       "      <td>0.16400</td>\n",
       "      <td>0.45000</td>\n",
       "      <td>1.87200</td>\n",
       "      <td>1.33200</td>\n",
       "    </tr>\n",
       "  </tbody>\n",
       "</table>\n",
       "</div>"
      ],
      "text/plain": [
       "key system         qid  difference_i  disparity_i  relevance_i  difference_e  disparity_e  \\\n",
       "0       ac 43107.52500       0.57700      0.33600      0.18100       0.43700      1.86300   \n",
       "1     base 43107.52500       1.42200      1.24800      0.21500       0.85500      2.20900   \n",
       "2     rfre 43107.52500       0.61200      0.33600      0.16400       0.45000      1.87200   \n",
       "\n",
       "key  relevance_e  \n",
       "0        1.33400  \n",
       "1        1.29700  \n",
       "2        1.33200  "
      ]
     },
     "execution_count": 95,
     "metadata": {},
     "output_type": "execute_result"
    }
   ],
   "source": [
    "ppdata.groupby('system').mean().round(3).reset_index()"
   ]
  },
  {
   "cell_type": "markdown",
   "id": "593bdf74",
   "metadata": {},
   "source": [
    "### Select data"
   ]
  },
  {
   "cell_type": "code",
   "execution_count": 122,
   "id": "061990f4-ded4-42ef-b1f7-4bdc36560484",
   "metadata": {},
   "outputs": [],
   "source": [
    "s1 = 'base'\n",
    "s2 = 'ac'\n",
    "s3 = 'rfre'"
   ]
  },
  {
   "cell_type": "markdown",
   "id": "c046e87c-3133-4d8f-a13c-9e61a8b3a5ca",
   "metadata": {},
   "source": [
    "### ac"
   ]
  },
  {
   "cell_type": "code",
   "execution_count": 123,
   "id": "f05a0759-e9d4-4bf0-acd6-7f9d2a23137c",
   "metadata": {},
   "outputs": [],
   "source": [
    "from scipy import stats\n",
    "a = ppdata.query(f'system == \"{s1}\"').reset_index(drop=True)\n",
    "b = ppdata.query(f'system == \"{s2}\"').reset_index(drop=True)"
   ]
  },
  {
   "cell_type": "markdown",
   "id": "2909af7f",
   "metadata": {},
   "source": [
    "#### t-test eel"
   ]
  },
  {
   "cell_type": "code",
   "execution_count": 124,
   "id": "8da755fd-cf4d-4eae-8921-f520bb799f56",
   "metadata": {},
   "outputs": [
    {
     "data": {
      "text/plain": [
       "Ttest_relResult(statistic=8.0742324496481, pvalue=6.369959840783443e-14)"
      ]
     },
     "execution_count": 124,
     "metadata": {},
     "output_type": "execute_result"
    }
   ],
   "source": [
    "stats.ttest_rel(a['difference_e'], b['difference_e'])"
   ]
  },
  {
   "cell_type": "code",
   "execution_count": 125,
   "id": "c514512a-114f-4c78-b263-1a3f39e24633",
   "metadata": {},
   "outputs": [],
   "source": [
    "differences = b['difference_e'] - a['difference_e']\n",
    "sm = sample_mean(b['difference_e'],a['difference_e'])\n",
    "sv = bigV(a['difference_e'],b['difference_e'])"
   ]
  },
  {
   "cell_type": "code",
   "execution_count": 104,
   "id": "4d23e65a-05a9-473f-a8e3-046234571715",
   "metadata": {},
   "outputs": [
    {
     "data": {
      "text/plain": [
       "(-0.52, -0.32)"
      ]
     },
     "execution_count": 104,
     "metadata": {},
     "output_type": "execute_result"
    }
   ],
   "source": [
    "c = ci(len(differences) - 1, sv, len(differences))\n",
    "cl, ch = (sm - c, sm + c)\n",
    "round(cl,2), round(ch,2)"
   ]
  },
  {
   "cell_type": "code",
   "execution_count": 105,
   "id": "42957ee0-e4d3-495a-b97f-36f92ce8f7eb",
   "metadata": {},
   "outputs": [
    {
     "data": {
      "text/plain": [
       "-0.41845890999999996"
      ]
     },
     "execution_count": 105,
     "metadata": {},
     "output_type": "execute_result"
    }
   ],
   "source": [
    "sm"
   ]
  },
  {
   "cell_type": "code",
   "execution_count": 106,
   "id": "4dd9b311-aa6c-42cd-a802-34185862aa52",
   "metadata": {},
   "outputs": [
    {
     "data": {
      "text/plain": [
       "0.5371964552022632"
      ]
     },
     "execution_count": 106,
     "metadata": {},
     "output_type": "execute_result"
    }
   ],
   "source": [
    "sv"
   ]
  },
  {
   "cell_type": "code",
   "execution_count": 107,
   "id": "b30c50b7-2d36-458a-ab22-94e332865cb3",
   "metadata": {},
   "outputs": [
    {
     "data": {
      "text/plain": [
       "0.57"
      ]
     },
     "execution_count": 107,
     "metadata": {},
     "output_type": "execute_result"
    }
   ],
   "source": [
    "effect_size_t_test(a['difference_e'],b['difference_e'],2)"
   ]
  },
  {
   "cell_type": "markdown",
   "id": "1f37aef3-a19a-4963-afd8-c4a5ad725540",
   "metadata": {
    "tags": []
   },
   "source": [
    "#### t-test eel_ind"
   ]
  },
  {
   "cell_type": "code",
   "execution_count": 109,
   "id": "b1cc2a7e-01c7-47fd-92bc-ed7a48f5bbfc",
   "metadata": {},
   "outputs": [
    {
     "data": {
      "text/plain": [
       "Ttest_relResult(statistic=25.3825428856392, pvalue=2.5809112278064424e-64)"
      ]
     },
     "execution_count": 109,
     "metadata": {},
     "output_type": "execute_result"
    }
   ],
   "source": [
    "stats.ttest_rel(a['difference_i'], b['difference_i'])"
   ]
  },
  {
   "cell_type": "code",
   "execution_count": 110,
   "id": "420fa7b1-cf78-49e2-b8ce-1e5e9b91c658",
   "metadata": {},
   "outputs": [],
   "source": [
    "differences = b['difference_i'] - a['difference_i']\n",
    "sm = sample_mean(b['difference_i'],a['difference_i'])\n",
    "sv = bigV(a['difference_i'],b['difference_i'])"
   ]
  },
  {
   "cell_type": "code",
   "execution_count": 111,
   "id": "ae2f774f-3cde-498d-829b-0c83c851900e",
   "metadata": {},
   "outputs": [
    {
     "data": {
      "text/plain": [
       "(-0.91, -0.78)"
      ]
     },
     "execution_count": 111,
     "metadata": {},
     "output_type": "execute_result"
    }
   ],
   "source": [
    "c = ci(len(differences) - 1, sv, len(differences))\n",
    "cl, ch = (sm - c, sm + c)\n",
    "round(cl,2), round(ch,2)"
   ]
  },
  {
   "cell_type": "code",
   "execution_count": 112,
   "id": "2f9588b9-3332-4908-b96a-b8f76b26c64f",
   "metadata": {},
   "outputs": [
    {
     "data": {
      "text/plain": [
       "-0.84534248"
      ]
     },
     "execution_count": 112,
     "metadata": {},
     "output_type": "execute_result"
    }
   ],
   "source": [
    "sm"
   ]
  },
  {
   "cell_type": "code",
   "execution_count": 113,
   "id": "cc0e21f7-09fd-491c-b186-47b4d83277d1",
   "metadata": {},
   "outputs": [
    {
     "data": {
      "text/plain": [
       "0.22183247548432122"
      ]
     },
     "execution_count": 113,
     "metadata": {},
     "output_type": "execute_result"
    }
   ],
   "source": [
    "sv"
   ]
  },
  {
   "cell_type": "code",
   "execution_count": 114,
   "id": "fd75dd1d-94fd-47dc-a57c-fde0fd0a8f47",
   "metadata": {},
   "outputs": [
    {
     "data": {
      "text/plain": [
       "1.79"
      ]
     },
     "execution_count": 114,
     "metadata": {},
     "output_type": "execute_result"
    }
   ],
   "source": [
    "effect_size_t_test(a['difference_i'],b['difference_i'],2)"
   ]
  },
  {
   "cell_type": "markdown",
   "id": "d1cbc37a-45f1-4623-9cd1-b0e2e59506be",
   "metadata": {},
   "source": [
    "### rfre"
   ]
  },
  {
   "cell_type": "code",
   "execution_count": 126,
   "id": "0c721b32-b902-4893-846a-13b4e010974f",
   "metadata": {},
   "outputs": [],
   "source": [
    "from scipy import stats\n",
    "a = ppdata.query(f'system == \"{s1}\"').reset_index(drop=True)\n",
    "b = ppdata.query(f'system == \"{s3}\"').reset_index(drop=True)"
   ]
  },
  {
   "cell_type": "markdown",
   "id": "4f314e73-140b-48c3-b14b-b34b0e3802e2",
   "metadata": {},
   "source": [
    "#### t-test eel"
   ]
  },
  {
   "cell_type": "code",
   "execution_count": 127,
   "id": "39b3b3b6-a745-40c5-abfa-aaf8d10bab2a",
   "metadata": {},
   "outputs": [
    {
     "data": {
      "text/plain": [
       "Ttest_relResult(statistic=6.86591530923515, pvalue=8.227819845911793e-11)"
      ]
     },
     "execution_count": 127,
     "metadata": {},
     "output_type": "execute_result"
    }
   ],
   "source": [
    "stats.ttest_rel(a['difference_e'], b['difference_e'])"
   ]
  },
  {
   "cell_type": "code",
   "execution_count": 128,
   "id": "b2cce2f7-b4ca-4a16-bfc7-7be69844defe",
   "metadata": {},
   "outputs": [],
   "source": [
    "differences = b['difference_e'] - a['difference_e']\n",
    "sm = sample_mean(b['difference_e'],a['difference_e'])\n",
    "sv = bigV(a['difference_e'],b['difference_e'])"
   ]
  },
  {
   "cell_type": "code",
   "execution_count": 129,
   "id": "f04c4326-c429-44af-b34c-2dfaaa2003a4",
   "metadata": {},
   "outputs": [
    {
     "data": {
      "text/plain": [
       "(-0.52, -0.29)"
      ]
     },
     "execution_count": 129,
     "metadata": {},
     "output_type": "execute_result"
    }
   ],
   "source": [
    "c = ci(len(differences) - 1, sv, len(differences))\n",
    "cl, ch = (sm - c, sm + c)\n",
    "round(cl,2), round(ch,2)"
   ]
  },
  {
   "cell_type": "code",
   "execution_count": 130,
   "id": "7686659d-e51f-49a9-8934-42a3aeccf718",
   "metadata": {},
   "outputs": [
    {
     "data": {
      "text/plain": [
       "-0.405755095"
      ]
     },
     "execution_count": 130,
     "metadata": {},
     "output_type": "execute_result"
    }
   ],
   "source": [
    "sm"
   ]
  },
  {
   "cell_type": "code",
   "execution_count": 131,
   "id": "014469b1-2f95-4d59-be54-7386fbfb21d0",
   "metadata": {},
   "outputs": [
    {
     "data": {
      "text/plain": [
       "0.698491419103403"
      ]
     },
     "execution_count": 131,
     "metadata": {},
     "output_type": "execute_result"
    }
   ],
   "source": [
    "sv"
   ]
  },
  {
   "cell_type": "code",
   "execution_count": 132,
   "id": "dd3124e6-c28d-4ffb-bb45-95f4d17f9648",
   "metadata": {},
   "outputs": [
    {
     "data": {
      "text/plain": [
       "0.49"
      ]
     },
     "execution_count": 132,
     "metadata": {},
     "output_type": "execute_result"
    }
   ],
   "source": [
    "effect_size_t_test(a['difference_e'],b['difference_e'],2)"
   ]
  },
  {
   "cell_type": "markdown",
   "id": "06630064-3d4d-4ec8-9134-84189df5437d",
   "metadata": {
    "tags": []
   },
   "source": [
    "#### t-test eel_ind"
   ]
  },
  {
   "cell_type": "code",
   "execution_count": 133,
   "id": "2233f983-202d-474d-b20a-8f732b8a8cd3",
   "metadata": {},
   "outputs": [
    {
     "data": {
      "text/plain": [
       "Ttest_relResult(statistic=21.96122571081236, pvalue=4.416650349448093e-55)"
      ]
     },
     "execution_count": 133,
     "metadata": {},
     "output_type": "execute_result"
    }
   ],
   "source": [
    "stats.ttest_rel(a['difference_i'], b['difference_i'])"
   ]
  },
  {
   "cell_type": "code",
   "execution_count": 134,
   "id": "f011a71b-860f-4b52-b21c-3623c952c96c",
   "metadata": {},
   "outputs": [],
   "source": [
    "differences = b['difference_i'] - a['difference_i']\n",
    "sm = sample_mean(b['difference_i'],a['difference_i'])\n",
    "sv = bigV(a['difference_i'],b['difference_i'])"
   ]
  },
  {
   "cell_type": "code",
   "execution_count": 135,
   "id": "871d504d-74d5-42d5-83fc-dc9860ce16c8",
   "metadata": {},
   "outputs": [
    {
     "data": {
      "text/plain": [
       "(-0.88, -0.74)"
      ]
     },
     "execution_count": 135,
     "metadata": {},
     "output_type": "execute_result"
    }
   ],
   "source": [
    "c = ci(len(differences) - 1, sv, len(differences))\n",
    "cl, ch = (sm - c, sm + c)\n",
    "round(cl,2), round(ch,2)"
   ]
  },
  {
   "cell_type": "code",
   "execution_count": 136,
   "id": "4aca13ad-c36f-4205-aad3-e00bb1c32035",
   "metadata": {},
   "outputs": [
    {
     "data": {
      "text/plain": [
       "-0.8105962599999998"
      ]
     },
     "execution_count": 136,
     "metadata": {},
     "output_type": "execute_result"
    }
   ],
   "source": [
    "sm"
   ]
  },
  {
   "cell_type": "code",
   "execution_count": 137,
   "id": "fd7741b3-4d74-41f1-9e27-9266b5f31840",
   "metadata": {},
   "outputs": [
    {
     "data": {
      "text/plain": [
       "0.27247460764614306"
      ]
     },
     "execution_count": 137,
     "metadata": {},
     "output_type": "execute_result"
    }
   ],
   "source": [
    "sv"
   ]
  },
  {
   "cell_type": "code",
   "execution_count": 138,
   "id": "88a1301d-ec6d-4b25-ab3b-11cc22ff241e",
   "metadata": {},
   "outputs": [
    {
     "data": {
      "text/plain": [
       "1.55"
      ]
     },
     "execution_count": 138,
     "metadata": {},
     "output_type": "execute_result"
    }
   ],
   "source": [
    "effect_size_t_test(a['difference_i'],b['difference_i'],2)"
   ]
  },
  {
   "cell_type": "code",
   "execution_count": null,
   "id": "5b4672a8-da89-4fb1-9258-0e10890b1d6c",
   "metadata": {},
   "outputs": [],
   "source": []
  }
 ],
 "metadata": {
  "kernelspec": {
   "display_name": "Python 3 (ipykernel)",
   "language": "python",
   "name": "python3"
  },
  "language_info": {
   "codemirror_mode": {
    "name": "ipython",
    "version": 3
   },
   "file_extension": ".py",
   "mimetype": "text/x-python",
   "name": "python",
   "nbconvert_exporter": "python",
   "pygments_lexer": "ipython3",
   "version": "3.7.12"
  }
 },
 "nbformat": 4,
 "nbformat_minor": 5
}
