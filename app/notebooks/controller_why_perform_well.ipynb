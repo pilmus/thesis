{
 "cells": [
  {
   "cell_type": "markdown",
   "metadata": {},
   "source": [
    "# Error analysis notebook (test data)"
   ]
  },
  {
   "cell_type": "markdown",
   "metadata": {
    "tags": []
   },
   "source": [
    "## Import packages"
   ]
  },
  {
   "cell_type": "code",
   "execution_count": 16,
   "metadata": {
    "tags": []
   },
   "outputs": [],
   "source": [
    "import pandas as pd\n",
    "import math\n",
    "\n",
    "import numpy as np\n",
    "\n",
    "import seaborn as sns\n",
    "import matplotlib.pyplot as plt\n",
    "\n",
    "from elasticsearch import Elasticsearch\n",
    "\n",
    "import warnings\n",
    "import matplotlib\n",
    "warnings.filterwarnings(\"ignore\",category=matplotlib.cbook.mplDeprecation)\n",
    "warnings.filterwarnings(\"ignore\")\n",
    "\n",
    "from enum import IntEnum\n",
    "\n",
    "import json\n"
   ]
  },
  {
   "cell_type": "markdown",
   "metadata": {
    "tags": []
   },
   "source": [
    "## Set filepaths"
   ]
  },
  {
   "cell_type": "code",
   "execution_count": 17,
   "metadata": {
    "tags": []
   },
   "outputs": [],
   "source": [
    "ranking_meta_9 = '../evaluation/resources/2020/jsonruns/p_controller_train_nle_meta_9_1_train_level.json'\n",
    "ranking_meta_99 = '../evaluation/resources/2020/jsonruns/p_controller_train_nle_meta_99_1_train_level.json'\n",
    "ranking_text_9 = '../evaluation/resources/2020/jsonruns/p_controller_train_nle_text_9_1_train_level.json'\n",
    "ranking_text_99 = '../evaluation/resources/2020/jsonruns/p_controller_train_nle_text_99_1_train_level.json'\n",
    "\n",
    "eval_result_hlevel_meta_9 = '../evaluation/resources/2020/eval_results/p_controller_train_nle_meta_9_1_train_hlevel.tsv'\n",
    "eval_result_level_meta_9 = '../evaluation/resources/2020/eval_results/p_controller_train_nle_meta_9_1_train_level.tsv'\n",
    "\n",
    "eval_result_hlevel_meta_99 = '../evaluation/resources/2020/eval_results/p_controller_train_nle_meta_99_1_train_hlevel.tsv'\n",
    "eval_result_level_meta_99 = '../evaluation/resources/2020/eval_results/p_controller_train_nle_meta_99_1_train_level.tsv'\n",
    "\n",
    "eval_result_hlevel_text_9 = '../evaluation/resources/2020/eval_results/p_controller_train_nle_text_9_1_train_hlevel.tsv'\n",
    "eval_result_level_text_9 = '../evaluation/resources/2020/eval_results/p_controller_train_nle_text_9_1_train_level.tsv'\n",
    "\n",
    "eval_result_hlevel_text_99 = '../evaluation/resources/2020/eval_results/p_controller_train_nle_text_99_1_train_hlevel.tsv'\n",
    "eval_result_level_text_99 = '../evaluation/resources/2020/eval_results/p_controller_train_nle_text_99_1_train_level.tsv'\n",
    "\n",
    "eval_result_meta_9_noauth_docid = '../evaluation/resources/2020/eval_results/p_controller_train_nle_meta_9_1_train_noauth_docid.tsv'\n",
    "eval_result_meta_9_noauth_anon =  '../evaluation/resources/2020/eval_results/p_controller_train_nle_meta_9_1_train_noauth_anon.tsv'\n",
    "eval_result_meta_9_doc_singleton =  '../evaluation/resources/2020/eval_results/p_controller_train_nle_meta_9_1_train_doc_singleton.tsv'\n",
    "\n",
    "gt = '../pre_processing/resources/training/2020/TREC-Fair-Ranking-training-sample.json'\n",
    "\n",
    "est_rel_meta_f = '../reranking/resources/relevances/Training_rel_scores_model_A.csv'\n",
    "est_rel_text_f = '../reranking/resources/relevances/Training_rel_scores_model_B.csv'\n",
    "\n",
    "annotations = '../pre_pre_processing/resources/merged-annotations.json'\n",
    "mapping = '../reranking/resources/mappings/training_doc_to_author.json'"
   ]
  },
  {
   "cell_type": "markdown",
   "metadata": {
    "tags": []
   },
   "source": [
    "## Prepare dataframes"
   ]
  },
  {
   "cell_type": "code",
   "execution_count": 19,
   "metadata": {
    "tags": []
   },
   "outputs": [],
   "source": [
    "# ranking df\n",
    "rdf_meta_9 = pd.read_json(ranking_meta_9, lines=True)\n",
    "rdf_meta_99 = pd.read_json(ranking_meta_9, lines=True)\n",
    "rdf_text_9 = pd.read_json(ranking_text_9, lines=True)\n",
    "rdf_text_99 = pd.read_json(ranking_text_99, lines=True)\n",
    "\n",
    "# ground truth df\n",
    "gtdf = pd.read_json(gt, lines=True).explode('documents')\n",
    "gtdf['doc_id'] = gtdf.documents.apply(lambda row: row.get('doc_id'))\n",
    "gtdf['doc_rel'] = gtdf.documents.apply(lambda row: row.get('relevance'))\n",
    "\n",
    "# paired down relevances df\n",
    "reldf = gtdf[['qid','query','doc_id','doc_rel']]\n",
    "\n",
    "# eval result dfs\n",
    "ehldf_meta_9 = pd.read_csv(eval_result_hlevel_meta_9, sep='\\t', names=['key', 'qid', 'value'])\n",
    "ehldf_meta_9 = ehldf_meta_9.pivot(index='qid', columns='key', values='value')\n",
    "eldf_meta_9 = pd.read_csv(eval_result_level_meta_9, sep='\\t', names=['key', 'qid', 'value'])\n",
    "eldf_meta_9 = eldf_meta_9.pivot(index='qid', columns='key', values='value')\n",
    "\n",
    "ehldf_meta_99 = pd.read_csv(eval_result_hlevel_meta_99, sep='\\t', names=['key', 'qid', 'value'])\n",
    "ehldf_meta_99 = ehldf_meta_99.pivot(index='qid', columns='key', values='value')\n",
    "eldf_meta_99 = pd.read_csv(eval_result_level_meta_99, sep='\\t', names=['key', 'qid', 'value'])\n",
    "eldf_meta_99 = eldf_meta_99.pivot(index='qid', columns='key', values='value')\n",
    "\n",
    "ehldf_text_9 = pd.read_csv(eval_result_hlevel_text_9, sep='\\t', names=['key', 'qid', 'value'])\n",
    "ehldf_text_9 = ehldf_text_9.pivot(index='qid', columns='key', values='value')\n",
    "eldf_text_9 = pd.read_csv(eval_result_level_text_9, sep='\\t', names=['key', 'qid', 'value'])\n",
    "eldf_text_9 = eldf_text_9.pivot(index='qid', columns='key', values='value')\n",
    "\n",
    "ehldf_text_99 = pd.read_csv(eval_result_hlevel_text_99, sep='\\t', names=['key', 'qid', 'value'])\n",
    "ehldf_text_99 = ehldf_text_99.pivot(index='qid', columns='key', values='value')\n",
    "eldf_text_99 = pd.read_csv(eval_result_level_text_99, sep='\\t', names=['key', 'qid', 'value'])\n",
    "eldf_text_99 = eldf_text_99.pivot(index='qid', columns='key', values='value')\n",
    "\n",
    "meta_9_noauth_anon_df = pd.read_csv(eval_result_meta_9_noauth_anon, sep='\\t', names=['key', 'qid', 'value'])\n",
    "meta_9_noauth_anon_df = meta_9_noauth_anon_df.pivot(index='qid', columns='key', values='value')\n",
    "\n",
    "meta_9_noauth_docid_df = pd.read_csv(eval_result_meta_9_noauth_docid, sep='\\t', names=['key', 'qid', 'value'])\n",
    "meta_9_noauth_docid_df = meta_9_noauth_docid_df.pivot(index='qid', columns='key', values='value')\n",
    "\n",
    "meta_9_doc_singleton_df = pd.read_csv(eval_result_meta_9_doc_singleton, sep='\\t', names=['key', 'qid', 'value'])\n",
    "meta_9_doc_singleton_df = meta_9_doc_singleton_df.pivot(index='qid', columns='key', values='value')\n",
    "\n",
    "\n",
    "\n",
    "\n",
    "\n",
    "# est rel df\n",
    "est_rel_meta = pd.read_csv(est_rel_meta_f)\n",
    "est_rel_text = pd.read_csv(est_rel_text_f)\n",
    "\n",
    "\n",
    "# annotations\n",
    "adf = pd.read_json(annotations,lines=True)\n",
    "adf = adf.explode('authors')\n",
    "adf[['name','wiki','country','type','valid','auth_id', 'h_index','level','region']] = adf.authors.apply(pd.Series).rename({'id':'auth_id'},axis=1)\n",
    "\n",
    "# doc to author and reverse mapping\n",
    "with open(mapping) as fp:\n",
    "    doc_to_author = json.load(fp)\n",
    "    \n",
    "alldocs = rdf_meta_9.explode('ranking')['ranking'].drop_duplicates().to_list()\n",
    "for doc in alldocs:\n",
    "    if not doc in doc_to_author:\n",
    "        doc_to_author[doc] = []\n",
    "    \n",
    "author_to_doc = {}\n",
    "for doc, aulist in doc_to_author.items():\n",
    "    for au in aulist:\n",
    "        if not au in author_to_doc:\n",
    "            author_to_doc[au] = []\n",
    "        author_to_doc[au] = author_to_doc[au] + [doc]"
   ]
  },
  {
   "cell_type": "code",
   "execution_count": 20,
   "metadata": {},
   "outputs": [
    {
     "data": {
      "text/plain": [
       "key\n",
       "difference    0.434440\n",
       "disparity     1.753156\n",
       "relevance     1.252646\n",
       "dtype: float64"
      ]
     },
     "execution_count": 20,
     "metadata": {},
     "output_type": "execute_result"
    }
   ],
   "source": [
    "ehldf_meta_9[['difference','disparity','relevance']].mean()"
   ]
  },
  {
   "cell_type": "code",
   "execution_count": 21,
   "metadata": {},
   "outputs": [
    {
     "data": {
      "text/plain": [
       "key\n",
       "difference    0.426751\n",
       "disparity     1.951181\n",
       "relevance     1.388441\n",
       "dtype: float64"
      ]
     },
     "execution_count": 21,
     "metadata": {},
     "output_type": "execute_result"
    }
   ],
   "source": [
    "eldf_meta_9[['difference','disparity','relevance']].mean()"
   ]
  },
  {
   "cell_type": "code",
   "execution_count": 22,
   "metadata": {},
   "outputs": [
    {
     "data": {
      "text/plain": [
       "key\n",
       "difference    0.430280\n",
       "disparity     1.750343\n",
       "relevance     1.253320\n",
       "dtype: float64"
      ]
     },
     "execution_count": 22,
     "metadata": {},
     "output_type": "execute_result"
    }
   ],
   "source": [
    "ehldf_meta_99[['difference','disparity','relevance']].mean()"
   ]
  },
  {
   "cell_type": "code",
   "execution_count": 23,
   "metadata": {},
   "outputs": [
    {
     "data": {
      "text/plain": [
       "key\n",
       "difference    0.424715\n",
       "disparity     1.948928\n",
       "relevance     1.388333\n",
       "dtype: float64"
      ]
     },
     "execution_count": 23,
     "metadata": {},
     "output_type": "execute_result"
    }
   ],
   "source": [
    "eldf_meta_99[['difference','disparity','relevance']].mean()"
   ]
  },
  {
   "cell_type": "code",
   "execution_count": 24,
   "metadata": {},
   "outputs": [
    {
     "data": {
      "text/plain": [
       "key\n",
       "difference    0.446377\n",
       "disparity     1.765455\n",
       "relevance     1.252827\n",
       "dtype: float64"
      ]
     },
     "execution_count": 24,
     "metadata": {},
     "output_type": "execute_result"
    }
   ],
   "source": [
    "ehldf_text_9[['difference','disparity','relevance']].mean()"
   ]
  },
  {
   "cell_type": "code",
   "execution_count": 25,
   "metadata": {},
   "outputs": [
    {
     "data": {
      "text/plain": [
       "key\n",
       "difference    0.441600\n",
       "disparity     1.968173\n",
       "relevance     1.389513\n",
       "dtype: float64"
      ]
     },
     "execution_count": 25,
     "metadata": {},
     "output_type": "execute_result"
    }
   ],
   "source": [
    "eldf_text_9[['difference','disparity','relevance']].mean()"
   ]
  },
  {
   "cell_type": "code",
   "execution_count": 26,
   "metadata": {},
   "outputs": [
    {
     "data": {
      "text/plain": [
       "key\n",
       "difference    0.457462\n",
       "disparity     1.779201\n",
       "relevance     1.254157\n",
       "dtype: float64"
      ]
     },
     "execution_count": 26,
     "metadata": {},
     "output_type": "execute_result"
    }
   ],
   "source": [
    "ehldf_text_99[['difference','disparity','relevance']].mean()"
   ]
  },
  {
   "cell_type": "code",
   "execution_count": 27,
   "metadata": {},
   "outputs": [
    {
     "data": {
      "text/plain": [
       "key\n",
       "difference    0.455718\n",
       "disparity     1.983619\n",
       "relevance     1.390177\n",
       "dtype: float64"
      ]
     },
     "execution_count": 27,
     "metadata": {},
     "output_type": "execute_result"
    }
   ],
   "source": [
    "eldf_text_99[['difference','disparity','relevance']].mean()"
   ]
  },
  {
   "cell_type": "code",
   "execution_count": 28,
   "metadata": {},
   "outputs": [
    {
     "data": {
      "text/plain": [
       "key\n",
       "difference    1.545262\n",
       "disparity     0.809855\n",
       "relevance     0.536687\n",
       "dtype: float64"
      ]
     },
     "execution_count": 28,
     "metadata": {},
     "output_type": "execute_result"
    }
   ],
   "source": [
    "meta_9_noauth_anon_df[['difference','disparity','relevance']].mean()"
   ]
  },
  {
   "cell_type": "code",
   "execution_count": 29,
   "metadata": {},
   "outputs": [
    {
     "data": {
      "text/plain": [
       "key\n",
       "difference    1.550297\n",
       "disparity     0.806018\n",
       "relevance     0.532002\n",
       "dtype: float64"
      ]
     },
     "execution_count": 29,
     "metadata": {},
     "output_type": "execute_result"
    }
   ],
   "source": [
    "meta_9_noauth_docid_df[['difference','disparity','relevance']].mean()"
   ]
  },
  {
   "cell_type": "code",
   "execution_count": 30,
   "metadata": {},
   "outputs": [
    {
     "data": {
      "text/plain": [
       "key\n",
       "difference    0.562098\n",
       "disparity     0.263787\n",
       "relevance     0.145674\n",
       "dtype: float64"
      ]
     },
     "execution_count": 30,
     "metadata": {},
     "output_type": "execute_result"
    }
   ],
   "source": [
    "meta_9_doc_singleton_df[['difference','disparity','relevance']].mean()"
   ]
  },
  {
   "cell_type": "code",
   "execution_count": 44,
   "metadata": {},
   "outputs": [
    {
     "data": {
      "text/plain": [
       "{33337}"
      ]
     },
     "execution_count": 44,
     "metadata": {},
     "output_type": "execute_result"
    }
   ],
   "source": [
    "set(eldf_meta_9.sort_values(by='difference').tail(10).reset_index().qid.to_list()).intersection(meta_9_noauth_anon_df.sort_values(by='difference').tail(10).reset_index().qid.to_list())"
   ]
  },
  {
   "cell_type": "code",
   "execution_count": 39,
   "metadata": {},
   "outputs": [
    {
     "data": {
      "text/html": [
       "<div>\n",
       "<style scoped>\n",
       "    .dataframe tbody tr th:only-of-type {\n",
       "        vertical-align: middle;\n",
       "    }\n",
       "\n",
       "    .dataframe tbody tr th {\n",
       "        vertical-align: top;\n",
       "    }\n",
       "\n",
       "    .dataframe thead th {\n",
       "        text-align: right;\n",
       "    }\n",
       "</style>\n",
       "<table border=\"1\" class=\"dataframe\">\n",
       "  <thead>\n",
       "    <tr style=\"text-align: right;\">\n",
       "      <th>key</th>\n",
       "      <th>difference</th>\n",
       "      <th>disparity</th>\n",
       "      <th>relevance</th>\n",
       "    </tr>\n",
       "    <tr>\n",
       "      <th>qid</th>\n",
       "      <th></th>\n",
       "      <th></th>\n",
       "      <th></th>\n",
       "    </tr>\n",
       "  </thead>\n",
       "  <tbody>\n",
       "    <tr>\n",
       "      <th>29979</th>\n",
       "      <td>4.050845</td>\n",
       "      <td>1.260625</td>\n",
       "      <td>0.955970</td>\n",
       "    </tr>\n",
       "    <tr>\n",
       "      <th>40748</th>\n",
       "      <td>4.214315</td>\n",
       "      <td>2.922428</td>\n",
       "      <td>2.720304</td>\n",
       "    </tr>\n",
       "    <tr>\n",
       "      <th>64039</th>\n",
       "      <td>4.352173</td>\n",
       "      <td>4.078946</td>\n",
       "      <td>3.577946</td>\n",
       "    </tr>\n",
       "    <tr>\n",
       "      <th>33337</th>\n",
       "      <td>4.585438</td>\n",
       "      <td>3.738013</td>\n",
       "      <td>0.570916</td>\n",
       "    </tr>\n",
       "    <tr>\n",
       "      <th>29208</th>\n",
       "      <td>4.669166</td>\n",
       "      <td>2.422751</td>\n",
       "      <td>2.418655</td>\n",
       "    </tr>\n",
       "    <tr>\n",
       "      <th>23241</th>\n",
       "      <td>5.545022</td>\n",
       "      <td>1.969447</td>\n",
       "      <td>2.921267</td>\n",
       "    </tr>\n",
       "    <tr>\n",
       "      <th>16040</th>\n",
       "      <td>5.801210</td>\n",
       "      <td>1.114392</td>\n",
       "      <td>0.392754</td>\n",
       "    </tr>\n",
       "    <tr>\n",
       "      <th>12828</th>\n",
       "      <td>7.497633</td>\n",
       "      <td>1.570728</td>\n",
       "      <td>2.509430</td>\n",
       "    </tr>\n",
       "    <tr>\n",
       "      <th>46090</th>\n",
       "      <td>8.229418</td>\n",
       "      <td>12.413544</td>\n",
       "      <td>5.083313</td>\n",
       "    </tr>\n",
       "    <tr>\n",
       "      <th>18348</th>\n",
       "      <td>11.547745</td>\n",
       "      <td>1.040272</td>\n",
       "      <td>0.802595</td>\n",
       "    </tr>\n",
       "  </tbody>\n",
       "</table>\n",
       "</div>"
      ],
      "text/plain": [
       "key    difference  disparity  relevance\n",
       "qid                                    \n",
       "29979    4.050845   1.260625   0.955970\n",
       "40748    4.214315   2.922428   2.720304\n",
       "64039    4.352173   4.078946   3.577946\n",
       "33337    4.585438   3.738013   0.570916\n",
       "29208    4.669166   2.422751   2.418655\n",
       "23241    5.545022   1.969447   2.921267\n",
       "16040    5.801210   1.114392   0.392754\n",
       "12828    7.497633   1.570728   2.509430\n",
       "46090    8.229418  12.413544   5.083313\n",
       "18348   11.547745   1.040272   0.802595"
      ]
     },
     "execution_count": 39,
     "metadata": {},
     "output_type": "execute_result"
    }
   ],
   "source": [
    "meta_9_noauth_anon_df.sort_values(by='difference').tail(10)"
   ]
  },
  {
   "cell_type": "code",
   "execution_count": 31,
   "metadata": {},
   "outputs": [],
   "source": [
    "def plot_relevance_disparity(df, title):\n",
    "    df = df.sort_values(by='difference').reset_index(drop=True).reset_index().rename({'index':'difficulty'}, axis=1)\n",
    "    disp = df[[\"difficulty\",\"disparity\"]].rename({'disparity':'value'}, axis=1)\n",
    "    relv = df[[\"difficulty\",\"relevance\"]].rename({'relevance':'value'}, axis=1)\n",
    "    conc = pd.concat([disp.assign(metric='disparity'), relv.assign(metric='relevance')])\n",
    "\n",
    "    fig, ax = plt.subplots(1,1,figsize = (17.7,8.27))\n",
    "\n",
    "    pi = iter(sns.color_palette())\n",
    "    f = next(pi)\n",
    "    s = next(pi)\n",
    "\n",
    "    sns.scatterplot(data=conc, x='difficulty', y='value',hue='metric',ax=ax)\n",
    "\n",
    "    fig.suptitle(f'Relevance and disparity versus difficulty for {title}')"
   ]
  },
  {
   "cell_type": "code",
   "execution_count": 79,
   "metadata": {},
   "outputs": [
    {
     "data": {
      "image/png": "[encoded data removed]",
      "text/plain": [
       "<Figure size 1274.4x595.44 with 1 Axes>"
      ]
     },
     "metadata": {
      "needs_background": "light"
     },
     "output_type": "display_data"
    },
    {
     "data": {
      "image/png": "[encoded data removed]",
      "text/plain": [
       "<Figure size 1274.4x595.44 with 1 Axes>"
      ]
     },
     "metadata": {
      "needs_background": "light"
     },
     "output_type": "display_data"
    }
   ],
   "source": [
    "plot_relevance_disparity(ehldf_meta_9, \"h-level meta theta=0.9\")\n",
    "plot_relevance_disparity(ehldf_text_9, \"h-level text theta=0.9\")"
   ]
  },
  {
   "cell_type": "code",
   "execution_count": null,
   "metadata": {},
   "outputs": [],
   "source": []
  },
  {
   "cell_type": "code",
   "execution_count": 83,
   "metadata": {},
   "outputs": [
    {
     "data": {
      "text/html": [
       "<div>\n",
       "<style scoped>\n",
       "    .dataframe tbody tr th:only-of-type {\n",
       "        vertical-align: middle;\n",
       "    }\n",
       "\n",
       "    .dataframe tbody tr th {\n",
       "        vertical-align: top;\n",
       "    }\n",
       "\n",
       "    .dataframe thead th {\n",
       "        text-align: right;\n",
       "    }\n",
       "</style>\n",
       "<table border=\"1\" class=\"dataframe\">\n",
       "  <thead>\n",
       "    <tr style=\"text-align: right;\">\n",
       "      <th>key</th>\n",
       "      <th>difficulty</th>\n",
       "      <th>difference</th>\n",
       "      <th>disparity</th>\n",
       "      <th>relevance</th>\n",
       "    </tr>\n",
       "  </thead>\n",
       "  <tbody>\n",
       "    <tr>\n",
       "      <th>0</th>\n",
       "      <td>0</td>\n",
       "      <td>0.002713</td>\n",
       "      <td>1.421254</td>\n",
       "      <td>1.403715</td>\n",
       "    </tr>\n",
       "    <tr>\n",
       "      <th>1</th>\n",
       "      <td>1</td>\n",
       "      <td>0.029287</td>\n",
       "      <td>1.975807</td>\n",
       "      <td>1.862498</td>\n",
       "    </tr>\n",
       "    <tr>\n",
       "      <th>2</th>\n",
       "      <td>2</td>\n",
       "      <td>0.032334</td>\n",
       "      <td>1.367385</td>\n",
       "      <td>1.271935</td>\n",
       "    </tr>\n",
       "    <tr>\n",
       "      <th>3</th>\n",
       "      <td>3</td>\n",
       "      <td>0.040510</td>\n",
       "      <td>2.053024</td>\n",
       "      <td>1.890567</td>\n",
       "    </tr>\n",
       "    <tr>\n",
       "      <th>4</th>\n",
       "      <td>4</td>\n",
       "      <td>0.057478</td>\n",
       "      <td>1.047360</td>\n",
       "      <td>0.839632</td>\n",
       "    </tr>\n",
       "  </tbody>\n",
       "</table>\n",
       "</div>"
      ],
      "text/plain": [
       "key  difficulty  difference  disparity  relevance\n",
       "0             0    0.002713   1.421254   1.403715\n",
       "1             1    0.029287   1.975807   1.862498\n",
       "2             2    0.032334   1.367385   1.271935\n",
       "3             3    0.040510   2.053024   1.890567\n",
       "4             4    0.057478   1.047360   0.839632"
      ]
     },
     "execution_count": 83,
     "metadata": {},
     "output_type": "execute_result"
    }
   ],
   "source": [
    "ehldf_meta_9.sort_values(by='difference').reset_index(drop=True).reset_index().rename({'index':'difficulty'}, axis=1).head()"
   ]
  },
  {
   "cell_type": "code",
   "execution_count": 89,
   "metadata": {},
   "outputs": [
    {
     "data": {
      "text/html": [
       "<div>\n",
       "<style scoped>\n",
       "    .dataframe tbody tr th:only-of-type {\n",
       "        vertical-align: middle;\n",
       "    }\n",
       "\n",
       "    .dataframe tbody tr th {\n",
       "        vertical-align: top;\n",
       "    }\n",
       "\n",
       "    .dataframe thead th {\n",
       "        text-align: right;\n",
       "    }\n",
       "</style>\n",
       "<table border=\"1\" class=\"dataframe\">\n",
       "  <thead>\n",
       "    <tr style=\"text-align: right;\">\n",
       "      <th>key</th>\n",
       "      <th>difficulty</th>\n",
       "      <th>difference</th>\n",
       "      <th>disparity</th>\n",
       "      <th>relevance</th>\n",
       "    </tr>\n",
       "  </thead>\n",
       "  <tbody>\n",
       "    <tr>\n",
       "      <th>0</th>\n",
       "      <td>0</td>\n",
       "      <td>0.147297</td>\n",
       "      <td>2.830163</td>\n",
       "      <td>2.258533</td>\n",
       "    </tr>\n",
       "    <tr>\n",
       "      <th>1</th>\n",
       "      <td>1</td>\n",
       "      <td>0.507917</td>\n",
       "      <td>1.042814</td>\n",
       "      <td>0.699428</td>\n",
       "    </tr>\n",
       "    <tr>\n",
       "      <th>2</th>\n",
       "      <td>2</td>\n",
       "      <td>0.588716</td>\n",
       "      <td>1.689528</td>\n",
       "      <td>0.895089</td>\n",
       "    </tr>\n",
       "    <tr>\n",
       "      <th>3</th>\n",
       "      <td>3</td>\n",
       "      <td>0.175217</td>\n",
       "      <td>1.095032</td>\n",
       "      <td>0.793987</td>\n",
       "    </tr>\n",
       "    <tr>\n",
       "      <th>4</th>\n",
       "      <td>4</td>\n",
       "      <td>1.375564</td>\n",
       "      <td>2.228446</td>\n",
       "      <td>0.732000</td>\n",
       "    </tr>\n",
       "  </tbody>\n",
       "</table>\n",
       "</div>"
      ],
      "text/plain": [
       "key  difficulty  difference  disparity  relevance\n",
       "0             0    0.147297   2.830163   2.258533\n",
       "1             1    0.507917   1.042814   0.699428\n",
       "2             2    0.588716   1.689528   0.895089\n",
       "3             3    0.175217   1.095032   0.793987\n",
       "4             4    1.375564   2.228446   0.732000"
      ]
     },
     "execution_count": 89,
     "metadata": {},
     "output_type": "execute_result"
    }
   ],
   "source": [
    "ehldf_text_9.reset_index(drop=True).reset_index().rename({'index':'difficulty'}, axis=1).head()"
   ]
  },
  {
   "cell_type": "code",
   "execution_count": 97,
   "metadata": {},
   "outputs": [
    {
     "data": {
      "text/html": [
       "<div>\n",
       "<style scoped>\n",
       "    .dataframe tbody tr th:only-of-type {\n",
       "        vertical-align: middle;\n",
       "    }\n",
       "\n",
       "    .dataframe tbody tr th {\n",
       "        vertical-align: top;\n",
       "    }\n",
       "\n",
       "    .dataframe thead th {\n",
       "        text-align: right;\n",
       "    }\n",
       "</style>\n",
       "<table border=\"1\" class=\"dataframe\">\n",
       "  <thead>\n",
       "    <tr style=\"text-align: right;\">\n",
       "      <th>key</th>\n",
       "      <th>index</th>\n",
       "      <th>qid</th>\n",
       "      <th>difference</th>\n",
       "      <th>disparity</th>\n",
       "      <th>relevance</th>\n",
       "    </tr>\n",
       "  </thead>\n",
       "  <tbody>\n",
       "    <tr>\n",
       "      <th>0</th>\n",
       "      <td>0</td>\n",
       "      <td>132049</td>\n",
       "      <td>0.002713</td>\n",
       "      <td>1.421254</td>\n",
       "      <td>1.403715</td>\n",
       "    </tr>\n",
       "    <tr>\n",
       "      <th>1</th>\n",
       "      <td>1</td>\n",
       "      <td>71096</td>\n",
       "      <td>0.029287</td>\n",
       "      <td>1.975807</td>\n",
       "      <td>1.862498</td>\n",
       "    </tr>\n",
       "    <tr>\n",
       "      <th>2</th>\n",
       "      <td>2</td>\n",
       "      <td>21984</td>\n",
       "      <td>0.032334</td>\n",
       "      <td>1.367385</td>\n",
       "      <td>1.271935</td>\n",
       "    </tr>\n",
       "    <tr>\n",
       "      <th>3</th>\n",
       "      <td>3</td>\n",
       "      <td>15395</td>\n",
       "      <td>0.040510</td>\n",
       "      <td>2.053024</td>\n",
       "      <td>1.890567</td>\n",
       "    </tr>\n",
       "    <tr>\n",
       "      <th>4</th>\n",
       "      <td>4</td>\n",
       "      <td>52728</td>\n",
       "      <td>0.057478</td>\n",
       "      <td>1.047360</td>\n",
       "      <td>0.839632</td>\n",
       "    </tr>\n",
       "  </tbody>\n",
       "</table>\n",
       "</div>"
      ],
      "text/plain": [
       "key  index     qid  difference  disparity  relevance\n",
       "0        0  132049    0.002713   1.421254   1.403715\n",
       "1        1   71096    0.029287   1.975807   1.862498\n",
       "2        2   21984    0.032334   1.367385   1.271935\n",
       "3        3   15395    0.040510   2.053024   1.890567\n",
       "4        4   52728    0.057478   1.047360   0.839632"
      ]
     },
     "execution_count": 97,
     "metadata": {},
     "output_type": "execute_result"
    }
   ],
   "source": [
    "ehldf_meta_9.sort_values(by='difference').reset_index().reset_index().head()"
   ]
  },
  {
   "cell_type": "code",
   "execution_count": 100,
   "metadata": {},
   "outputs": [
    {
     "data": {
      "text/html": [
       "<div>\n",
       "<style scoped>\n",
       "    .dataframe tbody tr th:only-of-type {\n",
       "        vertical-align: middle;\n",
       "    }\n",
       "\n",
       "    .dataframe tbody tr th {\n",
       "        vertical-align: top;\n",
       "    }\n",
       "\n",
       "    .dataframe thead th {\n",
       "        text-align: right;\n",
       "    }\n",
       "</style>\n",
       "<table border=\"1\" class=\"dataframe\">\n",
       "  <thead>\n",
       "    <tr style=\"text-align: right;\">\n",
       "      <th>key</th>\n",
       "      <th>index</th>\n",
       "      <th>qid</th>\n",
       "      <th>difference</th>\n",
       "      <th>disparity</th>\n",
       "      <th>relevance</th>\n",
       "    </tr>\n",
       "  </thead>\n",
       "  <tbody>\n",
       "    <tr>\n",
       "      <th>0</th>\n",
       "      <td>0</td>\n",
       "      <td>132049</td>\n",
       "      <td>0.016562</td>\n",
       "      <td>1.369404</td>\n",
       "      <td>1.370865</td>\n",
       "    </tr>\n",
       "    <tr>\n",
       "      <th>1</th>\n",
       "      <td>1</td>\n",
       "      <td>71096</td>\n",
       "      <td>0.022032</td>\n",
       "      <td>2.003198</td>\n",
       "      <td>1.879820</td>\n",
       "    </tr>\n",
       "    <tr>\n",
       "      <th>2</th>\n",
       "      <td>2</td>\n",
       "      <td>21984</td>\n",
       "      <td>0.027258</td>\n",
       "      <td>1.348613</td>\n",
       "      <td>1.265088</td>\n",
       "    </tr>\n",
       "    <tr>\n",
       "      <th>3</th>\n",
       "      <td>3</td>\n",
       "      <td>15395</td>\n",
       "      <td>0.027580</td>\n",
       "      <td>2.055981</td>\n",
       "      <td>1.898511</td>\n",
       "    </tr>\n",
       "    <tr>\n",
       "      <th>4</th>\n",
       "      <td>4</td>\n",
       "      <td>35778</td>\n",
       "      <td>0.063951</td>\n",
       "      <td>2.228007</td>\n",
       "      <td>1.984610</td>\n",
       "    </tr>\n",
       "  </tbody>\n",
       "</table>\n",
       "</div>"
      ],
      "text/plain": [
       "key  index     qid  difference  disparity  relevance\n",
       "0        0  132049    0.016562   1.369404   1.370865\n",
       "1        1   71096    0.022032   2.003198   1.879820\n",
       "2        2   21984    0.027258   1.348613   1.265088\n",
       "3        3   15395    0.027580   2.055981   1.898511\n",
       "4        4   35778    0.063951   2.228007   1.984610"
      ]
     },
     "execution_count": 100,
     "metadata": {},
     "output_type": "execute_result"
    }
   ],
   "source": [
    "ehldf_text_9.sort_values(by='difference').reset_index().reset_index().head()"
   ]
  },
  {
   "cell_type": "code",
   "execution_count": 102,
   "metadata": {},
   "outputs": [
    {
     "data": {
      "text/html": [
       "<div>\n",
       "<style scoped>\n",
       "    .dataframe tbody tr th:only-of-type {\n",
       "        vertical-align: middle;\n",
       "    }\n",
       "\n",
       "    .dataframe tbody tr th {\n",
       "        vertical-align: top;\n",
       "    }\n",
       "\n",
       "    .dataframe thead th {\n",
       "        text-align: right;\n",
       "    }\n",
       "</style>\n",
       "<table border=\"1\" class=\"dataframe\">\n",
       "  <thead>\n",
       "    <tr style=\"text-align: right;\">\n",
       "      <th>key</th>\n",
       "      <th>index_x</th>\n",
       "      <th>qid</th>\n",
       "      <th>difference_x</th>\n",
       "      <th>disparity_x</th>\n",
       "      <th>relevance_x</th>\n",
       "      <th>index_y</th>\n",
       "      <th>difference_y</th>\n",
       "      <th>disparity_y</th>\n",
       "      <th>relevance_y</th>\n",
       "    </tr>\n",
       "  </thead>\n",
       "  <tbody>\n",
       "    <tr>\n",
       "      <th>0</th>\n",
       "      <td>0</td>\n",
       "      <td>132049</td>\n",
       "      <td>0.002713</td>\n",
       "      <td>1.421254</td>\n",
       "      <td>1.403715</td>\n",
       "      <td>0</td>\n",
       "      <td>0.016562</td>\n",
       "      <td>1.369404</td>\n",
       "      <td>1.370865</td>\n",
       "    </tr>\n",
       "    <tr>\n",
       "      <th>1</th>\n",
       "      <td>1</td>\n",
       "      <td>71096</td>\n",
       "      <td>0.029287</td>\n",
       "      <td>1.975807</td>\n",
       "      <td>1.862498</td>\n",
       "      <td>1</td>\n",
       "      <td>0.022032</td>\n",
       "      <td>2.003198</td>\n",
       "      <td>1.879820</td>\n",
       "    </tr>\n",
       "    <tr>\n",
       "      <th>2</th>\n",
       "      <td>2</td>\n",
       "      <td>21984</td>\n",
       "      <td>0.032334</td>\n",
       "      <td>1.367385</td>\n",
       "      <td>1.271935</td>\n",
       "      <td>2</td>\n",
       "      <td>0.027258</td>\n",
       "      <td>1.348613</td>\n",
       "      <td>1.265088</td>\n",
       "    </tr>\n",
       "    <tr>\n",
       "      <th>3</th>\n",
       "      <td>3</td>\n",
       "      <td>15395</td>\n",
       "      <td>0.040510</td>\n",
       "      <td>2.053024</td>\n",
       "      <td>1.890567</td>\n",
       "      <td>3</td>\n",
       "      <td>0.027580</td>\n",
       "      <td>2.055981</td>\n",
       "      <td>1.898511</td>\n",
       "    </tr>\n",
       "    <tr>\n",
       "      <th>4</th>\n",
       "      <td>4</td>\n",
       "      <td>52728</td>\n",
       "      <td>0.057478</td>\n",
       "      <td>1.047360</td>\n",
       "      <td>0.839632</td>\n",
       "      <td>7</td>\n",
       "      <td>0.079677</td>\n",
       "      <td>1.072401</td>\n",
       "      <td>0.841053</td>\n",
       "    </tr>\n",
       "  </tbody>\n",
       "</table>\n",
       "</div>"
      ],
      "text/plain": [
       "key  index_x     qid  difference_x  disparity_x  relevance_x  index_y  \\\n",
       "0          0  132049      0.002713     1.421254     1.403715        0   \n",
       "1          1   71096      0.029287     1.975807     1.862498        1   \n",
       "2          2   21984      0.032334     1.367385     1.271935        2   \n",
       "3          3   15395      0.040510     2.053024     1.890567        3   \n",
       "4          4   52728      0.057478     1.047360     0.839632        7   \n",
       "\n",
       "key  difference_y  disparity_y  relevance_y  \n",
       "0        0.016562     1.369404     1.370865  \n",
       "1        0.022032     2.003198     1.879820  \n",
       "2        0.027258     1.348613     1.265088  \n",
       "3        0.027580     2.055981     1.898511  \n",
       "4        0.079677     1.072401     0.841053  "
      ]
     },
     "execution_count": 102,
     "metadata": {},
     "output_type": "execute_result"
    }
   ],
   "source": [
    "ehldf_9 = pd.merge(ehldf_meta_9.sort_values(by='difference').reset_index().reset_index(),ehldf_text_9.sort_values(by='difference').reset_index().reset_index(),on='qid')\n",
    "ehldf_9.head()"
   ]
  },
  {
   "cell_type": "code",
   "execution_count": 127,
   "metadata": {},
   "outputs": [
    {
     "data": {
      "text/plain": [
       "key\n",
       "index_x            99.500000\n",
       "qid             47446.320000\n",
       "difference_x        0.434440\n",
       "disparity_x         1.753156\n",
       "relevance_x         1.252646\n",
       "index_y            99.500000\n",
       "difference_y        0.446377\n",
       "disparity_y         1.765455\n",
       "relevance_y         1.252827\n",
       "dtype: float64"
      ]
     },
     "execution_count": 127,
     "metadata": {},
     "output_type": "execute_result"
    }
   ],
   "source": [
    "ehldf_9.mean()"
   ]
  },
  {
   "cell_type": "code",
   "execution_count": 128,
   "metadata": {},
   "outputs": [
    {
     "data": {
      "text/plain": [
       "key\n",
       "index_x            99.500000\n",
       "qid             47446.320000\n",
       "difference_x        0.430280\n",
       "disparity_x         1.750343\n",
       "relevance_x         1.253320\n",
       "index_y            99.500000\n",
       "difference_y        0.457462\n",
       "disparity_y         1.779201\n",
       "relevance_y         1.254157\n",
       "dtype: float64"
      ]
     },
     "execution_count": 128,
     "metadata": {},
     "output_type": "execute_result"
    }
   ],
   "source": [
    "ehldf_99 = pd.merge(ehldf_meta_99.sort_values(by='difference').reset_index().reset_index(),ehldf_text_99.sort_values(by='difference').reset_index().reset_index(),on='qid')\n",
    "ehldf_99.mean()"
   ]
  },
  {
   "cell_type": "code",
   "execution_count": 129,
   "metadata": {},
   "outputs": [
    {
     "data": {
      "text/plain": [
       "key\n",
       "index_x            99.500000\n",
       "qid             47446.320000\n",
       "difference_x        0.426751\n",
       "disparity_x         1.951181\n",
       "relevance_x         1.388441\n",
       "index_y            99.500000\n",
       "difference_y        0.441600\n",
       "disparity_y         1.968173\n",
       "relevance_y         1.389513\n",
       "dtype: float64"
      ]
     },
     "execution_count": 129,
     "metadata": {},
     "output_type": "execute_result"
    }
   ],
   "source": [
    "eldf_9 = pd.merge(eldf_meta_9.sort_values(by='difference').reset_index().reset_index(),eldf_text_9.sort_values(by='difference').reset_index().reset_index(),on='qid')\n",
    "eldf_9.mean()"
   ]
  },
  {
   "cell_type": "code",
   "execution_count": 130,
   "metadata": {},
   "outputs": [
    {
     "data": {
      "text/plain": [
       "key\n",
       "index_x            99.500000\n",
       "qid             47446.320000\n",
       "difference_x        0.424715\n",
       "disparity_x         1.948928\n",
       "relevance_x         1.388333\n",
       "index_y            99.500000\n",
       "difference_y        0.455718\n",
       "disparity_y         1.983619\n",
       "relevance_y         1.390177\n",
       "dtype: float64"
      ]
     },
     "execution_count": 130,
     "metadata": {},
     "output_type": "execute_result"
    }
   ],
   "source": [
    "eldf_99 = pd.merge(eldf_meta_99.sort_values(by='difference').reset_index().reset_index(),eldf_text_99.sort_values(by='difference').reset_index().reset_index(),on='qid')\n",
    "eldf_99.mean()"
   ]
  },
  {
   "cell_type": "code",
   "execution_count": null,
   "metadata": {},
   "outputs": [],
   "source": []
  },
  {
   "cell_type": "code",
   "execution_count": 121,
   "metadata": {},
   "outputs": [],
   "source": [
    "def plot_rel_or_disp_of_one_vs_the_other(merged,metric,title):\n",
    "    \n",
    "    metr_x = merged[[f'{metric}_x']].rename({f'{metric}_x':'value'},axis=1)\n",
    "    metr_y = merged[[f'{metric}_y']].rename({f'{metric}_y':'value'}, axis=1)\n",
    "    \n",
    "    \n",
    "    conc = pd.concat([metr_x.assign(source='x'), metr_y.assign(source='y')])\n",
    "\n",
    "    fig, ax = plt.subplots(1,1,figsize = (17.7,8.27))\n",
    "\n",
    "    pi = iter(sns.color_palette())\n",
    "    f = next(pi)\n",
    "    s = next(pi)\n",
    "\n",
    "    print(conc.reset_index())\n",
    "    \n",
    "    sns.scatterplot(data=conc.reset_index(), x='index', y='value',hue='source',ax=ax)\n",
    "\n",
    "    fig.suptitle(f'Relevance and disparity versus difficulty for {title}')\n",
    "    \n",
    "    \n",
    "    "
   ]
  },
  {
   "cell_type": "code",
   "execution_count": 123,
   "metadata": {},
   "outputs": [
    {
     "name": "stdout",
     "output_type": "stream",
     "text": [
      "key  index     value source\n",
      "0        0  1.421254      x\n",
      "1        1  1.975807      x\n",
      "2        2  1.367385      x\n",
      "3        3  2.053024      x\n",
      "4        4  1.047360      x\n",
      "..     ...       ...    ...\n",
      "395    195  1.454738      y\n",
      "396    196  2.417624      y\n",
      "397    197  2.338418      y\n",
      "398    198  2.029064      y\n",
      "399    199  2.166522      y\n",
      "\n",
      "[400 rows x 3 columns]\n"
     ]
    },
    {
     "data": {
      "image/png": "[encoded data removed]",
      "text/plain": [
       "<Figure size 1274.4x595.44 with 1 Axes>"
      ]
     },
     "metadata": {
      "needs_background": "light"
     },
     "output_type": "display_data"
    }
   ],
   "source": [
    "plot_rel_or_disp_of_one_vs_the_other(ehldf_9,'disparity','disparity')"
   ]
  },
  {
   "cell_type": "code",
   "execution_count": 125,
   "metadata": {},
   "outputs": [
    {
     "name": "stdout",
     "output_type": "stream",
     "text": [
      "key  index     value source\n",
      "0        0  1.403715      x\n",
      "1        1  1.862498      x\n",
      "2        2  1.271935      x\n",
      "3        3  1.890567      x\n",
      "4        4  0.839632      x\n",
      "..     ...       ...    ...\n",
      "395    195  0.340295      y\n",
      "396    196  0.353428      y\n",
      "397    197  0.599045      y\n",
      "398    198  0.404400      y\n",
      "399    199  0.468046      y\n",
      "\n",
      "[400 rows x 3 columns]\n"
     ]
    },
    {
     "data": {
      "image/png": "[encoded data removed]",
      "text/plain": [
       "<Figure size 1274.4x595.44 with 1 Axes>"
      ]
     },
     "metadata": {
      "needs_background": "light"
     },
     "output_type": "display_data"
    }
   ],
   "source": [
    "plot_rel_or_disp_of_one_vs_the_other(ehldf_9,'relevance','relevance')"
   ]
  },
  {
   "cell_type": "code",
   "execution_count": 124,
   "metadata": {},
   "outputs": [
    {
     "ename": "NameError",
     "evalue": "name 'edf' is not defined",
     "output_type": "error",
     "traceback": [
      "\u001b[0;31m---------------------------------------------------------------------------\u001b[0m",
      "\u001b[0;31mNameError\u001b[0m                                 Traceback (most recent call last)",
      "\u001b[0;32m/tmp/ipykernel_1619/3337174912.py\u001b[0m in \u001b[0;36m<module>\u001b[0;34m\u001b[0m\n\u001b[0;32m----> 1\u001b[0;31m \u001b[0mdif_disp_rel\u001b[0m \u001b[0;34m=\u001b[0m \u001b[0medf\u001b[0m\u001b[0;34m.\u001b[0m\u001b[0mreset_index\u001b[0m\u001b[0;34m(\u001b[0m\u001b[0mdrop\u001b[0m\u001b[0;34m=\u001b[0m\u001b[0;32mTrue\u001b[0m\u001b[0;34m)\u001b[0m\u001b[0;34m.\u001b[0m\u001b[0mreset_index\u001b[0m\u001b[0;34m(\u001b[0m\u001b[0;34m)\u001b[0m\u001b[0;34m.\u001b[0m\u001b[0mrename\u001b[0m\u001b[0;34m(\u001b[0m\u001b[0;34m{\u001b[0m\u001b[0;34m'index'\u001b[0m\u001b[0;34m:\u001b[0m\u001b[0;34m'difficulty'\u001b[0m\u001b[0;34m}\u001b[0m\u001b[0;34m,\u001b[0m \u001b[0maxis\u001b[0m\u001b[0;34m=\u001b[0m\u001b[0;36m1\u001b[0m\u001b[0;34m)\u001b[0m\u001b[0;34m\u001b[0m\u001b[0;34m\u001b[0m\u001b[0m\n\u001b[0m\u001b[1;32m      2\u001b[0m \u001b[0mdisp\u001b[0m \u001b[0;34m=\u001b[0m \u001b[0mdif_disp_rel\u001b[0m\u001b[0;34m[\u001b[0m\u001b[0;34m[\u001b[0m\u001b[0;34m\"difficulty\"\u001b[0m\u001b[0;34m,\u001b[0m\u001b[0;34m\"disparity\"\u001b[0m\u001b[0;34m]\u001b[0m\u001b[0;34m]\u001b[0m\u001b[0;34m.\u001b[0m\u001b[0mrename\u001b[0m\u001b[0;34m(\u001b[0m\u001b[0;34m{\u001b[0m\u001b[0;34m'disparity'\u001b[0m\u001b[0;34m:\u001b[0m\u001b[0;34m'value'\u001b[0m\u001b[0;34m}\u001b[0m\u001b[0;34m,\u001b[0m \u001b[0maxis\u001b[0m\u001b[0;34m=\u001b[0m\u001b[0;36m1\u001b[0m\u001b[0;34m)\u001b[0m\u001b[0;34m\u001b[0m\u001b[0;34m\u001b[0m\u001b[0m\n\u001b[1;32m      3\u001b[0m \u001b[0mrelp\u001b[0m \u001b[0;34m=\u001b[0m \u001b[0mdif_disp_rel\u001b[0m\u001b[0;34m[\u001b[0m\u001b[0;34m[\u001b[0m\u001b[0;34m\"difficulty\"\u001b[0m\u001b[0;34m,\u001b[0m\u001b[0;34m\"relevance\"\u001b[0m\u001b[0;34m]\u001b[0m\u001b[0;34m]\u001b[0m\u001b[0;34m.\u001b[0m\u001b[0mrename\u001b[0m\u001b[0;34m(\u001b[0m\u001b[0;34m{\u001b[0m\u001b[0;34m'relevance'\u001b[0m\u001b[0;34m:\u001b[0m\u001b[0;34m'value'\u001b[0m\u001b[0;34m}\u001b[0m\u001b[0;34m,\u001b[0m \u001b[0maxis\u001b[0m\u001b[0;34m=\u001b[0m\u001b[0;36m1\u001b[0m\u001b[0;34m)\u001b[0m\u001b[0;34m\u001b[0m\u001b[0;34m\u001b[0m\u001b[0m\n\u001b[1;32m      4\u001b[0m \u001b[0mconcatenated\u001b[0m \u001b[0;34m=\u001b[0m \u001b[0mpd\u001b[0m\u001b[0;34m.\u001b[0m\u001b[0mconcat\u001b[0m\u001b[0;34m(\u001b[0m\u001b[0;34m[\u001b[0m\u001b[0mdisp\u001b[0m\u001b[0;34m.\u001b[0m\u001b[0massign\u001b[0m\u001b[0;34m(\u001b[0m\u001b[0mmetric\u001b[0m\u001b[0;34m=\u001b[0m\u001b[0;34m'disparity'\u001b[0m\u001b[0;34m)\u001b[0m\u001b[0;34m,\u001b[0m \u001b[0mrelp\u001b[0m\u001b[0;34m.\u001b[0m\u001b[0massign\u001b[0m\u001b[0;34m(\u001b[0m\u001b[0mmetric\u001b[0m\u001b[0;34m=\u001b[0m\u001b[0;34m'relevance'\u001b[0m\u001b[0;34m)\u001b[0m\u001b[0;34m]\u001b[0m\u001b[0;34m)\u001b[0m\u001b[0;34m\u001b[0m\u001b[0;34m\u001b[0m\u001b[0m\n\u001b[1;32m      5\u001b[0m \u001b[0mconcatenated\u001b[0m\u001b[0;34m.\u001b[0m\u001b[0mhead\u001b[0m\u001b[0;34m(\u001b[0m\u001b[0;34m)\u001b[0m\u001b[0;34m\u001b[0m\u001b[0;34m\u001b[0m\u001b[0m\n",
      "\u001b[0;31mNameError\u001b[0m: name 'edf' is not defined"
     ]
    }
   ],
   "source": [
    "dif_disp_rel = edf.reset_index(drop=True).reset_index().rename({'index':'difficulty'}, axis=1)\n",
    "disp = dif_disp_rel[[\"difficulty\",\"disparity\"]].rename({'disparity':'value'}, axis=1)\n",
    "relp = dif_disp_rel[[\"difficulty\",\"relevance\"]].rename({'relevance':'value'}, axis=1)\n",
    "concatenated = pd.concat([disp.assign(metric='disparity'), relp.assign(metric='relevance')])\n",
    "concatenated.head()"
   ]
  },
  {
   "cell_type": "code",
   "execution_count": null,
   "metadata": {},
   "outputs": [],
   "source": [
    "fig, ax = plt.subplots(1,1,figsize = (17.7,8.27))\n",
    "\n",
    "pi = iter(sns.color_palette())\n",
    "f = next(pi)\n",
    "s = next(pi)\n",
    "\n",
    "sns.scatterplot(data=concatenated, x='difficulty', y='value',hue='metric',ax=ax)\n",
    "\n",
    "\n",
    "\n",
    "fig.suptitle('Relevance and disparity versus difficulty')"
   ]
  },
  {
   "cell_type": "code",
   "execution_count": null,
   "metadata": {},
   "outputs": [],
   "source": [
    "edf_m = pd.merge(ehldf.sort_values(by='difference').reset_index().reset_index(),eldf.sort_values(by='difference').reset_index().reset_index(),on='qid')"
   ]
  },
  {
   "cell_type": "code",
   "execution_count": 15,
   "metadata": {},
   "outputs": [
    {
     "data": {
      "text/html": [
       "<div>\n",
       "<style scoped>\n",
       "    .dataframe tbody tr th:only-of-type {\n",
       "        vertical-align: middle;\n",
       "    }\n",
       "\n",
       "    .dataframe tbody tr th {\n",
       "        vertical-align: top;\n",
       "    }\n",
       "\n",
       "    .dataframe thead th {\n",
       "        text-align: right;\n",
       "    }\n",
       "</style>\n",
       "<table border=\"1\" class=\"dataframe\">\n",
       "  <thead>\n",
       "    <tr style=\"text-align: right;\">\n",
       "      <th>key</th>\n",
       "      <th>difficulty hlevel</th>\n",
       "      <th>qid</th>\n",
       "      <th>difference_x</th>\n",
       "      <th>disparity_x</th>\n",
       "      <th>relevance_x</th>\n",
       "      <th>difficulty econ level</th>\n",
       "      <th>difference_y</th>\n",
       "      <th>disparity_y</th>\n",
       "      <th>relevance_y</th>\n",
       "    </tr>\n",
       "  </thead>\n",
       "  <tbody>\n",
       "    <tr>\n",
       "      <th>0</th>\n",
       "      <td>0</td>\n",
       "      <td>132049</td>\n",
       "      <td>0.002713</td>\n",
       "      <td>1.421254</td>\n",
       "      <td>1.403715</td>\n",
       "      <td>0</td>\n",
       "      <td>0.002713</td>\n",
       "      <td>1.421254</td>\n",
       "      <td>1.403715</td>\n",
       "    </tr>\n",
       "    <tr>\n",
       "      <th>1</th>\n",
       "      <td>1</td>\n",
       "      <td>71096</td>\n",
       "      <td>0.029287</td>\n",
       "      <td>1.975807</td>\n",
       "      <td>1.862498</td>\n",
       "      <td>1</td>\n",
       "      <td>0.026328</td>\n",
       "      <td>1.972820</td>\n",
       "      <td>1.862484</td>\n",
       "    </tr>\n",
       "    <tr>\n",
       "      <th>2</th>\n",
       "      <td>2</td>\n",
       "      <td>21984</td>\n",
       "      <td>0.032334</td>\n",
       "      <td>1.367385</td>\n",
       "      <td>1.271935</td>\n",
       "      <td>6</td>\n",
       "      <td>0.071535</td>\n",
       "      <td>1.515766</td>\n",
       "      <td>1.326630</td>\n",
       "    </tr>\n",
       "    <tr>\n",
       "      <th>3</th>\n",
       "      <td>3</td>\n",
       "      <td>15395</td>\n",
       "      <td>0.040510</td>\n",
       "      <td>2.053024</td>\n",
       "      <td>1.890567</td>\n",
       "      <td>2</td>\n",
       "      <td>0.026948</td>\n",
       "      <td>2.035232</td>\n",
       "      <td>1.888323</td>\n",
       "    </tr>\n",
       "    <tr>\n",
       "      <th>4</th>\n",
       "      <td>4</td>\n",
       "      <td>52728</td>\n",
       "      <td>0.057478</td>\n",
       "      <td>1.047360</td>\n",
       "      <td>0.839632</td>\n",
       "      <td>13</td>\n",
       "      <td>0.098930</td>\n",
       "      <td>1.011948</td>\n",
       "      <td>0.728643</td>\n",
       "    </tr>\n",
       "  </tbody>\n",
       "</table>\n",
       "</div>"
      ],
      "text/plain": [
       "key  difficulty hlevel     qid  difference_x  disparity_x  relevance_x  \\\n",
       "0                    0  132049      0.002713     1.421254     1.403715   \n",
       "1                    1   71096      0.029287     1.975807     1.862498   \n",
       "2                    2   21984      0.032334     1.367385     1.271935   \n",
       "3                    3   15395      0.040510     2.053024     1.890567   \n",
       "4                    4   52728      0.057478     1.047360     0.839632   \n",
       "\n",
       "key  difficulty econ level  difference_y  disparity_y  relevance_y  \n",
       "0                        0      0.002713     1.421254     1.403715  \n",
       "1                        1      0.026328     1.972820     1.862484  \n",
       "2                        6      0.071535     1.515766     1.326630  \n",
       "3                        2      0.026948     2.035232     1.888323  \n",
       "4                       13      0.098930     1.011948     0.728643  "
      ]
     },
     "execution_count": 15,
     "metadata": {},
     "output_type": "execute_result"
    }
   ],
   "source": [
    "edf_m = pd.merge(ehldf.sort_values(by='difference').reset_index().reset_index(),eldf.sort_values(by='difference').reset_index().reset_index(),on='qid')\n",
    "edf_m = edf_m.rename({'index_x':'difficulty hlevel', 'index_y':'difficulty econ level'},axis=1)\n",
    "edf_m.head()"
   ]
  },
  {
   "cell_type": "markdown",
   "metadata": {},
   "source": [
    "We see a clear upward trend in the plot above. This tells us that in general, the DGEE according to the two groupings is similar. We would not expect great differences in the analysis results for different groupings."
   ]
  },
  {
   "cell_type": "code",
   "execution_count": 16,
   "metadata": {},
   "outputs": [
    {
     "data": {
      "text/html": [
       "<div>\n",
       "<style scoped>\n",
       "    .dataframe tbody tr th:only-of-type {\n",
       "        vertical-align: middle;\n",
       "    }\n",
       "\n",
       "    .dataframe tbody tr th {\n",
       "        vertical-align: top;\n",
       "    }\n",
       "\n",
       "    .dataframe thead th {\n",
       "        text-align: right;\n",
       "    }\n",
       "</style>\n",
       "<table border=\"1\" class=\"dataframe\">\n",
       "  <thead>\n",
       "    <tr style=\"text-align: right;\">\n",
       "      <th>key</th>\n",
       "      <th>qid</th>\n",
       "      <th>difference</th>\n",
       "      <th>disparity</th>\n",
       "      <th>relevance</th>\n",
       "    </tr>\n",
       "  </thead>\n",
       "  <tbody>\n",
       "    <tr>\n",
       "      <th>0</th>\n",
       "      <td>132049</td>\n",
       "      <td>0.002713</td>\n",
       "      <td>1.421254</td>\n",
       "      <td>1.403715</td>\n",
       "    </tr>\n",
       "    <tr>\n",
       "      <th>1</th>\n",
       "      <td>71096</td>\n",
       "      <td>0.027807</td>\n",
       "      <td>1.974314</td>\n",
       "      <td>1.862491</td>\n",
       "    </tr>\n",
       "    <tr>\n",
       "      <th>3</th>\n",
       "      <td>15395</td>\n",
       "      <td>0.033729</td>\n",
       "      <td>2.044128</td>\n",
       "      <td>1.889445</td>\n",
       "    </tr>\n",
       "    <tr>\n",
       "      <th>2</th>\n",
       "      <td>21984</td>\n",
       "      <td>0.051934</td>\n",
       "      <td>1.441575</td>\n",
       "      <td>1.299282</td>\n",
       "    </tr>\n",
       "    <tr>\n",
       "      <th>4</th>\n",
       "      <td>52728</td>\n",
       "      <td>0.078204</td>\n",
       "      <td>1.029654</td>\n",
       "      <td>0.784137</td>\n",
       "    </tr>\n",
       "  </tbody>\n",
       "</table>\n",
       "</div>"
      ],
      "text/plain": [
       "key     qid  difference  disparity  relevance\n",
       "0    132049    0.002713   1.421254   1.403715\n",
       "1     71096    0.027807   1.974314   1.862491\n",
       "3     15395    0.033729   2.044128   1.889445\n",
       "2     21984    0.051934   1.441575   1.299282\n",
       "4     52728    0.078204   1.029654   0.784137"
      ]
     },
     "execution_count": 16,
     "metadata": {},
     "output_type": "execute_result"
    }
   ],
   "source": [
    "edf = edf_m.copy()\n",
    "edf['difference'] = edf.apply(lambda row: (row.difference_x + row.difference_y)/2, axis=1)\n",
    "edf['disparity'] = edf.apply(lambda row: (row.disparity_x + row.disparity_y)/2, axis=1)\n",
    "edf['relevance'] = edf.apply(lambda row: (row.relevance_x + row.relevance_y)/2, axis=1)\n",
    "\n",
    "edf = edf.sort_values(by='difference')[['qid','difference', 'disparity', 'relevance']]\n",
    "edf.head()"
   ]
  },
  {
   "cell_type": "code",
   "execution_count": 17,
   "metadata": {},
   "outputs": [
    {
     "data": {
      "text/html": [
       "<div>\n",
       "<style scoped>\n",
       "    .dataframe tbody tr th:only-of-type {\n",
       "        vertical-align: middle;\n",
       "    }\n",
       "\n",
       "    .dataframe tbody tr th {\n",
       "        vertical-align: top;\n",
       "    }\n",
       "\n",
       "    .dataframe thead th {\n",
       "        text-align: right;\n",
       "    }\n",
       "</style>\n",
       "<table border=\"1\" class=\"dataframe\">\n",
       "  <thead>\n",
       "    <tr style=\"text-align: right;\">\n",
       "      <th>key</th>\n",
       "      <th>qid</th>\n",
       "      <th>difference</th>\n",
       "      <th>disparity</th>\n",
       "      <th>relevance</th>\n",
       "    </tr>\n",
       "  </thead>\n",
       "  <tbody>\n",
       "    <tr>\n",
       "      <th>0</th>\n",
       "      <td>132049</td>\n",
       "      <td>0.002713</td>\n",
       "      <td>1.421254</td>\n",
       "      <td>1.403715</td>\n",
       "    </tr>\n",
       "    <tr>\n",
       "      <th>1</th>\n",
       "      <td>71096</td>\n",
       "      <td>0.027807</td>\n",
       "      <td>1.974314</td>\n",
       "      <td>1.862491</td>\n",
       "    </tr>\n",
       "    <tr>\n",
       "      <th>3</th>\n",
       "      <td>15395</td>\n",
       "      <td>0.033729</td>\n",
       "      <td>2.044128</td>\n",
       "      <td>1.889445</td>\n",
       "    </tr>\n",
       "    <tr>\n",
       "      <th>2</th>\n",
       "      <td>21984</td>\n",
       "      <td>0.051934</td>\n",
       "      <td>1.441575</td>\n",
       "      <td>1.299282</td>\n",
       "    </tr>\n",
       "    <tr>\n",
       "      <th>4</th>\n",
       "      <td>52728</td>\n",
       "      <td>0.078204</td>\n",
       "      <td>1.029654</td>\n",
       "      <td>0.784137</td>\n",
       "    </tr>\n",
       "  </tbody>\n",
       "</table>\n",
       "</div>"
      ],
      "text/plain": [
       "key     qid  difference  disparity  relevance\n",
       "0    132049    0.002713   1.421254   1.403715\n",
       "1     71096    0.027807   1.974314   1.862491\n",
       "3     15395    0.033729   2.044128   1.889445\n",
       "2     21984    0.051934   1.441575   1.299282\n",
       "4     52728    0.078204   1.029654   0.784137"
      ]
     },
     "execution_count": 17,
     "metadata": {},
     "output_type": "execute_result"
    }
   ],
   "source": [
    "edf.head()"
   ]
  },
  {
   "cell_type": "markdown",
   "metadata": {},
   "source": [
    "## A or B leads to better relative ordering?"
   ]
  },
  {
   "cell_type": "markdown",
   "metadata": {},
   "source": [
    "- Does better estimated relevance lead to more fairness or to more relevance?  \n",
    "  - Check with B-set, it performs a little worse, are the est rel also further away?  \n",
    "  - Or is the relative ordering worse?  "
   ]
  },
  {
   "cell_type": "code",
   "execution_count": 41,
   "metadata": {},
   "outputs": [],
   "source": [
    "from collections import Counter"
   ]
  },
  {
   "cell_type": "code",
   "execution_count": 68,
   "metadata": {
    "tags": []
   },
   "outputs": [],
   "source": [
    "def count_number_of_zeros_before_ones(qid,est_rel1,est_rel2):\n",
    "    \n",
    "    est_rel1 = est_rel1[est_rel1.qid == qid]\n",
    "    est_rel1 = est_rel1.sort_values(by='est_relevance',ascending=False)\n",
    "    rels1 = est_rel1.relevance.to_list()\n",
    "    lastone1 = len(rels1) - 1 - rels1[::-1].index(1)\n",
    "    subrels1 = rels1[0:lastone1]\n",
    "    \n",
    "    est_rel2 = est_rel2[est_rel2.qid == qid]\n",
    "    est_rel2 = est_rel2.sort_values(by='est_relevance',ascending=False)\n",
    "    rels2 = est_rel2.relevance.to_list()\n",
    "    lastone2 = len(rels2) - 1 - rels2[::-1].index(1)\n",
    "    subrels2 = rels2[0:lastone2]\n",
    "    \n",
    "    print(qid, \"\\t,\",Counter(subrels1)[0],\"\\t,\",Counter(subrels2)[0], \"\\t\",Counter(subrels1)[0]-Counter(subrels2)[0])\n",
    "    return Counter(subrels1)[0], Counter(subrels2)[0]"
   ]
  },
  {
   "cell_type": "code",
   "execution_count": 69,
   "metadata": {
    "collapsed": true,
    "jupyter": {
     "outputs_hidden": true
    },
    "tags": []
   },
   "outputs": [
    {
     "name": "stdout",
     "output_type": "stream",
     "text": [
      "5438 \t, 15 \t, 16 \t -1\n",
      "23837 \t, 19 \t, 9 \t 10\n",
      "89123 \t, 3 \t, 3 \t 0\n",
      "109411 \t, 6 \t, 5 \t 1\n",
      "59671 \t, 19 \t, 18 \t 1\n",
      "24365 \t, 14 \t, 22 \t -8\n",
      "73836 \t, 6 \t, 10 \t -4\n",
      "18717 \t, 1 \t, 1 \t 0\n",
      "9536 \t, 2 \t, 7 \t -5\n",
      "439 \t, 47 \t, 71 \t -24\n",
      "129480 \t, 2 \t, 2 \t 0\n",
      "38810 \t, 8 \t, 0 \t 8\n",
      "33818 \t, 9 \t, 9 \t 0\n",
      "62246 \t, 0 \t, 0 \t 0\n",
      "111080 \t, 7 \t, 3 \t 4\n",
      "67184 \t, 2 \t, 1 \t 1\n",
      "568 \t, 15 \t, 21 \t -6\n",
      "71096 \t, 11 \t, 15 \t -4\n",
      "13832 \t, 16 \t, 15 \t 1\n",
      "20710 \t, 6 \t, 6 \t 0\n",
      "75701 \t, 5 \t, 4 \t 1\n",
      "40748 \t, 2 \t, 2 \t 0\n",
      "61794 \t, 6 \t, 6 \t 0\n",
      "49868 \t, 7 \t, 6 \t 1\n",
      "94840 \t, 7 \t, 7 \t 0\n",
      "66896 \t, 15 \t, 16 \t -1\n",
      "99619 \t, 18 \t, 7 \t 11\n",
      "42519 \t, 8 \t, 9 \t -1\n",
      "9455 \t, 11 \t, 12 \t -1\n",
      "56263 \t, 0 \t, 0 \t 0\n",
      "65309 \t, 5 \t, 5 \t 0\n",
      "28270 \t, 16 \t, 17 \t -1\n",
      "32559 \t, 1 \t, 2 \t -1\n",
      "107238 \t, 7 \t, 8 \t -1\n",
      "59256 \t, 22 \t, 26 \t -4\n",
      "95424 \t, 14 \t, 12 \t 2\n",
      "21984 \t, 15 \t, 14 \t 1\n",
      "3661 \t, 9 \t, 6 \t 3\n",
      "16040 \t, 23 \t, 23 \t 0\n",
      "70381 \t, 25 \t, 25 \t 0\n",
      "47984 \t, 13 \t, 7 \t 6\n",
      "54538 \t, 11 \t, 9 \t 2\n",
      "59905 \t, 1 \t, 4 \t -3\n",
      "84087 \t, 5 \t, 9 \t -4\n",
      "90609 \t, 9 \t, 12 \t -3\n",
      "13464 \t, 7 \t, 13 \t -6\n",
      "53737 \t, 7 \t, 9 \t -2\n",
      "82442 \t, 0 \t, 0 \t 0\n",
      "86436 \t, 16 \t, 13 \t 3\n",
      "15395 \t, 11 \t, 4 \t 7\n",
      "36824 \t, 7 \t, 7 \t 0\n",
      "110569 \t, 0 \t, 6 \t -6\n",
      "49049 \t, 23 \t, 23 \t 0\n",
      "74301 \t, 9 \t, 11 \t -2\n",
      "38142 \t, 1 \t, 1 \t 0\n",
      "3432 \t, 18 \t, 25 \t -7\n",
      "104830 \t, 2 \t, 8 \t -6\n",
      "110084 \t, 6 \t, 6 \t 0\n",
      "92425 \t, 22 \t, 20 \t 2\n",
      "111469 \t, 11 \t, 11 \t 0\n",
      "126993 \t, 12 \t, 17 \t -5\n",
      "7163 \t, 40 \t, 36 \t 4\n",
      "27825 \t, 15 \t, 28 \t -13\n",
      "40449 \t, 19 \t, 20 \t -1\n",
      "9142 \t, 14 \t, 14 \t 0\n",
      "16756 \t, 9 \t, 6 \t 3\n",
      "103210 \t, 8 \t, 12 \t -4\n",
      "32002 \t, 9 \t, 14 \t -5\n",
      "96265 \t, 3 \t, 8 \t -5\n",
      "115862 \t, 23 \t, 15 \t 8\n",
      "53444 \t, 30 \t, 29 \t 1\n",
      "48082 \t, 21 \t, 19 \t 2\n",
      "10623 \t, 22 \t, 21 \t 1\n",
      "65978 \t, 1 \t, 2 \t -1\n",
      "57495 \t, 1 \t, 1 \t 0\n",
      "5762 \t, 24 \t, 25 \t -1\n",
      "91878 \t, 13 \t, 14 \t -1\n",
      "23241 \t, 1 \t, 0 \t 1\n",
      "18181 \t, 17 \t, 22 \t -5\n",
      "5433 \t, 9 \t, 4 \t 5\n",
      "45261 \t, 17 \t, 19 \t -2\n",
      "18238 \t, 12 \t, 12 \t 0\n",
      "62065 \t, 5 \t, 3 \t 2\n",
      "258 \t, 9 \t, 9 \t 0\n",
      "30623 \t, 7 \t, 5 \t 2\n",
      "17521 \t, 5 \t, 7 \t -2\n",
      "70254 \t, 7 \t, 7 \t 0\n",
      "74629 \t, 18 \t, 20 \t -2\n",
      "69 \t, 12 \t, 13 \t -1\n",
      "45084 \t, 13 \t, 16 \t -3\n",
      "6921 \t, 10 \t, 14 \t -4\n",
      "40623 \t, 10 \t, 9 \t 1\n",
      "4333 \t, 4 \t, 3 \t 1\n",
      "8641 \t, 10 \t, 12 \t -2\n",
      "74052 \t, 15 \t, 14 \t 1\n",
      "26598 \t, 10 \t, 19 \t -9\n",
      "69376 \t, 6 \t, 6 \t 0\n",
      "631 \t, 93 \t, 91 \t 2\n",
      "52728 \t, 10 \t, 9 \t 1\n",
      "76298 \t, 6 \t, 8 \t -2\n",
      "64039 \t, 10 \t, 10 \t 0\n",
      "26904 \t, 11 \t, 11 \t 0\n",
      "29727 \t, 26 \t, 24 \t 2\n",
      "5667 \t, 16 \t, 31 \t -15\n",
      "37103 \t, 7 \t, 7 \t 0\n",
      "59557 \t, 20 \t, 22 \t -2\n",
      "24848 \t, 5 \t, 4 \t 1\n",
      "18348 \t, 23 \t, 28 \t -5\n",
      "65494 \t, 3 \t, 4 \t -1\n",
      "28289 \t, 7 \t, 8 \t -1\n",
      "35778 \t, 7 \t, 6 \t 1\n",
      "132049 \t, 1 \t, 3 \t -2\n",
      "22465 \t, 21 \t, 24 \t -3\n",
      "76875 \t, 8 \t, 9 \t -1\n",
      "10898 \t, 3 \t, 3 \t 0\n",
      "31583 \t, 9 \t, 11 \t -2\n",
      "46090 \t, 14 \t, 16 \t -2\n",
      "31824 \t, 6 \t, 17 \t -11\n",
      "38822 \t, 10 \t, 12 \t -2\n",
      "98585 \t, 4 \t, 6 \t -2\n",
      "35783 \t, 5 \t, 0 \t 5\n",
      "104170 \t, 14 \t, 15 \t -1\n",
      "78466 \t, 16 \t, 15 \t 1\n",
      "31941 \t, 6 \t, 4 \t 2\n",
      "4708 \t, 7 \t, 13 \t -6\n",
      "82759 \t, 20 \t, 20 \t 0\n",
      "12608 \t, 8 \t, 8 \t 0\n",
      "48360 \t, 18 \t, 25 \t -7\n",
      "21770 \t, 14 \t, 11 \t 3\n",
      "26306 \t, 11 \t, 10 \t 1\n",
      "68623 \t, 3 \t, 2 \t 1\n",
      "658 \t, 15 \t, 16 \t -1\n",
      "42722 \t, 18 \t, 18 \t 0\n",
      "5147 \t, 3 \t, 3 \t 0\n",
      "72966 \t, 5 \t, 5 \t 0\n",
      "33337 \t, 5 \t, 6 \t -1\n",
      "32960 \t, 18 \t, 18 \t 0\n",
      "88458 \t, 26 \t, 21 \t 5\n",
      "3329 \t, 7 \t, 6 \t 1\n",
      "40539 \t, 13 \t, 13 \t 0\n",
      "5840 \t, 0 \t, 0 \t 0\n",
      "73367 \t, 13 \t, 10 \t 3\n",
      "125125 \t, 7 \t, 7 \t 0\n",
      "68183 \t, 22 \t, 21 \t 1\n",
      "30816 \t, 23 \t, 23 \t 0\n",
      "33727 \t, 16 \t, 15 \t 1\n",
      "77011 \t, 27 \t, 21 \t 6\n",
      "20752 \t, 13 \t, 13 \t 0\n",
      "61104 \t, 2 \t, 0 \t 2\n",
      "11856 \t, 2 \t, 4 \t -2\n",
      "84985 \t, 19 \t, 12 \t 7\n",
      "46183 \t, 7 \t, 7 \t 0\n",
      "4550 \t, 6 \t, 7 \t -1\n",
      "2728 \t, 128 \t, 140 \t -12\n",
      "13914 \t, 49 \t, 50 \t -1\n",
      "66819 \t, 1 \t, 1 \t 0\n",
      "67345 \t, 13 \t, 14 \t -1\n",
      "55249 \t, 8 \t, 6 \t 2\n",
      "18704 \t, 30 \t, 30 \t 0\n",
      "72444 \t, 10 \t, 12 \t -2\n",
      "20533 \t, 20 \t, 20 \t 0\n",
      "4184 \t, 22 \t, 24 \t -2\n",
      "40905 \t, 12 \t, 14 \t -2\n",
      "69822 \t, 31 \t, 31 \t 0\n",
      "78688 \t, 5 \t, 5 \t 0\n",
      "114261 \t, 19 \t, 20 \t -1\n",
      "29979 \t, 1 \t, 1 \t 0\n",
      "86087 \t, 4 \t, 4 \t 0\n",
      "29208 \t, 5 \t, 6 \t -1\n",
      "68960 \t, 0 \t, 0 \t 0\n",
      "9154 \t, 2 \t, 8 \t -6\n",
      "11823 \t, 9 \t, 12 \t -3\n",
      "54488 \t, 7 \t, 7 \t 0\n",
      "4509 \t, 15 \t, 19 \t -4\n",
      "63849 \t, 14 \t, 8 \t 6\n",
      "130631 \t, 3 \t, 3 \t 0\n",
      "17187 \t, 0 \t, 2 \t -2\n",
      "56197 \t, 5 \t, 6 \t -1\n",
      "82512 \t, 24 \t, 24 \t 0\n",
      "10280 \t, 23 \t, 21 \t 2\n",
      "10795 \t, 29 \t, 20 \t 9\n",
      "43018 \t, 13 \t, 19 \t -6\n",
      "66637 \t, 4 \t, 4 \t 0\n",
      "49766 \t, 5 \t, 5 \t 0\n",
      "12073 \t, 23 \t, 30 \t -7\n",
      "54003 \t, 4 \t, 7 \t -3\n",
      "30631 \t, 8 \t, 14 \t -6\n",
      "51432 \t, 42 \t, 41 \t 1\n",
      "27887 \t, 39 \t, 40 \t -1\n",
      "12828 \t, 4 \t, 4 \t 0\n",
      "70673 \t, 3 \t, 11 \t -8\n",
      "8940 \t, 5 \t, 4 \t 1\n",
      "120668 \t, 21 \t, 21 \t 0\n",
      "12096 \t, 15 \t, 16 \t -1\n",
      "31412 \t, 11 \t, 7 \t 4\n",
      "67404 \t, 5 \t, 2 \t 3\n",
      "25869 \t, 8 \t, 8 \t 0\n",
      "3462 \t, 25 \t, 16 \t 9\n",
      "64062 \t, 9 \t, 9 \t 0\n",
      "20363 \t, 8 \t, 9 \t -1\n",
      "12.57\n",
      "13.21\n"
     ]
    }
   ],
   "source": [
    "aa, bb = 0, 0\n",
    "for qid in est_rel_meta.qid.drop_duplicates().to_list():\n",
    "    A, B = count_number_of_zeros_before_ones(qid, est_rel_meta,est_rel_text)\n",
    "    aa += A\n",
    "    bb += B\n",
    "print(aa/200)\n",
    "print(bb/200)"
   ]
  },
  {
   "cell_type": "code",
   "execution_count": 67,
   "metadata": {
    "collapsed": true,
    "jupyter": {
     "outputs_hidden": true
    },
    "tags": []
   },
   "outputs": [
    {
     "name": "stdout",
     "output_type": "stream",
     "text": [
      "5438 \t, 15 \t, 16 \t -1\n",
      "23837 \t, 19 \t, 9 \t 10\n",
      "89123 \t, 3 \t, 3 \t 0\n",
      "109411 \t, 6 \t, 5 \t 1\n",
      "59671 \t, 19 \t, 18 \t 1\n",
      "24365 \t, 14 \t, 22 \t -8\n",
      "73836 \t, 6 \t, 10 \t -4\n",
      "18717 \t, 1 \t, 1 \t 0\n",
      "9536 \t, 2 \t, 7 \t -5\n",
      "439 \t, 47 \t, 71 \t -24\n",
      "129480 \t, 2 \t, 2 \t 0\n",
      "38810 \t, 8 \t, 0 \t 8\n",
      "33818 \t, 9 \t, 9 \t 0\n",
      "62246 \t, 0 \t, 0 \t 0\n",
      "111080 \t, 7 \t, 3 \t 4\n",
      "67184 \t, 2 \t, 1 \t 1\n",
      "568 \t, 15 \t, 21 \t -6\n",
      "71096 \t, 11 \t, 15 \t -4\n",
      "13832 \t, 16 \t, 15 \t 1\n",
      "20710 \t, 6 \t, 6 \t 0\n",
      "75701 \t, 5 \t, 4 \t 1\n",
      "40748 \t, 2 \t, 2 \t 0\n",
      "61794 \t, 6 \t, 6 \t 0\n",
      "49868 \t, 7 \t, 6 \t 1\n",
      "94840 \t, 7 \t, 7 \t 0\n",
      "66896 \t, 15 \t, 16 \t -1\n",
      "99619 \t, 18 \t, 7 \t 11\n",
      "42519 \t, 8 \t, 9 \t -1\n",
      "9455 \t, 11 \t, 12 \t -1\n",
      "56263 \t, 0 \t, 0 \t 0\n",
      "65309 \t, 5 \t, 5 \t 0\n",
      "28270 \t, 16 \t, 17 \t -1\n",
      "32559 \t, 1 \t, 2 \t -1\n",
      "107238 \t, 7 \t, 8 \t -1\n",
      "59256 \t, 22 \t, 26 \t -4\n",
      "95424 \t, 14 \t, 12 \t 2\n",
      "21984 \t, 15 \t, 14 \t 1\n",
      "3661 \t, 9 \t, 6 \t 3\n",
      "16040 \t, 23 \t, 23 \t 0\n",
      "70381 \t, 25 \t, 25 \t 0\n",
      "47984 \t, 13 \t, 7 \t 6\n",
      "54538 \t, 11 \t, 9 \t 2\n",
      "59905 \t, 1 \t, 4 \t -3\n",
      "84087 \t, 5 \t, 9 \t -4\n",
      "90609 \t, 9 \t, 12 \t -3\n",
      "13464 \t, 7 \t, 13 \t -6\n",
      "53737 \t, 7 \t, 9 \t -2\n",
      "82442 \t, 0 \t, 0 \t 0\n",
      "86436 \t, 16 \t, 13 \t 3\n",
      "15395 \t, 11 \t, 4 \t 7\n",
      "36824 \t, 7 \t, 7 \t 0\n",
      "110569 \t, 0 \t, 6 \t -6\n",
      "49049 \t, 23 \t, 23 \t 0\n",
      "74301 \t, 9 \t, 11 \t -2\n",
      "38142 \t, 1 \t, 1 \t 0\n",
      "3432 \t, 18 \t, 25 \t -7\n",
      "104830 \t, 2 \t, 8 \t -6\n",
      "110084 \t, 6 \t, 6 \t 0\n",
      "92425 \t, 22 \t, 20 \t 2\n",
      "111469 \t, 11 \t, 11 \t 0\n",
      "126993 \t, 12 \t, 17 \t -5\n",
      "7163 \t, 40 \t, 36 \t 4\n",
      "27825 \t, 15 \t, 28 \t -13\n",
      "40449 \t, 19 \t, 20 \t -1\n",
      "9142 \t, 14 \t, 14 \t 0\n",
      "16756 \t, 9 \t, 6 \t 3\n",
      "103210 \t, 8 \t, 12 \t -4\n",
      "32002 \t, 9 \t, 14 \t -5\n",
      "96265 \t, 3 \t, 8 \t -5\n",
      "115862 \t, 23 \t, 15 \t 8\n",
      "53444 \t, 30 \t, 29 \t 1\n",
      "48082 \t, 21 \t, 19 \t 2\n",
      "10623 \t, 22 \t, 21 \t 1\n",
      "65978 \t, 1 \t, 2 \t -1\n",
      "57495 \t, 1 \t, 1 \t 0\n",
      "5762 \t, 24 \t, 25 \t -1\n",
      "91878 \t, 13 \t, 14 \t -1\n",
      "23241 \t, 1 \t, 0 \t 1\n",
      "18181 \t, 17 \t, 22 \t -5\n",
      "5433 \t, 9 \t, 4 \t 5\n",
      "45261 \t, 17 \t, 19 \t -2\n",
      "18238 \t, 12 \t, 12 \t 0\n",
      "62065 \t, 5 \t, 3 \t 2\n",
      "258 \t, 9 \t, 9 \t 0\n",
      "30623 \t, 7 \t, 5 \t 2\n",
      "17521 \t, 5 \t, 7 \t -2\n",
      "70254 \t, 7 \t, 7 \t 0\n",
      "74629 \t, 18 \t, 20 \t -2\n",
      "69 \t, 12 \t, 13 \t -1\n",
      "45084 \t, 13 \t, 16 \t -3\n",
      "6921 \t, 10 \t, 14 \t -4\n",
      "40623 \t, 10 \t, 9 \t 1\n",
      "4333 \t, 4 \t, 3 \t 1\n",
      "8641 \t, 10 \t, 12 \t -2\n",
      "74052 \t, 15 \t, 14 \t 1\n",
      "26598 \t, 10 \t, 19 \t -9\n",
      "69376 \t, 6 \t, 6 \t 0\n",
      "631 \t, 93 \t, 91 \t 2\n",
      "52728 \t, 10 \t, 9 \t 1\n",
      "76298 \t, 6 \t, 8 \t -2\n",
      "64039 \t, 10 \t, 10 \t 0\n",
      "26904 \t, 11 \t, 11 \t 0\n",
      "29727 \t, 26 \t, 24 \t 2\n",
      "5667 \t, 16 \t, 31 \t -15\n",
      "37103 \t, 7 \t, 7 \t 0\n",
      "59557 \t, 20 \t, 22 \t -2\n",
      "24848 \t, 5 \t, 4 \t 1\n",
      "18348 \t, 23 \t, 28 \t -5\n",
      "65494 \t, 3 \t, 4 \t -1\n",
      "28289 \t, 7 \t, 8 \t -1\n",
      "35778 \t, 7 \t, 6 \t 1\n",
      "132049 \t, 1 \t, 3 \t -2\n",
      "22465 \t, 21 \t, 24 \t -3\n",
      "76875 \t, 8 \t, 9 \t -1\n",
      "10898 \t, 3 \t, 3 \t 0\n",
      "31583 \t, 9 \t, 11 \t -2\n",
      "46090 \t, 14 \t, 16 \t -2\n",
      "31824 \t, 6 \t, 17 \t -11\n",
      "38822 \t, 10 \t, 12 \t -2\n",
      "98585 \t, 4 \t, 6 \t -2\n",
      "35783 \t, 5 \t, 0 \t 5\n",
      "104170 \t, 14 \t, 15 \t -1\n",
      "78466 \t, 16 \t, 15 \t 1\n",
      "31941 \t, 6 \t, 4 \t 2\n",
      "4708 \t, 7 \t, 13 \t -6\n",
      "82759 \t, 20 \t, 20 \t 0\n",
      "12608 \t, 8 \t, 8 \t 0\n",
      "48360 \t, 18 \t, 25 \t -7\n",
      "21770 \t, 14 \t, 11 \t 3\n",
      "26306 \t, 11 \t, 10 \t 1\n",
      "68623 \t, 3 \t, 2 \t 1\n",
      "658 \t, 15 \t, 16 \t -1\n",
      "42722 \t, 18 \t, 18 \t 0\n",
      "5147 \t, 3 \t, 3 \t 0\n",
      "72966 \t, 5 \t, 5 \t 0\n",
      "33337 \t, 5 \t, 6 \t -1\n",
      "32960 \t, 18 \t, 18 \t 0\n",
      "88458 \t, 26 \t, 21 \t 5\n",
      "3329 \t, 7 \t, 6 \t 1\n",
      "40539 \t, 13 \t, 13 \t 0\n",
      "5840 \t, 0 \t, 0 \t 0\n",
      "73367 \t, 13 \t, 10 \t 3\n",
      "125125 \t, 7 \t, 7 \t 0\n",
      "68183 \t, 22 \t, 21 \t 1\n",
      "30816 \t, 23 \t, 23 \t 0\n",
      "33727 \t, 16 \t, 15 \t 1\n",
      "77011 \t, 27 \t, 21 \t 6\n",
      "20752 \t, 13 \t, 13 \t 0\n",
      "61104 \t, 2 \t, 0 \t 2\n",
      "11856 \t, 2 \t, 4 \t -2\n",
      "84985 \t, 19 \t, 12 \t 7\n",
      "46183 \t, 7 \t, 7 \t 0\n",
      "4550 \t, 6 \t, 7 \t -1\n",
      "2728 \t, 128 \t, 140 \t -12\n",
      "13914 \t, 49 \t, 50 \t -1\n",
      "66819 \t, 1 \t, 1 \t 0\n",
      "67345 \t, 13 \t, 14 \t -1\n",
      "55249 \t, 8 \t, 6 \t 2\n",
      "18704 \t, 30 \t, 30 \t 0\n",
      "72444 \t, 10 \t, 12 \t -2\n",
      "20533 \t, 20 \t, 20 \t 0\n",
      "4184 \t, 22 \t, 24 \t -2\n",
      "40905 \t, 12 \t, 14 \t -2\n",
      "69822 \t, 31 \t, 31 \t 0\n",
      "78688 \t, 5 \t, 5 \t 0\n",
      "114261 \t, 19 \t, 20 \t -1\n",
      "29979 \t, 1 \t, 1 \t 0\n",
      "86087 \t, 4 \t, 4 \t 0\n",
      "29208 \t, 5 \t, 6 \t -1\n",
      "68960 \t, 0 \t, 0 \t 0\n",
      "9154 \t, 2 \t, 8 \t -6\n",
      "11823 \t, 9 \t, 12 \t -3\n",
      "54488 \t, 7 \t, 7 \t 0\n",
      "4509 \t, 15 \t, 19 \t -4\n",
      "63849 \t, 14 \t, 8 \t 6\n",
      "130631 \t, 3 \t, 3 \t 0\n",
      "17187 \t, 0 \t, 2 \t -2\n",
      "56197 \t, 5 \t, 6 \t -1\n",
      "82512 \t, 24 \t, 24 \t 0\n",
      "10280 \t, 23 \t, 21 \t 2\n",
      "10795 \t, 29 \t, 20 \t 9\n",
      "43018 \t, 13 \t, 19 \t -6\n",
      "66637 \t, 4 \t, 4 \t 0\n",
      "49766 \t, 5 \t, 5 \t 0\n",
      "12073 \t, 23 \t, 30 \t -7\n",
      "54003 \t, 4 \t, 7 \t -3\n",
      "30631 \t, 8 \t, 14 \t -6\n",
      "51432 \t, 42 \t, 41 \t 1\n",
      "27887 \t, 39 \t, 40 \t -1\n",
      "12828 \t, 4 \t, 4 \t 0\n",
      "70673 \t, 3 \t, 11 \t -8\n",
      "8940 \t, 5 \t, 4 \t 1\n",
      "120668 \t, 21 \t, 21 \t 0\n",
      "12096 \t, 15 \t, 16 \t -1\n",
      "31412 \t, 11 \t, 7 \t 4\n",
      "67404 \t, 5 \t, 2 \t 3\n",
      "25869 \t, 8 \t, 8 \t 0\n",
      "3462 \t, 25 \t, 16 \t 9\n",
      "64062 \t, 9 \t, 9 \t 0\n",
      "20363 \t, 8 \t, 9 \t -1\n"
     ]
    }
   ],
   "source": [
    "for qid in est_rel_meta.qid.drop_duplicates().to_list():\n",
    "    count_number_of_zeros_before_ones(qid, est_rel_meta,est_rel_text)"
   ]
  },
  {
   "cell_type": "code",
   "execution_count": 58,
   "metadata": {
    "collapsed": true,
    "jupyter": {
     "outputs_hidden": true
    },
    "tags": []
   },
   "outputs": [
    {
     "name": "stdout",
     "output_type": "stream",
     "text": [
      "5438 \t, 15\n",
      "23837 \t, 19\n",
      "89123 \t, 3\n",
      "109411 \t, 6\n",
      "59671 \t, 19\n",
      "24365 \t, 14\n",
      "73836 \t, 6\n",
      "18717 \t, 1\n",
      "9536 \t, 2\n",
      "439 \t, 47\n",
      "129480 \t, 2\n",
      "38810 \t, 8\n",
      "33818 \t, 9\n",
      "62246 \t, 0\n",
      "111080 \t, 7\n",
      "67184 \t, 2\n",
      "568 \t, 15\n",
      "71096 \t, 11\n",
      "13832 \t, 16\n",
      "20710 \t, 6\n",
      "75701 \t, 5\n",
      "40748 \t, 2\n",
      "61794 \t, 6\n",
      "49868 \t, 7\n",
      "94840 \t, 7\n",
      "66896 \t, 15\n",
      "99619 \t, 18\n",
      "42519 \t, 8\n",
      "9455 \t, 11\n",
      "56263 \t, 0\n",
      "65309 \t, 5\n",
      "28270 \t, 16\n",
      "32559 \t, 1\n",
      "107238 \t, 7\n",
      "59256 \t, 22\n",
      "95424 \t, 14\n",
      "21984 \t, 15\n",
      "3661 \t, 9\n",
      "16040 \t, 23\n",
      "70381 \t, 25\n",
      "47984 \t, 13\n",
      "54538 \t, 11\n",
      "59905 \t, 1\n",
      "84087 \t, 5\n",
      "90609 \t, 9\n",
      "13464 \t, 7\n",
      "53737 \t, 7\n",
      "82442 \t, 0\n",
      "86436 \t, 16\n",
      "15395 \t, 11\n",
      "36824 \t, 7\n",
      "110569 \t, 0\n",
      "49049 \t, 23\n",
      "74301 \t, 9\n",
      "38142 \t, 1\n",
      "3432 \t, 18\n",
      "104830 \t, 2\n",
      "110084 \t, 6\n",
      "92425 \t, 22\n",
      "111469 \t, 11\n",
      "126993 \t, 12\n",
      "7163 \t, 40\n",
      "27825 \t, 15\n",
      "40449 \t, 19\n",
      "9142 \t, 14\n",
      "16756 \t, 9\n",
      "103210 \t, 8\n",
      "32002 \t, 9\n",
      "96265 \t, 3\n",
      "115862 \t, 23\n",
      "53444 \t, 30\n",
      "48082 \t, 21\n",
      "10623 \t, 22\n",
      "65978 \t, 1\n",
      "57495 \t, 1\n",
      "5762 \t, 24\n",
      "91878 \t, 13\n",
      "23241 \t, 1\n",
      "18181 \t, 17\n",
      "5433 \t, 9\n",
      "45261 \t, 17\n",
      "18238 \t, 12\n",
      "62065 \t, 5\n",
      "258 \t, 9\n",
      "30623 \t, 7\n",
      "17521 \t, 5\n",
      "70254 \t, 7\n",
      "74629 \t, 18\n",
      "69 \t, 12\n",
      "45084 \t, 13\n",
      "6921 \t, 10\n",
      "40623 \t, 10\n",
      "4333 \t, 4\n",
      "8641 \t, 10\n",
      "74052 \t, 15\n",
      "26598 \t, 10\n",
      "69376 \t, 6\n",
      "631 \t, 93\n",
      "52728 \t, 10\n",
      "76298 \t, 6\n",
      "64039 \t, 10\n",
      "26904 \t, 11\n",
      "29727 \t, 26\n",
      "5667 \t, 16\n",
      "37103 \t, 7\n",
      "59557 \t, 20\n",
      "24848 \t, 5\n",
      "18348 \t, 23\n",
      "65494 \t, 3\n",
      "28289 \t, 7\n",
      "35778 \t, 7\n",
      "132049 \t, 1\n",
      "22465 \t, 21\n",
      "76875 \t, 8\n",
      "10898 \t, 3\n",
      "31583 \t, 9\n",
      "46090 \t, 14\n",
      "31824 \t, 6\n",
      "38822 \t, 10\n",
      "98585 \t, 4\n",
      "35783 \t, 5\n",
      "104170 \t, 14\n",
      "78466 \t, 16\n",
      "31941 \t, 6\n",
      "4708 \t, 7\n",
      "82759 \t, 20\n",
      "12608 \t, 8\n",
      "48360 \t, 18\n",
      "21770 \t, 14\n",
      "26306 \t, 11\n",
      "68623 \t, 3\n",
      "658 \t, 15\n",
      "42722 \t, 18\n",
      "5147 \t, 3\n",
      "72966 \t, 5\n",
      "33337 \t, 5\n",
      "32960 \t, 18\n",
      "88458 \t, 26\n",
      "3329 \t, 7\n",
      "40539 \t, 13\n",
      "5840 \t, 0\n",
      "73367 \t, 13\n",
      "125125 \t, 7\n",
      "68183 \t, 22\n",
      "30816 \t, 23\n",
      "33727 \t, 16\n",
      "77011 \t, 27\n",
      "20752 \t, 13\n",
      "61104 \t, 2\n",
      "11856 \t, 2\n",
      "84985 \t, 19\n",
      "46183 \t, 7\n",
      "4550 \t, 6\n",
      "2728 \t, 128\n",
      "13914 \t, 49\n",
      "66819 \t, 1\n",
      "67345 \t, 13\n",
      "55249 \t, 8\n",
      "18704 \t, 30\n",
      "72444 \t, 10\n",
      "20533 \t, 20\n",
      "4184 \t, 22\n",
      "40905 \t, 12\n",
      "69822 \t, 31\n",
      "78688 \t, 5\n",
      "114261 \t, 19\n",
      "29979 \t, 1\n",
      "86087 \t, 4\n",
      "29208 \t, 5\n",
      "68960 \t, 0\n",
      "9154 \t, 2\n",
      "11823 \t, 9\n",
      "54488 \t, 7\n",
      "4509 \t, 15\n",
      "63849 \t, 14\n",
      "130631 \t, 3\n",
      "17187 \t, 0\n",
      "56197 \t, 5\n",
      "82512 \t, 24\n",
      "10280 \t, 23\n",
      "10795 \t, 29\n",
      "43018 \t, 13\n",
      "66637 \t, 4\n",
      "49766 \t, 5\n",
      "12073 \t, 23\n",
      "54003 \t, 4\n",
      "30631 \t, 8\n",
      "51432 \t, 42\n",
      "27887 \t, 39\n",
      "12828 \t, 4\n",
      "70673 \t, 3\n",
      "8940 \t, 5\n",
      "120668 \t, 21\n",
      "12096 \t, 15\n",
      "31412 \t, 11\n",
      "67404 \t, 5\n",
      "25869 \t, 8\n",
      "3462 \t, 25\n",
      "64062 \t, 9\n",
      "20363 \t, 8\n"
     ]
    }
   ],
   "source": [
    "for qid in est_rel_text.qid.drop_duplicates().to_list():\n",
    "    count_number_of_zeros_before_ones(qid, est_rel_meta)"
   ]
  },
  {
   "cell_type": "code",
   "execution_count": 17,
   "metadata": {},
   "outputs": [
    {
     "data": {
      "text/html": [
       "<div>\n",
       "<style scoped>\n",
       "    .dataframe tbody tr th:only-of-type {\n",
       "        vertical-align: middle;\n",
       "    }\n",
       "\n",
       "    .dataframe tbody tr th {\n",
       "        vertical-align: top;\n",
       "    }\n",
       "\n",
       "    .dataframe thead th {\n",
       "        text-align: right;\n",
       "    }\n",
       "</style>\n",
       "<table border=\"1\" class=\"dataframe\">\n",
       "  <thead>\n",
       "    <tr style=\"text-align: right;\">\n",
       "      <th></th>\n",
       "      <th>qid</th>\n",
       "      <th>doc_id</th>\n",
       "      <th>relevance</th>\n",
       "      <th>est_relevance</th>\n",
       "    </tr>\n",
       "  </thead>\n",
       "  <tbody>\n",
       "    <tr>\n",
       "      <th>0</th>\n",
       "      <td>5438</td>\n",
       "      <td>3e19046c665867bbe557685da60738a40738010a</td>\n",
       "      <td>0</td>\n",
       "      <td>0.176505</td>\n",
       "    </tr>\n",
       "    <tr>\n",
       "      <th>1</th>\n",
       "      <td>5438</td>\n",
       "      <td>7ef08f1fa127af817cdfd9d3bd00bdf60e32143b</td>\n",
       "      <td>0</td>\n",
       "      <td>0.158586</td>\n",
       "    </tr>\n",
       "    <tr>\n",
       "      <th>2</th>\n",
       "      <td>5438</td>\n",
       "      <td>ec13c3e7119191802e6f5783d297fe7a5a05293e</td>\n",
       "      <td>0</td>\n",
       "      <td>0.204789</td>\n",
       "    </tr>\n",
       "    <tr>\n",
       "      <th>3</th>\n",
       "      <td>5438</td>\n",
       "      <td>8fc928bb430d3f72ac876ca156042ad1860acacd</td>\n",
       "      <td>0</td>\n",
       "      <td>0.113035</td>\n",
       "    </tr>\n",
       "    <tr>\n",
       "      <th>4</th>\n",
       "      <td>5438</td>\n",
       "      <td>b2fdee22aa02477292b858fbafcb418932732bce</td>\n",
       "      <td>1</td>\n",
       "      <td>0.257052</td>\n",
       "    </tr>\n",
       "  </tbody>\n",
       "</table>\n",
       "</div>"
      ],
      "text/plain": [
       "    qid                                    doc_id  relevance  est_relevance\n",
       "0  5438  3e19046c665867bbe557685da60738a40738010a          0       0.176505\n",
       "1  5438  7ef08f1fa127af817cdfd9d3bd00bdf60e32143b          0       0.158586\n",
       "2  5438  ec13c3e7119191802e6f5783d297fe7a5a05293e          0       0.204789\n",
       "3  5438  8fc928bb430d3f72ac876ca156042ad1860acacd          0       0.113035\n",
       "4  5438  b2fdee22aa02477292b858fbafcb418932732bce          1       0.257052"
      ]
     },
     "execution_count": 17,
     "metadata": {},
     "output_type": "execute_result"
    }
   ],
   "source": [
    "est_rel_text.head()"
   ]
  },
  {
   "cell_type": "code",
   "execution_count": null,
   "metadata": {},
   "outputs": [],
   "source": []
  }
 ],
 "metadata": {
  "kernelspec": {
   "display_name": "Python 3 (ipykernel)",
   "language": "python",
   "name": "python3"
  },
  "language_info": {
   "codemirror_mode": {
    "name": "ipython",
    "version": 3
   },
   "file_extension": ".py",
   "mimetype": "text/x-python",
   "name": "python",
   "nbconvert_exporter": "python",
   "pygments_lexer": "ipython3",
   "version": "3.7.12"
  }
 },
 "nbformat": 4,
 "nbformat_minor": 4
}
