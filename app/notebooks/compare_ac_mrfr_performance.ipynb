{
 "cells": [
  {
   "cell_type": "markdown",
   "metadata": {},
   "source": [
    "# Error analysis notebook (test data)"
   ]
  },
  {
   "cell_type": "markdown",
   "metadata": {
    "tags": []
   },
   "source": [
    "## Import packages"
   ]
  },
  {
   "cell_type": "code",
   "execution_count": 1,
   "metadata": {
    "tags": []
   },
   "outputs": [
    {
     "name": "stderr",
     "output_type": "stream",
     "text": [
      "/home/pilmus/thesis/venv37/lib/python3.7/site-packages/requests/__init__.py:91: RequestsDependencyWarning: urllib3 (1.26.9) or chardet (3.0.4) doesn't match a supported version!\n",
      "  RequestsDependencyWarning)\n"
     ]
    }
   ],
   "source": [
    "import pandas as pd\n",
    "import math\n",
    "\n",
    "import numpy as np\n",
    "\n",
    "import seaborn as sns\n",
    "import matplotlib.pyplot as plt\n",
    "\n",
    "from elasticsearch import Elasticsearch\n",
    "\n",
    "import warnings\n",
    "import matplotlib\n",
    "warnings.filterwarnings(\"ignore\",category=matplotlib.cbook.mplDeprecation)\n",
    "warnings.filterwarnings(\"ignore\")\n",
    "\n",
    "from enum import IntEnum\n",
    "\n",
    "import json\n"
   ]
  },
  {
   "cell_type": "markdown",
   "metadata": {
    "tags": []
   },
   "source": [
    "## Set filepaths"
   ]
  },
  {
   "cell_type": "code",
   "execution_count": 2,
   "metadata": {
    "tags": []
   },
   "outputs": [],
   "source": [
    "eval_result_ac = '../evaluation/resources/2020/eval_results/p_controller_train_nle_meta_9_1_train_hlevel.tsv'\n",
    "eval_result_mrfr = '../evaluation/resources/2020/eval_results/mrfr_train_META.tsv'\n",
    "eval_result_lm_mrfr = '../evaluation/resources/2020/eval_results/mrfr_train_LM_train.tsv'\n",
    "eval_result_lm =  '../evaluation/resources/2020/eval_results/lambdamart2020_train_seed0hlevel_random_state=0.tsv'\n",
    "eval_result_lm_aug07 =  '../evaluation/resources/2020/eval_results/lambdamart2020_train_aug0.7_seed0_random_state=0.tsv'\n"
   ]
  },
  {
   "cell_type": "markdown",
   "metadata": {
    "tags": []
   },
   "source": [
    "## Prepare dataframes"
   ]
  },
  {
   "cell_type": "code",
   "execution_count": 3,
   "metadata": {
    "tags": []
   },
   "outputs": [],
   "source": [
    "# eval result dfs\n",
    "eacdf = pd.read_csv(eval_result_ac, sep='\\t', names=['key', 'qid', 'value'])\n",
    "eacdf = eacdf.pivot(index='qid', columns='key', values='value')\n",
    "\n",
    "emrfrdf = pd.read_csv(eval_result_mrfr, sep='\\t', names=['key', 'qid', 'value'])\n",
    "emrfrdf = emrfrdf.pivot(index='qid', columns='key', values='value')\n",
    "\n",
    "elmmrfrdf = pd.read_csv(eval_result_lm_mrfr, sep='\\t', names=['key', 'qid', 'value'])\n",
    "elmmrfrdf = elmmrfrdf.pivot(index='qid', columns='key', values='value')\n",
    "\n",
    "elmdf = pd.read_csv(eval_result_lm, sep='\\t', names=['key', 'qid', 'value'])\n",
    "elmdf = elmdf.pivot(index='qid', columns='key', values='value')\n",
    "\n",
    "elmaug07df = pd.read_csv(eval_result_lm_aug07, sep='\\t', names=['key', 'qid', 'value'])\n",
    "elmaug07df = elmaug07df.pivot(index='qid', columns='key', values='value')\n",
    "\n"
   ]
  },
  {
   "cell_type": "code",
   "execution_count": 4,
   "metadata": {},
   "outputs": [
    {
     "data": {
      "text/plain": [
       "key\n",
       "difference    0.434440\n",
       "disparity     1.753156\n",
       "relevance     1.252646\n",
       "dtype: float64"
      ]
     },
     "execution_count": 4,
     "metadata": {},
     "output_type": "execute_result"
    }
   ],
   "source": [
    "eacdf.mean()"
   ]
  },
  {
   "cell_type": "code",
   "execution_count": 5,
   "metadata": {},
   "outputs": [
    {
     "data": {
      "text/plain": [
       "key\n",
       "difference    0.437316\n",
       "disparity     1.759714\n",
       "relevance     1.254487\n",
       "dtype: float64"
      ]
     },
     "execution_count": 5,
     "metadata": {},
     "output_type": "execute_result"
    }
   ],
   "source": [
    "emrfrdf.mean()"
   ]
  },
  {
   "cell_type": "code",
   "execution_count": 6,
   "metadata": {},
   "outputs": [
    {
     "data": {
      "text/plain": [
       "key\n",
       "difference    0.472034\n",
       "disparity     1.741128\n",
       "relevance     1.227835\n",
       "dtype: float64"
      ]
     },
     "execution_count": 6,
     "metadata": {},
     "output_type": "execute_result"
    }
   ],
   "source": [
    "elmmrfrdf.mean()"
   ]
  },
  {
   "cell_type": "code",
   "execution_count": 7,
   "metadata": {},
   "outputs": [
    {
     "data": {
      "text/plain": [
       "key\n",
       "difference    0.740297\n",
       "disparity     1.970017\n",
       "relevance     1.208148\n",
       "dtype: float64"
      ]
     },
     "execution_count": 7,
     "metadata": {},
     "output_type": "execute_result"
    }
   ],
   "source": [
    "elmdf.mean()"
   ]
  },
  {
   "cell_type": "code",
   "execution_count": 8,
   "metadata": {},
   "outputs": [
    {
     "data": {
      "text/plain": [
       "key\n",
       "difference    0.702419\n",
       "disparity     1.895508\n",
       "relevance     1.189833\n",
       "dtype: float64"
      ]
     },
     "execution_count": 8,
     "metadata": {},
     "output_type": "execute_result"
    }
   ],
   "source": [
    "elmaug07df.mean()"
   ]
  },
  {
   "cell_type": "code",
   "execution_count": null,
   "metadata": {},
   "outputs": [],
   "source": []
  }
 ],
 "metadata": {
  "kernelspec": {
   "display_name": "Python 3 (ipykernel)",
   "language": "python",
   "name": "python3"
  },
  "language_info": {
   "codemirror_mode": {
    "name": "ipython",
    "version": 3
   },
   "file_extension": ".py",
   "mimetype": "text/x-python",
   "name": "python",
   "nbconvert_exporter": "python",
   "pygments_lexer": "ipython3",
   "version": "3.7.12"
  }
 },
 "nbformat": 4,
 "nbformat_minor": 4
}
