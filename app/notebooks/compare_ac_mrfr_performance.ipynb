{
 "cells": [
  {
   "cell_type": "markdown",
   "metadata": {},
   "source": [
    "# Error analysis notebook (test data)"
   ]
  },
  {
   "cell_type": "markdown",
   "metadata": {
    "tags": []
   },
   "source": [
    "## Import packages"
   ]
  },
  {
   "cell_type": "code",
   "execution_count": 1,
   "metadata": {
    "tags": []
   },
   "outputs": [],
   "source": [
    "import pandas as pd\n",
    "import math\n",
    "\n",
    "import numpy as np\n",
    "\n",
    "import seaborn as sns\n",
    "import matplotlib.pyplot as plt\n",
    "\n",
    "from elasticsearch import Elasticsearch\n",
    "\n",
    "import warnings\n",
    "import matplotlib\n",
    "warnings.filterwarnings(\"ignore\",category=matplotlib.cbook.mplDeprecation)\n",
    "warnings.filterwarnings(\"ignore\")\n",
    "\n",
    "from enum import IntEnum\n",
    "\n",
    "import json\n"
   ]
  },
  {
   "cell_type": "markdown",
   "metadata": {
    "tags": []
   },
   "source": [
    "## Set filepaths"
   ]
  },
  {
   "cell_type": "code",
   "execution_count": 2,
   "metadata": {
    "tags": []
   },
   "outputs": [],
   "source": [
    "ranking = '../evaluation/resources/2020/jsonruns/p_controller_train_nle_meta_9_1_train.json'\n",
    "eval_result_ac = '../evaluation/resources/2020/eval_results/p_controller_train_nle_meta_9_1_train_hlevel.tsv'\n",
    "eval_result_mrfr = '../evaluation/resources/2020/eval_results/mrfr_train_META.tsv'\n",
    "\n",
    "gt = '../pre_processing/resources/training/2020/TREC-Fair-Ranking-training-sample.json'\n",
    "est_rel_meta_p = '../reranking/resources/relevances/Training_rel_scores_model_A.csv'\n",
    "\n",
    "annotations = '../pre_pre_processing/resources/merged-annotations.json'\n",
    "mapping = '../reranking/resources/mappings/training_doc_to_author.json'"
   ]
  },
  {
   "cell_type": "markdown",
   "metadata": {
    "tags": []
   },
   "source": [
    "## Prepare dataframes"
   ]
  },
  {
   "cell_type": "code",
   "execution_count": 3,
   "metadata": {
    "tags": []
   },
   "outputs": [],
   "source": [
    "# ranking df\n",
    "rdf = pd.read_json(ranking, lines=True)\n",
    "\n",
    "# ground truth df\n",
    "gtdf = pd.read_json(gt, lines=True).explode('documents')\n",
    "gtdf['doc_id'] = gtdf.documents.apply(lambda row: row.get('doc_id'))\n",
    "gtdf['doc_rel'] = gtdf.documents.apply(lambda row: row.get('relevance'))\n",
    "\n",
    "# paired down relevances df\n",
    "reldf = gtdf[['qid','query','doc_id','doc_rel']]\n",
    "\n",
    "# eval result dfs\n",
    "eacdf = pd.read_csv(eval_result_ac, sep='\\t', names=['key', 'qid', 'value'])\n",
    "eacdf = eacdf.pivot(index='qid', columns='key', values='value')\n",
    "\n",
    "emrfrdf = pd.read_csv(eval_result_mrfr, sep='\\t', names=['key', 'qid', 'value'])\n",
    "emrfrdf = emrfrdf.pivot(index='qid', columns='key', values='value')\n",
    "\n",
    "\n",
    "# est rel df\n",
    "est_rel_meta = pd.read_csv(est_rel_meta_p)\n",
    "est_rel_meta.head()\n",
    "\n",
    "# annotations\n",
    "adf = pd.read_json(annotations,lines=True)\n",
    "adf = adf.explode('authors')\n",
    "adf[['name','wiki','country','type','valid','auth_id', 'h_index','level','region']] = adf.authors.apply(pd.Series).rename({'id':'auth_id'},axis=1)\n",
    "\n",
    "# doc to author and reverse mapping\n",
    "with open(mapping) as fp:\n",
    "    doc_to_author = json.load(fp)\n",
    "alldocs = rdf.explode('ranking')['ranking'].drop_duplicates().to_list()\n",
    "for doc in alldocs:\n",
    "    if not doc in doc_to_author:\n",
    "        doc_to_author[doc] = []\n",
    "    \n",
    "author_to_doc = {}\n",
    "for doc, aulist in doc_to_author.items():\n",
    "    for au in aulist:\n",
    "        if not au in author_to_doc:\n",
    "            author_to_doc[au] = []\n",
    "        author_to_doc[au] = author_to_doc[au] + [doc]"
   ]
  },
  {
   "cell_type": "code",
   "execution_count": 4,
   "metadata": {},
   "outputs": [
    {
     "data": {
      "text/plain": [
       "key\n",
       "difference    0.434440\n",
       "disparity     1.753156\n",
       "relevance     1.252646\n",
       "dtype: float64"
      ]
     },
     "execution_count": 4,
     "metadata": {},
     "output_type": "execute_result"
    }
   ],
   "source": [
    "eacdf.mean()"
   ]
  },
  {
   "cell_type": "code",
   "execution_count": 5,
   "metadata": {},
   "outputs": [
    {
     "data": {
      "text/plain": [
       "key\n",
       "difference    0.437316\n",
       "disparity     1.759714\n",
       "relevance     1.254487\n",
       "dtype: float64"
      ]
     },
     "execution_count": 5,
     "metadata": {},
     "output_type": "execute_result"
    }
   ],
   "source": [
    "emrfrdf.mean()"
   ]
  },
  {
   "cell_type": "markdown",
   "metadata": {},
   "source": [
    "[1] Buckley, ‘Reliable Information Access Final Workshop Report’."
   ]
  }
 ],
 "metadata": {
  "kernelspec": {
   "display_name": "Python 3 (ipykernel)",
   "language": "python",
   "name": "python3"
  },
  "language_info": {
   "codemirror_mode": {
    "name": "ipython",
    "version": 3
   },
   "file_extension": ".py",
   "mimetype": "text/x-python",
   "name": "python",
   "nbconvert_exporter": "python",
   "pygments_lexer": "ipython3",
   "version": "3.7.12"
  }
 },
 "nbformat": 4,
 "nbformat_minor": 4
}
