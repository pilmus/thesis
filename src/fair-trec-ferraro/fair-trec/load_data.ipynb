{
 "cells": [
  {
   "cell_type": "code",
   "execution_count": 1,
   "metadata": {},
   "outputs": [],
   "source": [
    "import csv\n",
    "import json\n",
    "from collections import Counter \n",
    "import matplotlib.pyplot as plt\n",
    "import numpy as np\n",
    "import networkx as nx\n",
    "import load_data"
   ]
  },
  {
   "cell_type": "markdown",
   "metadata": {},
   "source": [
    "# Load all the data of authors and papers:"
   ]
  },
  {
   "cell_type": "code",
   "execution_count": 2,
   "metadata": {},
   "outputs": [],
   "source": [
    "authors_file = \"data/corpus-subset-for-queries.authors.csv\"\n",
    "papers_file = \"data/corpus-subset-for-queries.papers.csv\"\n",
    "authors_papers_file = \"data/corpus-subset-for-queries.paper_authors.csv\"\n",
    "corpus_data_file = \"data/corpus-subset-for-queries.jsonl\"\n",
    "training_data_file = 'data/TREC-Fair-Ranking-training-sample.json'\n",
    "\n",
    "authors = load_data.load_authors(authors_file)\n",
    "papers = load_data.load_papers(papers_file)\n",
    "papers = load_data.load_papers_authors(authors_papers_file, papers)\n",
    "papers = load_data.load_corpus(corpus_data_file, papers)\n",
    "training_data = load_data.load_training_data(training_data_file)"
   ]
  },
  {
   "cell_type": "markdown",
   "metadata": {},
   "source": [
    "# Create graph with citations"
   ]
  },
  {
   "cell_type": "code",
   "execution_count": 12,
   "metadata": {},
   "outputs": [],
   "source": [
    "G_papers = nx.Graph()\n",
    "G_authors = nx.Graph()\n",
    "for key in papers.keys():\n",
    "    for key2 in papers[key]['outCitations']:\n",
    "        G_papers.add_edge(key, key2) \n",
    "    for key2 in papers[key]['inCitations']:\n",
    "        G_papers.add_edge(key2, key) \n",
    "    if 'authors_order' not in papers[key]:\n",
    "        papers[key]['authors_avg_citations'] = papers[key]['n_citations']\n",
    "    else:\n",
    "        for author1 in papers[key]['authors_order']:\n",
    "            for author2 in papers[key]['authors_order']:\n",
    "                if author1[0] != author2[0] and author2[0] != '' and author1[0] != '':\n",
    "                    G_authors.add_edge(author1[0], author2[0]) \n",
    "        #print (papers[key]['authors_order'])\n",
    "        papers[key]['authors_avg_citations'] = np.mean([int(authors[a[0]]['num_citations']) for a in papers[key]['authors_order'] if (a[0] in authors)])\n",
    "        papers[key]['authors_avg_h_index'] = np.mean([int(authors[a[0]]['h_index']) for a in papers[key]['authors_order'] if (a[0] in authors)])"
   ]
  },
  {
   "cell_type": "markdown",
   "metadata": {},
   "source": [
    "# Some Stats"
   ]
  },
  {
   "cell_type": "code",
   "execution_count": 4,
   "metadata": {},
   "outputs": [
    {
     "name": "stdout",
     "output_type": "stream",
     "text": [
      "Number of authors: 31975\n",
      "Max papers: 10011\n",
      "Max citations: 223684\n"
     ]
    }
   ],
   "source": [
    "print (\"Number of authors:\", len(authors))\n",
    "print (\"Max papers:\", max([int(a['num_papers']) for a in authors.values()]))\n",
    "print (\"Max citations:\", max([int(a['num_citations']) for a in authors.values()]))"
   ]
  },
  {
   "cell_type": "code",
   "execution_count": 5,
   "metadata": {},
   "outputs": [
    {
     "name": "stdout",
     "output_type": "stream",
     "text": [
      "Number of papers: 8879\n",
      "Min Year: 1824.0\n",
      "Common venues: [('', 4601), ('ArXiv', 96), ('Nature', 59), ('The Lancet', 59), ('The New England journal of medicine', 53), ('Science', 44), ('medRxiv', 37), ('Proceedings of the National Academy of Sciences of the United States of America', 34), ('JAMA', 27), ('Sensors', 23)]\n"
     ]
    }
   ],
   "source": [
    "print (\"Number of papers:\", len(papers))\n",
    "print (\"Min Year:\", min([float(p['paper_year']) for p in papers.values() if p['paper_year'] != '']))\n",
    "print (\"Common venues:\", Counter([p['venue'] for p in papers.values()]).most_common(10))"
   ]
  },
  {
   "cell_type": "code",
   "execution_count": 6,
   "metadata": {},
   "outputs": [
    {
     "name": "stdout",
     "output_type": "stream",
     "text": [
      "Number of queries: 200\n",
      "Common queries: [('cloud computing', 1), ('constitutional law', 1), ('metalinguistic knowledge', 1), ('drogenzubereitung', 1), ('usefulness of debit card', 1), ('facilities management', 1), ('cloud computing in education', 1), ('consumer buying behaviour in branded and unbranded clothing', 1), ('python', 1), ('participatory culture', 1)]\n"
     ]
    }
   ],
   "source": [
    "print (\"Number of queries:\", len(training_data))\n",
    "print (\"Common queries:\", Counter([p['query'] for p in training_data]).most_common(10))"
   ]
  },
  {
   "cell_type": "code",
   "execution_count": 65,
   "metadata": {},
   "outputs": [
    {
     "data": {
      "image/png": "[encoded data removed]",
      "text/plain": [
       "<Figure size 432x288 with 2 Axes>"
      ]
     },
     "metadata": {
      "needs_background": "light"
     },
     "output_type": "display_data"
    }
   ],
   "source": [
    "%matplotlib inline\n",
    "from matplotlib import colors\n",
    "import random\n",
    "\n",
    "fig, axs = plt.subplots(1, 2, tight_layout=True)\n",
    "n_bins = 25\n",
    "\n",
    "#authors = dict(random.sample(authors.items(), 5000)) # Random Sampling\n",
    "fracs = N / N.max()\n",
    "norm = colors.Normalize(fracs.min(), fracs.max())\n",
    "\n",
    "N, bins, patches = axs[0].hist([authors[x][\"num_citations\"] for x in authors] , bins=n_bins)\n",
    "for thisfrac, thispatch in zip(fracs, patches):\n",
    "    color = plt.cm.viridis(norm(thisfrac))\n",
    "    thispatch.set_facecolor(color)\n",
    "\n",
    "N, bins, patches = axs[1].hist([authors[x][\"num_papers\"] for x in authors] , bins=n_bins)\n",
    "for thisfrac, thispatch in zip(fracs, patches):\n",
    "    color = plt.cm.viridis(norm(thisfrac))\n",
    "    thispatch.set_facecolor(color)\n",
    "\n",
    "axs[0].title.set_text('Citation Distribution')\n",
    "axs[1].title.set_text('Paper Distribution')\n",
    "\n",
    "plt.show()\n"
   ]
  },
  {
   "cell_type": "markdown",
   "metadata": {},
   "source": [
    "# Calculate the communities from the graph"
   ]
  },
  {
   "cell_type": "code",
   "execution_count": 41,
   "metadata": {},
   "outputs": [],
   "source": [
    "import community as community_louvain\n",
    "partion_papers = community_louvain.best_partition(G_papers)\n",
    "partion_authors = community_louvain.best_partition(G_authors)"
   ]
  },
  {
   "cell_type": "code",
   "execution_count": 40,
   "metadata": {},
   "outputs": [
    {
     "name": "stdout",
     "output_type": "stream",
     "text": [
      "comunities of authors for the query: cloud computing\n",
      "[4209] 0\n",
      "[1915] 0\n",
      "[3428] 0\n",
      "[1005] 0\n",
      "[4127] 1\n",
      "[1005] 0\n",
      "[] 0\n",
      "[3810] 0\n",
      "[379] 0\n",
      "[2391] 0\n",
      "[1005] 0\n",
      "[3969] 0\n",
      "[2598] 0\n",
      "[] 1\n",
      "[4714] 0\n",
      "[265] 0\n",
      "[1518] 0\n",
      "[2105] 0\n",
      "[1005] 0\n",
      "[1005] 0\n",
      "[3645] 0\n",
      "[83] 0\n",
      "[3352] 0\n",
      "[] 0\n",
      "[3563] 0\n",
      "[2027] 0\n",
      "[1518] 0\n",
      "[426] 0\n",
      "[1380] 1\n",
      "[2598] 0\n"
     ]
    }
   ],
   "source": [
    "query_id = 0\n",
    "print (\"comunities of authors for the query:\", training_data[query_id]['query'])\n",
    "for d in training_data[query_id]['documents']:\n",
    "    if d['doc_id'] in papers:\n",
    "        curr_partition = set()\n",
    "        for author in papers[d['doc_id']]['authors_order']:\n",
    "            if author[0] in partion_authors:\n",
    "                curr_partition.add(partion_authors[author[0]])\n",
    "        print (list(curr_partition), d['relevance'])"
   ]
  },
  {
   "cell_type": "code",
   "execution_count": 39,
   "metadata": {},
   "outputs": [
    {
     "name": "stdout",
     "output_type": "stream",
     "text": [
      "comunities of papers for the query: constitutional law\n",
      "46 0\n",
      "43 0\n",
      "43 0\n",
      "25 0\n",
      "109 0\n",
      "45 0\n",
      "109 1\n",
      "43 0\n",
      "68 0\n",
      "46 0\n",
      "109 0\n",
      "46 0\n",
      "52 0\n",
      "45 0\n",
      "49 1\n",
      "45 0\n",
      "109 0\n",
      "25 0\n",
      "22 0\n",
      "43 0\n",
      "18 1\n",
      "45 0\n",
      "109 1\n",
      "109 0\n",
      "43 0\n",
      "109 0\n",
      "46 0\n",
      "539 0\n",
      "43 1\n",
      "109 0\n"
     ]
    }
   ],
   "source": [
    "query_id = 1\n",
    "print (\"comunities of papers for the query:\", training_data[query_id]['query'])\n",
    "for d in training_data[query_id]['documents']:\n",
    "    if d['doc_id'] in partion:\n",
    "        print (partion[d['doc_id']], d['relevance'])"
   ]
  },
  {
   "cell_type": "markdown",
   "metadata": {},
   "source": [
    "TODO: look the relevant items in the queries and compute co-occurence of the communities. Then, use this information to rerank the results."
   ]
  },
  {
   "cell_type": "code",
   "execution_count": null,
   "metadata": {
    "collapsed": true
   },
   "outputs": [],
   "source": []
  }
 ],
 "metadata": {
  "kernelspec": {
   "display_name": "Python 3",
   "language": "python",
   "name": "python3"
  },
  "language_info": {
   "codemirror_mode": {
    "name": "ipython",
    "version": 3
   },
   "file_extension": ".py",
   "mimetype": "text/x-python",
   "name": "python",
   "nbconvert_exporter": "python",
   "pygments_lexer": "ipython3",
   "version": "3.8.2"
  }
 },
 "nbformat": 4,
 "nbformat_minor": 2
}
